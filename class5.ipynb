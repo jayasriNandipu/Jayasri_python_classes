{
 "cells": [
  {
   "cell_type": "code",
   "execution_count": 2,
   "id": "43f8ea50",
   "metadata": {},
   "outputs": [],
   "source": [
    "dictt1={\"friends names\":[\"ruchitha\",\"geetha\",\"hareesh\",\"supraja\",\"sai\",\"lakshmi\",\"divya\",\"krupa\",\"rajini\",\"swarna\"],\"quality\":[\"spititcual\",\"innocent\",\"silent killer\",\"intelligent\",\"anger\",\"silent\",\"funny\",\"brave girl\",\"joy\",\"comedian\"]}"
   ]
  },
  {
   "cell_type": "code",
   "execution_count": 4,
   "id": "6a2ac349",
   "metadata": {},
   "outputs": [
    {
     "data": {
      "text/plain": [
       "'hareesh'"
      ]
     },
     "execution_count": 4,
     "metadata": {},
     "output_type": "execute_result"
    }
   ],
   "source": [
    "dictt1[\"friends names\"][-8]"
   ]
  },
  {
   "cell_type": "code",
   "execution_count": 56,
   "id": "396614ba",
   "metadata": {},
   "outputs": [],
   "source": [
    "friends_names=[\"ruchitha\",\"geetha\",\"hareesh\",\"supraja\",\"sai\",\"lakshmi\",\"divya\",\"krupa\",\"rajini\",\"swarna\"]"
   ]
  },
  {
   "cell_type": "code",
   "execution_count": 57,
   "id": "63984ecf",
   "metadata": {},
   "outputs": [
    {
     "data": {
      "text/plain": [
       "['ruchitha',\n",
       " 'geetha',\n",
       " 'hareesh',\n",
       " 'supraja',\n",
       " 'sai',\n",
       " 'lakshmi',\n",
       " 'divya',\n",
       " 'krupa',\n",
       " 'rajini',\n",
       " 'swarna']"
      ]
     },
     "execution_count": 57,
     "metadata": {},
     "output_type": "execute_result"
    }
   ],
   "source": [
    "friends_names"
   ]
  },
  {
   "cell_type": "code",
   "execution_count": 54,
   "id": "3918cd79",
   "metadata": {},
   "outputs": [],
   "source": [
    "colour={\"red\",\"blue\",\"green\",\"yellow\",\"red\",\"black\",\"brown\",\"skyblue\",\"pink\",\"white\",\"orange\",\"white\"}"
   ]
  },
  {
   "cell_type": "code",
   "execution_count": 55,
   "id": "483db286",
   "metadata": {},
   "outputs": [
    {
     "data": {
      "text/plain": [
       "{'black',\n",
       " 'blue',\n",
       " 'brown',\n",
       " 'green',\n",
       " 'orange',\n",
       " 'pink',\n",
       " 'red',\n",
       " 'skyblue',\n",
       " 'white',\n",
       " 'yellow'}"
      ]
     },
     "execution_count": 55,
     "metadata": {},
     "output_type": "execute_result"
    }
   ],
   "source": [
    "colour"
   ]
  },
  {
   "cell_type": "code",
   "execution_count": 58,
   "id": "2e6b2f37",
   "metadata": {},
   "outputs": [],
   "source": [
    "a=\"ruchitha\"\n",
    "b=\"geetha\"\n",
    "c=\"divya\""
   ]
  },
  {
   "cell_type": "code",
   "execution_count": 61,
   "id": "39d74290",
   "metadata": {},
   "outputs": [
    {
     "name": "stdout",
     "output_type": "stream",
     "text": [
      "ruchitha , geetha , divya\n"
     ]
    }
   ],
   "source": [
    "print(a,\",\",b,\",\",c)"
   ]
  },
  {
   "cell_type": "code",
   "execution_count": null,
   "id": "a37b96f5",
   "metadata": {},
   "outputs": [],
   "source": []
  },
  {
   "cell_type": "code",
   "execution_count": 6,
   "id": "40e6bbe7",
   "metadata": {},
   "outputs": [],
   "source": [
    "tup=[\"january\",\"february\",\"march\",\"april\",\"may\",\"june\",\"july\",\"august\",\"september\",\"octomber\",\"november\",\"december\"]\n"
   ]
  },
  {
   "cell_type": "code",
   "execution_count": 7,
   "id": "5550ef4e",
   "metadata": {},
   "outputs": [
    {
     "data": {
      "text/plain": [
       "['january',\n",
       " 'february',\n",
       " 'march',\n",
       " 'april',\n",
       " 'may',\n",
       " 'june',\n",
       " 'july',\n",
       " 'august',\n",
       " 'september',\n",
       " 'octomber',\n",
       " 'november',\n",
       " 'december']"
      ]
     },
     "execution_count": 7,
     "metadata": {},
     "output_type": "execute_result"
    }
   ],
   "source": [
    "tup"
   ]
  },
  {
   "cell_type": "code",
   "execution_count": 8,
   "id": "3c947494",
   "metadata": {},
   "outputs": [],
   "source": [
    "tup=[\"criket\",\"vollyball\",\"coco\",\"cabbady\"]"
   ]
  },
  {
   "cell_type": "code",
   "execution_count": 9,
   "id": "0a00da27",
   "metadata": {},
   "outputs": [
    {
     "data": {
      "text/plain": [
       "['cri ket', 'vollyball', 'coco', 'cabbady']"
      ]
     },
     "execution_count": 9,
     "metadata": {},
     "output_type": "execute_result"
    }
   ],
   "source": [
    "tup"
   ]
  },
  {
   "cell_type": "code",
   "execution_count": 75,
   "id": "75419e64",
   "metadata": {},
   "outputs": [],
   "source": [
    "month_names={1,9,10,5,3,2,7,8,6,4}"
   ]
  },
  {
   "cell_type": "code",
   "execution_count": 76,
   "id": "7c108281",
   "metadata": {},
   "outputs": [
    {
     "data": {
      "text/plain": [
       "{1, 2, 3, 4, 5, 6, 7, 8, 9, 10}"
      ]
     },
     "execution_count": 76,
     "metadata": {},
     "output_type": "execute_result"
    }
   ],
   "source": [
    "month_names"
   ]
  },
  {
   "cell_type": "code",
   "execution_count": 79,
   "id": "7a9c63f6",
   "metadata": {},
   "outputs": [],
   "source": [
    "tollywood_heros=[\"chiru\", \"balaya\", \"nag\",\"venky\",\"powerstar\",\"superstar\",\"ntr\",\"ramcharan\"]"
   ]
  },
  {
   "cell_type": "code",
   "execution_count": 82,
   "id": "b6f83f0d",
   "metadata": {},
   "outputs": [],
   "source": [
    "tollywood_heros[0]=\"chreenjeevi\""
   ]
  },
  {
   "cell_type": "code",
   "execution_count": 83,
   "id": "1864216d",
   "metadata": {},
   "outputs": [],
   "source": [
    "bollywood_heros={\"sharukkhan\", \"salmankhan\", \"salmankhan\",\"amirkhan\",\"HrithikRoshan\",\"Amitabh Bachchan\",\"Akshay Kumar\",\"amirkhan\"}"
   ]
  },
  {
   "cell_type": "code",
   "execution_count": 84,
   "id": "906648f2",
   "metadata": {},
   "outputs": [
    {
     "data": {
      "text/plain": [
       "{'Akshay Kumar',\n",
       " 'Amitabh Bachchan',\n",
       " 'HrithikRoshan',\n",
       " 'amirkhan',\n",
       " 'salmankhan',\n",
       " 'sharukkhan'}"
      ]
     },
     "execution_count": 84,
     "metadata": {},
     "output_type": "execute_result"
    }
   ],
   "source": [
    "bollywood_heros"
   ]
  },
  {
   "cell_type": "code",
   "execution_count": 67,
   "id": "90e305b3",
   "metadata": {},
   "outputs": [],
   "source": [
    "breakfast_items=[\"upma\",\"dosa\",\"idly\",\"puri\",\"punugulu\",\"roti\",\"chapathi\", \"parota\",\"mysoor baji\",\"minapa baji\"]"
   ]
  },
  {
   "cell_type": "code",
   "execution_count": 68,
   "id": "8f712448",
   "metadata": {},
   "outputs": [
    {
     "data": {
      "text/plain": [
       "['upma',\n",
       " 'dosa',\n",
       " 'idly',\n",
       " 'puri',\n",
       " 'punugulu',\n",
       " 'roti',\n",
       " 'chapathi',\n",
       " 'parota',\n",
       " 'mysoor baji',\n",
       " 'minapa baji']"
      ]
     },
     "execution_count": 68,
     "metadata": {},
     "output_type": "execute_result"
    }
   ],
   "source": [
    "breakfast_items"
   ]
  },
  {
   "cell_type": "code",
   "execution_count": 69,
   "id": "5f62d690",
   "metadata": {},
   "outputs": [
    {
     "data": {
      "text/plain": [
       "'mysoor baji'"
      ]
     },
     "execution_count": 69,
     "metadata": {},
     "output_type": "execute_result"
    }
   ],
   "source": [
    "breakfast_items[-2]"
   ]
  },
  {
   "cell_type": "code",
   "execution_count": 52,
   "id": "bb42e79b",
   "metadata": {},
   "outputs": [],
   "source": []
  },
  {
   "cell_type": "code",
   "execution_count": 88,
   "id": "7c5fbe2d",
   "metadata": {},
   "outputs": [],
   "source": [
    "tollywood_heros=[\"chiru\", \"balaya\", \"nag\",\"venky\",\"powerstar\",\"superstar\",\"ntr\",\"ramcharn\"]"
   ]
  },
  {
   "cell_type": "code",
   "execution_count": 92,
   "id": "494b7ec7",
   "metadata": {},
   "outputs": [],
   "source": [
    "tollywood_heros[0]=\"chiranjeevi\"\n",
    "tollywood_heros[1]=\"balakrishna\"\n",
    "tollywood_heros[2]=\"nagarjuna\"\n",
    "tollywood_heros[3]=\"venkatesh\"\n",
    "tollywood_heros[4]=\"pavan kalyan\"\n",
    "tollywood_heros[5]=\"rajinikanth\"\n",
    "tollywood_heros[6]=\"Jr.N.T.R.\"\n",
    "tollywood_heros[7]=\"RamCharan\""
   ]
  },
  {
   "cell_type": "code",
   "execution_count": 93,
   "id": "f245a3f6",
   "metadata": {},
   "outputs": [
    {
     "data": {
      "text/plain": [
       "['chiranjeevi',\n",
       " 'balakrishna',\n",
       " 'nagarjuna',\n",
       " 'venkatesh',\n",
       " 'pavan kalyan',\n",
       " 'rajinikanth',\n",
       " 'Jr.N.T.R.',\n",
       " 'RamCharan']"
      ]
     },
     "execution_count": 93,
     "metadata": {},
     "output_type": "execute_result"
    }
   ],
   "source": [
    "tollywood_heros"
   ]
  },
  {
   "cell_type": "code",
   "execution_count": 86,
   "id": "5c8f97b7",
   "metadata": {},
   "outputs": [],
   "source": [
    "tollywood_heros[0]=\"chiranjeevi\""
   ]
  },
  {
   "cell_type": "code",
   "execution_count": 5,
   "id": "f6a06688",
   "metadata": {},
   "outputs": [
    {
     "data": {
      "text/plain": [
       "'supraja'"
      ]
     },
     "execution_count": 5,
     "metadata": {},
     "output_type": "execute_result"
    }
   ],
   "source": [
    "dictt1[\"friends names\"][-7]"
   ]
  },
  {
   "cell_type": "code",
   "execution_count": null,
   "id": "499f6768",
   "metadata": {},
   "outputs": [],
   "source": []
  },
  {
   "cell_type": "code",
   "execution_count": 71,
   "id": "18c685b5",
   "metadata": {},
   "outputs": [],
   "source": [
    "family_members=[\"jayasri\",\"mounika\",\"prasad\",\"janardhna rao\",\"lakshmi\",\"rajini\",\"basavaiah\",\"rakesh\",\"rajasekhar\",\"srinivas\"]"
   ]
  },
  {
   "cell_type": "code",
   "execution_count": 72,
   "id": "82c87681",
   "metadata": {},
   "outputs": [
    {
     "data": {
      "text/plain": [
       "['jayasri',\n",
       " 'mounika',\n",
       " 'prasad',\n",
       " 'janardhna rao',\n",
       " 'lakshmi',\n",
       " 'rajini',\n",
       " 'basavaiah',\n",
       " 'rakesh',\n",
       " 'rajasekhar',\n",
       " 'srinivas']"
      ]
     },
     "execution_count": 72,
     "metadata": {},
     "output_type": "execute_result"
    }
   ],
   "source": [
    "family_members"
   ]
  },
  {
   "cell_type": "code",
   "execution_count": 34,
   "id": "d788ecde",
   "metadata": {},
   "outputs": [],
   "source": [
    "dictt3={\"family_members\":[\"jayasri\",\"mounika\",\"prasad\",\"janardhna rao\",\"lakshmi\",\"rajini\",\"basavaiah\",\"rakesh\",\"rajasekhar\",\"srinivas\"],\"relations\":[\"my self\",\"sister\",\"brother\",\"father\",\"mother\",\"sister in law\",\"grand father\",\"brother\",\"brother\",\"brother\"]}"
   ]
  },
  {
   "cell_type": "code",
   "execution_count": 35,
   "id": "309c1c02",
   "metadata": {},
   "outputs": [
    {
     "data": {
      "text/plain": [
       "{'family_members': ['jayasri',\n",
       "  'mounika',\n",
       "  'prasad',\n",
       "  'janardhna rao',\n",
       "  'lakshmi',\n",
       "  'rajini',\n",
       "  'basavaiah',\n",
       "  'rakesh',\n",
       "  'rajasekhar',\n",
       "  'srinivas'],\n",
       " 'relations': ['my self',\n",
       "  'sister',\n",
       "  'brother',\n",
       "  'father',\n",
       "  'mother',\n",
       "  'sister in law',\n",
       "  'grand father',\n",
       "  'brother',\n",
       "  'brother',\n",
       "  'brother']}"
      ]
     },
     "execution_count": 35,
     "metadata": {},
     "output_type": "execute_result"
    }
   ],
   "source": [
    "dictt3"
   ]
  },
  {
   "cell_type": "code",
   "execution_count": 53,
   "id": "7e57a0e5",
   "metadata": {},
   "outputs": [
    {
     "data": {
      "text/plain": [
       "'janardhna rao'"
      ]
     },
     "execution_count": 53,
     "metadata": {},
     "output_type": "execute_result"
    }
   ],
   "source": [
    "dictt3[\"family_members\"][-7]"
   ]
  },
  {
   "cell_type": "code",
   "execution_count": 56,
   "id": "dafd5ad9",
   "metadata": {},
   "outputs": [],
   "source": [
    "dictt4={\"non_veg_items\":[\"chicken\",\"fish\",\"egg\",\"egg fride rice\",\"chicken fride rice:\",\"egg fride rice\",\"chicken manchuriya\",\"egg manchuriya\"],\"veg_items\":[\"potato\",\"ladies finger\",\"brinjal\",\"carrot\",\"onions\",\"cabage\",\"califlower\",\"bitter guared\"],\"rating\":[1,2,3,4,5,6,7,8]}"
   ]
  },
  {
   "cell_type": "code",
   "execution_count": 57,
   "id": "6b4c1d8f",
   "metadata": {},
   "outputs": [
    {
     "data": {
      "text/plain": [
       "{'non_veg_items': ['chicken',\n",
       "  'fish',\n",
       "  'egg',\n",
       "  'egg fride rice',\n",
       "  'chicken fride rice:',\n",
       "  'egg fride rice',\n",
       "  'chicken manchuriya',\n",
       "  'egg manchuriya'],\n",
       " 'veg_items': ['potato',\n",
       "  'ladies finger',\n",
       "  'brinjal',\n",
       "  'carrot',\n",
       "  'onions',\n",
       "  'cabage',\n",
       "  'califlower',\n",
       "  'bitter guared'],\n",
       " 'rating': [1, 2, 3, 4, 5, 6, 7, 8]}"
      ]
     },
     "execution_count": 57,
     "metadata": {},
     "output_type": "execute_result"
    }
   ],
   "source": [
    "dictt4"
   ]
  },
  {
   "cell_type": "code",
   "execution_count": 30,
   "id": "7b204d4a",
   "metadata": {},
   "outputs": [
    {
     "ename": "NameError",
     "evalue": "name 'dictt4' is not defined",
     "output_type": "error",
     "traceback": [
      "\u001b[1;31m---------------------------------------------------------------------------\u001b[0m",
      "\u001b[1;31mNameError\u001b[0m                                 Traceback (most recent call last)",
      "Cell \u001b[1;32mIn[30], line 1\u001b[0m\n\u001b[1;32m----> 1\u001b[0m \u001b[43mdictt4\u001b[49m[\u001b[38;5;124m\"\u001b[39m\u001b[38;5;124mnon_veg_items\u001b[39m\u001b[38;5;124m\"\u001b[39m][\u001b[38;5;241m-\u001b[39m\u001b[38;5;241m4\u001b[39m]\n",
      "\u001b[1;31mNameError\u001b[0m: name 'dictt4' is not defined"
     ]
    }
   ],
   "source": [
    "dictt4[\"non_veg_items\"][-4]"
   ]
  },
  {
   "cell_type": "code",
   "execution_count": 23,
   "id": "8bfb3847",
   "metadata": {},
   "outputs": [],
   "source": [
    "dictt5={\"favourite_destination\":[\"delhi\",\"araku\",\"vijayawada\",\"simla\",\"vizag\",\"ootii\",\"kodaikenal\",\"manalii\"],\"ratings\":[7,2,3,4,8,5,6,1]}"
   ]
  },
  {
   "cell_type": "code",
   "execution_count": 24,
   "id": "7cd8671d",
   "metadata": {},
   "outputs": [
    {
     "data": {
      "text/plain": [
       "{'favourite_destination': ['delhi',\n",
       "  'araku',\n",
       "  'vijayawada',\n",
       "  'simla',\n",
       "  'vizag',\n",
       "  'ootii',\n",
       "  'kodaikenal',\n",
       "  'manalii'],\n",
       " 'ratings': [7, 2, 3, 4, 8, 5, 6, 1]}"
      ]
     },
     "execution_count": 24,
     "metadata": {},
     "output_type": "execute_result"
    }
   ],
   "source": [
    "dictt5"
   ]
  },
  {
   "cell_type": "code",
   "execution_count": 25,
   "id": "ba3d8e06",
   "metadata": {},
   "outputs": [
    {
     "data": {
      "text/plain": [
       "['delhi', 'araku', 'vijayawada']"
      ]
     },
     "execution_count": 25,
     "metadata": {},
     "output_type": "execute_result"
    }
   ],
   "source": [
    "dictt5[\"favourite_destination\"][0:3]"
   ]
  },
  {
   "cell_type": "code",
   "execution_count": 6,
   "id": "e7792dfb",
   "metadata": {},
   "outputs": [
    {
     "name": "stdout",
     "output_type": "stream",
     "text": [
      "you are teen_age:\n"
     ]
    }
   ],
   "source": [
    "age = 30\n",
    "if age >20 :\n",
    "    print(\"you are teen_age:\")\n",
    "else:\n",
    "    print(\"you are youngerage \")"
   ]
  },
  {
   "cell_type": "code",
   "execution_count": 11,
   "id": "397e4418",
   "metadata": {},
   "outputs": [
    {
     "name": "stdout",
     "output_type": "stream",
     "text": [
      "you are youngerage \n"
     ]
    }
   ],
   "source": [
    "age = 50\n",
    "if age <30 :\n",
    "    print(\"you are teen_age:\")\n",
    "else:\n",
    "    print(\"you are youngerage \")"
   ]
  },
  {
   "cell_type": "code",
   "execution_count": 12,
   "id": "09e33bf4",
   "metadata": {},
   "outputs": [
    {
     "name": "stdout",
     "output_type": "stream",
     "text": [
      "you are children:\n"
     ]
    }
   ],
   "source": [
    "age = 10\n",
    "if age >10 :\n",
    "    print(\"you are teen_age:\")\n",
    "else:\n",
    "    print(\"you are children:\")"
   ]
  },
  {
   "cell_type": "code",
   "execution_count": 17,
   "id": "8843e89a",
   "metadata": {},
   "outputs": [
    {
     "name": "stdout",
     "output_type": "stream",
     "text": [
      "i lost:\n"
     ]
    }
   ],
   "source": [
    "profit=10\n",
    "if profit >10:\n",
    "   print(\"i am profitable:\")\n",
    "else:\n",
    "   print(\"i lost:\") \n",
    "    "
   ]
  },
  {
   "cell_type": "code",
   "execution_count": 18,
   "id": "2f2e42ba",
   "metadata": {},
   "outputs": [
    {
     "name": "stdout",
     "output_type": "stream",
     "text": [
      "i am profitable:\n"
     ]
    }
   ],
   "source": [
    "profit= 30\n",
    "if profit >10:\n",
    "   print(\"i am profitable:\")\n",
    "else:\n",
    "   print(\"i lost:\") \n",
    "    "
   ]
  },
  {
   "cell_type": "code",
   "execution_count": 16,
   "id": "f634ee49",
   "metadata": {},
   "outputs": [
    {
     "name": "stdout",
     "output_type": "stream",
     "text": [
      "0\n",
      "2\n",
      "4\n",
      "6\n",
      "8\n",
      "10\n",
      "12\n",
      "14\n",
      "16\n",
      "18\n",
      "20\n",
      "22\n",
      "24\n",
      "26\n",
      "28\n"
     ]
    }
   ],
   "source": [
    "for p in range(0,30,2):\n",
    "    print(p)"
   ]
  },
  {
   "cell_type": "code",
   "execution_count": 61,
   "id": "5f814f05",
   "metadata": {},
   "outputs": [
    {
     "name": "stdout",
     "output_type": "stream",
     "text": [
      "0\n",
      "1\n",
      "2\n",
      "3\n",
      "4\n",
      "5\n",
      "6\n",
      "7\n",
      "8\n",
      "9\n"
     ]
    }
   ],
   "source": [
    "for p in range(0,10):\n",
    "    print(p)"
   ]
  },
  {
   "cell_type": "code",
   "execution_count": 1,
   "id": "49c830f8",
   "metadata": {},
   "outputs": [
    {
     "name": "stdout",
     "output_type": "stream",
     "text": [
      "9\n",
      "18\n",
      "27\n",
      "36\n",
      "45\n",
      "54\n",
      "63\n",
      "72\n",
      "81\n"
     ]
    }
   ],
   "source": [
    "for p in range(9,90,9):\n",
    "    print(p)"
   ]
  },
  {
   "cell_type": "code",
   "execution_count": 56,
   "id": "13def92c",
   "metadata": {},
   "outputs": [
    {
     "name": "stdout",
     "output_type": "stream",
     "text": [
      "0\n",
      "12\n",
      "24\n",
      "36\n",
      "48\n",
      "60\n",
      "72\n",
      "84\n",
      "96\n",
      "108\n"
     ]
    }
   ],
   "source": [
    "for p in range(0,120,12):\n",
    "    print(p)"
   ]
  },
  {
   "cell_type": "code",
   "execution_count": 54,
   "id": "b9dd46e8",
   "metadata": {},
   "outputs": [
    {
     "name": "stdout",
     "output_type": "stream",
     "text": [
      "['january', 'february', 'march', 'april', 'may', 'june', 'july', 'august', 'september', 'octomber', 'november', 'december']\n"
     ]
    }
   ],
   "source": [
    "lst=[\"january\",\"february\",\"march\",\"april\",\"may\",\"june\",\"july\",\"august\",\"september\",\"octomber\",\"november\",\"december\"]\n",
    "print(lst)\n",
    "\n",
    " "
   ]
  },
  {
   "cell_type": "code",
   "execution_count": 68,
   "id": "89e67e9e",
   "metadata": {},
   "outputs": [
    {
     "name": "stdout",
     "output_type": "stream",
     "text": [
      "0\n",
      "1\n",
      "2\n",
      "3\n",
      "4\n",
      "5\n",
      "6\n",
      "7\n",
      "8\n"
     ]
    }
   ],
   "source": [
    "for p in range(9):\n",
    "    print(p)\n",
    "  "
   ]
  },
  {
   "cell_type": "code",
   "execution_count": 53,
   "id": "091003a2",
   "metadata": {},
   "outputs": [
    {
     "name": "stdout",
     "output_type": "stream",
     "text": [
      "5\n",
      "7\n",
      "9\n",
      "11\n",
      "13\n"
     ]
    }
   ],
   "source": [
    "for p in range(5,15,2):\n",
    "    print(p)"
   ]
  },
  {
   "cell_type": "code",
   "execution_count": 47,
   "id": "df6ad6da",
   "metadata": {},
   "outputs": [
    {
     "name": "stdout",
     "output_type": "stream",
     "text": [
      "iteration************* 0\n",
      "the value of p 0\n",
      "the value of x+15 15\n",
      "the value of x 15\n",
      "iteration************* 1\n",
      "the value of p 1\n",
      "the value of x+15 16\n",
      "the value of x 16\n",
      "iteration************* 2\n",
      "the value of p 2\n",
      "the value of x+15 17\n",
      "the value of x 17\n",
      "iteration************* 3\n",
      "the value of p 3\n",
      "the value of x+15 18\n",
      "the value of x 18\n",
      "iteration************* 4\n",
      "the value of p 4\n",
      "the value of x+15 19\n",
      "the value of x 19\n",
      "iteration************* 5\n",
      "the value of p 5\n",
      "the value of x+15 20\n",
      "the value of x 20\n",
      "iteration************* 6\n",
      "the value of p 6\n",
      "the value of x+15 21\n",
      "the value of x 21\n",
      "iteration************* 7\n",
      "the value of p 7\n",
      "the value of x+15 22\n",
      "the value of x 22\n",
      "iteration************* 8\n",
      "the value of p 8\n",
      "the value of x+15 23\n",
      "the value of x 23\n",
      "iteration************* 9\n",
      "the value of p 9\n",
      "the value of x+15 24\n",
      "the value of x 24\n",
      "iteration************* 10\n",
      "the value of p 10\n",
      "the value of x+15 25\n",
      "the value of x 25\n",
      "iteration************* 11\n",
      "the value of p 11\n",
      "the value of x+15 26\n",
      "the value of x 26\n",
      "iteration************* 12\n",
      "the value of p 12\n",
      "the value of x+15 27\n",
      "the value of x 27\n",
      "iteration************* 13\n",
      "the value of p 13\n",
      "the value of x+15 28\n",
      "the value of x 28\n",
      "iteration************* 14\n",
      "the value of p 14\n",
      "the value of x+15 29\n",
      "the value of x 29\n",
      "iteration************* 15\n",
      "the value of p 15\n",
      "the value of x+15 30\n",
      "the value of x 30\n",
      "iteration************* 16\n",
      "the value of p 16\n",
      "the value of x+15 31\n",
      "the value of x 31\n",
      "iteration************* 17\n",
      "the value of p 17\n",
      "the value of x+15 32\n",
      "the value of x 32\n",
      "iteration************* 18\n",
      "the value of p 18\n",
      "the value of x+15 33\n",
      "the value of x 33\n",
      "iteration************* 19\n",
      "the value of p 19\n",
      "the value of x+15 34\n",
      "the value of x 34\n",
      "iteration************* 20\n",
      "the value of p 20\n",
      "the value of x+15 35\n",
      "the value of x 35\n",
      "iteration************* 21\n",
      "the value of p 21\n",
      "the value of x+15 36\n",
      "the value of x 36\n",
      "iteration************* 22\n",
      "the value of p 22\n",
      "the value of x+15 37\n",
      "the value of x 37\n",
      "iteration************* 23\n",
      "the value of p 23\n",
      "the value of x+15 38\n",
      "the value of x 38\n",
      "iteration************* 24\n",
      "the value of p 24\n",
      "the value of x+15 39\n",
      "the value of x 39\n",
      "iteration************* 25\n",
      "the value of p 25\n",
      "the value of x+15 40\n",
      "the value of x 40\n",
      "iteration************* 26\n",
      "the value of p 26\n",
      "the value of x+15 41\n",
      "the value of x 41\n",
      "iteration************* 27\n",
      "the value of p 27\n",
      "the value of x+15 42\n",
      "the value of x 42\n",
      "iteration************* 28\n",
      "the value of p 28\n",
      "the value of x+15 43\n",
      "the value of x 43\n",
      "iteration************* 29\n",
      "the value of p 29\n",
      "the value of x+15 44\n",
      "the value of x 44\n",
      "iteration************* 30\n",
      "the value of p 30\n",
      "the value of x+15 45\n",
      "the value of x 45\n",
      "iteration************* 31\n",
      "the value of p 31\n",
      "the value of x+15 46\n",
      "the value of x 46\n",
      "iteration************* 32\n",
      "the value of p 32\n",
      "the value of x+15 47\n",
      "the value of x 47\n",
      "iteration************* 33\n",
      "the value of p 33\n",
      "the value of x+15 48\n",
      "the value of x 48\n",
      "iteration************* 34\n",
      "the value of p 34\n",
      "the value of x+15 49\n",
      "the value of x 49\n",
      "iteration************* 35\n",
      "the value of p 35\n",
      "the value of x+15 50\n",
      "the value of x 50\n",
      "iteration************* 36\n",
      "the value of p 36\n",
      "the value of x+15 51\n",
      "the value of x 51\n",
      "iteration************* 37\n",
      "the value of p 37\n",
      "the value of x+15 52\n",
      "the value of x 52\n",
      "iteration************* 38\n",
      "the value of p 38\n",
      "the value of x+15 53\n",
      "the value of x 53\n",
      "iteration************* 39\n",
      "the value of p 39\n",
      "the value of x+15 54\n",
      "the value of x 54\n",
      "iteration************* 40\n",
      "the value of p 40\n",
      "the value of x+15 55\n",
      "the value of x 55\n",
      "iteration************* 41\n",
      "the value of p 41\n",
      "the value of x+15 56\n",
      "the value of x 56\n",
      "iteration************* 42\n",
      "the value of p 42\n",
      "the value of x+15 57\n",
      "the value of x 57\n",
      "iteration************* 43\n",
      "the value of p 43\n",
      "the value of x+15 58\n",
      "the value of x 58\n",
      "iteration************* 44\n",
      "the value of p 44\n",
      "the value of x+15 59\n",
      "the value of x 59\n",
      "iteration************* 45\n",
      "the value of p 45\n",
      "the value of x+15 60\n",
      "the value of x 60\n",
      "iteration************* 46\n",
      "the value of p 46\n",
      "the value of x+15 61\n",
      "the value of x 61\n",
      "iteration************* 47\n",
      "the value of p 47\n",
      "the value of x+15 62\n",
      "the value of x 62\n",
      "iteration************* 48\n",
      "the value of p 48\n",
      "the value of x+15 63\n",
      "the value of x 63\n",
      "iteration************* 49\n",
      "the value of p 49\n",
      "the value of x+15 64\n",
      "the value of x 64\n",
      "iteration************* 50\n",
      "the value of p 50\n",
      "the value of x+15 65\n",
      "the value of x 65\n",
      "iteration************* 51\n",
      "the value of p 51\n",
      "the value of x+15 66\n",
      "the value of x 66\n",
      "iteration************* 52\n",
      "the value of p 52\n",
      "the value of x+15 67\n",
      "the value of x 67\n",
      "iteration************* 53\n",
      "the value of p 53\n",
      "the value of x+15 68\n",
      "the value of x 68\n",
      "iteration************* 54\n",
      "the value of p 54\n",
      "the value of x+15 69\n",
      "the value of x 69\n",
      "iteration************* 55\n",
      "the value of p 55\n",
      "the value of x+15 70\n",
      "the value of x 70\n",
      "iteration************* 56\n",
      "the value of p 56\n",
      "the value of x+15 71\n",
      "the value of x 71\n",
      "iteration************* 57\n",
      "the value of p 57\n",
      "the value of x+15 72\n",
      "the value of x 72\n",
      "iteration************* 58\n",
      "the value of p 58\n",
      "the value of x+15 73\n",
      "the value of x 73\n",
      "iteration************* 59\n",
      "the value of p 59\n",
      "the value of x+15 74\n",
      "the value of x 74\n"
     ]
    }
   ],
   "source": [
    "for p in range(0,60):\n",
    "    print(\"iteration*************\",p)\n",
    "    x=p+15\n",
    "    print(\"the value of p\",p)\n",
    "    print(\"the value of x+15\",p+15)\n",
    "    print(\"the value of x\",x)\n",
    "   \n"
   ]
  },
  {
   "cell_type": "code",
   "execution_count": 48,
   "id": "94ef39e8",
   "metadata": {},
   "outputs": [
    {
     "name": "stdout",
     "output_type": "stream",
     "text": [
      "iteration************* 0\n",
      "the value of p 0\n",
      "the value of x+15 15\n",
      "the value of x 15\n",
      "iteration************* 6\n",
      "the value of p 6\n",
      "the value of x+15 21\n",
      "the value of x 21\n",
      "iteration************* 12\n",
      "the value of p 12\n",
      "the value of x+15 27\n",
      "the value of x 27\n",
      "iteration************* 18\n",
      "the value of p 18\n",
      "the value of x+15 33\n",
      "the value of x 33\n",
      "iteration************* 24\n",
      "the value of p 24\n",
      "the value of x+15 39\n",
      "the value of x 39\n",
      "iteration************* 30\n",
      "the value of p 30\n",
      "the value of x+15 45\n",
      "the value of x 45\n",
      "iteration************* 36\n",
      "the value of p 36\n",
      "the value of x+15 51\n",
      "the value of x 51\n",
      "iteration************* 42\n",
      "the value of p 42\n",
      "the value of x+15 57\n",
      "the value of x 57\n",
      "iteration************* 48\n",
      "the value of p 48\n",
      "the value of x+15 63\n",
      "the value of x 63\n",
      "iteration************* 54\n",
      "the value of p 54\n",
      "the value of x+15 69\n",
      "the value of x 69\n",
      "iteration************* 60\n",
      "the value of p 60\n",
      "the value of x+15 75\n",
      "the value of x 75\n"
     ]
    }
   ],
   "source": [
    "for p in range(0,66,6):\n",
    "    print(\"iteration*************\",p)\n",
    "    x=p+15\n",
    "    print(\"the value of p\",p)\n",
    "    print(\"the value of x+15\",p+15)\n",
    "    print(\"the value of x\",x)\n",
    "   \n"
   ]
  },
  {
   "cell_type": "code",
   "execution_count": 49,
   "id": "1f7927c6",
   "metadata": {},
   "outputs": [
    {
     "name": "stdout",
     "output_type": "stream",
     "text": [
      "iteration************* 0\n",
      "the value of p 0\n",
      "the value of x+15 15\n",
      "the value of x 15\n",
      "iteration************* 6\n",
      "the value of p 6\n",
      "the value of x+15 21\n",
      "the value of x 21\n",
      "iteration************* 12\n",
      "the value of p 12\n",
      "the value of x+15 27\n",
      "the value of x 27\n",
      "iteration************* 18\n",
      "the value of p 18\n",
      "the value of x+15 33\n",
      "the value of x 33\n",
      "iteration************* 24\n",
      "the value of p 24\n",
      "the value of x+15 39\n",
      "the value of x 39\n",
      "iteration************* 30\n",
      "the value of p 30\n",
      "the value of x+15 45\n",
      "the value of x 45\n",
      "iteration************* 36\n",
      "the value of p 36\n",
      "the value of x+15 51\n",
      "the value of x 51\n",
      "iteration************* 42\n",
      "the value of p 42\n",
      "the value of x+15 57\n",
      "the value of x 57\n",
      "iteration************* 48\n",
      "the value of p 48\n",
      "the value of x+15 63\n",
      "the value of x 63\n",
      "iteration************* 54\n",
      "the value of p 54\n",
      "the value of x+15 69\n",
      "the value of x 69\n"
     ]
    }
   ],
   "source": [
    "for p in range(0,60,6):\n",
    "    print(\"iteration*************\",p)\n",
    "    x=p+15\n",
    "    print(\"the value of p\",p)\n",
    "    print(\"the value of x+15\",p+15)\n",
    "    print(\"the value of x\",x)\n",
    "   "
   ]
  },
  {
   "cell_type": "code",
   "execution_count": 1,
   "id": "feb21d0f",
   "metadata": {},
   "outputs": [],
   "source": [
    "def addition():\n",
    "    a=10\n",
    "    b=30\n",
    "    c=a+b\n",
    "    return c"
   ]
  },
  {
   "cell_type": "code",
   "execution_count": 2,
   "id": "0257be01",
   "metadata": {},
   "outputs": [
    {
     "data": {
      "text/plain": [
       "40"
      ]
     },
     "execution_count": 2,
     "metadata": {},
     "output_type": "execute_result"
    }
   ],
   "source": [
    "addition()"
   ]
  },
  {
   "cell_type": "code",
   "execution_count": 3,
   "id": "ea7b200d",
   "metadata": {},
   "outputs": [],
   "source": [
    "def multiplication():\n",
    "    a=40\n",
    "    b=25\n",
    "    c=a*b\n",
    "    return c"
   ]
  },
  {
   "cell_type": "code",
   "execution_count": 4,
   "id": "d5b5b6cb",
   "metadata": {},
   "outputs": [
    {
     "data": {
      "text/plain": [
       "1000"
      ]
     },
     "execution_count": 4,
     "metadata": {},
     "output_type": "execute_result"
    }
   ],
   "source": [
    "multiplication()"
   ]
  },
  {
   "cell_type": "code",
   "execution_count": 5,
   "id": "d1e53292",
   "metadata": {},
   "outputs": [],
   "source": [
    "def multiplication(a,b):\n",
    "    c=a*b\n",
    "    return c"
   ]
  },
  {
   "cell_type": "code",
   "execution_count": 8,
   "id": "7ea63a75",
   "metadata": {},
   "outputs": [
    {
     "data": {
      "text/plain": [
       "200"
      ]
     },
     "execution_count": 8,
     "metadata": {},
     "output_type": "execute_result"
    }
   ],
   "source": [
    "multiplication(10,20)\n"
   ]
  },
  {
   "cell_type": "code",
   "execution_count": 1,
   "id": "ce6605d0",
   "metadata": {},
   "outputs": [],
   "source": [
    "def share_market(invest_amount,share):\n",
    "    if share>5 :\n",
    "        retun=invest_amount*25\n",
    "    else :\n",
    "        retun=invest_amount*20\n",
    "    return retun\n",
    "        "
   ]
  },
  {
   "cell_type": "code",
   "execution_count": 2,
   "id": "c4295c9a",
   "metadata": {},
   "outputs": [
    {
     "data": {
      "text/plain": [
       "250000"
      ]
     },
     "execution_count": 2,
     "metadata": {},
     "output_type": "execute_result"
    }
   ],
   "source": [
    "share_market(10000,8)"
   ]
  },
  {
   "cell_type": "code",
   "execution_count": 3,
   "id": "46493e1d",
   "metadata": {},
   "outputs": [
    {
     "data": {
      "text/plain": [
       "200000"
      ]
     },
     "execution_count": 3,
     "metadata": {},
     "output_type": "execute_result"
    }
   ],
   "source": [
    "share_market(10000,4)"
   ]
  },
  {
   "cell_type": "code",
   "execution_count": 8,
   "id": "03d83287",
   "metadata": {},
   "outputs": [
    {
     "ename": "TypeError",
     "evalue": "read_csv() missing 1 required positional argument: 'filepath_or_buffer'",
     "output_type": "error",
     "traceback": [
      "\u001b[1;31m---------------------------------------------------------------------------\u001b[0m",
      "\u001b[1;31mTypeError\u001b[0m                                 Traceback (most recent call last)",
      "Cell \u001b[1;32mIn[8], line 2\u001b[0m\n\u001b[0;32m      1\u001b[0m \u001b[38;5;28;01mimport\u001b[39;00m \u001b[38;5;21;01mpandas\u001b[39;00m \u001b[38;5;28;01mas\u001b[39;00m \u001b[38;5;21;01mpd\u001b[39;00m\n\u001b[1;32m----> 2\u001b[0m \u001b[43mpd\u001b[49m\u001b[38;5;241;43m.\u001b[39;49m\u001b[43mread_csv\u001b[49m\u001b[43m(\u001b[49m\u001b[43m)\u001b[49m\n",
      "File \u001b[1;32m~\\anaconda3\\lib\\site-packages\\pandas\\util\\_decorators.py:211\u001b[0m, in \u001b[0;36mdeprecate_kwarg.<locals>._deprecate_kwarg.<locals>.wrapper\u001b[1;34m(*args, **kwargs)\u001b[0m\n\u001b[0;32m    209\u001b[0m     \u001b[38;5;28;01melse\u001b[39;00m:\n\u001b[0;32m    210\u001b[0m         kwargs[new_arg_name] \u001b[38;5;241m=\u001b[39m new_arg_value\n\u001b[1;32m--> 211\u001b[0m \u001b[38;5;28;01mreturn\u001b[39;00m func(\u001b[38;5;241m*\u001b[39margs, \u001b[38;5;241m*\u001b[39m\u001b[38;5;241m*\u001b[39mkwargs)\n",
      "File \u001b[1;32m~\\anaconda3\\lib\\site-packages\\pandas\\util\\_decorators.py:331\u001b[0m, in \u001b[0;36mdeprecate_nonkeyword_arguments.<locals>.decorate.<locals>.wrapper\u001b[1;34m(*args, **kwargs)\u001b[0m\n\u001b[0;32m    325\u001b[0m \u001b[38;5;28;01mif\u001b[39;00m \u001b[38;5;28mlen\u001b[39m(args) \u001b[38;5;241m>\u001b[39m num_allow_args:\n\u001b[0;32m    326\u001b[0m     warnings\u001b[38;5;241m.\u001b[39mwarn(\n\u001b[0;32m    327\u001b[0m         msg\u001b[38;5;241m.\u001b[39mformat(arguments\u001b[38;5;241m=\u001b[39m_format_argument_list(allow_args)),\n\u001b[0;32m    328\u001b[0m         \u001b[38;5;167;01mFutureWarning\u001b[39;00m,\n\u001b[0;32m    329\u001b[0m         stacklevel\u001b[38;5;241m=\u001b[39mfind_stack_level(),\n\u001b[0;32m    330\u001b[0m     )\n\u001b[1;32m--> 331\u001b[0m \u001b[38;5;28;01mreturn\u001b[39;00m func(\u001b[38;5;241m*\u001b[39margs, \u001b[38;5;241m*\u001b[39m\u001b[38;5;241m*\u001b[39mkwargs)\n",
      "\u001b[1;31mTypeError\u001b[0m: read_csv() missing 1 required positional argument: 'filepath_or_buffer'"
     ]
    }
   ],
   "source": [
    "import pandas as pd\n",
    "pd.read_csv()"
   ]
  },
  {
   "cell_type": "code",
   "execution_count": 6,
   "id": "94956a38",
   "metadata": {},
   "outputs": [],
   "source": [
    "import pandas as pd\n",
    "import pandas"
   ]
  },
  {
   "cell_type": "code",
   "execution_count": 4,
   "id": "65b70e5d",
   "metadata": {},
   "outputs": [],
   "source": [
    "def credit_card_offer(salary,credit_limit):\n",
    "    if salary<10000 :\n",
    "        retun=salary*10\n",
    "    elif salary>10000 and salary<30000 :\n",
    "        retun=salary*20\n",
    "    else :\n",
    "        salary>30000\n",
    "        retun=salary*30\n",
    "    return retun\n",
    "  \n",
    "    "
   ]
  },
  {
   "cell_type": "code",
   "execution_count": null,
   "id": "5e77f0a8",
   "metadata": {},
   "outputs": [],
   "source": [
    "monthname(\"jan\")\n",
    "\n",
    "this is month of january"
   ]
  },
  {
   "cell_type": "code",
   "execution_count": null,
   "id": "18437511",
   "metadata": {},
   "outputs": [],
   "source": [
    "dictt={\"jan\",\"feb\",\"mar\"}\n",
    "print(\"this is month of\")"
   ]
  },
  {
   "cell_type": "code",
   "execution_count": 37,
   "id": "5217d780",
   "metadata": {},
   "outputs": [
    {
     "name": "stdout",
     "output_type": "stream",
     "text": [
      "1 : Jan - January\n",
      "2 : Feb - February\n",
      "3 : Mar - March\n",
      "4 : Apr - April\n",
      "5 : May - May\n",
      "6 : Jun - June\n",
      "7 : Jul - July\n",
      "8 : Aug - August\n",
      "9 : Sep - September\n",
      "10 : Oct - October\n",
      "11 : Nov - November\n",
      "12 : Dec - December\n",
      "4 : Apr - April\n"
     ]
    }
   ],
   "source": [
    "import calendar\n",
    "\n",
    "for x in range(1,13):\n",
    "    print(x, \":\", calendar.month_abbr[x], \"-\", calendar.month_name[x])\n",
    "\n",
    "# for month number = 4\n",
    "x = 4\n",
    "print(x, \":\", calendar.month_abbr[x], \"-\", calendar.month_name[x])"
   ]
  },
  {
   "cell_type": "code",
   "execution_count": 39,
   "id": "cfa8daab",
   "metadata": {},
   "outputs": [
    {
     "name": "stdout",
     "output_type": "stream",
     "text": [
      "Month Number: 1\n",
      "Month full name is: January\n",
      "Month short name is: Jan\n"
     ]
    }
   ],
   "source": [
    "import calendar\n",
    "\n",
    "num = 1\n",
    "print('Month Number:', num)\n",
    "\n",
    "# get month name\n",
    "print('Month full name is:', calendar.month_name[num])\n",
    "print('Month short name is:', calendar.month_abbr[num])\n"
   ]
  },
  {
   "cell_type": "code",
   "execution_count": 63,
   "id": "66c4cb38",
   "metadata": {},
   "outputs": [],
   "source": [
    "def print_month_name(x):\n",
    "     if (x==1):\n",
    "         print (\"Jan\")\n",
    "     if (x==2):\n",
    "         print(\"Feb\")\n",
    "     if (x==3):\n",
    "         print(\"March\")\n",
    "     if (x==4):\n",
    "         print(\"April\")\n",
    "     if (x==5):\n",
    "         print(\"May\")\n",
    "     if (x==6):\n",
    "         print(\"June\")\n",
    "     if (x==7):\n",
    "         print(\"July\")\n",
    "     if (x==8):\n",
    "         print(\"August\")\n",
    "     if(x==9):\n",
    "         print(\"September\")\n",
    "     if(x==10):\n",
    "         print(\"October\")\n",
    "     if(x==11):\n",
    "         print(\"November\")\n",
    "     if(x==12):\n",
    "         print(\"December\")\n",
    "     if(x<1 or x>12):\n",
    "         print(\"Invalid input\")\n",
    "         month = int(input(\"Enter the month number: \"))\n",
    "         print_month_name(month)"
   ]
  },
  {
   "cell_type": "code",
   "execution_count": 66,
   "id": "63d40607",
   "metadata": {},
   "outputs": [
    {
     "name": "stdout",
     "output_type": "stream",
     "text": [
      "3\n"
     ]
    }
   ],
   "source": [
    "\n",
    "def mtn(x):\n",
    "    months = {\n",
    "        'jan': 1,\n",
    "        'feb': 2,\n",
    "        'mar': 3,\n",
    "        'apr':4,\n",
    "         'may':5,\n",
    "         'jun':6,\n",
    "         'jul':7,\n",
    "         'aug':8,\n",
    "         'sep':9,\n",
    "         'oct':10,\n",
    "         'nov':11,\n",
    "         'dec':12\n",
    "        }\n",
    "    a = x.strip()[:3].lower()\n",
    "    try:\n",
    "        ez = months[a]\n",
    "        print (ez)\n",
    "    except:\n",
    "        raise ValueError('Not a month')\n",
    "mtn('March')\n",
    " \n",
    "\n"
   ]
  },
  {
   "cell_type": "code",
   "execution_count": 32,
   "id": "1486734a",
   "metadata": {},
   "outputs": [
    {
     "name": "stdout",
     "output_type": "stream",
     "text": [
      "This is month of: january\n",
      "This is month of: february\n",
      "This is month of: march\n",
      "This is month of: april\n",
      "This is month of: may\n",
      "This is month of: june\n",
      "This is month of: july\n",
      "This is month of: august\n",
      "This is month of: september\n",
      "This is month of: octomber\n",
      "This is month of: november\n",
      "This is month of: december\n"
     ]
    }
   ],
   "source": [
    "lst=[\"january\",\"february\",\"march\",\"april\",\"may\",\"june\",\"july\",\"august\",\"september\",\"octomber\",\"november\",\"december\"]\n",
    "for p in lst:\n",
    "    print(\"This is month of:\",p)\n",
    "    "
   ]
  },
  {
   "cell_type": "code",
   "execution_count": 70,
   "id": "f2ca5328",
   "metadata": {},
   "outputs": [],
   "source": [
    "def monthname(name):\n",
    "    print(\"This is month of:\",name)\n",
    "    "
   ]
  },
  {
   "cell_type": "code",
   "execution_count": 4,
   "id": "c74ab3b3",
   "metadata": {},
   "outputs": [
    {
     "ename": "NameError",
     "evalue": "name 'monthname' is not defined",
     "output_type": "error",
     "traceback": [
      "\u001b[1;31m---------------------------------------------------------------------------\u001b[0m",
      "\u001b[1;31mNameError\u001b[0m                                 Traceback (most recent call last)",
      "Cell \u001b[1;32mIn[4], line 1\u001b[0m\n\u001b[1;32m----> 1\u001b[0m \u001b[43mmonthname\u001b[49m(name)\n",
      "\u001b[1;31mNameError\u001b[0m: name 'monthname' is not defined"
     ]
    }
   ],
   "source": [
    "monthname(name)"
   ]
  },
  {
   "cell_type": "code",
   "execution_count": 10,
   "id": "847cdc65",
   "metadata": {},
   "outputs": [
    {
     "name": "stdout",
     "output_type": "stream",
     "text": [
      "this is month of: apr\n",
      "this is month of: apr\n",
      "this is month of: apr\n"
     ]
    }
   ],
   "source": [
    "tup=[\"jan\",\"feb\",\"mar\"]\n",
    "for p in lst:\n",
    "    print(\"this is month of: apr\")"
   ]
  },
  {
   "cell_type": "code",
   "execution_count": 11,
   "id": "c292f9ae",
   "metadata": {},
   "outputs": [],
   "source": [
    "def monthname(name):\n",
    "    print(\"This is month of:\", name)"
   ]
  },
  {
   "cell_type": "code",
   "execution_count": 12,
   "id": "d43b58f4",
   "metadata": {},
   "outputs": [
    {
     "ename": "NameError",
     "evalue": "name 'name' is not defined",
     "output_type": "error",
     "traceback": [
      "\u001b[1;31m---------------------------------------------------------------------------\u001b[0m",
      "\u001b[1;31mNameError\u001b[0m                                 Traceback (most recent call last)",
      "Cell \u001b[1;32mIn[12], line 1\u001b[0m\n\u001b[1;32m----> 1\u001b[0m \u001b[43mname\u001b[49m\n",
      "\u001b[1;31mNameError\u001b[0m: name 'name' is not defined"
     ]
    }
   ],
   "source": []
  },
  {
   "cell_type": "code",
   "execution_count": null,
   "id": "0dfb5b25",
   "metadata": {},
   "outputs": [],
   "source": []
  },
  {
   "cell_type": "code",
   "execution_count": 36,
   "id": "abb50e47",
   "metadata": {},
   "outputs": [
    {
     "data": {
      "text/plain": [
       "'april'"
      ]
     },
     "execution_count": 36,
     "metadata": {},
     "output_type": "execute_result"
    }
   ],
   "source": [
    "lst[-9]"
   ]
  },
  {
   "cell_type": "code",
   "execution_count": 21,
   "id": "d5428d4c",
   "metadata": {},
   "outputs": [
    {
     "data": {
      "text/plain": [
       "270000"
      ]
     },
     "execution_count": 21,
     "metadata": {},
     "output_type": "execute_result"
    }
   ],
   "source": [
    "credit_card_offer(9000,0)"
   ]
  },
  {
   "cell_type": "code",
   "execution_count": 23,
   "id": "3aa106f6",
   "metadata": {},
   "outputs": [
    {
     "data": {
      "text/plain": [
       "750000"
      ]
     },
     "execution_count": 23,
     "metadata": {},
     "output_type": "execute_result"
    }
   ],
   "source": [
    "credit_card_offer(25000,1)"
   ]
  },
  {
   "cell_type": "code",
   "execution_count": 17,
   "id": "62a85b7c",
   "metadata": {},
   "outputs": [
    {
     "data": {
      "text/plain": [
       "1050000"
      ]
     },
     "execution_count": 17,
     "metadata": {},
     "output_type": "execute_result"
    }
   ],
   "source": [
    "credit_card_offer(35000,5)"
   ]
  },
  {
   "cell_type": "code",
   "execution_count": null,
   "id": "44057149",
   "metadata": {},
   "outputs": [],
   "source": []
  },
  {
   "cell_type": "code",
   "execution_count": 28,
   "id": "e0555704",
   "metadata": {},
   "outputs": [],
   "source": [
    "import pandas as pd\n",
    "import pandas\n"
   ]
  },
  {
   "cell_type": "code",
   "execution_count": 33,
   "id": "3660f3c8",
   "metadata": {},
   "outputs": [
    {
     "ename": "PermissionError",
     "evalue": "[Errno 13] Permission denied: 'D:\\\\Learning\\\\Python\\\\Python\\\\Assignments'",
     "output_type": "error",
     "traceback": [
      "\u001b[1;31m---------------------------------------------------------------------------\u001b[0m",
      "\u001b[1;31mPermissionError\u001b[0m                           Traceback (most recent call last)",
      "Cell \u001b[1;32mIn[33], line 1\u001b[0m\n\u001b[1;32m----> 1\u001b[0m \u001b[43mpd\u001b[49m\u001b[38;5;241;43m.\u001b[39;49m\u001b[43mread_csv\u001b[49m\u001b[43m(\u001b[49m\u001b[38;5;124;43mr\u001b[39;49m\u001b[38;5;124;43m\"\u001b[39;49m\u001b[38;5;124;43mD:\u001b[39;49m\u001b[38;5;124;43m\\\u001b[39;49m\u001b[38;5;124;43mLearning\u001b[39;49m\u001b[38;5;124;43m\\\u001b[39;49m\u001b[38;5;124;43mPython\u001b[39;49m\u001b[38;5;124;43m\\\u001b[39;49m\u001b[38;5;124;43mPython\u001b[39;49m\u001b[38;5;124;43m\\\u001b[39;49m\u001b[38;5;124;43mAssignments\u001b[39;49m\u001b[38;5;124;43m\"\u001b[39;49m\u001b[43m,\u001b[49m\u001b[43mheader\u001b[49m\u001b[38;5;241;43m=\u001b[39;49m\u001b[38;5;241;43m0\u001b[39;49m\u001b[43m)\u001b[49m\n",
      "File \u001b[1;32m~\\anaconda3\\lib\\site-packages\\pandas\\util\\_decorators.py:211\u001b[0m, in \u001b[0;36mdeprecate_kwarg.<locals>._deprecate_kwarg.<locals>.wrapper\u001b[1;34m(*args, **kwargs)\u001b[0m\n\u001b[0;32m    209\u001b[0m     \u001b[38;5;28;01melse\u001b[39;00m:\n\u001b[0;32m    210\u001b[0m         kwargs[new_arg_name] \u001b[38;5;241m=\u001b[39m new_arg_value\n\u001b[1;32m--> 211\u001b[0m \u001b[38;5;28;01mreturn\u001b[39;00m func(\u001b[38;5;241m*\u001b[39margs, \u001b[38;5;241m*\u001b[39m\u001b[38;5;241m*\u001b[39mkwargs)\n",
      "File \u001b[1;32m~\\anaconda3\\lib\\site-packages\\pandas\\util\\_decorators.py:331\u001b[0m, in \u001b[0;36mdeprecate_nonkeyword_arguments.<locals>.decorate.<locals>.wrapper\u001b[1;34m(*args, **kwargs)\u001b[0m\n\u001b[0;32m    325\u001b[0m \u001b[38;5;28;01mif\u001b[39;00m \u001b[38;5;28mlen\u001b[39m(args) \u001b[38;5;241m>\u001b[39m num_allow_args:\n\u001b[0;32m    326\u001b[0m     warnings\u001b[38;5;241m.\u001b[39mwarn(\n\u001b[0;32m    327\u001b[0m         msg\u001b[38;5;241m.\u001b[39mformat(arguments\u001b[38;5;241m=\u001b[39m_format_argument_list(allow_args)),\n\u001b[0;32m    328\u001b[0m         \u001b[38;5;167;01mFutureWarning\u001b[39;00m,\n\u001b[0;32m    329\u001b[0m         stacklevel\u001b[38;5;241m=\u001b[39mfind_stack_level(),\n\u001b[0;32m    330\u001b[0m     )\n\u001b[1;32m--> 331\u001b[0m \u001b[38;5;28;01mreturn\u001b[39;00m func(\u001b[38;5;241m*\u001b[39margs, \u001b[38;5;241m*\u001b[39m\u001b[38;5;241m*\u001b[39mkwargs)\n",
      "File \u001b[1;32m~\\anaconda3\\lib\\site-packages\\pandas\\io\\parsers\\readers.py:950\u001b[0m, in \u001b[0;36mread_csv\u001b[1;34m(filepath_or_buffer, sep, delimiter, header, names, index_col, usecols, squeeze, prefix, mangle_dupe_cols, dtype, engine, converters, true_values, false_values, skipinitialspace, skiprows, skipfooter, nrows, na_values, keep_default_na, na_filter, verbose, skip_blank_lines, parse_dates, infer_datetime_format, keep_date_col, date_parser, dayfirst, cache_dates, iterator, chunksize, compression, thousands, decimal, lineterminator, quotechar, quoting, doublequote, escapechar, comment, encoding, encoding_errors, dialect, error_bad_lines, warn_bad_lines, on_bad_lines, delim_whitespace, low_memory, memory_map, float_precision, storage_options)\u001b[0m\n\u001b[0;32m    935\u001b[0m kwds_defaults \u001b[38;5;241m=\u001b[39m _refine_defaults_read(\n\u001b[0;32m    936\u001b[0m     dialect,\n\u001b[0;32m    937\u001b[0m     delimiter,\n\u001b[1;32m   (...)\u001b[0m\n\u001b[0;32m    946\u001b[0m     defaults\u001b[38;5;241m=\u001b[39m{\u001b[38;5;124m\"\u001b[39m\u001b[38;5;124mdelimiter\u001b[39m\u001b[38;5;124m\"\u001b[39m: \u001b[38;5;124m\"\u001b[39m\u001b[38;5;124m,\u001b[39m\u001b[38;5;124m\"\u001b[39m},\n\u001b[0;32m    947\u001b[0m )\n\u001b[0;32m    948\u001b[0m kwds\u001b[38;5;241m.\u001b[39mupdate(kwds_defaults)\n\u001b[1;32m--> 950\u001b[0m \u001b[38;5;28;01mreturn\u001b[39;00m \u001b[43m_read\u001b[49m\u001b[43m(\u001b[49m\u001b[43mfilepath_or_buffer\u001b[49m\u001b[43m,\u001b[49m\u001b[43m \u001b[49m\u001b[43mkwds\u001b[49m\u001b[43m)\u001b[49m\n",
      "File \u001b[1;32m~\\anaconda3\\lib\\site-packages\\pandas\\io\\parsers\\readers.py:605\u001b[0m, in \u001b[0;36m_read\u001b[1;34m(filepath_or_buffer, kwds)\u001b[0m\n\u001b[0;32m    602\u001b[0m _validate_names(kwds\u001b[38;5;241m.\u001b[39mget(\u001b[38;5;124m\"\u001b[39m\u001b[38;5;124mnames\u001b[39m\u001b[38;5;124m\"\u001b[39m, \u001b[38;5;28;01mNone\u001b[39;00m))\n\u001b[0;32m    604\u001b[0m \u001b[38;5;66;03m# Create the parser.\u001b[39;00m\n\u001b[1;32m--> 605\u001b[0m parser \u001b[38;5;241m=\u001b[39m TextFileReader(filepath_or_buffer, \u001b[38;5;241m*\u001b[39m\u001b[38;5;241m*\u001b[39mkwds)\n\u001b[0;32m    607\u001b[0m \u001b[38;5;28;01mif\u001b[39;00m chunksize \u001b[38;5;129;01mor\u001b[39;00m iterator:\n\u001b[0;32m    608\u001b[0m     \u001b[38;5;28;01mreturn\u001b[39;00m parser\n",
      "File \u001b[1;32m~\\anaconda3\\lib\\site-packages\\pandas\\io\\parsers\\readers.py:1442\u001b[0m, in \u001b[0;36mTextFileReader.__init__\u001b[1;34m(self, f, engine, **kwds)\u001b[0m\n\u001b[0;32m   1439\u001b[0m     \u001b[38;5;28mself\u001b[39m\u001b[38;5;241m.\u001b[39moptions[\u001b[38;5;124m\"\u001b[39m\u001b[38;5;124mhas_index_names\u001b[39m\u001b[38;5;124m\"\u001b[39m] \u001b[38;5;241m=\u001b[39m kwds[\u001b[38;5;124m\"\u001b[39m\u001b[38;5;124mhas_index_names\u001b[39m\u001b[38;5;124m\"\u001b[39m]\n\u001b[0;32m   1441\u001b[0m \u001b[38;5;28mself\u001b[39m\u001b[38;5;241m.\u001b[39mhandles: IOHandles \u001b[38;5;241m|\u001b[39m \u001b[38;5;28;01mNone\u001b[39;00m \u001b[38;5;241m=\u001b[39m \u001b[38;5;28;01mNone\u001b[39;00m\n\u001b[1;32m-> 1442\u001b[0m \u001b[38;5;28mself\u001b[39m\u001b[38;5;241m.\u001b[39m_engine \u001b[38;5;241m=\u001b[39m \u001b[38;5;28;43mself\u001b[39;49m\u001b[38;5;241;43m.\u001b[39;49m\u001b[43m_make_engine\u001b[49m\u001b[43m(\u001b[49m\u001b[43mf\u001b[49m\u001b[43m,\u001b[49m\u001b[43m \u001b[49m\u001b[38;5;28;43mself\u001b[39;49m\u001b[38;5;241;43m.\u001b[39;49m\u001b[43mengine\u001b[49m\u001b[43m)\u001b[49m\n",
      "File \u001b[1;32m~\\anaconda3\\lib\\site-packages\\pandas\\io\\parsers\\readers.py:1735\u001b[0m, in \u001b[0;36mTextFileReader._make_engine\u001b[1;34m(self, f, engine)\u001b[0m\n\u001b[0;32m   1733\u001b[0m     \u001b[38;5;28;01mif\u001b[39;00m \u001b[38;5;124m\"\u001b[39m\u001b[38;5;124mb\u001b[39m\u001b[38;5;124m\"\u001b[39m \u001b[38;5;129;01mnot\u001b[39;00m \u001b[38;5;129;01min\u001b[39;00m mode:\n\u001b[0;32m   1734\u001b[0m         mode \u001b[38;5;241m+\u001b[39m\u001b[38;5;241m=\u001b[39m \u001b[38;5;124m\"\u001b[39m\u001b[38;5;124mb\u001b[39m\u001b[38;5;124m\"\u001b[39m\n\u001b[1;32m-> 1735\u001b[0m \u001b[38;5;28mself\u001b[39m\u001b[38;5;241m.\u001b[39mhandles \u001b[38;5;241m=\u001b[39m \u001b[43mget_handle\u001b[49m\u001b[43m(\u001b[49m\n\u001b[0;32m   1736\u001b[0m \u001b[43m    \u001b[49m\u001b[43mf\u001b[49m\u001b[43m,\u001b[49m\n\u001b[0;32m   1737\u001b[0m \u001b[43m    \u001b[49m\u001b[43mmode\u001b[49m\u001b[43m,\u001b[49m\n\u001b[0;32m   1738\u001b[0m \u001b[43m    \u001b[49m\u001b[43mencoding\u001b[49m\u001b[38;5;241;43m=\u001b[39;49m\u001b[38;5;28;43mself\u001b[39;49m\u001b[38;5;241;43m.\u001b[39;49m\u001b[43moptions\u001b[49m\u001b[38;5;241;43m.\u001b[39;49m\u001b[43mget\u001b[49m\u001b[43m(\u001b[49m\u001b[38;5;124;43m\"\u001b[39;49m\u001b[38;5;124;43mencoding\u001b[39;49m\u001b[38;5;124;43m\"\u001b[39;49m\u001b[43m,\u001b[49m\u001b[43m \u001b[49m\u001b[38;5;28;43;01mNone\u001b[39;49;00m\u001b[43m)\u001b[49m\u001b[43m,\u001b[49m\n\u001b[0;32m   1739\u001b[0m \u001b[43m    \u001b[49m\u001b[43mcompression\u001b[49m\u001b[38;5;241;43m=\u001b[39;49m\u001b[38;5;28;43mself\u001b[39;49m\u001b[38;5;241;43m.\u001b[39;49m\u001b[43moptions\u001b[49m\u001b[38;5;241;43m.\u001b[39;49m\u001b[43mget\u001b[49m\u001b[43m(\u001b[49m\u001b[38;5;124;43m\"\u001b[39;49m\u001b[38;5;124;43mcompression\u001b[39;49m\u001b[38;5;124;43m\"\u001b[39;49m\u001b[43m,\u001b[49m\u001b[43m \u001b[49m\u001b[38;5;28;43;01mNone\u001b[39;49;00m\u001b[43m)\u001b[49m\u001b[43m,\u001b[49m\n\u001b[0;32m   1740\u001b[0m \u001b[43m    \u001b[49m\u001b[43mmemory_map\u001b[49m\u001b[38;5;241;43m=\u001b[39;49m\u001b[38;5;28;43mself\u001b[39;49m\u001b[38;5;241;43m.\u001b[39;49m\u001b[43moptions\u001b[49m\u001b[38;5;241;43m.\u001b[39;49m\u001b[43mget\u001b[49m\u001b[43m(\u001b[49m\u001b[38;5;124;43m\"\u001b[39;49m\u001b[38;5;124;43mmemory_map\u001b[39;49m\u001b[38;5;124;43m\"\u001b[39;49m\u001b[43m,\u001b[49m\u001b[43m \u001b[49m\u001b[38;5;28;43;01mFalse\u001b[39;49;00m\u001b[43m)\u001b[49m\u001b[43m,\u001b[49m\n\u001b[0;32m   1741\u001b[0m \u001b[43m    \u001b[49m\u001b[43mis_text\u001b[49m\u001b[38;5;241;43m=\u001b[39;49m\u001b[43mis_text\u001b[49m\u001b[43m,\u001b[49m\n\u001b[0;32m   1742\u001b[0m \u001b[43m    \u001b[49m\u001b[43merrors\u001b[49m\u001b[38;5;241;43m=\u001b[39;49m\u001b[38;5;28;43mself\u001b[39;49m\u001b[38;5;241;43m.\u001b[39;49m\u001b[43moptions\u001b[49m\u001b[38;5;241;43m.\u001b[39;49m\u001b[43mget\u001b[49m\u001b[43m(\u001b[49m\u001b[38;5;124;43m\"\u001b[39;49m\u001b[38;5;124;43mencoding_errors\u001b[39;49m\u001b[38;5;124;43m\"\u001b[39;49m\u001b[43m,\u001b[49m\u001b[43m \u001b[49m\u001b[38;5;124;43m\"\u001b[39;49m\u001b[38;5;124;43mstrict\u001b[39;49m\u001b[38;5;124;43m\"\u001b[39;49m\u001b[43m)\u001b[49m\u001b[43m,\u001b[49m\n\u001b[0;32m   1743\u001b[0m \u001b[43m    \u001b[49m\u001b[43mstorage_options\u001b[49m\u001b[38;5;241;43m=\u001b[39;49m\u001b[38;5;28;43mself\u001b[39;49m\u001b[38;5;241;43m.\u001b[39;49m\u001b[43moptions\u001b[49m\u001b[38;5;241;43m.\u001b[39;49m\u001b[43mget\u001b[49m\u001b[43m(\u001b[49m\u001b[38;5;124;43m\"\u001b[39;49m\u001b[38;5;124;43mstorage_options\u001b[39;49m\u001b[38;5;124;43m\"\u001b[39;49m\u001b[43m,\u001b[49m\u001b[43m \u001b[49m\u001b[38;5;28;43;01mNone\u001b[39;49;00m\u001b[43m)\u001b[49m\u001b[43m,\u001b[49m\n\u001b[0;32m   1744\u001b[0m \u001b[43m\u001b[49m\u001b[43m)\u001b[49m\n\u001b[0;32m   1745\u001b[0m \u001b[38;5;28;01massert\u001b[39;00m \u001b[38;5;28mself\u001b[39m\u001b[38;5;241m.\u001b[39mhandles \u001b[38;5;129;01mis\u001b[39;00m \u001b[38;5;129;01mnot\u001b[39;00m \u001b[38;5;28;01mNone\u001b[39;00m\n\u001b[0;32m   1746\u001b[0m f \u001b[38;5;241m=\u001b[39m \u001b[38;5;28mself\u001b[39m\u001b[38;5;241m.\u001b[39mhandles\u001b[38;5;241m.\u001b[39mhandle\n",
      "File \u001b[1;32m~\\anaconda3\\lib\\site-packages\\pandas\\io\\common.py:856\u001b[0m, in \u001b[0;36mget_handle\u001b[1;34m(path_or_buf, mode, encoding, compression, memory_map, is_text, errors, storage_options)\u001b[0m\n\u001b[0;32m    851\u001b[0m \u001b[38;5;28;01melif\u001b[39;00m \u001b[38;5;28misinstance\u001b[39m(handle, \u001b[38;5;28mstr\u001b[39m):\n\u001b[0;32m    852\u001b[0m     \u001b[38;5;66;03m# Check whether the filename is to be opened in binary mode.\u001b[39;00m\n\u001b[0;32m    853\u001b[0m     \u001b[38;5;66;03m# Binary mode does not support 'encoding' and 'newline'.\u001b[39;00m\n\u001b[0;32m    854\u001b[0m     \u001b[38;5;28;01mif\u001b[39;00m ioargs\u001b[38;5;241m.\u001b[39mencoding \u001b[38;5;129;01mand\u001b[39;00m \u001b[38;5;124m\"\u001b[39m\u001b[38;5;124mb\u001b[39m\u001b[38;5;124m\"\u001b[39m \u001b[38;5;129;01mnot\u001b[39;00m \u001b[38;5;129;01min\u001b[39;00m ioargs\u001b[38;5;241m.\u001b[39mmode:\n\u001b[0;32m    855\u001b[0m         \u001b[38;5;66;03m# Encoding\u001b[39;00m\n\u001b[1;32m--> 856\u001b[0m         handle \u001b[38;5;241m=\u001b[39m \u001b[38;5;28;43mopen\u001b[39;49m\u001b[43m(\u001b[49m\n\u001b[0;32m    857\u001b[0m \u001b[43m            \u001b[49m\u001b[43mhandle\u001b[49m\u001b[43m,\u001b[49m\n\u001b[0;32m    858\u001b[0m \u001b[43m            \u001b[49m\u001b[43mioargs\u001b[49m\u001b[38;5;241;43m.\u001b[39;49m\u001b[43mmode\u001b[49m\u001b[43m,\u001b[49m\n\u001b[0;32m    859\u001b[0m \u001b[43m            \u001b[49m\u001b[43mencoding\u001b[49m\u001b[38;5;241;43m=\u001b[39;49m\u001b[43mioargs\u001b[49m\u001b[38;5;241;43m.\u001b[39;49m\u001b[43mencoding\u001b[49m\u001b[43m,\u001b[49m\n\u001b[0;32m    860\u001b[0m \u001b[43m            \u001b[49m\u001b[43merrors\u001b[49m\u001b[38;5;241;43m=\u001b[39;49m\u001b[43merrors\u001b[49m\u001b[43m,\u001b[49m\n\u001b[0;32m    861\u001b[0m \u001b[43m            \u001b[49m\u001b[43mnewline\u001b[49m\u001b[38;5;241;43m=\u001b[39;49m\u001b[38;5;124;43m\"\u001b[39;49m\u001b[38;5;124;43m\"\u001b[39;49m\u001b[43m,\u001b[49m\n\u001b[0;32m    862\u001b[0m \u001b[43m        \u001b[49m\u001b[43m)\u001b[49m\n\u001b[0;32m    863\u001b[0m     \u001b[38;5;28;01melse\u001b[39;00m:\n\u001b[0;32m    864\u001b[0m         \u001b[38;5;66;03m# Binary mode\u001b[39;00m\n\u001b[0;32m    865\u001b[0m         handle \u001b[38;5;241m=\u001b[39m \u001b[38;5;28mopen\u001b[39m(handle, ioargs\u001b[38;5;241m.\u001b[39mmode)\n",
      "\u001b[1;31mPermissionError\u001b[0m: [Errno 13] Permission denied: 'D:\\\\Learning\\\\Python\\\\Python\\\\Assignments'"
     ]
    }
   ],
   "source": [
    "pd.read_csv(r\"d:\\Learning\\Python\\Python\\Assignments\\class1_Assignments\",)"
   ]
  },
  {
   "cell_type": "code",
   "execution_count": 26,
   "id": "8cbb0c86",
   "metadata": {},
   "outputs": [
    {
     "ename": "FileNotFoundError",
     "evalue": "[Errno 2] No such file or directory: 'D:\\\\\\\\sri\\\\\\\\copy.xlsx'",
     "output_type": "error",
     "traceback": [
      "\u001b[1;31m---------------------------------------------------------------------------\u001b[0m",
      "\u001b[1;31mFileNotFoundError\u001b[0m                         Traceback (most recent call last)",
      "Cell \u001b[1;32mIn[26], line 1\u001b[0m\n\u001b[1;32m----> 1\u001b[0m df\u001b[38;5;241m=\u001b[39m\u001b[43mpd\u001b[49m\u001b[38;5;241;43m.\u001b[39;49m\u001b[43mread_excel\u001b[49m\u001b[43m(\u001b[49m\u001b[38;5;124;43mr\u001b[39;49m\u001b[38;5;124;43m\"\u001b[39;49m\u001b[38;5;124;43mD:\u001b[39;49m\u001b[38;5;130;43;01m\\\\\u001b[39;49;00m\u001b[38;5;124;43msri\u001b[39;49m\u001b[38;5;130;43;01m\\\\\u001b[39;49;00m\u001b[38;5;124;43mcopy.xlsx\u001b[39;49m\u001b[38;5;124;43m\"\u001b[39;49m\u001b[43m,\u001b[49m\u001b[38;5;124;43m\"\u001b[39;49m\u001b[38;5;124;43mR1\u001b[39;49m\u001b[38;5;124;43m\"\u001b[39;49m\u001b[43m)\u001b[49m\n",
      "File \u001b[1;32m~\\anaconda3\\lib\\site-packages\\pandas\\util\\_decorators.py:211\u001b[0m, in \u001b[0;36mdeprecate_kwarg.<locals>._deprecate_kwarg.<locals>.wrapper\u001b[1;34m(*args, **kwargs)\u001b[0m\n\u001b[0;32m    209\u001b[0m     \u001b[38;5;28;01melse\u001b[39;00m:\n\u001b[0;32m    210\u001b[0m         kwargs[new_arg_name] \u001b[38;5;241m=\u001b[39m new_arg_value\n\u001b[1;32m--> 211\u001b[0m \u001b[38;5;28;01mreturn\u001b[39;00m func(\u001b[38;5;241m*\u001b[39margs, \u001b[38;5;241m*\u001b[39m\u001b[38;5;241m*\u001b[39mkwargs)\n",
      "File \u001b[1;32m~\\anaconda3\\lib\\site-packages\\pandas\\util\\_decorators.py:331\u001b[0m, in \u001b[0;36mdeprecate_nonkeyword_arguments.<locals>.decorate.<locals>.wrapper\u001b[1;34m(*args, **kwargs)\u001b[0m\n\u001b[0;32m    325\u001b[0m \u001b[38;5;28;01mif\u001b[39;00m \u001b[38;5;28mlen\u001b[39m(args) \u001b[38;5;241m>\u001b[39m num_allow_args:\n\u001b[0;32m    326\u001b[0m     warnings\u001b[38;5;241m.\u001b[39mwarn(\n\u001b[0;32m    327\u001b[0m         msg\u001b[38;5;241m.\u001b[39mformat(arguments\u001b[38;5;241m=\u001b[39m_format_argument_list(allow_args)),\n\u001b[0;32m    328\u001b[0m         \u001b[38;5;167;01mFutureWarning\u001b[39;00m,\n\u001b[0;32m    329\u001b[0m         stacklevel\u001b[38;5;241m=\u001b[39mfind_stack_level(),\n\u001b[0;32m    330\u001b[0m     )\n\u001b[1;32m--> 331\u001b[0m \u001b[38;5;28;01mreturn\u001b[39;00m func(\u001b[38;5;241m*\u001b[39margs, \u001b[38;5;241m*\u001b[39m\u001b[38;5;241m*\u001b[39mkwargs)\n",
      "File \u001b[1;32m~\\anaconda3\\lib\\site-packages\\pandas\\io\\excel\\_base.py:482\u001b[0m, in \u001b[0;36mread_excel\u001b[1;34m(io, sheet_name, header, names, index_col, usecols, squeeze, dtype, engine, converters, true_values, false_values, skiprows, nrows, na_values, keep_default_na, na_filter, verbose, parse_dates, date_parser, thousands, decimal, comment, skipfooter, convert_float, mangle_dupe_cols, storage_options)\u001b[0m\n\u001b[0;32m    480\u001b[0m \u001b[38;5;28;01mif\u001b[39;00m \u001b[38;5;129;01mnot\u001b[39;00m \u001b[38;5;28misinstance\u001b[39m(io, ExcelFile):\n\u001b[0;32m    481\u001b[0m     should_close \u001b[38;5;241m=\u001b[39m \u001b[38;5;28;01mTrue\u001b[39;00m\n\u001b[1;32m--> 482\u001b[0m     io \u001b[38;5;241m=\u001b[39m \u001b[43mExcelFile\u001b[49m\u001b[43m(\u001b[49m\u001b[43mio\u001b[49m\u001b[43m,\u001b[49m\u001b[43m \u001b[49m\u001b[43mstorage_options\u001b[49m\u001b[38;5;241;43m=\u001b[39;49m\u001b[43mstorage_options\u001b[49m\u001b[43m,\u001b[49m\u001b[43m \u001b[49m\u001b[43mengine\u001b[49m\u001b[38;5;241;43m=\u001b[39;49m\u001b[43mengine\u001b[49m\u001b[43m)\u001b[49m\n\u001b[0;32m    483\u001b[0m \u001b[38;5;28;01melif\u001b[39;00m engine \u001b[38;5;129;01mand\u001b[39;00m engine \u001b[38;5;241m!=\u001b[39m io\u001b[38;5;241m.\u001b[39mengine:\n\u001b[0;32m    484\u001b[0m     \u001b[38;5;28;01mraise\u001b[39;00m \u001b[38;5;167;01mValueError\u001b[39;00m(\n\u001b[0;32m    485\u001b[0m         \u001b[38;5;124m\"\u001b[39m\u001b[38;5;124mEngine should not be specified when passing \u001b[39m\u001b[38;5;124m\"\u001b[39m\n\u001b[0;32m    486\u001b[0m         \u001b[38;5;124m\"\u001b[39m\u001b[38;5;124man ExcelFile - ExcelFile already has the engine set\u001b[39m\u001b[38;5;124m\"\u001b[39m\n\u001b[0;32m    487\u001b[0m     )\n",
      "File \u001b[1;32m~\\anaconda3\\lib\\site-packages\\pandas\\io\\excel\\_base.py:1652\u001b[0m, in \u001b[0;36mExcelFile.__init__\u001b[1;34m(self, path_or_buffer, engine, storage_options)\u001b[0m\n\u001b[0;32m   1650\u001b[0m     ext \u001b[38;5;241m=\u001b[39m \u001b[38;5;124m\"\u001b[39m\u001b[38;5;124mxls\u001b[39m\u001b[38;5;124m\"\u001b[39m\n\u001b[0;32m   1651\u001b[0m \u001b[38;5;28;01melse\u001b[39;00m:\n\u001b[1;32m-> 1652\u001b[0m     ext \u001b[38;5;241m=\u001b[39m \u001b[43minspect_excel_format\u001b[49m\u001b[43m(\u001b[49m\n\u001b[0;32m   1653\u001b[0m \u001b[43m        \u001b[49m\u001b[43mcontent_or_path\u001b[49m\u001b[38;5;241;43m=\u001b[39;49m\u001b[43mpath_or_buffer\u001b[49m\u001b[43m,\u001b[49m\u001b[43m \u001b[49m\u001b[43mstorage_options\u001b[49m\u001b[38;5;241;43m=\u001b[39;49m\u001b[43mstorage_options\u001b[49m\n\u001b[0;32m   1654\u001b[0m \u001b[43m    \u001b[49m\u001b[43m)\u001b[49m\n\u001b[0;32m   1655\u001b[0m     \u001b[38;5;28;01mif\u001b[39;00m ext \u001b[38;5;129;01mis\u001b[39;00m \u001b[38;5;28;01mNone\u001b[39;00m:\n\u001b[0;32m   1656\u001b[0m         \u001b[38;5;28;01mraise\u001b[39;00m \u001b[38;5;167;01mValueError\u001b[39;00m(\n\u001b[0;32m   1657\u001b[0m             \u001b[38;5;124m\"\u001b[39m\u001b[38;5;124mExcel file format cannot be determined, you must specify \u001b[39m\u001b[38;5;124m\"\u001b[39m\n\u001b[0;32m   1658\u001b[0m             \u001b[38;5;124m\"\u001b[39m\u001b[38;5;124man engine manually.\u001b[39m\u001b[38;5;124m\"\u001b[39m\n\u001b[0;32m   1659\u001b[0m         )\n",
      "File \u001b[1;32m~\\anaconda3\\lib\\site-packages\\pandas\\io\\excel\\_base.py:1525\u001b[0m, in \u001b[0;36minspect_excel_format\u001b[1;34m(content_or_path, storage_options)\u001b[0m\n\u001b[0;32m   1522\u001b[0m \u001b[38;5;28;01mif\u001b[39;00m \u001b[38;5;28misinstance\u001b[39m(content_or_path, \u001b[38;5;28mbytes\u001b[39m):\n\u001b[0;32m   1523\u001b[0m     content_or_path \u001b[38;5;241m=\u001b[39m BytesIO(content_or_path)\n\u001b[1;32m-> 1525\u001b[0m \u001b[38;5;28;01mwith\u001b[39;00m \u001b[43mget_handle\u001b[49m\u001b[43m(\u001b[49m\n\u001b[0;32m   1526\u001b[0m \u001b[43m    \u001b[49m\u001b[43mcontent_or_path\u001b[49m\u001b[43m,\u001b[49m\u001b[43m \u001b[49m\u001b[38;5;124;43m\"\u001b[39;49m\u001b[38;5;124;43mrb\u001b[39;49m\u001b[38;5;124;43m\"\u001b[39;49m\u001b[43m,\u001b[49m\u001b[43m \u001b[49m\u001b[43mstorage_options\u001b[49m\u001b[38;5;241;43m=\u001b[39;49m\u001b[43mstorage_options\u001b[49m\u001b[43m,\u001b[49m\u001b[43m \u001b[49m\u001b[43mis_text\u001b[49m\u001b[38;5;241;43m=\u001b[39;49m\u001b[38;5;28;43;01mFalse\u001b[39;49;00m\n\u001b[0;32m   1527\u001b[0m \u001b[43m\u001b[49m\u001b[43m)\u001b[49m \u001b[38;5;28;01mas\u001b[39;00m handle:\n\u001b[0;32m   1528\u001b[0m     stream \u001b[38;5;241m=\u001b[39m handle\u001b[38;5;241m.\u001b[39mhandle\n\u001b[0;32m   1529\u001b[0m     stream\u001b[38;5;241m.\u001b[39mseek(\u001b[38;5;241m0\u001b[39m)\n",
      "File \u001b[1;32m~\\anaconda3\\lib\\site-packages\\pandas\\io\\common.py:865\u001b[0m, in \u001b[0;36mget_handle\u001b[1;34m(path_or_buf, mode, encoding, compression, memory_map, is_text, errors, storage_options)\u001b[0m\n\u001b[0;32m    856\u001b[0m         handle \u001b[38;5;241m=\u001b[39m \u001b[38;5;28mopen\u001b[39m(\n\u001b[0;32m    857\u001b[0m             handle,\n\u001b[0;32m    858\u001b[0m             ioargs\u001b[38;5;241m.\u001b[39mmode,\n\u001b[1;32m   (...)\u001b[0m\n\u001b[0;32m    861\u001b[0m             newline\u001b[38;5;241m=\u001b[39m\u001b[38;5;124m\"\u001b[39m\u001b[38;5;124m\"\u001b[39m,\n\u001b[0;32m    862\u001b[0m         )\n\u001b[0;32m    863\u001b[0m     \u001b[38;5;28;01melse\u001b[39;00m:\n\u001b[0;32m    864\u001b[0m         \u001b[38;5;66;03m# Binary mode\u001b[39;00m\n\u001b[1;32m--> 865\u001b[0m         handle \u001b[38;5;241m=\u001b[39m \u001b[38;5;28;43mopen\u001b[39;49m\u001b[43m(\u001b[49m\u001b[43mhandle\u001b[49m\u001b[43m,\u001b[49m\u001b[43m \u001b[49m\u001b[43mioargs\u001b[49m\u001b[38;5;241;43m.\u001b[39;49m\u001b[43mmode\u001b[49m\u001b[43m)\u001b[49m\n\u001b[0;32m    866\u001b[0m     handles\u001b[38;5;241m.\u001b[39mappend(handle)\n\u001b[0;32m    868\u001b[0m \u001b[38;5;66;03m# Convert BytesIO or file objects passed with an encoding\u001b[39;00m\n",
      "\u001b[1;31mFileNotFoundError\u001b[0m: [Errno 2] No such file or directory: 'D:\\\\\\\\sri\\\\\\\\copy.xlsx'"
     ]
    }
   ],
   "source": [
    "df=pd.read_excel(r\"D:\\\\sri\\\\copy.xlsx\",\"R1\")"
   ]
  },
  {
   "cell_type": "code",
   "execution_count": 34,
   "id": "dae9ba7a",
   "metadata": {},
   "outputs": [],
   "source": [
    "lst=[1,2,3]"
   ]
  },
  {
   "cell_type": "code",
   "execution_count": 35,
   "id": "d43e62b8",
   "metadata": {},
   "outputs": [
    {
     "data": {
      "text/plain": [
       "[1, 2, 3]"
      ]
     },
     "execution_count": 35,
     "metadata": {},
     "output_type": "execute_result"
    }
   ],
   "source": [
    "lst"
   ]
  },
  {
   "cell_type": "code",
   "execution_count": 37,
   "id": "c7b6efbf",
   "metadata": {},
   "outputs": [],
   "source": [
    "tup=[\"a\",\"b\",\"c\"]"
   ]
  },
  {
   "cell_type": "code",
   "execution_count": 38,
   "id": "229ea275",
   "metadata": {},
   "outputs": [
    {
     "data": {
      "text/plain": [
       "['a', 'b', 'c']"
      ]
     },
     "execution_count": 38,
     "metadata": {},
     "output_type": "execute_result"
    }
   ],
   "source": [
    "tup"
   ]
  },
  {
   "cell_type": "code",
   "execution_count": 39,
   "id": "b7af3c4b",
   "metadata": {},
   "outputs": [],
   "source": [
    "set=[\"a\",\"v\",\"z\"]"
   ]
  },
  {
   "cell_type": "code",
   "execution_count": 40,
   "id": "6c7c8bf6",
   "metadata": {},
   "outputs": [
    {
     "data": {
      "text/plain": [
       "['a', 'v', 'z']"
      ]
     },
     "execution_count": 40,
     "metadata": {},
     "output_type": "execute_result"
    }
   ],
   "source": [
    "set"
   ]
  },
  {
   "cell_type": "code",
   "execution_count": 41,
   "id": "adf2998a",
   "metadata": {},
   "outputs": [],
   "source": [
    "dictt={\"key_word\":[\"a\",\"b\",\"c\"],\"key_value\":[1,2,3]}"
   ]
  },
  {
   "cell_type": "code",
   "execution_count": 42,
   "id": "fedae38d",
   "metadata": {},
   "outputs": [
    {
     "data": {
      "text/plain": [
       "{'key_word': ['a', 'b', 'c'], 'key_value': [1, 2, 3]}"
      ]
     },
     "execution_count": 42,
     "metadata": {},
     "output_type": "execute_result"
    }
   ],
   "source": [
    "dictt"
   ]
  },
  {
   "cell_type": "code",
   "execution_count": 46,
   "id": "958bb97d",
   "metadata": {},
   "outputs": [
    {
     "name": "stdout",
     "output_type": "stream",
     "text": [
      "i am lost\n"
     ]
    }
   ],
   "source": [
    "sale=3\n",
    "if sale>5:\n",
    "    print(\"i am profitable\")\n",
    "else : \n",
    "    print(\"i am lost\")"
   ]
  },
  {
   "cell_type": "code",
   "execution_count": 50,
   "id": "ea2b1d69",
   "metadata": {},
   "outputs": [
    {
     "name": "stdout",
     "output_type": "stream",
     "text": [
      "ab\n",
      "bc\n",
      "cd\n",
      "de\n"
     ]
    }
   ],
   "source": [
    "tup=[\"ab\",\"bc\",\"cd\",\"de\"]\n",
    "for p in tup:\n",
    "   print(p)"
   ]
  },
  {
   "cell_type": "code",
   "execution_count": 67,
   "id": "5892b9ef",
   "metadata": {},
   "outputs": [
    {
     "name": "stdout",
     "output_type": "stream",
     "text": [
      "0\n",
      "1\n",
      "2\n",
      "3\n",
      "4\n",
      "5\n",
      "6\n",
      "7\n",
      "8\n",
      "9\n",
      "10\n",
      "11\n",
      "12\n",
      "13\n",
      "14\n",
      "15\n",
      "16\n"
     ]
    }
   ],
   "source": [
    "for p in range(17):\n",
    "    print(p)"
   ]
  },
  {
   "cell_type": "code",
   "execution_count": 70,
   "id": "d619ffde",
   "metadata": {},
   "outputs": [
    {
     "name": "stdout",
     "output_type": "stream",
     "text": [
      "0\n",
      "7\n",
      "14\n",
      "21\n",
      "28\n",
      "35\n",
      "42\n",
      "49\n",
      "56\n",
      "63\n"
     ]
    }
   ],
   "source": [
    "for p in range(0,70,7):\n",
    "    print(p)"
   ]
  },
  {
   "cell_type": "code",
   "execution_count": null,
   "id": "15b0f072",
   "metadata": {},
   "outputs": [],
   "source": [
    "x=100"
   ]
  },
  {
   "cell_type": "code",
   "execution_count": null,
   "id": "7b824a2e",
   "metadata": {},
   "outputs": [],
   "source": []
  },
  {
   "cell_type": "code",
   "execution_count": null,
   "id": "26b35368",
   "metadata": {},
   "outputs": [],
   "source": []
  },
  {
   "cell_type": "code",
   "execution_count": null,
   "id": "460ed7f3",
   "metadata": {},
   "outputs": [],
   "source": []
  }
 ],
 "metadata": {
  "kernelspec": {
   "display_name": "Python 3 (ipykernel)",
   "language": "python",
   "name": "python3"
  },
  "language_info": {
   "codemirror_mode": {
    "name": "ipython",
    "version": 3
   },
   "file_extension": ".py",
   "mimetype": "text/x-python",
   "name": "python",
   "nbconvert_exporter": "python",
   "pygments_lexer": "ipython3",
   "version": "3.10.9"
  }
 },
 "nbformat": 4,
 "nbformat_minor": 5
}
