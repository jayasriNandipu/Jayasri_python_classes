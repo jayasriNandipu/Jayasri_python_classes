{
 "cells": [
  {
   "cell_type": "code",
   "execution_count": 1,
   "id": "afe92aa3",
   "metadata": {},
   "outputs": [
    {
     "data": {
      "text/html": [
       "<div>\n",
       "<style scoped>\n",
       "    .dataframe tbody tr th:only-of-type {\n",
       "        vertical-align: middle;\n",
       "    }\n",
       "\n",
       "    .dataframe tbody tr th {\n",
       "        vertical-align: top;\n",
       "    }\n",
       "\n",
       "    .dataframe thead th {\n",
       "        text-align: right;\n",
       "    }\n",
       "</style>\n",
       "<table border=\"1\" class=\"dataframe\">\n",
       "  <thead>\n",
       "    <tr style=\"text-align: right;\">\n",
       "      <th></th>\n",
       "      <th>patientid</th>\n",
       "      <th>membershid</th>\n",
       "      <th>groupid</th>\n",
       "      <th>person_nbr</th>\n",
       "    </tr>\n",
       "  </thead>\n",
       "  <tbody>\n",
       "    <tr>\n",
       "      <th>0</th>\n",
       "      <td>10001</td>\n",
       "      <td>123456891</td>\n",
       "      <td>Upperbody</td>\n",
       "      <td>2386.041022</td>\n",
       "    </tr>\n",
       "    <tr>\n",
       "      <th>1</th>\n",
       "      <td>10002</td>\n",
       "      <td>123456891</td>\n",
       "      <td>Upperbody</td>\n",
       "      <td>7219.568003</td>\n",
       "    </tr>\n",
       "    <tr>\n",
       "      <th>2</th>\n",
       "      <td>10003</td>\n",
       "      <td>123456891</td>\n",
       "      <td>Upperbody</td>\n",
       "      <td>1110.167181</td>\n",
       "    </tr>\n",
       "    <tr>\n",
       "      <th>3</th>\n",
       "      <td>10004</td>\n",
       "      <td>123456891</td>\n",
       "      <td>Upperbody</td>\n",
       "      <td>4522.639998</td>\n",
       "    </tr>\n",
       "    <tr>\n",
       "      <th>4</th>\n",
       "      <td>10005</td>\n",
       "      <td>123456891</td>\n",
       "      <td>Upperbody</td>\n",
       "      <td>7305.192980</td>\n",
       "    </tr>\n",
       "    <tr>\n",
       "      <th>...</th>\n",
       "      <td>...</td>\n",
       "      <td>...</td>\n",
       "      <td>...</td>\n",
       "      <td>...</td>\n",
       "    </tr>\n",
       "    <tr>\n",
       "      <th>10114</th>\n",
       "      <td>20115</td>\n",
       "      <td>123456896</td>\n",
       "      <td>Nerves</td>\n",
       "      <td>2985.574310</td>\n",
       "    </tr>\n",
       "    <tr>\n",
       "      <th>10115</th>\n",
       "      <td>20116</td>\n",
       "      <td>123456896</td>\n",
       "      <td>Nerves</td>\n",
       "      <td>9698.888692</td>\n",
       "    </tr>\n",
       "    <tr>\n",
       "      <th>10116</th>\n",
       "      <td>20117</td>\n",
       "      <td>123456896</td>\n",
       "      <td>Nerves</td>\n",
       "      <td>3305.456074</td>\n",
       "    </tr>\n",
       "    <tr>\n",
       "      <th>10117</th>\n",
       "      <td>20118</td>\n",
       "      <td>123456896</td>\n",
       "      <td>Nerves</td>\n",
       "      <td>9179.853623</td>\n",
       "    </tr>\n",
       "    <tr>\n",
       "      <th>10118</th>\n",
       "      <td>20119</td>\n",
       "      <td>123456896</td>\n",
       "      <td>Nerves</td>\n",
       "      <td>2048.429434</td>\n",
       "    </tr>\n",
       "  </tbody>\n",
       "</table>\n",
       "<p>10119 rows × 4 columns</p>\n",
       "</div>"
      ],
      "text/plain": [
       "       patientid  membershid    groupid   person_nbr\n",
       "0          10001   123456891  Upperbody  2386.041022\n",
       "1          10002   123456891  Upperbody  7219.568003\n",
       "2          10003   123456891  Upperbody  1110.167181\n",
       "3          10004   123456891  Upperbody  4522.639998\n",
       "4          10005   123456891  Upperbody  7305.192980\n",
       "...          ...         ...        ...          ...\n",
       "10114      20115   123456896     Nerves  2985.574310\n",
       "10115      20116   123456896     Nerves  9698.888692\n",
       "10116      20117   123456896     Nerves  3305.456074\n",
       "10117      20118   123456896     Nerves  9179.853623\n",
       "10118      20119   123456896     Nerves  2048.429434\n",
       "\n",
       "[10119 rows x 4 columns]"
      ]
     },
     "execution_count": 1,
     "metadata": {},
     "output_type": "execute_result"
    }
   ],
   "source": [
    "import pandas as pd\n",
    "df_b_p=pd.read_excel(r\"C:\\jaya sri\\Jayasri\\sql task\\bbb apatients.xlsx\")\n",
    "df_b_p"
   ]
  },
  {
   "cell_type": "code",
   "execution_count": 2,
   "id": "7c196e03",
   "metadata": {},
   "outputs": [
    {
     "data": {
      "text/plain": [
       "Index(['patientid', 'membershid', 'groupid', 'person_nbr'], dtype='object')"
      ]
     },
     "execution_count": 2,
     "metadata": {},
     "output_type": "execute_result"
    }
   ],
   "source": [
    "df_b_p.columns"
   ]
  },
  {
   "cell_type": "code",
   "execution_count": 4,
   "id": "f44bf841",
   "metadata": {},
   "outputs": [
    {
     "data": {
      "text/plain": [
       "(10119, 4)"
      ]
     },
     "execution_count": 4,
     "metadata": {},
     "output_type": "execute_result"
    }
   ],
   "source": [
    "df_b_p.shape"
   ]
  },
  {
   "cell_type": "code",
   "execution_count": 5,
   "id": "06423b88",
   "metadata": {},
   "outputs": [
    {
     "data": {
      "text/html": [
       "<div>\n",
       "<style scoped>\n",
       "    .dataframe tbody tr th:only-of-type {\n",
       "        vertical-align: middle;\n",
       "    }\n",
       "\n",
       "    .dataframe tbody tr th {\n",
       "        vertical-align: top;\n",
       "    }\n",
       "\n",
       "    .dataframe thead th {\n",
       "        text-align: right;\n",
       "    }\n",
       "</style>\n",
       "<table border=\"1\" class=\"dataframe\">\n",
       "  <thead>\n",
       "    <tr style=\"text-align: right;\">\n",
       "      <th></th>\n",
       "      <th>patientid</th>\n",
       "      <th>membershid</th>\n",
       "      <th>groupid</th>\n",
       "      <th>person_nbr</th>\n",
       "      <th>Primary_Phone_NBR</th>\n",
       "      <th>Phone2_NBR</th>\n",
       "      <th>Phone3_NBR</th>\n",
       "    </tr>\n",
       "  </thead>\n",
       "  <tbody>\n",
       "    <tr>\n",
       "      <th>0</th>\n",
       "      <td>10001</td>\n",
       "      <td>123456891</td>\n",
       "      <td>Upperbody</td>\n",
       "      <td>2.386041e+03</td>\n",
       "      <td>C</td>\n",
       "      <td>O</td>\n",
       "      <td>C</td>\n",
       "    </tr>\n",
       "    <tr>\n",
       "      <th>1</th>\n",
       "      <td>10002</td>\n",
       "      <td>123456891</td>\n",
       "      <td>Upperbody</td>\n",
       "      <td>7.219568e+03</td>\n",
       "      <td>C</td>\n",
       "      <td>O</td>\n",
       "      <td>C</td>\n",
       "    </tr>\n",
       "    <tr>\n",
       "      <th>2</th>\n",
       "      <td>10003</td>\n",
       "      <td>123456891</td>\n",
       "      <td>Upperbody</td>\n",
       "      <td>1.110167e+03</td>\n",
       "      <td>C</td>\n",
       "      <td>O</td>\n",
       "      <td>C</td>\n",
       "    </tr>\n",
       "    <tr>\n",
       "      <th>3</th>\n",
       "      <td>10004</td>\n",
       "      <td>123456891</td>\n",
       "      <td>Upperbody</td>\n",
       "      <td>4.522640e+03</td>\n",
       "      <td>C</td>\n",
       "      <td>O</td>\n",
       "      <td>C</td>\n",
       "    </tr>\n",
       "    <tr>\n",
       "      <th>4</th>\n",
       "      <td>10005</td>\n",
       "      <td>123456891</td>\n",
       "      <td>Upperbody</td>\n",
       "      <td>7.305193e+03</td>\n",
       "      <td>C</td>\n",
       "      <td>O</td>\n",
       "      <td>C</td>\n",
       "    </tr>\n",
       "    <tr>\n",
       "      <th>...</th>\n",
       "      <td>...</td>\n",
       "      <td>...</td>\n",
       "      <td>...</td>\n",
       "      <td>...</td>\n",
       "      <td>...</td>\n",
       "      <td>...</td>\n",
       "      <td>...</td>\n",
       "    </tr>\n",
       "    <tr>\n",
       "      <th>15989</th>\n",
       "      <td>25990</td>\n",
       "      <td>28862324</td>\n",
       "      <td>EarD</td>\n",
       "      <td>5.932945e+06</td>\n",
       "      <td>C</td>\n",
       "      <td>H</td>\n",
       "      <td>C</td>\n",
       "    </tr>\n",
       "    <tr>\n",
       "      <th>15990</th>\n",
       "      <td>25991</td>\n",
       "      <td>46570001</td>\n",
       "      <td>EarD</td>\n",
       "      <td>1.028028e+07</td>\n",
       "      <td>C</td>\n",
       "      <td>H</td>\n",
       "      <td>C</td>\n",
       "    </tr>\n",
       "    <tr>\n",
       "      <th>15991</th>\n",
       "      <td>25992</td>\n",
       "      <td>26399463</td>\n",
       "      <td>EarD</td>\n",
       "      <td>2.075188e+06</td>\n",
       "      <td>C</td>\n",
       "      <td>H</td>\n",
       "      <td>C</td>\n",
       "    </tr>\n",
       "    <tr>\n",
       "      <th>15992</th>\n",
       "      <td>25993</td>\n",
       "      <td>63512490</td>\n",
       "      <td>EarD</td>\n",
       "      <td>1.078458e+07</td>\n",
       "      <td>C</td>\n",
       "      <td>H</td>\n",
       "      <td>C</td>\n",
       "    </tr>\n",
       "    <tr>\n",
       "      <th>15993</th>\n",
       "      <td>25994</td>\n",
       "      <td>30518036</td>\n",
       "      <td>EarD</td>\n",
       "      <td>8.825896e+06</td>\n",
       "      <td>C</td>\n",
       "      <td>H</td>\n",
       "      <td>C</td>\n",
       "    </tr>\n",
       "  </tbody>\n",
       "</table>\n",
       "<p>15994 rows × 7 columns</p>\n",
       "</div>"
      ],
      "text/plain": [
       "       patientid  membershid    groupid    person_nbr Primary_Phone_NBR  \\\n",
       "0          10001   123456891  Upperbody  2.386041e+03                 C   \n",
       "1          10002   123456891  Upperbody  7.219568e+03                 C   \n",
       "2          10003   123456891  Upperbody  1.110167e+03                 C   \n",
       "3          10004   123456891  Upperbody  4.522640e+03                 C   \n",
       "4          10005   123456891  Upperbody  7.305193e+03                 C   \n",
       "...          ...         ...        ...           ...               ...   \n",
       "15989      25990    28862324       EarD  5.932945e+06                 C   \n",
       "15990      25991    46570001       EarD  1.028028e+07                 C   \n",
       "15991      25992    26399463       EarD  2.075188e+06                 C   \n",
       "15992      25993    63512490       EarD  1.078458e+07                 C   \n",
       "15993      25994    30518036       EarD  8.825896e+06                 C   \n",
       "\n",
       "      Phone2_NBR Phone3_NBR  \n",
       "0              O          C  \n",
       "1              O          C  \n",
       "2              O          C  \n",
       "3              O          C  \n",
       "4              O          C  \n",
       "...          ...        ...  \n",
       "15989          H          C  \n",
       "15990          H          C  \n",
       "15991          H          C  \n",
       "15992          H          C  \n",
       "15993          H          C  \n",
       "\n",
       "[15994 rows x 7 columns]"
      ]
     },
     "execution_count": 5,
     "metadata": {},
     "output_type": "execute_result"
    }
   ],
   "source": [
    "df_b_a=pd.read_excel(r\"C:\\jaya sri\\Jayasri\\sql task\\bbb address.xlsx\")\n",
    "df_b_a"
   ]
  },
  {
   "cell_type": "code",
   "execution_count": 6,
   "id": "35113f63",
   "metadata": {},
   "outputs": [
    {
     "data": {
      "text/plain": [
       "Index(['patientid', 'membershid', 'groupid', 'person_nbr', 'Primary_Phone_NBR',\n",
       "       'Phone2_NBR', 'Phone3_NBR'],\n",
       "      dtype='object')"
      ]
     },
     "execution_count": 6,
     "metadata": {},
     "output_type": "execute_result"
    }
   ],
   "source": [
    "df_b_a.columns"
   ]
  },
  {
   "cell_type": "code",
   "execution_count": 7,
   "id": "6ac45206",
   "metadata": {},
   "outputs": [
    {
     "data": {
      "text/plain": [
       "(15994, 7)"
      ]
     },
     "execution_count": 7,
     "metadata": {},
     "output_type": "execute_result"
    }
   ],
   "source": [
    "df_b_a.shape"
   ]
  },
  {
   "cell_type": "code",
   "execution_count": 8,
   "id": "f51370b8",
   "metadata": {},
   "outputs": [
    {
     "data": {
      "text/html": [
       "<div>\n",
       "<style scoped>\n",
       "    .dataframe tbody tr th:only-of-type {\n",
       "        vertical-align: middle;\n",
       "    }\n",
       "\n",
       "    .dataframe tbody tr th {\n",
       "        vertical-align: top;\n",
       "    }\n",
       "\n",
       "    .dataframe thead th {\n",
       "        text-align: right;\n",
       "    }\n",
       "</style>\n",
       "<table border=\"1\" class=\"dataframe\">\n",
       "  <thead>\n",
       "    <tr style=\"text-align: right;\">\n",
       "      <th></th>\n",
       "      <th>patientid</th>\n",
       "      <th>membershid_x</th>\n",
       "      <th>groupid_x</th>\n",
       "      <th>person_nbr_x</th>\n",
       "      <th>membershid_y</th>\n",
       "      <th>groupid_y</th>\n",
       "      <th>person_nbr_y</th>\n",
       "      <th>Primary_Phone_NBR</th>\n",
       "      <th>Phone2_NBR</th>\n",
       "      <th>Phone3_NBR</th>\n",
       "    </tr>\n",
       "  </thead>\n",
       "  <tbody>\n",
       "    <tr>\n",
       "      <th>0</th>\n",
       "      <td>10001</td>\n",
       "      <td>123456891</td>\n",
       "      <td>Upperbody</td>\n",
       "      <td>2386.041022</td>\n",
       "      <td>123456891</td>\n",
       "      <td>Upperbody</td>\n",
       "      <td>2386.041022</td>\n",
       "      <td>C</td>\n",
       "      <td>O</td>\n",
       "      <td>C</td>\n",
       "    </tr>\n",
       "    <tr>\n",
       "      <th>1</th>\n",
       "      <td>10002</td>\n",
       "      <td>123456891</td>\n",
       "      <td>Upperbody</td>\n",
       "      <td>7219.568003</td>\n",
       "      <td>123456891</td>\n",
       "      <td>Upperbody</td>\n",
       "      <td>7219.568003</td>\n",
       "      <td>C</td>\n",
       "      <td>O</td>\n",
       "      <td>C</td>\n",
       "    </tr>\n",
       "    <tr>\n",
       "      <th>2</th>\n",
       "      <td>10003</td>\n",
       "      <td>123456891</td>\n",
       "      <td>Upperbody</td>\n",
       "      <td>1110.167181</td>\n",
       "      <td>123456891</td>\n",
       "      <td>Upperbody</td>\n",
       "      <td>1110.167181</td>\n",
       "      <td>C</td>\n",
       "      <td>O</td>\n",
       "      <td>C</td>\n",
       "    </tr>\n",
       "    <tr>\n",
       "      <th>3</th>\n",
       "      <td>10004</td>\n",
       "      <td>123456891</td>\n",
       "      <td>Upperbody</td>\n",
       "      <td>4522.639998</td>\n",
       "      <td>123456891</td>\n",
       "      <td>Upperbody</td>\n",
       "      <td>4522.639998</td>\n",
       "      <td>C</td>\n",
       "      <td>O</td>\n",
       "      <td>C</td>\n",
       "    </tr>\n",
       "    <tr>\n",
       "      <th>4</th>\n",
       "      <td>10005</td>\n",
       "      <td>123456891</td>\n",
       "      <td>Upperbody</td>\n",
       "      <td>7305.192980</td>\n",
       "      <td>123456891</td>\n",
       "      <td>Upperbody</td>\n",
       "      <td>7305.192980</td>\n",
       "      <td>C</td>\n",
       "      <td>O</td>\n",
       "      <td>C</td>\n",
       "    </tr>\n",
       "    <tr>\n",
       "      <th>...</th>\n",
       "      <td>...</td>\n",
       "      <td>...</td>\n",
       "      <td>...</td>\n",
       "      <td>...</td>\n",
       "      <td>...</td>\n",
       "      <td>...</td>\n",
       "      <td>...</td>\n",
       "      <td>...</td>\n",
       "      <td>...</td>\n",
       "      <td>...</td>\n",
       "    </tr>\n",
       "    <tr>\n",
       "      <th>10114</th>\n",
       "      <td>20115</td>\n",
       "      <td>123456896</td>\n",
       "      <td>Nerves</td>\n",
       "      <td>2985.574310</td>\n",
       "      <td>123456896</td>\n",
       "      <td>Nerves</td>\n",
       "      <td>2985.574310</td>\n",
       "      <td>C</td>\n",
       "      <td>H</td>\n",
       "      <td>C</td>\n",
       "    </tr>\n",
       "    <tr>\n",
       "      <th>10115</th>\n",
       "      <td>20116</td>\n",
       "      <td>123456896</td>\n",
       "      <td>Nerves</td>\n",
       "      <td>9698.888692</td>\n",
       "      <td>123456896</td>\n",
       "      <td>Nerves</td>\n",
       "      <td>9698.888692</td>\n",
       "      <td>C</td>\n",
       "      <td>H</td>\n",
       "      <td>C</td>\n",
       "    </tr>\n",
       "    <tr>\n",
       "      <th>10116</th>\n",
       "      <td>20117</td>\n",
       "      <td>123456896</td>\n",
       "      <td>Nerves</td>\n",
       "      <td>3305.456074</td>\n",
       "      <td>123456896</td>\n",
       "      <td>Nerves</td>\n",
       "      <td>3305.456074</td>\n",
       "      <td>C</td>\n",
       "      <td>H</td>\n",
       "      <td>C</td>\n",
       "    </tr>\n",
       "    <tr>\n",
       "      <th>10117</th>\n",
       "      <td>20118</td>\n",
       "      <td>123456896</td>\n",
       "      <td>Nerves</td>\n",
       "      <td>9179.853623</td>\n",
       "      <td>123456896</td>\n",
       "      <td>Nerves</td>\n",
       "      <td>9179.853623</td>\n",
       "      <td>C</td>\n",
       "      <td>H</td>\n",
       "      <td>C</td>\n",
       "    </tr>\n",
       "    <tr>\n",
       "      <th>10118</th>\n",
       "      <td>20119</td>\n",
       "      <td>123456896</td>\n",
       "      <td>Nerves</td>\n",
       "      <td>2048.429434</td>\n",
       "      <td>123456896</td>\n",
       "      <td>Nerves</td>\n",
       "      <td>2048.429434</td>\n",
       "      <td>C</td>\n",
       "      <td>H</td>\n",
       "      <td>C</td>\n",
       "    </tr>\n",
       "  </tbody>\n",
       "</table>\n",
       "<p>10119 rows × 10 columns</p>\n",
       "</div>"
      ],
      "text/plain": [
       "       patientid  membershid_x  groupid_x  person_nbr_x  membershid_y  \\\n",
       "0          10001     123456891  Upperbody   2386.041022     123456891   \n",
       "1          10002     123456891  Upperbody   7219.568003     123456891   \n",
       "2          10003     123456891  Upperbody   1110.167181     123456891   \n",
       "3          10004     123456891  Upperbody   4522.639998     123456891   \n",
       "4          10005     123456891  Upperbody   7305.192980     123456891   \n",
       "...          ...           ...        ...           ...           ...   \n",
       "10114      20115     123456896     Nerves   2985.574310     123456896   \n",
       "10115      20116     123456896     Nerves   9698.888692     123456896   \n",
       "10116      20117     123456896     Nerves   3305.456074     123456896   \n",
       "10117      20118     123456896     Nerves   9179.853623     123456896   \n",
       "10118      20119     123456896     Nerves   2048.429434     123456896   \n",
       "\n",
       "       groupid_y  person_nbr_y Primary_Phone_NBR Phone2_NBR Phone3_NBR  \n",
       "0      Upperbody   2386.041022                 C          O          C  \n",
       "1      Upperbody   7219.568003                 C          O          C  \n",
       "2      Upperbody   1110.167181                 C          O          C  \n",
       "3      Upperbody   4522.639998                 C          O          C  \n",
       "4      Upperbody   7305.192980                 C          O          C  \n",
       "...          ...           ...               ...        ...        ...  \n",
       "10114     Nerves   2985.574310                 C          H          C  \n",
       "10115     Nerves   9698.888692                 C          H          C  \n",
       "10116     Nerves   3305.456074                 C          H          C  \n",
       "10117     Nerves   9179.853623                 C          H          C  \n",
       "10118     Nerves   2048.429434                 C          H          C  \n",
       "\n",
       "[10119 rows x 10 columns]"
      ]
     },
     "execution_count": 8,
     "metadata": {},
     "output_type": "execute_result"
    }
   ],
   "source": [
    "bbb=df_b_p.merge(df_b_a,how=\"left\",on=\"patientid\")\n",
    "bbb"
   ]
  },
  {
   "cell_type": "code",
   "execution_count": 9,
   "id": "c716437c",
   "metadata": {},
   "outputs": [
    {
     "data": {
      "text/plain": [
       "(10119, 10)"
      ]
     },
     "execution_count": 9,
     "metadata": {},
     "output_type": "execute_result"
    }
   ],
   "source": [
    "bbb.shape"
   ]
  },
  {
   "cell_type": "code",
   "execution_count": 11,
   "id": "75fdcb98",
   "metadata": {},
   "outputs": [],
   "source": [
    "import numpy as np"
   ]
  },
  {
   "cell_type": "code",
   "execution_count": 12,
   "id": "1dd44a95",
   "metadata": {},
   "outputs": [],
   "source": [
    "bbb[\"patientid\"]=np.where(bbb[\"Primary_Phone_NBR\"]==\"C\",\"P\",bbb[\"Primary_Phone_NBR\"])"
   ]
  },
  {
   "cell_type": "code",
   "execution_count": 13,
   "id": "13ee5a17",
   "metadata": {},
   "outputs": [
    {
     "data": {
      "text/plain": [
       "0        P\n",
       "1        P\n",
       "2        P\n",
       "3        P\n",
       "4        P\n",
       "        ..\n",
       "10114    P\n",
       "10115    P\n",
       "10116    P\n",
       "10117    P\n",
       "10118    P\n",
       "Name: patientid, Length: 10119, dtype: object"
      ]
     },
     "execution_count": 13,
     "metadata": {},
     "output_type": "execute_result"
    }
   ],
   "source": [
    "bbb[\"patientid\"]"
   ]
  },
  {
   "cell_type": "code",
   "execution_count": 14,
   "id": "a69e7f8f",
   "metadata": {},
   "outputs": [
    {
     "data": {
      "text/plain": [
       "606    P\n",
       "607    P\n",
       "608    P\n",
       "609    P\n",
       "610    P\n",
       "611    P\n",
       "612    P\n",
       "613    P\n",
       "614    O\n",
       "615    O\n",
       "616    O\n",
       "617    O\n",
       "618    O\n",
       "619    O\n",
       "620    O\n",
       "621    O\n",
       "622    O\n",
       "623    O\n",
       "624    O\n",
       "Name: patientid, dtype: object"
      ]
     },
     "execution_count": 14,
     "metadata": {},
     "output_type": "execute_result"
    }
   ],
   "source": [
    "bbb[\"patientid\"][606:625]"
   ]
  },
  {
   "cell_type": "code",
   "execution_count": 15,
   "id": "016c8220",
   "metadata": {},
   "outputs": [
    {
     "data": {
      "text/plain": [
       "2725    O\n",
       "2726    O\n",
       "2727    O\n",
       "2728    H\n",
       "2729    H\n",
       "2730    H\n",
       "2731    H\n",
       "2732    H\n",
       "2733    H\n",
       "2734    H\n",
       "2735    H\n",
       "2736    H\n",
       "2737    H\n",
       "2738    H\n",
       "2739    H\n",
       "2740    H\n",
       "2741    H\n",
       "2742    H\n",
       "2743    H\n",
       "2744    H\n",
       "Name: patientid, dtype: object"
      ]
     },
     "execution_count": 15,
     "metadata": {},
     "output_type": "execute_result"
    }
   ],
   "source": [
    "bbb[\"patientid\"][2725:2745]"
   ]
  },
  {
   "cell_type": "code",
   "execution_count": 16,
   "id": "6347d8f0",
   "metadata": {},
   "outputs": [],
   "source": [
    "bbb[\"patientid\"]=np.where(bbb[\"Primary_Phone_NBR\"]!=\"C\",\"S\",bbb[\"Primary_Phone_NBR\"])"
   ]
  },
  {
   "cell_type": "code",
   "execution_count": 17,
   "id": "7ae79080",
   "metadata": {},
   "outputs": [
    {
     "data": {
      "text/plain": [
       "0        C\n",
       "1        C\n",
       "2        C\n",
       "3        C\n",
       "4        C\n",
       "        ..\n",
       "10114    C\n",
       "10115    C\n",
       "10116    C\n",
       "10117    C\n",
       "10118    C\n",
       "Name: patientid, Length: 10119, dtype: object"
      ]
     },
     "execution_count": 17,
     "metadata": {},
     "output_type": "execute_result"
    }
   ],
   "source": [
    "bbb[\"patientid\"]"
   ]
  },
  {
   "cell_type": "code",
   "execution_count": 18,
   "id": "09287f23",
   "metadata": {},
   "outputs": [
    {
     "data": {
      "text/plain": [
       "2725    S\n",
       "2726    S\n",
       "2727    S\n",
       "2728    S\n",
       "2729    S\n",
       "2730    S\n",
       "2731    S\n",
       "2732    S\n",
       "2733    S\n",
       "2734    S\n",
       "2735    S\n",
       "2736    S\n",
       "2737    S\n",
       "2738    S\n",
       "2739    S\n",
       "2740    S\n",
       "2741    S\n",
       "2742    S\n",
       "2743    S\n",
       "2744    S\n",
       "Name: patientid, dtype: object"
      ]
     },
     "execution_count": 18,
     "metadata": {},
     "output_type": "execute_result"
    }
   ],
   "source": [
    "bbb[\"patientid\"][2725:2745]"
   ]
  },
  {
   "cell_type": "code",
   "execution_count": 21,
   "id": "b208ecfe",
   "metadata": {},
   "outputs": [
    {
     "ename": "SyntaxError",
     "evalue": "invalid syntax (2744729179.py, line 1)",
     "output_type": "error",
     "traceback": [
      "\u001b[1;36m  Cell \u001b[1;32mIn[21], line 1\u001b[1;36m\u001b[0m\n\u001b[1;33m    bbb[\"patientid\"]=np.where(=! bbb[\"Primary_Phone_NBR\"],\" \",bbb[\"Primary_Phone_NBR\"])\u001b[0m\n\u001b[1;37m                              ^\u001b[0m\n\u001b[1;31mSyntaxError\u001b[0m\u001b[1;31m:\u001b[0m invalid syntax\n"
     ]
    }
   ],
   "source": [
    "bbb[\"patientid\"]=np.where(=! bbb[\"Primary_Phone_NBR\"],\" \",bbb[\"Primary_Phone_NBR\"])"
   ]
  },
  {
   "cell_type": "code",
   "execution_count": 22,
   "id": "31847a4f",
   "metadata": {},
   "outputs": [
    {
     "name": "stdout",
     "output_type": "stream",
     "text": [
      "today =  2023-07-27\n"
     ]
    }
   ],
   "source": [
    "from datetime import date\n",
    "today=date.today()\n",
    "print(\"today = \",today)"
   ]
  },
  {
   "cell_type": "code",
   "execution_count": 28,
   "id": "0d0b03f1",
   "metadata": {},
   "outputs": [
    {
     "name": "stdout",
     "output_type": "stream",
     "text": [
      "formatted_time 15:15:08\n"
     ]
    }
   ],
   "source": [
    "import time\n",
    "now=time.localtime()\n",
    "formatted_time=time.strftime(\"%H:%M:%S\",now)\n",
    "print(\"formatted_time\",formatted_time)"
   ]
  },
  {
   "cell_type": "code",
   "execution_count": 24,
   "id": "2e89cf27",
   "metadata": {},
   "outputs": [],
   "source": [
    "df1=pd.DataFrame({\"date\":[\"a\",\"b\",\"c\",\"d\"],\"time\":[\"1\",\"2\",\"3\",\"4\"],\"flag\":[\"101\",\"102\",\"103\",\"104\"]})"
   ]
  },
  {
   "cell_type": "code",
   "execution_count": 25,
   "id": "137ef481",
   "metadata": {},
   "outputs": [
    {
     "data": {
      "text/html": [
       "<div>\n",
       "<style scoped>\n",
       "    .dataframe tbody tr th:only-of-type {\n",
       "        vertical-align: middle;\n",
       "    }\n",
       "\n",
       "    .dataframe tbody tr th {\n",
       "        vertical-align: top;\n",
       "    }\n",
       "\n",
       "    .dataframe thead th {\n",
       "        text-align: right;\n",
       "    }\n",
       "</style>\n",
       "<table border=\"1\" class=\"dataframe\">\n",
       "  <thead>\n",
       "    <tr style=\"text-align: right;\">\n",
       "      <th></th>\n",
       "      <th>date</th>\n",
       "      <th>time</th>\n",
       "      <th>flag</th>\n",
       "    </tr>\n",
       "  </thead>\n",
       "  <tbody>\n",
       "    <tr>\n",
       "      <th>0</th>\n",
       "      <td>a</td>\n",
       "      <td>1</td>\n",
       "      <td>101</td>\n",
       "    </tr>\n",
       "    <tr>\n",
       "      <th>1</th>\n",
       "      <td>b</td>\n",
       "      <td>2</td>\n",
       "      <td>102</td>\n",
       "    </tr>\n",
       "    <tr>\n",
       "      <th>2</th>\n",
       "      <td>c</td>\n",
       "      <td>3</td>\n",
       "      <td>103</td>\n",
       "    </tr>\n",
       "    <tr>\n",
       "      <th>3</th>\n",
       "      <td>d</td>\n",
       "      <td>4</td>\n",
       "      <td>104</td>\n",
       "    </tr>\n",
       "  </tbody>\n",
       "</table>\n",
       "</div>"
      ],
      "text/plain": [
       "  date time flag\n",
       "0    a    1  101\n",
       "1    b    2  102\n",
       "2    c    3  103\n",
       "3    d    4  104"
      ]
     },
     "execution_count": 25,
     "metadata": {},
     "output_type": "execute_result"
    }
   ],
   "source": [
    "df1"
   ]
  },
  {
   "cell_type": "code",
   "execution_count": null,
   "id": "97ccfeb0",
   "metadata": {},
   "outputs": [],
   "source": []
  },
  {
   "cell_type": "code",
   "execution_count": null,
   "id": "3b74daed",
   "metadata": {},
   "outputs": [],
   "source": []
  },
  {
   "cell_type": "code",
   "execution_count": null,
   "id": "848ed593",
   "metadata": {},
   "outputs": [],
   "source": []
  },
  {
   "cell_type": "code",
   "execution_count": 71,
   "id": "ac26513f",
   "metadata": {},
   "outputs": [],
   "source": [
    "bbb[\"patientid\"]=np.where((bbb[\"Primary_Phone_NBR\"]==\"C\") & (bbb[\"Primary_Phone_NBR\"]!=\"C\"),\"P\",\"s\")"
   ]
  },
  {
   "cell_type": "code",
   "execution_count": 72,
   "id": "51268f0d",
   "metadata": {},
   "outputs": [
    {
     "data": {
      "text/plain": [
       "0           s\n",
       "1           s\n",
       "2           s\n",
       "3           s\n",
       "4           s\n",
       "           ..\n",
       "20521879    s\n",
       "20521880    s\n",
       "20521881    s\n",
       "20521882    s\n",
       "20521883    s\n",
       "Name: patientid, Length: 20521884, dtype: object"
      ]
     },
     "execution_count": 72,
     "metadata": {},
     "output_type": "execute_result"
    }
   ],
   "source": [
    "bbb[\"patientid\"]"
   ]
  },
  {
   "cell_type": "code",
   "execution_count": null,
   "id": "ec268e67",
   "metadata": {},
   "outputs": [],
   "source": [
    "bbb[\"patientid\"][0:20]"
   ]
  },
  {
   "cell_type": "code",
   "execution_count": 74,
   "id": "5566fac4",
   "metadata": {},
   "outputs": [],
   "source": [
    "bbb[\"patientid\"]=np.where((bbb[\"Primary_Phone_NBR\"]==\"C\") | (bbb[\"Primary_Phone_NBR\"]!=\"C\"),\"P\",\"s\")\n"
   ]
  },
  {
   "cell_type": "code",
   "execution_count": 75,
   "id": "c39f30d9",
   "metadata": {},
   "outputs": [
    {
     "data": {
      "text/plain": [
       "0           P\n",
       "1           P\n",
       "2           P\n",
       "3           P\n",
       "4           P\n",
       "           ..\n",
       "20521879    P\n",
       "20521880    P\n",
       "20521881    P\n",
       "20521882    P\n",
       "20521883    P\n",
       "Name: patientid, Length: 20521884, dtype: object"
      ]
     },
     "execution_count": 75,
     "metadata": {},
     "output_type": "execute_result"
    }
   ],
   "source": [
    "bbb[\"patientid\"]"
   ]
  },
  {
   "cell_type": "code",
   "execution_count": 52,
   "id": "307d2f9d",
   "metadata": {},
   "outputs": [
    {
     "data": {
      "text/plain": [
       "0     P\n",
       "1     P\n",
       "2     P\n",
       "3     P\n",
       "4     P\n",
       "5     P\n",
       "6     P\n",
       "7     P\n",
       "8     P\n",
       "9     P\n",
       "10    P\n",
       "11    P\n",
       "12    P\n",
       "13    P\n",
       "14    P\n",
       "15    P\n",
       "16    P\n",
       "17    P\n",
       "18    P\n",
       "19    P\n",
       "Name: patientid, dtype: object"
      ]
     },
     "execution_count": 52,
     "metadata": {},
     "output_type": "execute_result"
    }
   ],
   "source": [
    "bbb[\"patientid\"][0:20]"
   ]
  },
  {
   "cell_type": "code",
   "execution_count": null,
   "id": "4f9daf6f",
   "metadata": {},
   "outputs": [],
   "source": [
    "bbb[\"Primary_Phone_NBR\"][20:40]"
   ]
  },
  {
   "cell_type": "code",
   "execution_count": 69,
   "id": "9f660348",
   "metadata": {},
   "outputs": [
    {
     "data": {
      "text/plain": [
       "1465    S\n",
       "1466    S\n",
       "1467    S\n",
       "1468    S\n",
       "1469    S\n",
       "       ..\n",
       "2723    S\n",
       "2724    S\n",
       "2725    S\n",
       "2726    S\n",
       "2727    S\n",
       "Name: patientid, Length: 1263, dtype: object"
      ]
     },
     "execution_count": 69,
     "metadata": {},
     "output_type": "execute_result"
    }
   ],
   "source": [
    "bbb[\"patientid\"][1465:2728]"
   ]
  },
  {
   "cell_type": "code",
   "execution_count": 7,
   "id": "b7e21240",
   "metadata": {},
   "outputs": [
    {
     "data": {
      "text/html": [
       "<div>\n",
       "<style scoped>\n",
       "    .dataframe tbody tr th:only-of-type {\n",
       "        vertical-align: middle;\n",
       "    }\n",
       "\n",
       "    .dataframe tbody tr th {\n",
       "        vertical-align: top;\n",
       "    }\n",
       "\n",
       "    .dataframe thead th {\n",
       "        text-align: right;\n",
       "    }\n",
       "</style>\n",
       "<table border=\"1\" class=\"dataframe\">\n",
       "  <thead>\n",
       "    <tr style=\"text-align: right;\">\n",
       "      <th></th>\n",
       "      <th>patientid_x</th>\n",
       "      <th>membershid_x</th>\n",
       "      <th>groupid</th>\n",
       "      <th>person_nbr_x</th>\n",
       "      <th>Primary_Phone_NBR</th>\n",
       "      <th>Phone2_NBR</th>\n",
       "      <th>Phone3_NBR</th>\n",
       "      <th>patientid_y</th>\n",
       "      <th>membershid_y</th>\n",
       "      <th>person_nbr_y</th>\n",
       "    </tr>\n",
       "  </thead>\n",
       "  <tbody>\n",
       "    <tr>\n",
       "      <th>0</th>\n",
       "      <td>10001</td>\n",
       "      <td>123456891</td>\n",
       "      <td>Upperbody</td>\n",
       "      <td>2386.041022</td>\n",
       "      <td>C</td>\n",
       "      <td>O</td>\n",
       "      <td>C</td>\n",
       "      <td>10001</td>\n",
       "      <td>123456891</td>\n",
       "      <td>2386.041022</td>\n",
       "    </tr>\n",
       "    <tr>\n",
       "      <th>1</th>\n",
       "      <td>10001</td>\n",
       "      <td>123456891</td>\n",
       "      <td>Upperbody</td>\n",
       "      <td>2386.041022</td>\n",
       "      <td>C</td>\n",
       "      <td>O</td>\n",
       "      <td>C</td>\n",
       "      <td>10002</td>\n",
       "      <td>123456891</td>\n",
       "      <td>7219.568003</td>\n",
       "    </tr>\n",
       "    <tr>\n",
       "      <th>2</th>\n",
       "      <td>10001</td>\n",
       "      <td>123456891</td>\n",
       "      <td>Upperbody</td>\n",
       "      <td>2386.041022</td>\n",
       "      <td>C</td>\n",
       "      <td>O</td>\n",
       "      <td>C</td>\n",
       "      <td>10003</td>\n",
       "      <td>123456891</td>\n",
       "      <td>1110.167181</td>\n",
       "    </tr>\n",
       "    <tr>\n",
       "      <th>3</th>\n",
       "      <td>10001</td>\n",
       "      <td>123456891</td>\n",
       "      <td>Upperbody</td>\n",
       "      <td>2386.041022</td>\n",
       "      <td>C</td>\n",
       "      <td>O</td>\n",
       "      <td>C</td>\n",
       "      <td>10004</td>\n",
       "      <td>123456891</td>\n",
       "      <td>4522.639998</td>\n",
       "    </tr>\n",
       "    <tr>\n",
       "      <th>4</th>\n",
       "      <td>10001</td>\n",
       "      <td>123456891</td>\n",
       "      <td>Upperbody</td>\n",
       "      <td>2386.041022</td>\n",
       "      <td>C</td>\n",
       "      <td>O</td>\n",
       "      <td>C</td>\n",
       "      <td>10005</td>\n",
       "      <td>123456891</td>\n",
       "      <td>7305.192980</td>\n",
       "    </tr>\n",
       "    <tr>\n",
       "      <th>5</th>\n",
       "      <td>10001</td>\n",
       "      <td>123456891</td>\n",
       "      <td>Upperbody</td>\n",
       "      <td>2386.041022</td>\n",
       "      <td>C</td>\n",
       "      <td>O</td>\n",
       "      <td>C</td>\n",
       "      <td>10006</td>\n",
       "      <td>123456891</td>\n",
       "      <td>6407.115439</td>\n",
       "    </tr>\n",
       "    <tr>\n",
       "      <th>6</th>\n",
       "      <td>10001</td>\n",
       "      <td>123456891</td>\n",
       "      <td>Upperbody</td>\n",
       "      <td>2386.041022</td>\n",
       "      <td>C</td>\n",
       "      <td>O</td>\n",
       "      <td>C</td>\n",
       "      <td>10007</td>\n",
       "      <td>123456891</td>\n",
       "      <td>4824.677332</td>\n",
       "    </tr>\n",
       "    <tr>\n",
       "      <th>7</th>\n",
       "      <td>10001</td>\n",
       "      <td>123456891</td>\n",
       "      <td>Upperbody</td>\n",
       "      <td>2386.041022</td>\n",
       "      <td>C</td>\n",
       "      <td>O</td>\n",
       "      <td>C</td>\n",
       "      <td>10008</td>\n",
       "      <td>123456891</td>\n",
       "      <td>4880.812031</td>\n",
       "    </tr>\n",
       "    <tr>\n",
       "      <th>8</th>\n",
       "      <td>10001</td>\n",
       "      <td>123456891</td>\n",
       "      <td>Upperbody</td>\n",
       "      <td>2386.041022</td>\n",
       "      <td>C</td>\n",
       "      <td>O</td>\n",
       "      <td>C</td>\n",
       "      <td>10009</td>\n",
       "      <td>123456891</td>\n",
       "      <td>9920.119179</td>\n",
       "    </tr>\n",
       "    <tr>\n",
       "      <th>9</th>\n",
       "      <td>10001</td>\n",
       "      <td>123456891</td>\n",
       "      <td>Upperbody</td>\n",
       "      <td>2386.041022</td>\n",
       "      <td>C</td>\n",
       "      <td>O</td>\n",
       "      <td>C</td>\n",
       "      <td>10010</td>\n",
       "      <td>123456891</td>\n",
       "      <td>7840.809171</td>\n",
       "    </tr>\n",
       "  </tbody>\n",
       "</table>\n",
       "</div>"
      ],
      "text/plain": [
       "   patientid_x  membershid_x    groupid  person_nbr_x Primary_Phone_NBR  \\\n",
       "0        10001     123456891  Upperbody   2386.041022                 C   \n",
       "1        10001     123456891  Upperbody   2386.041022                 C   \n",
       "2        10001     123456891  Upperbody   2386.041022                 C   \n",
       "3        10001     123456891  Upperbody   2386.041022                 C   \n",
       "4        10001     123456891  Upperbody   2386.041022                 C   \n",
       "5        10001     123456891  Upperbody   2386.041022                 C   \n",
       "6        10001     123456891  Upperbody   2386.041022                 C   \n",
       "7        10001     123456891  Upperbody   2386.041022                 C   \n",
       "8        10001     123456891  Upperbody   2386.041022                 C   \n",
       "9        10001     123456891  Upperbody   2386.041022                 C   \n",
       "\n",
       "  Phone2_NBR Phone3_NBR  patientid_y  membershid_y  person_nbr_y  \n",
       "0          O          C        10001     123456891   2386.041022  \n",
       "1          O          C        10002     123456891   7219.568003  \n",
       "2          O          C        10003     123456891   1110.167181  \n",
       "3          O          C        10004     123456891   4522.639998  \n",
       "4          O          C        10005     123456891   7305.192980  \n",
       "5          O          C        10006     123456891   6407.115439  \n",
       "6          O          C        10007     123456891   4824.677332  \n",
       "7          O          C        10008     123456891   4880.812031  \n",
       "8          O          C        10009     123456891   9920.119179  \n",
       "9          O          C        10010     123456891   7840.809171  "
      ]
     },
     "execution_count": 7,
     "metadata": {},
     "output_type": "execute_result"
    }
   ],
   "source": [
    "bbb[0:10]"
   ]
  },
  {
   "cell_type": "code",
   "execution_count": 9,
   "id": "0859879e",
   "metadata": {},
   "outputs": [
    {
     "data": {
      "text/html": [
       "<div>\n",
       "<style scoped>\n",
       "    .dataframe tbody tr th:only-of-type {\n",
       "        vertical-align: middle;\n",
       "    }\n",
       "\n",
       "    .dataframe tbody tr th {\n",
       "        vertical-align: top;\n",
       "    }\n",
       "\n",
       "    .dataframe thead th {\n",
       "        text-align: right;\n",
       "    }\n",
       "</style>\n",
       "<table border=\"1\" class=\"dataframe\">\n",
       "  <thead>\n",
       "    <tr style=\"text-align: right;\">\n",
       "      <th></th>\n",
       "      <th>patientid</th>\n",
       "      <th>membershid</th>\n",
       "      <th>groupid</th>\n",
       "      <th>person_nbr</th>\n",
       "    </tr>\n",
       "  </thead>\n",
       "  <tbody>\n",
       "    <tr>\n",
       "      <th>0</th>\n",
       "      <td>200001</td>\n",
       "      <td>4456.162497</td>\n",
       "      <td>100</td>\n",
       "      <td>2748.280106</td>\n",
       "    </tr>\n",
       "    <tr>\n",
       "      <th>1</th>\n",
       "      <td>200002</td>\n",
       "      <td>4456.162497</td>\n",
       "      <td>100</td>\n",
       "      <td>3983.633278</td>\n",
       "    </tr>\n",
       "    <tr>\n",
       "      <th>2</th>\n",
       "      <td>200003</td>\n",
       "      <td>4456.162497</td>\n",
       "      <td>100</td>\n",
       "      <td>5918.043203</td>\n",
       "    </tr>\n",
       "    <tr>\n",
       "      <th>3</th>\n",
       "      <td>200004</td>\n",
       "      <td>4456.162497</td>\n",
       "      <td>100</td>\n",
       "      <td>5882.418134</td>\n",
       "    </tr>\n",
       "    <tr>\n",
       "      <th>4</th>\n",
       "      <td>200005</td>\n",
       "      <td>4456.162497</td>\n",
       "      <td>100</td>\n",
       "      <td>3519.095855</td>\n",
       "    </tr>\n",
       "    <tr>\n",
       "      <th>...</th>\n",
       "      <td>...</td>\n",
       "      <td>...</td>\n",
       "      <td>...</td>\n",
       "      <td>...</td>\n",
       "    </tr>\n",
       "    <tr>\n",
       "      <th>84006</th>\n",
       "      <td>284007</td>\n",
       "      <td>61967.640577</td>\n",
       "      <td>108</td>\n",
       "      <td>6406.791285</td>\n",
       "    </tr>\n",
       "    <tr>\n",
       "      <th>84007</th>\n",
       "      <td>284008</td>\n",
       "      <td>61967.640577</td>\n",
       "      <td>108</td>\n",
       "      <td>5736.801838</td>\n",
       "    </tr>\n",
       "    <tr>\n",
       "      <th>84008</th>\n",
       "      <td>284009</td>\n",
       "      <td>61967.640577</td>\n",
       "      <td>108</td>\n",
       "      <td>7613.994822</td>\n",
       "    </tr>\n",
       "    <tr>\n",
       "      <th>84009</th>\n",
       "      <td>284010</td>\n",
       "      <td>61967.640577</td>\n",
       "      <td>108</td>\n",
       "      <td>8530.577571</td>\n",
       "    </tr>\n",
       "    <tr>\n",
       "      <th>84010</th>\n",
       "      <td>284011</td>\n",
       "      <td>61967.640577</td>\n",
       "      <td>108</td>\n",
       "      <td>2140.830791</td>\n",
       "    </tr>\n",
       "  </tbody>\n",
       "</table>\n",
       "<p>84011 rows × 4 columns</p>\n",
       "</div>"
      ],
      "text/plain": [
       "       patientid    membershid  groupid   person_nbr\n",
       "0         200001   4456.162497      100  2748.280106\n",
       "1         200002   4456.162497      100  3983.633278\n",
       "2         200003   4456.162497      100  5918.043203\n",
       "3         200004   4456.162497      100  5882.418134\n",
       "4         200005   4456.162497      100  3519.095855\n",
       "...          ...           ...      ...          ...\n",
       "84006     284007  61967.640577      108  6406.791285\n",
       "84007     284008  61967.640577      108  5736.801838\n",
       "84008     284009  61967.640577      108  7613.994822\n",
       "84009     284010  61967.640577      108  8530.577571\n",
       "84010     284011  61967.640577      108  2140.830791\n",
       "\n",
       "[84011 rows x 4 columns]"
      ]
     },
     "execution_count": 9,
     "metadata": {},
     "output_type": "execute_result"
    }
   ],
   "source": [
    "df_d_p=pd.read_excel(r\"C:\\jaya sri\\Jayasri\\sql task\\ddd patients.xlsx\")\n",
    "df_d_p"
   ]
  },
  {
   "cell_type": "code",
   "execution_count": 10,
   "id": "a26c6dee",
   "metadata": {},
   "outputs": [
    {
     "data": {
      "text/html": [
       "<div>\n",
       "<style scoped>\n",
       "    .dataframe tbody tr th:only-of-type {\n",
       "        vertical-align: middle;\n",
       "    }\n",
       "\n",
       "    .dataframe tbody tr th {\n",
       "        vertical-align: top;\n",
       "    }\n",
       "\n",
       "    .dataframe thead th {\n",
       "        text-align: right;\n",
       "    }\n",
       "</style>\n",
       "<table border=\"1\" class=\"dataframe\">\n",
       "  <thead>\n",
       "    <tr style=\"text-align: right;\">\n",
       "      <th></th>\n",
       "      <th>patientid</th>\n",
       "      <th>membershid</th>\n",
       "      <th>groupid</th>\n",
       "      <th>person_nbr</th>\n",
       "      <th>Primary_Phone_NBR</th>\n",
       "      <th>Phone2_NBR</th>\n",
       "      <th>Phone3_NBR</th>\n",
       "    </tr>\n",
       "  </thead>\n",
       "  <tbody>\n",
       "    <tr>\n",
       "      <th>0</th>\n",
       "      <td>200001</td>\n",
       "      <td>4456.162497</td>\n",
       "      <td>100</td>\n",
       "      <td>2748.280106</td>\n",
       "      <td>C</td>\n",
       "      <td>O</td>\n",
       "      <td>C</td>\n",
       "    </tr>\n",
       "    <tr>\n",
       "      <th>1</th>\n",
       "      <td>200002</td>\n",
       "      <td>4456.162497</td>\n",
       "      <td>100</td>\n",
       "      <td>3983.633278</td>\n",
       "      <td>C</td>\n",
       "      <td>O</td>\n",
       "      <td>C</td>\n",
       "    </tr>\n",
       "    <tr>\n",
       "      <th>2</th>\n",
       "      <td>200003</td>\n",
       "      <td>4456.162497</td>\n",
       "      <td>100</td>\n",
       "      <td>5918.043203</td>\n",
       "      <td>C</td>\n",
       "      <td>O</td>\n",
       "      <td>C</td>\n",
       "    </tr>\n",
       "    <tr>\n",
       "      <th>3</th>\n",
       "      <td>200004</td>\n",
       "      <td>4456.162497</td>\n",
       "      <td>100</td>\n",
       "      <td>5882.418134</td>\n",
       "      <td>C</td>\n",
       "      <td>O</td>\n",
       "      <td>C</td>\n",
       "    </tr>\n",
       "    <tr>\n",
       "      <th>4</th>\n",
       "      <td>200005</td>\n",
       "      <td>4456.162497</td>\n",
       "      <td>100</td>\n",
       "      <td>3519.095855</td>\n",
       "      <td>C</td>\n",
       "      <td>O</td>\n",
       "      <td>C</td>\n",
       "    </tr>\n",
       "    <tr>\n",
       "      <th>...</th>\n",
       "      <td>...</td>\n",
       "      <td>...</td>\n",
       "      <td>...</td>\n",
       "      <td>...</td>\n",
       "      <td>...</td>\n",
       "      <td>...</td>\n",
       "      <td>...</td>\n",
       "    </tr>\n",
       "    <tr>\n",
       "      <th>84006</th>\n",
       "      <td>284007</td>\n",
       "      <td>61967.640577</td>\n",
       "      <td>108</td>\n",
       "      <td>6406.791285</td>\n",
       "      <td>C</td>\n",
       "      <td>C</td>\n",
       "      <td>C</td>\n",
       "    </tr>\n",
       "    <tr>\n",
       "      <th>84007</th>\n",
       "      <td>284008</td>\n",
       "      <td>61967.640577</td>\n",
       "      <td>108</td>\n",
       "      <td>5736.801838</td>\n",
       "      <td>C</td>\n",
       "      <td>C</td>\n",
       "      <td>C</td>\n",
       "    </tr>\n",
       "    <tr>\n",
       "      <th>84008</th>\n",
       "      <td>284009</td>\n",
       "      <td>61967.640577</td>\n",
       "      <td>108</td>\n",
       "      <td>7613.994822</td>\n",
       "      <td>C</td>\n",
       "      <td>C</td>\n",
       "      <td>C</td>\n",
       "    </tr>\n",
       "    <tr>\n",
       "      <th>84009</th>\n",
       "      <td>284010</td>\n",
       "      <td>61967.640577</td>\n",
       "      <td>108</td>\n",
       "      <td>8530.577571</td>\n",
       "      <td>C</td>\n",
       "      <td>C</td>\n",
       "      <td>C</td>\n",
       "    </tr>\n",
       "    <tr>\n",
       "      <th>84010</th>\n",
       "      <td>284011</td>\n",
       "      <td>61967.640577</td>\n",
       "      <td>108</td>\n",
       "      <td>2140.830791</td>\n",
       "      <td>C</td>\n",
       "      <td>C</td>\n",
       "      <td>C</td>\n",
       "    </tr>\n",
       "  </tbody>\n",
       "</table>\n",
       "<p>84011 rows × 7 columns</p>\n",
       "</div>"
      ],
      "text/plain": [
       "       patientid    membershid  groupid   person_nbr Primary_Phone_NBR  \\\n",
       "0         200001   4456.162497      100  2748.280106                 C   \n",
       "1         200002   4456.162497      100  3983.633278                 C   \n",
       "2         200003   4456.162497      100  5918.043203                 C   \n",
       "3         200004   4456.162497      100  5882.418134                 C   \n",
       "4         200005   4456.162497      100  3519.095855                 C   \n",
       "...          ...           ...      ...          ...               ...   \n",
       "84006     284007  61967.640577      108  6406.791285                 C   \n",
       "84007     284008  61967.640577      108  5736.801838                 C   \n",
       "84008     284009  61967.640577      108  7613.994822                 C   \n",
       "84009     284010  61967.640577      108  8530.577571                 C   \n",
       "84010     284011  61967.640577      108  2140.830791                 C   \n",
       "\n",
       "      Phone2_NBR Phone3_NBR  \n",
       "0              O          C  \n",
       "1              O          C  \n",
       "2              O          C  \n",
       "3              O          C  \n",
       "4              O          C  \n",
       "...          ...        ...  \n",
       "84006          C          C  \n",
       "84007          C          C  \n",
       "84008          C          C  \n",
       "84009          C          C  \n",
       "84010          C          C  \n",
       "\n",
       "[84011 rows x 7 columns]"
      ]
     },
     "execution_count": 10,
     "metadata": {},
     "output_type": "execute_result"
    }
   ],
   "source": [
    "df_d_d=pd.read_excel(r\"C:\\jaya sri\\Jayasri\\sql task\\ddd address.xlsx\")\n",
    "df_d_d"
   ]
  },
  {
   "cell_type": "code",
   "execution_count": null,
   "id": "4b3c1f0c",
   "metadata": {},
   "outputs": [],
   "source": []
  },
  {
   "cell_type": "code",
   "execution_count": null,
   "id": "9246df89",
   "metadata": {},
   "outputs": [],
   "source": []
  },
  {
   "cell_type": "code",
   "execution_count": null,
   "id": "3f411b4c",
   "metadata": {},
   "outputs": [],
   "source": []
  },
  {
   "cell_type": "code",
   "execution_count": null,
   "id": "7134c80a",
   "metadata": {},
   "outputs": [],
   "source": []
  },
  {
   "cell_type": "code",
   "execution_count": null,
   "id": "9ad44c63",
   "metadata": {},
   "outputs": [],
   "source": []
  },
  {
   "cell_type": "code",
   "execution_count": null,
   "id": "30301bfa",
   "metadata": {},
   "outputs": [],
   "source": []
  },
  {
   "cell_type": "code",
   "execution_count": 9,
   "id": "770a6ed4",
   "metadata": {},
   "outputs": [
    {
     "data": {
      "text/plain": [
       "array([[1, 6],\n",
       "       [3, 4]])"
      ]
     },
     "execution_count": 9,
     "metadata": {},
     "output_type": "execute_result"
    }
   ],
   "source": [
    "import numpy as np\n",
    "  \n",
    "np.where([[True, False], [True, True]],\n",
    "         [[1, 2], [3, 4]], [[5, 6], [7, 8]])"
   ]
  },
  {
   "cell_type": "code",
   "execution_count": 10,
   "id": "8b941bc8",
   "metadata": {},
   "outputs": [
    {
     "ename": "NameError",
     "evalue": "name 'date' is not defined",
     "output_type": "error",
     "traceback": [
      "\u001b[1;31m---------------------------------------------------------------------------\u001b[0m",
      "\u001b[1;31mNameError\u001b[0m                                 Traceback (most recent call last)",
      "Cell \u001b[1;32mIn[10], line 2\u001b[0m\n\u001b[0;32m      1\u001b[0m \u001b[38;5;66;03m# Returns the current local date\u001b[39;00m\n\u001b[1;32m----> 2\u001b[0m today \u001b[38;5;241m=\u001b[39m \u001b[43mdate\u001b[49m\u001b[38;5;241m.\u001b[39mtoday()\n\u001b[0;32m      3\u001b[0m \u001b[38;5;28mprint\u001b[39m(\u001b[38;5;124m\"\u001b[39m\u001b[38;5;124mToday date is: \u001b[39m\u001b[38;5;124m\"\u001b[39m, today)\n",
      "\u001b[1;31mNameError\u001b[0m: name 'date' is not defined"
     ]
    }
   ],
   "source": [
    "# Returns the current local date\n",
    "today = date.today()\n",
    "print(\"Today date is: \", today)\n"
   ]
  },
  {
   "cell_type": "code",
   "execution_count": 12,
   "id": "71c4ff20",
   "metadata": {},
   "outputs": [
    {
     "name": "stdout",
     "output_type": "stream",
     "text": [
      "today =  2023-07-27 11:43:53.429932\n"
     ]
    }
   ],
   "source": [
    "# Import datetime class from datetime module\n",
    "from datetime import datetime\n",
    " \n",
    "# returns current date and time\n",
    "today = datetime.today()\n",
    "print(\"today = \", today)"
   ]
  },
  {
   "cell_type": "code",
   "execution_count": 14,
   "id": "567eb1ca",
   "metadata": {},
   "outputs": [
    {
     "name": "stdout",
     "output_type": "stream",
     "text": [
      "today =  2023-07-27\n"
     ]
    }
   ],
   "source": [
    "from datetime import date\n",
    "today=date.today()\n",
    "print(\"today = \",today)"
   ]
  },
  {
   "cell_type": "code",
   "execution_count": 16,
   "id": "4339ca55",
   "metadata": {},
   "outputs": [
    {
     "ename": "AttributeError",
     "evalue": "type object 'datetime.time' has no attribute 'today'",
     "output_type": "error",
     "traceback": [
      "\u001b[1;31m---------------------------------------------------------------------------\u001b[0m",
      "\u001b[1;31mAttributeError\u001b[0m                            Traceback (most recent call last)",
      "Cell \u001b[1;32mIn[16], line 2\u001b[0m\n\u001b[0;32m      1\u001b[0m \u001b[38;5;28;01mfrom\u001b[39;00m \u001b[38;5;21;01mdatetime\u001b[39;00m \u001b[38;5;28;01mimport\u001b[39;00m date\n\u001b[1;32m----> 2\u001b[0m today\u001b[38;5;241m=\u001b[39m\u001b[43mtime\u001b[49m\u001b[38;5;241;43m.\u001b[39;49m\u001b[43mtoday\u001b[49m()\n\u001b[0;32m      3\u001b[0m \u001b[38;5;28mprint\u001b[39m(\u001b[38;5;124m\"\u001b[39m\u001b[38;5;124mtoday = \u001b[39m\u001b[38;5;124m\"\u001b[39m,today)\n",
      "\u001b[1;31mAttributeError\u001b[0m: type object 'datetime.time' has no attribute 'today'"
     ]
    }
   ],
   "source": [
    "from datetime import date\n",
    "=time.today()\n",
    "print(\"today = \",today)"
   ]
  },
  {
   "cell_type": "code",
   "execution_count": 18,
   "id": "433faba2",
   "metadata": {},
   "outputs": [
    {
     "data": {
      "text/plain": [
       "datetime.datetime(2023, 7, 27, 11, 48, 45, 990230)"
      ]
     },
     "execution_count": 18,
     "metadata": {},
     "output_type": "execute_result"
    }
   ],
   "source": [
    "# importing datetime module for now()\n",
    "import datetime\n",
    "     \n",
    "# using now() to get current time\n",
    "current_time = datetime.datetime.now()\n",
    "current_time    "
   ]
  },
  {
   "cell_type": "code",
   "execution_count": 19,
   "id": "c82b5fe0",
   "metadata": {},
   "outputs": [
    {
     "name": "stdout",
     "output_type": "stream",
     "text": [
      "Current time: Mon Aug  2 18:15:13 2021\n"
     ]
    }
   ],
   "source": [
    "import time\n",
    " \n",
    "# getting current time by passing\n",
    "# the number of seconds since epoch\n",
    "curr = time.ctime(1627908313.717886)\n",
    "print(\"Current time:\", curr)"
   ]
  },
  {
   "cell_type": "code",
   "execution_count": null,
   "id": "9055d207",
   "metadata": {},
   "outputs": [],
   "source": [
    "import time\n",
    "now = time.localtime()\n",
    "formatted_time = time.strftime(\"%Y-%m-%d %H:%M:%S\", now)\n",
    "print(formatted_time)"
   ]
  },
  {
   "cell_type": "code",
   "execution_count": 23,
   "id": "d27080ef",
   "metadata": {},
   "outputs": [
    {
     "name": "stdout",
     "output_type": "stream",
     "text": [
      "11:57:42\n"
     ]
    }
   ],
   "source": [
    "import time\n",
    "now=time.localtime()\n",
    "formatted_time=time.strftime(\"%H:%M:%S\",now)\n",
    "print(formatted_time)"
   ]
  },
  {
   "cell_type": "code",
   "execution_count": null,
   "id": "48be4f61",
   "metadata": {},
   "outputs": [],
   "source": [
    "import pandas as pd\n",
    "import numpy as np\n",
    "df=pd.DataFrame({\"\"})"
   ]
  },
  {
   "cell_type": "code",
   "execution_count": 56,
   "id": "715cdca7",
   "metadata": {},
   "outputs": [],
   "source": [
    "import pandas as pd\n",
    "df=pd.DataFrame({\"names\":[\"a\",\"b\",\"c\",\"d\"],\"values\":[10,20,30,40]})"
   ]
  },
  {
   "cell_type": "code",
   "execution_count": 57,
   "id": "f5f2c574",
   "metadata": {},
   "outputs": [
    {
     "data": {
      "text/html": [
       "<div>\n",
       "<style scoped>\n",
       "    .dataframe tbody tr th:only-of-type {\n",
       "        vertical-align: middle;\n",
       "    }\n",
       "\n",
       "    .dataframe tbody tr th {\n",
       "        vertical-align: top;\n",
       "    }\n",
       "\n",
       "    .dataframe thead th {\n",
       "        text-align: right;\n",
       "    }\n",
       "</style>\n",
       "<table border=\"1\" class=\"dataframe\">\n",
       "  <thead>\n",
       "    <tr style=\"text-align: right;\">\n",
       "      <th></th>\n",
       "      <th>names</th>\n",
       "      <th>values</th>\n",
       "    </tr>\n",
       "  </thead>\n",
       "  <tbody>\n",
       "    <tr>\n",
       "      <th>0</th>\n",
       "      <td>a</td>\n",
       "      <td>10</td>\n",
       "    </tr>\n",
       "    <tr>\n",
       "      <th>1</th>\n",
       "      <td>b</td>\n",
       "      <td>20</td>\n",
       "    </tr>\n",
       "    <tr>\n",
       "      <th>2</th>\n",
       "      <td>c</td>\n",
       "      <td>30</td>\n",
       "    </tr>\n",
       "    <tr>\n",
       "      <th>3</th>\n",
       "      <td>d</td>\n",
       "      <td>40</td>\n",
       "    </tr>\n",
       "  </tbody>\n",
       "</table>\n",
       "</div>"
      ],
      "text/plain": [
       "  names  values\n",
       "0     a      10\n",
       "1     b      20\n",
       "2     c      30\n",
       "3     d      40"
      ]
     },
     "execution_count": 57,
     "metadata": {},
     "output_type": "execute_result"
    }
   ],
   "source": [
    "df"
   ]
  },
  {
   "cell_type": "code",
   "execution_count": 23,
   "id": "0a1b0b90",
   "metadata": {},
   "outputs": [],
   "source": [
    "import numpy as np\n",
    "df[\"name\"]=np.where(df[\"values\"]>15,\"p\",\"a\")"
   ]
  },
  {
   "cell_type": "code",
   "execution_count": 24,
   "id": "be506766",
   "metadata": {},
   "outputs": [
    {
     "data": {
      "text/plain": [
       "0    a\n",
       "1    p\n",
       "2    p\n",
       "3    p\n",
       "Name: name, dtype: object"
      ]
     },
     "execution_count": 24,
     "metadata": {},
     "output_type": "execute_result"
    }
   ],
   "source": [
    "df[\"name\"]"
   ]
  },
  {
   "cell_type": "code",
   "execution_count": 60,
   "id": "a9afd7e9",
   "metadata": {},
   "outputs": [
    {
     "data": {
      "text/plain": [
       "array(['param', 'athma', 'athma', 'param'], dtype='<U5')"
      ]
     },
     "execution_count": 60,
     "metadata": {},
     "output_type": "execute_result"
    }
   ],
   "source": [
    "import numpy as np\n",
    "df1=np.where((df[\"values\"]<20) | (df[\"values\"]==40),\"param\",\"athma\")\n",
    "df1"
   ]
  },
  {
   "cell_type": "code",
   "execution_count": 63,
   "id": "ab72ad07",
   "metadata": {},
   "outputs": [
    {
     "data": {
      "text/plain": [
       "array(['athma', 'athma', 'athma', 'athma'], dtype='<U5')"
      ]
     },
     "execution_count": 63,
     "metadata": {},
     "output_type": "execute_result"
    }
   ],
   "source": [
    "import numpy as np\n",
    "df1=np.where((df[\"values\"]<20) & (df[\"values\"]>30),\"param\",\"athma\")\n",
    "df1"
   ]
  },
  {
   "cell_type": "code",
   "execution_count": null,
   "id": "6b2704ca",
   "metadata": {},
   "outputs": [],
   "source": []
  },
  {
   "cell_type": "code",
   "execution_count": null,
   "id": "6a996b74",
   "metadata": {},
   "outputs": [],
   "source": []
  },
  {
   "cell_type": "code",
   "execution_count": null,
   "id": "49765b8a",
   "metadata": {},
   "outputs": [],
   "source": []
  }
 ],
 "metadata": {
  "kernelspec": {
   "display_name": "Python 3 (ipykernel)",
   "language": "python",
   "name": "python3"
  },
  "language_info": {
   "codemirror_mode": {
    "name": "ipython",
    "version": 3
   },
   "file_extension": ".py",
   "mimetype": "text/x-python",
   "name": "python",
   "nbconvert_exporter": "python",
   "pygments_lexer": "ipython3",
   "version": "3.10.9"
  }
 },
 "nbformat": 4,
 "nbformat_minor": 5
}
