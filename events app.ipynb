{
 "cells": [
  {
   "cell_type": "code",
   "execution_count": 21,
   "id": "121f6f53",
   "metadata": {},
   "outputs": [],
   "source": [
    "event={\"functions\":\"Marriage\",\"types-of-Marriage\":\"musclim  marriage\"}\n",
    "def anusevents(event):\n",
    "    if event[\"functions\"]==\"Marriage\":\n",
    "        if event[\"types-of-Marriage\"]==\"hindu marriage\":\n",
    "            cost=500000\n",
    "        elif event[\"types-of-Marriage\"]==\"christain marriage\":\n",
    "            cost=50000\n",
    "        elif event[\"types-of-Marriage\"]==\"love marriage\":\n",
    "            cost=5000\n",
    "        elif event[\"types-of-Marriage\"]==\"Ambedhkar marriage\":\n",
    "            cost=500\n",
    "        \n",
    "        else:\n",
    "            cost=0\n",
    "    else:\n",
    "        not availiable\n",
    "   \n",
    "    return{\"functions\":event[\"functions\"],\"types-of-Marriage\":event[\"types-of-Marriage\"],\"cost\":cost}"
   ]
  },
  {
   "cell_type": "code",
   "execution_count": 22,
   "id": "89a90fdb",
   "metadata": {},
   "outputs": [
    {
     "data": {
      "text/plain": [
       "{'functions': 'Marriage', 'types-of-Marriage': 'musclim  marriage', 'cost': 0}"
      ]
     },
     "execution_count": 22,
     "metadata": {},
     "output_type": "execute_result"
    }
   ],
   "source": [
    "anusevents(event)"
   ]
  },
  {
   "cell_type": "code",
   "execution_count": null,
   "id": "655b403a",
   "metadata": {},
   "outputs": [],
   "source": []
  }
 ],
 "metadata": {
  "kernelspec": {
   "display_name": "Python 3 (ipykernel)",
   "language": "python",
   "name": "python3"
  },
  "language_info": {
   "codemirror_mode": {
    "name": "ipython",
    "version": 3
   },
   "file_extension": ".py",
   "mimetype": "text/x-python",
   "name": "python",
   "nbconvert_exporter": "python",
   "pygments_lexer": "ipython3",
   "version": "3.10.9"
  }
 },
 "nbformat": 4,
 "nbformat_minor": 5
}
