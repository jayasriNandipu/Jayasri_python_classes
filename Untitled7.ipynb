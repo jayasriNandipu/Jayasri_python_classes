{
 "cells": [
  {
   "cell_type": "code",
   "execution_count": 46,
   "id": "4409cfb5",
   "metadata": {},
   "outputs": [],
   "source": [
    "event={\"name\":\"jayasri\",\"account_number\":1234566789,\"credit_type\":\"credit\",\"location\":\"metro\",\"age\":25,\"loan\":\"yes\",\"employee_type\":\"salaried\",\"initial_amount\":50000,\"amount\":30000}\n",
    "\n",
    "def bank_details(event):\n",
    "    if event[\"name\"]==\"jayasri\" and event[\"account_number\"]==1234566789:\n",
    "        if event[\"credit_type\"]==\"credit\":\n",
    "            balance=event[\"amount\"]+event[\"initial_amount\"]\n",
    "            if event[\"location\"]==\"metro\":\n",
    "                balance=balance+2000\n",
    "                if event[\"age\"]>25:\n",
    "                    balance=balance+18000\n",
    "                    if event[\"loan\"]==\"yes\":\n",
    "                        balance=balance-1000\n",
    "                        if  event[\"employee_type\"]==\"salaried\":\n",
    "                            balance=balance+0\n",
    "                        elif event[\"employee_type\"]==\"individual\":\n",
    "                            balance=balance+1000\n",
    "                        elif event[\"employee_type\"]==\"business\":\n",
    "                            balance=balance+500\n",
    "    elif event[\"credit_type\"]==\"debit\":\n",
    "        balance=balance-event[\"initial_amount\"]\n",
    "        if event[\"loan\"]==\"no\":\n",
    "            balance=balance-1000\n",
    "            if event[\"locaton\"]==\"non_metro\":\n",
    "                balance=event[\"amount\"]-2000\n",
    "                if event[\"age\"]<25:\n",
    "                    balance=event[\"amount\"]-0\n",
    "                    if event[\"loan\"]==\"no\":\n",
    "                        balance=balance-1000\n",
    "                        if event[\"employee_type\"]==\"salaried\":\n",
    "                            balance=balance-0\n",
    "                        elif event[\"employee_type\"]==\"individual\":\n",
    "                            balance=balance-1000\n",
    "                        elif event[\"employee_type\"]==\"business\":\n",
    "                            balance=balance-500\n",
    "    return(balance)\n",
    "    "
   ]
  },
  {
   "cell_type": "code",
   "execution_count": 47,
   "id": "f6b1654a",
   "metadata": {},
   "outputs": [
    {
     "data": {
      "text/plain": [
       "82000"
      ]
     },
     "execution_count": 47,
     "metadata": {},
     "output_type": "execute_result"
    }
   ],
   "source": [
    "bank_details(event)"
   ]
  },
  {
   "cell_type": "code",
   "execution_count": null,
   "id": "6de1d87b",
   "metadata": {},
   "outputs": [],
   "source": []
  },
  {
   "cell_type": "code",
   "execution_count": null,
   "id": "6fea24ec",
   "metadata": {},
   "outputs": [],
   "source": []
  },
  {
   "cell_type": "code",
   "execution_count": null,
   "id": "fbca4afe",
   "metadata": {},
   "outputs": [],
   "source": []
  }
 ],
 "metadata": {
  "kernelspec": {
   "display_name": "Python 3 (ipykernel)",
   "language": "python",
   "name": "python3"
  },
  "language_info": {
   "codemirror_mode": {
    "name": "ipython",
    "version": 3
   },
   "file_extension": ".py",
   "mimetype": "text/x-python",
   "name": "python",
   "nbconvert_exporter": "python",
   "pygments_lexer": "ipython3",
   "version": "3.10.9"
  }
 },
 "nbformat": 4,
 "nbformat_minor": 5
}
