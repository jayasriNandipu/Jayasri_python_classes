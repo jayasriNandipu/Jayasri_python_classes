{
 "cells": [
  {
   "cell_type": "code",
   "execution_count": 3,
   "id": "a91652e3",
   "metadata": {},
   "outputs": [],
   "source": [
    "friends_names=[\"ruchitha\",\"geetha\",\"hareesh\",\"supraja\",\"sai\",\"lakshmi\",\"divya\",\"krupa\",\"rajini\",\"swarna\"]"
   ]
  },
  {
   "cell_type": "code",
   "execution_count": 14,
   "id": "c0f00057",
   "metadata": {},
   "outputs": [
    {
     "data": {
      "text/plain": [
       "['ruchitha',\n",
       " 'geetha',\n",
       " 'hareesh',\n",
       " 'supraja',\n",
       " 'sai',\n",
       " 'lakshmi',\n",
       " 'divya',\n",
       " 'krupa',\n",
       " 'rajini',\n",
       " 'swarna']"
      ]
     },
     "execution_count": 14,
     "metadata": {},
     "output_type": "execute_result"
    }
   ],
   "source": [
    "friends_names"
   ]
  },
  {
   "cell_type": "code",
   "execution_count": 5,
   "id": "566859b9",
   "metadata": {},
   "outputs": [],
   "source": [
    "colour={\"red\",\"blue\",\"green\",\"yellow\",\"red\",\"black\",\"brown\",\"skyblue\",\"pink\",\"white\",\"orange\",\"white\"}"
   ]
  },
  {
   "cell_type": "code",
   "execution_count": 6,
   "id": "e5dedf37",
   "metadata": {},
   "outputs": [
    {
     "data": {
      "text/plain": [
       "{'black',\n",
       " 'blue',\n",
       " 'brown',\n",
       " 'green',\n",
       " 'orange',\n",
       " 'pink',\n",
       " 'red',\n",
       " 'skyblue',\n",
       " 'white',\n",
       " 'yellow'}"
      ]
     },
     "execution_count": 6,
     "metadata": {},
     "output_type": "execute_result"
    }
   ],
   "source": [
    "colour"
   ]
  },
  {
   "cell_type": "code",
   "execution_count": 7,
   "id": "b6f6c9ed",
   "metadata": {},
   "outputs": [],
   "source": [
    "month_names={1,9,10,5,3,2,7,8,6,4}"
   ]
  },
  {
   "cell_type": "code",
   "execution_count": 8,
   "id": "410e81eb",
   "metadata": {},
   "outputs": [
    {
     "data": {
      "text/plain": [
       "{1, 2, 3, 4, 5, 6, 7, 8, 9, 10}"
      ]
     },
     "execution_count": 8,
     "metadata": {},
     "output_type": "execute_result"
    }
   ],
   "source": [
    "month_names"
   ]
  },
  {
   "cell_type": "code",
   "execution_count": 9,
   "id": "d4c73dee",
   "metadata": {},
   "outputs": [],
   "source": [
    "bollywood_heros={\"sharukkhan\", \"salmankhan\", \"salmankhan\",\"amirkhan\",\"HrithikRoshan\",\"Amitabh Bachchan\",\"Akshay Kumar\",\"amirkhan\"}"
   ]
  },
  {
   "cell_type": "code",
   "execution_count": 10,
   "id": "d72b37d1",
   "metadata": {},
   "outputs": [
    {
     "data": {
      "text/plain": [
       "{'Akshay Kumar',\n",
       " 'Amitabh Bachchan',\n",
       " 'HrithikRoshan',\n",
       " 'amirkhan',\n",
       " 'salmankhan',\n",
       " 'sharukkhan'}"
      ]
     },
     "execution_count": 10,
     "metadata": {},
     "output_type": "execute_result"
    }
   ],
   "source": [
    "bollywood_heros"
   ]
  },
  {
   "cell_type": "code",
   "execution_count": 2,
   "id": "0d7ff2f6",
   "metadata": {},
   "outputs": [],
   "source": [
    "breakfast_items=[\"upma\",\"dosa\",\"idly\",\"puri\",\"punugulu\",\"roti\",\"chapathi\", \"parota\",\"mysoor baji\",\"minapa baji\"]"
   ]
  },
  {
   "cell_type": "code",
   "execution_count": 3,
   "id": "461f8146",
   "metadata": {},
   "outputs": [
    {
     "data": {
      "text/plain": [
       "['upma',\n",
       " 'dosa',\n",
       " 'idly',\n",
       " 'puri',\n",
       " 'punugulu',\n",
       " 'roti',\n",
       " 'chapathi',\n",
       " 'parota',\n",
       " 'mysoor baji',\n",
       " 'minapa baji']"
      ]
     },
     "execution_count": 3,
     "metadata": {},
     "output_type": "execute_result"
    }
   ],
   "source": [
    "breakfast_items"
   ]
  },
  {
   "cell_type": "code",
   "execution_count": 13,
   "id": "739c1057",
   "metadata": {},
   "outputs": [
    {
     "data": {
      "text/plain": [
       "'mysoor baji'"
      ]
     },
     "execution_count": 13,
     "metadata": {},
     "output_type": "execute_result"
    }
   ],
   "source": [
    "breakfast_items[-2]"
   ]
  },
  {
   "cell_type": "code",
   "execution_count": 26,
   "id": "f85d1a08",
   "metadata": {},
   "outputs": [],
   "source": [
    "friend_name1=\"ruchitha\"\n",
    "friend_name2=\"geetha\"\n",
    "Friend_name3=\"divya\""
   ]
  },
  {
   "cell_type": "code",
   "execution_count": 27,
   "id": "6076db7c",
   "metadata": {
    "scrolled": true
   },
   "outputs": [
    {
     "name": "stdout",
     "output_type": "stream",
     "text": [
      "ruchitha , geetha , divya\n"
     ]
    }
   ],
   "source": [
    "print(a,\",\",b,\",\",c)"
   ]
  },
  {
   "cell_type": "code",
   "execution_count": null,
   "id": "f5695ac2",
   "metadata": {},
   "outputs": [],
   "source": [
    "\n",
    "12. tollywood_heros=[\"chiru\", \"balaya\", \"nag\",\"venky\",\"powerstar\",\"superstar\",\"ntr\",\"ramcharan\"], write a program?\n",
    "expected output:tollywood_heros=[\"chiranjeevi\", \"balakrishan\", \"nagarjuna\",\"venky\",\"pawan kalyan\",\"maheshbabu\",\"NT rama rao\",\"ramcharan\"]\n"
   ]
  },
  {
   "cell_type": "code",
   "execution_count": 4,
   "id": "e1012d71",
   "metadata": {},
   "outputs": [],
   "source": [
    "tollywood_heros=[\"chiru\", \"balaya\", \"nag\",\"venky\",\"powerstar\",\"superstar\",\"ntr\",\"ramcharn\"]"
   ]
  },
  {
   "cell_type": "code",
   "execution_count": 5,
   "id": "a5544b02",
   "metadata": {},
   "outputs": [],
   "source": [
    "tollywood_heros[0]=\"chiranjeevi\"\n",
    "tollywood_heros[1]=\"balakrishna\"\n",
    "tollywood_heros[2]=\"nagarjuna\"\n",
    "tollywood_heros[3]=\"venkatesh\"\n",
    "tollywood_heros[4]=\"pavan kalyan\"\n",
    "tollywood_heros[5]=\"rajinikanth\"\n",
    "tollywood_heros[6]=\"Jr.N.T.R.\"\n",
    "tollywood_heros[7]=\"RamCharan\""
   ]
  },
  {
   "cell_type": "code",
   "execution_count": 6,
   "id": "4cdb5b5a",
   "metadata": {},
   "outputs": [],
   "source": [
    "tollywood_heros[6]=\"Jr.N.T.R.\"\n",
    "tollywood_heros[7]=\"RamCharan\""
   ]
  },
  {
   "cell_type": "code",
   "execution_count": 7,
   "id": "804dc2bf",
   "metadata": {},
   "outputs": [
    {
     "data": {
      "text/plain": [
       "['chiranjeevi',\n",
       " 'balakrishna',\n",
       " 'nagarjuna',\n",
       " 'venkatesh',\n",
       " 'pavan kalyan',\n",
       " 'rajinikanth',\n",
       " 'Jr.N.T.R.',\n",
       " 'RamCharan']"
      ]
     },
     "execution_count": 7,
     "metadata": {},
     "output_type": "execute_result"
    }
   ],
   "source": [
    "tollywood_heros"
   ]
  },
  {
   "cell_type": "code",
   "execution_count": 3,
   "id": "b8011daf",
   "metadata": {},
   "outputs": [
    {
     "data": {
      "text/plain": [
       "['chiranjeevi',\n",
       " 'balakrishna',\n",
       " 'nagarjuna',\n",
       " 'venkatesh',\n",
       " 'pavan kalyan',\n",
       " 'rajinikanth',\n",
       " 'Jr.N.T.R.',\n",
       " 'RamCharan']"
      ]
     },
     "execution_count": 3,
     "metadata": {},
     "output_type": "execute_result"
    }
   ],
   "source": [
    "tollywood_heros"
   ]
  },
  {
   "cell_type": "code",
   "execution_count": 4,
   "id": "371ec023",
   "metadata": {},
   "outputs": [],
   "source": [
    " bollywood_heros=[\"sharukkhan\", \"salmankhan\", \"salmankhan\",\"amirkhan\",\"HrithikRoshan\",\"Amitabh Bachchan\",\"Akshay Kumar\",\"amirkhan\"]"
   ]
  },
  {
   "cell_type": "code",
   "execution_count": 5,
   "id": "1eef394e",
   "metadata": {},
   "outputs": [],
   "source": [
    "seq_set=set(bollywood_heros)"
   ]
  },
  {
   "cell_type": "code",
   "execution_count": 7,
   "id": "68902ac6",
   "metadata": {},
   "outputs": [
    {
     "data": {
      "text/plain": [
       "{'Akshay Kumar',\n",
       " 'Amitabh Bachchan',\n",
       " 'HrithikRoshan',\n",
       " 'amirkhan',\n",
       " 'salmankhan',\n",
       " 'sharukkhan'}"
      ]
     },
     "execution_count": 7,
     "metadata": {},
     "output_type": "execute_result"
    }
   ],
   "source": [
    "seq_set"
   ]
  },
  {
   "cell_type": "code",
   "execution_count": 1,
   "id": "0b5c1522",
   "metadata": {},
   "outputs": [
    {
     "name": "stdout",
     "output_type": "stream",
     "text": [
      "jayasri\n"
     ]
    }
   ],
   "source": [
    "print('jayasri')"
   ]
  },
  {
   "cell_type": "code",
   "execution_count": null,
   "id": "86816aa1",
   "metadata": {},
   "outputs": [],
   "source": []
  }
 ],
 "metadata": {
  "kernelspec": {
   "display_name": "Python 3 (ipykernel)",
   "language": "python",
   "name": "python3"
  },
  "language_info": {
   "codemirror_mode": {
    "name": "ipython",
    "version": 3
   },
   "file_extension": ".py",
   "mimetype": "text/x-python",
   "name": "python",
   "nbconvert_exporter": "python",
   "pygments_lexer": "ipython3",
   "version": "3.10.9"
  }
 },
 "nbformat": 4,
 "nbformat_minor": 5
}
