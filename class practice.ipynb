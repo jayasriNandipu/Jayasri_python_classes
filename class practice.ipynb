{
 "cells": [
  {
   "cell_type": "markdown",
   "id": "1a8961d5",
   "metadata": {},
   "source": []
  },
  {
   "cell_type": "code",
   "execution_count": 17,
   "id": "fe7a56a9",
   "metadata": {},
   "outputs": [],
   "source": [
    "name=[\"Jayasri\"]\n",
    "age=[24]\n",
    "gender=[\"female\"]\n",
    "location=[\"Pamarru\"]\n",
    "Qualification=[\"B.TECH\"]\n",
    "Hobbies=[\"reading books\",\"listening music\"]\n",
    "Git_repo_name=[\"dev_rose_product\"]\n",
    "best_friends=[\"ruchitha\",\"geetha\",\"naga lakshmi\",\"rajinii\",\"swarna\"]"
   ]
  },
  {
   "cell_type": "code",
   "execution_count": 4,
   "id": "7fe501fb",
   "metadata": {},
   "outputs": [
    {
     "data": {
      "text/plain": [
       "['Jayasri']"
      ]
     },
     "execution_count": 4,
     "metadata": {},
     "output_type": "execute_result"
    }
   ],
   "source": [
    "name"
   ]
  },
  {
   "cell_type": "code",
   "execution_count": 6,
   "id": "d7e5e83e",
   "metadata": {},
   "outputs": [
    {
     "data": {
      "text/plain": [
       "[24]"
      ]
     },
     "execution_count": 6,
     "metadata": {},
     "output_type": "execute_result"
    }
   ],
   "source": [
    "age"
   ]
  },
  {
   "cell_type": "code",
   "execution_count": 7,
   "id": "c8acc6a0",
   "metadata": {},
   "outputs": [
    {
     "data": {
      "text/plain": [
       "['female']"
      ]
     },
     "execution_count": 7,
     "metadata": {},
     "output_type": "execute_result"
    }
   ],
   "source": [
    "gender"
   ]
  },
  {
   "cell_type": "code",
   "execution_count": 8,
   "id": "ba940b37",
   "metadata": {},
   "outputs": [
    {
     "data": {
      "text/plain": [
       "['Pamarru']"
      ]
     },
     "execution_count": 8,
     "metadata": {},
     "output_type": "execute_result"
    }
   ],
   "source": [
    "location"
   ]
  },
  {
   "cell_type": "code",
   "execution_count": 11,
   "id": "47f46f5e",
   "metadata": {},
   "outputs": [
    {
     "data": {
      "text/plain": [
       "['B.TECH']"
      ]
     },
     "execution_count": 11,
     "metadata": {},
     "output_type": "execute_result"
    }
   ],
   "source": [
    "Qualification"
   ]
  },
  {
   "cell_type": "code",
   "execution_count": 13,
   "id": "27be644e",
   "metadata": {},
   "outputs": [
    {
     "data": {
      "text/plain": [
       "['reading books', 'listening music']"
      ]
     },
     "execution_count": 13,
     "metadata": {},
     "output_type": "execute_result"
    }
   ],
   "source": [
    "Hobbies"
   ]
  },
  {
   "cell_type": "code",
   "execution_count": 14,
   "id": "9b8282c6",
   "metadata": {},
   "outputs": [
    {
     "data": {
      "text/plain": [
       "['ruchitha', 'geetha', 'naga lakshmi', 'rajinii', 'swarna']"
      ]
     },
     "execution_count": 14,
     "metadata": {},
     "output_type": "execute_result"
    }
   ],
   "source": [
    "best_friends"
   ]
  },
  {
   "cell_type": "code",
   "execution_count": 18,
   "id": "1ad04b5a",
   "metadata": {},
   "outputs": [
    {
     "data": {
      "text/plain": [
       "['dev_rose_product']"
      ]
     },
     "execution_count": 18,
     "metadata": {},
     "output_type": "execute_result"
    }
   ],
   "source": [
    "Git_repo_name"
   ]
  },
  {
   "cell_type": "code",
   "execution_count": 22,
   "id": "b5f07cb9",
   "metadata": {},
   "outputs": [
    {
     "ename": "SyntaxError",
     "evalue": "unexpected character after line continuation character (907718886.py, line 1)",
     "output_type": "error",
     "traceback": [
      "\u001b[1;36m  Cell \u001b[1;32mIn[22], line 1\u001b[1;36m\u001b[0m\n\u001b[1;33m    print(name\\nage\\ngender\\nlocation\\nqualification\\nhobbies\\ngit_repo_name\\nbestfriends)\u001b[0m\n\u001b[1;37m               ^\u001b[0m\n\u001b[1;31mSyntaxError\u001b[0m\u001b[1;31m:\u001b[0m unexpected character after line continuation character\n"
     ]
    }
   ],
   "source": [
    "print(name\\nage\\ngender\\nlocation\\nqualification\\nhobbies\\ngit_repo_name\\nbestfriends)"
   ]
  }
 ],
 "metadata": {
  "kernelspec": {
   "display_name": "Python 3 (ipykernel)",
   "language": "python",
   "name": "python3"
  },
  "language_info": {
   "codemirror_mode": {
    "name": "ipython",
    "version": 3
   },
   "file_extension": ".py",
   "mimetype": "text/x-python",
   "name": "python",
   "nbconvert_exporter": "python",
   "pygments_lexer": "ipython3",
   "version": "3.10.9"
  }
 },
 "nbformat": 4,
 "nbformat_minor": 5
}
