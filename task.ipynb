{
 "cells": [
  {
   "cell_type": "code",
   "execution_count": 1,
   "id": "2ee6d150",
   "metadata": {},
   "outputs": [],
   "source": [
    "def amazon_online_offer(product,discount):\n",
    "    if product==\"electric_type\":\n",
    "        discount=0.2\n",
    "    elif product==\"cloth\":\n",
    "        discount=0.3\n",
    "    else:\n",
    "        product==\"footware\"\n",
    "        discount=0.4\n",
    "    return discount"
   ]
  },
  {
   "cell_type": "code",
   "execution_count": 4,
   "id": "c5e1f823",
   "metadata": {},
   "outputs": [
    {
     "data": {
      "text/plain": [
       "0.3"
      ]
     },
     "execution_count": 4,
     "metadata": {},
     "output_type": "execute_result"
    }
   ],
   "source": [
    "amazon_online_offer(\"cloth\",0.3)"
   ]
  },
  {
   "cell_type": "code",
   "execution_count": 15,
   "id": "315052d1",
   "metadata": {},
   "outputs": [],
   "source": [
    "def products(purchase_product):\n",
    "    if purchase_product==\"a\":\n",
    "        print(\"jio offer:0.3\")\n",
    "        print(\"relaince offer:0.4\")\n",
    "    if purchase_product==\"b\":\n",
    "        print(\"jio offer:0.3\")\n",
    "        print(\"relaince offer:0.4\")\n",
    "        print(\"\")\n",
    "       \n",
    "    "
   ]
  },
  {
   "cell_type": "code",
   "execution_count": 16,
   "id": "184e3551",
   "metadata": {},
   "outputs": [
    {
     "name": "stdout",
     "output_type": "stream",
     "text": [
      "reliance offer:0.5\n",
      "reliance offer:0.9\n"
     ]
    }
   ],
   "source": [
    "products(\"a+b\")"
   ]
  },
  {
   "cell_type": "code",
   "execution_count": 40,
   "id": "cc3a95c1",
   "metadata": {},
   "outputs": [],
   "source": [
    "def jio_mart_offer(product):\n",
    "    if product==\"A\":\n",
    "        print(\"offer=0.3\")\n",
    "    elif product==\"B\":\n",
    "        print(\"offer=0.5\")\n",
    "    elif product==\"A+B\":\n",
    "        print(\"offer=0.5\")\n",
    "    elif product==\"C\":\n",
    "        print(\"offer=0\")\n",
    "    elif product==\"A+B+C\":\n",
    "        print(\"offer=0.7\")\n",
    "    elif product==\"D\":\n",
    "        print(\"offer=0\")\n",
    "    elif product==\"A+B+C+D\":\n",
    "        print(\"offer=0.9\")\n",
    "    return jio_mart_offer"
   ]
  },
  {
   "cell_type": "code",
   "execution_count": 42,
   "id": "51c7f371",
   "metadata": {},
   "outputs": [
    {
     "name": "stdout",
     "output_type": "stream",
     "text": [
      "offer=0.3\n"
     ]
    },
    {
     "data": {
      "text/plain": [
       "<function __main__.jio_mart_offer(product)>"
      ]
     },
     "execution_count": 42,
     "metadata": {},
     "output_type": "execute_result"
    }
   ],
   "source": [
    "jio_mart_offer(\"A\")"
   ]
  },
  {
   "cell_type": "code",
   "execution_count": 18,
   "id": "67c48e41",
   "metadata": {},
   "outputs": [
    {
     "ename": "NameError",
     "evalue": "name 'jayasri' is not defined",
     "output_type": "error",
     "traceback": [
      "\u001b[1;31m---------------------------------------------------------------------------\u001b[0m",
      "\u001b[1;31mNameError\u001b[0m                                 Traceback (most recent call last)",
      "Cell \u001b[1;32mIn[18], line 1\u001b[0m\n\u001b[1;32m----> 1\u001b[0m event\u001b[38;5;241m=\u001b[39m{\u001b[38;5;124m\"\u001b[39m\u001b[38;5;124mname\u001b[39m\u001b[38;5;124m\"\u001b[39m\u001b[38;5;241m==\u001b[39m\u001b[43mjayasri\u001b[49m,\u001b[38;5;124m\"\u001b[39m\u001b[38;5;124mamount\u001b[39m\u001b[38;5;124m\"\u001b[39m\u001b[38;5;241m==\u001b[39mamount,\u001b[38;5;124m\"\u001b[39m\u001b[38;5;124maccount_number\u001b[39m\u001b[38;5;124m\"\u001b[39m\u001b[38;5;241m==\u001b[39maccount_number}\n",
      "\u001b[1;31mNameError\u001b[0m: name 'jayasri' is not defined"
     ]
    }
   ],
   "source": [
    "event={\"name\"==jayasri,\"amount\"==amount,\"account_number\"==1234567}"
   ]
  },
  {
   "cell_type": "code",
   "execution_count": 73,
   "id": "214d0734",
   "metadata": {},
   "outputs": [],
   "source": [
    "\n",
    "#print(\"event is\"=event)\n",
    "jayasri_amount=10000\n",
    "anusha_amount=10000\n",
    "parvin_amount=10000\n",
    "mouni_amount=10000\n",
    "nasheena_amount=10000\n",
    "\n",
    "\n",
    "\n",
    "event={\"name\":\"mouni\",\"account_number\":1234567,\"amount\":10000}\n",
    "def bank_balance(event):\n",
    "    if event[\"name\"]==\"jayasri\":\n",
    "        balance=[jayasri_amount+(event[\"amount\"]*0.5)+event[\"amount\"]]\n",
    "    elif event[\"name\"]==\"parvin\":\n",
    "        balance=[parvin_amount+(event[\"amount\"]*0.10)+event[\"amount\"]]\n",
    "    elif event[\"name\"]==\"anusha\":\n",
    "        balance=[anusha_amount+(event[\"amount\"]*0.10)+event[\"amount\"]]\n",
    "    elif event[\"name\"]==\"nasheena\":\n",
    "        balance=[nasheena_amount+(event[\"amount\"]*0.5)+event[\"amount\"]]\n",
    "    elif event[\"name\"]==\"mouni\":\n",
    "        balance=[mouni_amount+(event[\"amount\"]*0.5)+event[\"amount\"]]\n",
    "    else:\n",
    "        balance=0\n",
    "    return balance\n",
    "#final_output={\"name\":event[\"name\"],\"account_number\":event[\"account_number\"],\"balance\":balance}"
   ]
  },
  {
   "cell_type": "code",
   "execution_count": 97,
   "id": "8203711b",
   "metadata": {},
   "outputs": [],
   "source": [
    "jayasri_amount=10000\n",
    "anusha_amount=10000\n",
    "parvin_amount=10000\n",
    "mouni_amount=10000\n",
    "nasheena_amount=10000\n",
    "\n",
    "event={\"name\":\"anusha\",\"account_number\":9846352789,\"amount\":10000,\"location\":\"metro\"}\n",
    "    \n",
    "def bank_balance(event):\n",
    "\n",
    "    if event[\"name\"]==\"jayasri\" and event[\"account_number\"]==9846352789:\n",
    "        if event[\"location\"]==\"metro\":\n",
    "            balance=[jayasri_amount+(event[\"amount\"]*0.10)+event[\"amount\"]]\n",
    "        elif event[\"location\"]==\"non_metro\":\n",
    "            balance=[jayasri_amount+(event[\"amount\"]*0.5)+event[\"amount\"]]\n",
    "    if event[\"name\"]==\"anusha\" and event[\"account_number\"]==9846352789:\n",
    "        if event[\"location\"]==\"metro\":\n",
    "            balance=[anusha_amount+(event[\"amount\"]*0.5)+event[\"amount\"]]\n",
    "        elif event[\"location\"]==\"non_metro\":\n",
    "            balance=[anusha_amount+(event[\"amount\"]*0.10)+event[\"amount\"]]\n",
    "    if event[\"name\"]==\"mouni\" and event[\"account_number\"]==9846352789:\n",
    "        if event[\"location\"]==\"metro\":\n",
    "            balance=[mouni_amount+(event[\"amount\"]*0.10)+event[\"amount\"]]\n",
    "        elif event[\"location\"]==\"non_metro\":\n",
    "            balance=[mouni_amount+(event[\"amount\"]*0.5)+event[\"amount\"]]\n",
    "    return balance\n",
    "\n"
   ]
  },
  {
   "cell_type": "code",
   "execution_count": 98,
   "id": "43ce7fc2",
   "metadata": {},
   "outputs": [
    {
     "data": {
      "text/plain": [
       "[25000.0]"
      ]
     },
     "execution_count": 98,
     "metadata": {},
     "output_type": "execute_result"
    }
   ],
   "source": [
    "bank_balance({\"name\":\"anusha\",\"account_number\":9846352789,\"amount\":10000,\"location\":\"metro\"})"
   ]
  },
  {
   "cell_type": "code",
   "execution_count": null,
   "id": "5d1199cb",
   "metadata": {},
   "outputs": [],
   "source": []
  },
  {
   "cell_type": "code",
   "execution_count": null,
   "id": "1b7f053e",
   "metadata": {},
   "outputs": [],
   "source": [
    " "
   ]
  },
  {
   "cell_type": "code",
   "execution_count": null,
   "id": "297dbf00",
   "metadata": {},
   "outputs": [],
   "source": []
  },
  {
   "cell_type": "code",
   "execution_count": null,
   "id": "1a2ac3de",
   "metadata": {},
   "outputs": [],
   "source": []
  },
  {
   "cell_type": "code",
   "execution_count": null,
   "id": "1bead2b0",
   "metadata": {},
   "outputs": [],
   "source": []
  },
  {
   "cell_type": "code",
   "execution_count": 75,
   "id": "eaeb7ae6",
   "metadata": {},
   "outputs": [
    {
     "data": {
      "text/plain": [
       "[25000.0]"
      ]
     },
     "execution_count": 75,
     "metadata": {},
     "output_type": "execute_result"
    }
   ],
   "source": [
    "    bank_balance({\"name\":\"mouni\",\"account_number\":1234567,\"amount\":10000})"
   ]
  },
  {
   "cell_type": "code",
   "execution_count": 72,
   "id": "d601469d",
   "metadata": {},
   "outputs": [
    {
     "ename": "SyntaxError",
     "evalue": "invalid syntax (3758248440.py, line 2)",
     "output_type": "error",
     "traceback": [
      "\u001b[1;36m  Cell \u001b[1;32mIn[72], line 2\u001b[1;36m\u001b[0m\n\u001b[1;33m    balance=jayasri_amount+\u001b[0m\n\u001b[1;37m                           ^\u001b[0m\n\u001b[1;31mSyntaxError\u001b[0m\u001b[1;31m:\u001b[0m invalid syntax\n"
     ]
    }
   ],
   "source": [
    "if event[\"name\"==\"jayasri\"and event[\"location\"==\"metro\"]]:\n",
    "    balance=jayasri_amount+"
   ]
  },
  {
   "cell_type": "code",
   "execution_count": null,
   "id": "0493b966",
   "metadata": {},
   "outputs": [],
   "source": []
  },
  {
   "cell_type": "code",
   "execution_count": null,
   "id": "23eb7263",
   "metadata": {},
   "outputs": [],
   "source": []
  },
  {
   "cell_type": "code",
   "execution_count": null,
   "id": "f9b8bb34",
   "metadata": {},
   "outputs": [],
   "source": []
  },
  {
   "cell_type": "code",
   "execution_count": null,
   "id": "4b611287",
   "metadata": {},
   "outputs": [],
   "source": []
  },
  {
   "cell_type": "code",
   "execution_count": 58,
   "id": "6775a530",
   "metadata": {},
   "outputs": [
    {
     "ename": "KeyError",
     "evalue": "False",
     "output_type": "error",
     "traceback": [
      "\u001b[1;31m---------------------------------------------------------------------------\u001b[0m",
      "\u001b[1;31mKeyError\u001b[0m                                  Traceback (most recent call last)",
      "Cell \u001b[1;32mIn[58], line 1\u001b[0m\n\u001b[1;32m----> 1\u001b[0m \u001b[38;5;28;01mif\u001b[39;00m \u001b[43mevent\u001b[49m\u001b[43m[\u001b[49m\u001b[38;5;124;43m\"\u001b[39;49m\u001b[38;5;124;43mname\u001b[39;49m\u001b[38;5;124;43m\"\u001b[39;49m\u001b[38;5;241;43m==\u001b[39;49m\u001b[38;5;124;43m\"\u001b[39;49m\u001b[38;5;124;43mjayasri\u001b[39;49m\u001b[38;5;124;43m\"\u001b[39;49m\u001b[38;5;129;43;01mand\u001b[39;49;00m\u001b[43m \u001b[49m\u001b[43mevent\u001b[49m\u001b[43m[\u001b[49m\u001b[38;5;124;43m\"\u001b[39;49m\u001b[38;5;124;43mlocation\u001b[39;49m\u001b[38;5;124;43m\"\u001b[39;49m\u001b[38;5;241;43m==\u001b[39;49m\u001b[38;5;124;43m\"\u001b[39;49m\u001b[38;5;124;43mmetro\u001b[39;49m\u001b[38;5;124;43m\"\u001b[39;49m\u001b[43m]\u001b[49m\u001b[43m]\u001b[49m:\n\u001b[0;32m      2\u001b[0m     final_output\u001b[38;5;241m=\u001b[39mjayasri\u001b[38;5;241m+\u001b[39mevent[\u001b[38;5;124m\"\u001b[39m\u001b[38;5;124mamount\u001b[39m\u001b[38;5;124m\"\u001b[39m],\u001b[38;5;124m\"\u001b[39m\u001b[38;5;124mmetro\u001b[39m\u001b[38;5;124m\"\u001b[39m\u001b[38;5;241m==\u001b[39m\u001b[38;5;124m\"\u001b[39m\u001b[38;5;124mbalance\u001b[39m\u001b[38;5;124m\"\u001b[39m\u001b[38;5;241m*\u001b[39m\u001b[38;5;241m0.10\u001b[39m\n",
      "\u001b[1;31mKeyError\u001b[0m: False"
     ]
    }
   ],
   "source": [
    "if event[\"name\"==\"jayasri\"and event[\"location\"==\"metro\"]]:\n",
    "    final_output=jayasri+event[\"amount\"],\"metro\"==\"balance\"*0.10"
   ]
  },
  {
   "cell_type": "code",
   "execution_count": null,
   "id": "ebd6a210",
   "metadata": {},
   "outputs": [],
   "source": []
  },
  {
   "cell_type": "code",
   "execution_count": null,
   "id": "6a591d6f",
   "metadata": {},
   "outputs": [],
   "source": []
  },
  {
   "cell_type": "code",
   "execution_count": null,
   "id": "1f2e23d2",
   "metadata": {},
   "outputs": [],
   "source": []
  },
  {
   "cell_type": "code",
   "execution_count": null,
   "id": "008faa0f",
   "metadata": {},
   "outputs": [],
   "source": [
    "\n",
    "\n",
    "bal_r=5000\n",
    "if event[\"name\"]==\"rukhiya\" or event[\"location\"]==\"nonmetro\":\n",
    "    balance=bal_rukhiya+event[\"amount\"],\"nonmetro\"==\"balance\"*.5\n",
    "\n",
    "     return({\"name\":event[\"name\"],\"amount\":event[\"amount\"],\"location\":event[\"location\"]})\n"
   ]
  },
  {
   "cell_type": "code",
   "execution_count": null,
   "id": "adff8817",
   "metadata": {},
   "outputs": [],
   "source": []
  }
 ],
 "metadata": {
  "kernelspec": {
   "display_name": "Python 3 (ipykernel)",
   "language": "python",
   "name": "python3"
  },
  "language_info": {
   "codemirror_mode": {
    "name": "ipython",
    "version": 3
   },
   "file_extension": ".py",
   "mimetype": "text/x-python",
   "name": "python",
   "nbconvert_exporter": "python",
   "pygments_lexer": "ipython3",
   "version": "3.10.9"
  }
 },
 "nbformat": 4,
 "nbformat_minor": 5
}
