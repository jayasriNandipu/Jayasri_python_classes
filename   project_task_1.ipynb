{
 "cells": [
  {
   "cell_type": "code",
   "execution_count": 1,
   "id": "0389a316",
   "metadata": {},
   "outputs": [],
   "source": [
    "# import bbb patients file\n"
   ]
  },
  {
   "cell_type": "code",
   "execution_count": 2,
   "id": "f8a56438",
   "metadata": {},
   "outputs": [
    {
     "data": {
      "text/html": [
       "<div>\n",
       "<style scoped>\n",
       "    .dataframe tbody tr th:only-of-type {\n",
       "        vertical-align: middle;\n",
       "    }\n",
       "\n",
       "    .dataframe tbody tr th {\n",
       "        vertical-align: top;\n",
       "    }\n",
       "\n",
       "    .dataframe thead th {\n",
       "        text-align: right;\n",
       "    }\n",
       "</style>\n",
       "<table border=\"1\" class=\"dataframe\">\n",
       "  <thead>\n",
       "    <tr style=\"text-align: right;\">\n",
       "      <th></th>\n",
       "      <th>patientid</th>\n",
       "      <th>membershipid</th>\n",
       "      <th>groupid</th>\n",
       "      <th>person_nbr</th>\n",
       "    </tr>\n",
       "  </thead>\n",
       "  <tbody>\n",
       "    <tr>\n",
       "      <th>0</th>\n",
       "      <td>10001</td>\n",
       "      <td>123456891</td>\n",
       "      <td>Upperbody</td>\n",
       "      <td>2386.041022</td>\n",
       "    </tr>\n",
       "    <tr>\n",
       "      <th>1</th>\n",
       "      <td>10002</td>\n",
       "      <td>123456891</td>\n",
       "      <td>Upperbody</td>\n",
       "      <td>7219.568003</td>\n",
       "    </tr>\n",
       "    <tr>\n",
       "      <th>2</th>\n",
       "      <td>10003</td>\n",
       "      <td>123456891</td>\n",
       "      <td>Upperbody</td>\n",
       "      <td>1110.167181</td>\n",
       "    </tr>\n",
       "    <tr>\n",
       "      <th>3</th>\n",
       "      <td>10004</td>\n",
       "      <td>123456891</td>\n",
       "      <td>Upperbody</td>\n",
       "      <td>4522.639998</td>\n",
       "    </tr>\n",
       "    <tr>\n",
       "      <th>4</th>\n",
       "      <td>10005</td>\n",
       "      <td>123456891</td>\n",
       "      <td>Upperbody</td>\n",
       "      <td>7305.192980</td>\n",
       "    </tr>\n",
       "    <tr>\n",
       "      <th>...</th>\n",
       "      <td>...</td>\n",
       "      <td>...</td>\n",
       "      <td>...</td>\n",
       "      <td>...</td>\n",
       "    </tr>\n",
       "    <tr>\n",
       "      <th>10114</th>\n",
       "      <td>20115</td>\n",
       "      <td>123456896</td>\n",
       "      <td>Nerves</td>\n",
       "      <td>2985.574310</td>\n",
       "    </tr>\n",
       "    <tr>\n",
       "      <th>10115</th>\n",
       "      <td>20116</td>\n",
       "      <td>123456896</td>\n",
       "      <td>Nerves</td>\n",
       "      <td>9698.888692</td>\n",
       "    </tr>\n",
       "    <tr>\n",
       "      <th>10116</th>\n",
       "      <td>20117</td>\n",
       "      <td>123456896</td>\n",
       "      <td>Nerves</td>\n",
       "      <td>3305.456074</td>\n",
       "    </tr>\n",
       "    <tr>\n",
       "      <th>10117</th>\n",
       "      <td>20118</td>\n",
       "      <td>123456896</td>\n",
       "      <td>Nerves</td>\n",
       "      <td>9179.853623</td>\n",
       "    </tr>\n",
       "    <tr>\n",
       "      <th>10118</th>\n",
       "      <td>20119</td>\n",
       "      <td>123456896</td>\n",
       "      <td>Nerves</td>\n",
       "      <td>2048.429434</td>\n",
       "    </tr>\n",
       "  </tbody>\n",
       "</table>\n",
       "<p>10119 rows × 4 columns</p>\n",
       "</div>"
      ],
      "text/plain": [
       "       patientid  membershipid    groupid   person_nbr\n",
       "0          10001     123456891  Upperbody  2386.041022\n",
       "1          10002     123456891  Upperbody  7219.568003\n",
       "2          10003     123456891  Upperbody  1110.167181\n",
       "3          10004     123456891  Upperbody  4522.639998\n",
       "4          10005     123456891  Upperbody  7305.192980\n",
       "...          ...           ...        ...          ...\n",
       "10114      20115     123456896     Nerves  2985.574310\n",
       "10115      20116     123456896     Nerves  9698.888692\n",
       "10116      20117     123456896     Nerves  3305.456074\n",
       "10117      20118     123456896     Nerves  9179.853623\n",
       "10118      20119     123456896     Nerves  2048.429434\n",
       "\n",
       "[10119 rows x 4 columns]"
      ]
     },
     "execution_count": 2,
     "metadata": {},
     "output_type": "execute_result"
    }
   ],
   "source": [
    "import pandas as pd\n",
    "df_bb_pati=pd.read_excel(r\"C:\\Users\\hp\\Downloads\\Insurance_Customers.xlsx\",sheet_name=\"BBB_Patients\")\n",
    "df_bb_pati"
   ]
  },
  {
   "cell_type": "code",
   "execution_count": 3,
   "id": "f7506927",
   "metadata": {},
   "outputs": [],
   "source": [
    "# basic checks\n"
   ]
  },
  {
   "cell_type": "code",
   "execution_count": 4,
   "id": "70bfe372",
   "metadata": {},
   "outputs": [
    {
     "data": {
      "text/plain": [
       "(10119, 4)"
      ]
     },
     "execution_count": 4,
     "metadata": {},
     "output_type": "execute_result"
    }
   ],
   "source": [
    "df_bb_pati.shape"
   ]
  },
  {
   "cell_type": "code",
   "execution_count": 5,
   "id": "c7900d7f",
   "metadata": {},
   "outputs": [
    {
     "data": {
      "text/plain": [
       "Index(['patientid', 'membershipid', 'groupid', 'person_nbr'], dtype='object')"
      ]
     },
     "execution_count": 5,
     "metadata": {},
     "output_type": "execute_result"
    }
   ],
   "source": [
    "df_bb_pati.columns"
   ]
  },
  {
   "cell_type": "code",
   "execution_count": 6,
   "id": "500fa966",
   "metadata": {},
   "outputs": [
    {
     "data": {
      "text/html": [
       "<div>\n",
       "<style scoped>\n",
       "    .dataframe tbody tr th:only-of-type {\n",
       "        vertical-align: middle;\n",
       "    }\n",
       "\n",
       "    .dataframe tbody tr th {\n",
       "        vertical-align: top;\n",
       "    }\n",
       "\n",
       "    .dataframe thead th {\n",
       "        text-align: right;\n",
       "    }\n",
       "</style>\n",
       "<table border=\"1\" class=\"dataframe\">\n",
       "  <thead>\n",
       "    <tr style=\"text-align: right;\">\n",
       "      <th></th>\n",
       "      <th>patientid</th>\n",
       "      <th>membershipid</th>\n",
       "      <th>groupid</th>\n",
       "      <th>person_nbr</th>\n",
       "    </tr>\n",
       "  </thead>\n",
       "  <tbody>\n",
       "    <tr>\n",
       "      <th>0</th>\n",
       "      <td>10001</td>\n",
       "      <td>123456891</td>\n",
       "      <td>Upperbody</td>\n",
       "      <td>2386.041022</td>\n",
       "    </tr>\n",
       "    <tr>\n",
       "      <th>1</th>\n",
       "      <td>10002</td>\n",
       "      <td>123456891</td>\n",
       "      <td>Upperbody</td>\n",
       "      <td>7219.568003</td>\n",
       "    </tr>\n",
       "    <tr>\n",
       "      <th>2</th>\n",
       "      <td>10003</td>\n",
       "      <td>123456891</td>\n",
       "      <td>Upperbody</td>\n",
       "      <td>1110.167181</td>\n",
       "    </tr>\n",
       "    <tr>\n",
       "      <th>3</th>\n",
       "      <td>10004</td>\n",
       "      <td>123456891</td>\n",
       "      <td>Upperbody</td>\n",
       "      <td>4522.639998</td>\n",
       "    </tr>\n",
       "    <tr>\n",
       "      <th>4</th>\n",
       "      <td>10005</td>\n",
       "      <td>123456891</td>\n",
       "      <td>Upperbody</td>\n",
       "      <td>7305.192980</td>\n",
       "    </tr>\n",
       "  </tbody>\n",
       "</table>\n",
       "</div>"
      ],
      "text/plain": [
       "   patientid  membershipid    groupid   person_nbr\n",
       "0      10001     123456891  Upperbody  2386.041022\n",
       "1      10002     123456891  Upperbody  7219.568003\n",
       "2      10003     123456891  Upperbody  1110.167181\n",
       "3      10004     123456891  Upperbody  4522.639998\n",
       "4      10005     123456891  Upperbody  7305.192980"
      ]
     },
     "execution_count": 6,
     "metadata": {},
     "output_type": "execute_result"
    }
   ],
   "source": [
    "df_bb_pati.head()"
   ]
  },
  {
   "cell_type": "code",
   "execution_count": 7,
   "id": "acbe8f61",
   "metadata": {},
   "outputs": [
    {
     "data": {
      "text/html": [
       "<div>\n",
       "<style scoped>\n",
       "    .dataframe tbody tr th:only-of-type {\n",
       "        vertical-align: middle;\n",
       "    }\n",
       "\n",
       "    .dataframe tbody tr th {\n",
       "        vertical-align: top;\n",
       "    }\n",
       "\n",
       "    .dataframe thead th {\n",
       "        text-align: right;\n",
       "    }\n",
       "</style>\n",
       "<table border=\"1\" class=\"dataframe\">\n",
       "  <thead>\n",
       "    <tr style=\"text-align: right;\">\n",
       "      <th></th>\n",
       "      <th>patientid</th>\n",
       "      <th>membershipid</th>\n",
       "      <th>groupid</th>\n",
       "      <th>person_nbr</th>\n",
       "    </tr>\n",
       "  </thead>\n",
       "  <tbody>\n",
       "    <tr>\n",
       "      <th>10114</th>\n",
       "      <td>20115</td>\n",
       "      <td>123456896</td>\n",
       "      <td>Nerves</td>\n",
       "      <td>2985.574310</td>\n",
       "    </tr>\n",
       "    <tr>\n",
       "      <th>10115</th>\n",
       "      <td>20116</td>\n",
       "      <td>123456896</td>\n",
       "      <td>Nerves</td>\n",
       "      <td>9698.888692</td>\n",
       "    </tr>\n",
       "    <tr>\n",
       "      <th>10116</th>\n",
       "      <td>20117</td>\n",
       "      <td>123456896</td>\n",
       "      <td>Nerves</td>\n",
       "      <td>3305.456074</td>\n",
       "    </tr>\n",
       "    <tr>\n",
       "      <th>10117</th>\n",
       "      <td>20118</td>\n",
       "      <td>123456896</td>\n",
       "      <td>Nerves</td>\n",
       "      <td>9179.853623</td>\n",
       "    </tr>\n",
       "    <tr>\n",
       "      <th>10118</th>\n",
       "      <td>20119</td>\n",
       "      <td>123456896</td>\n",
       "      <td>Nerves</td>\n",
       "      <td>2048.429434</td>\n",
       "    </tr>\n",
       "  </tbody>\n",
       "</table>\n",
       "</div>"
      ],
      "text/plain": [
       "       patientid  membershipid groupid   person_nbr\n",
       "10114      20115     123456896  Nerves  2985.574310\n",
       "10115      20116     123456896  Nerves  9698.888692\n",
       "10116      20117     123456896  Nerves  3305.456074\n",
       "10117      20118     123456896  Nerves  9179.853623\n",
       "10118      20119     123456896  Nerves  2048.429434"
      ]
     },
     "execution_count": 7,
     "metadata": {},
     "output_type": "execute_result"
    }
   ],
   "source": [
    "df_bb_pati.tail()"
   ]
  },
  {
   "cell_type": "code",
   "execution_count": 8,
   "id": "3b9b8f13",
   "metadata": {},
   "outputs": [],
   "source": [
    "#import the bb address file"
   ]
  },
  {
   "cell_type": "code",
   "execution_count": 9,
   "id": "cbd0c253",
   "metadata": {},
   "outputs": [
    {
     "data": {
      "text/html": [
       "<div>\n",
       "<style scoped>\n",
       "    .dataframe tbody tr th:only-of-type {\n",
       "        vertical-align: middle;\n",
       "    }\n",
       "\n",
       "    .dataframe tbody tr th {\n",
       "        vertical-align: top;\n",
       "    }\n",
       "\n",
       "    .dataframe thead th {\n",
       "        text-align: right;\n",
       "    }\n",
       "</style>\n",
       "<table border=\"1\" class=\"dataframe\">\n",
       "  <thead>\n",
       "    <tr style=\"text-align: right;\">\n",
       "      <th></th>\n",
       "      <th>patientid</th>\n",
       "      <th>membershipid</th>\n",
       "      <th>groupid</th>\n",
       "      <th>person_nbr</th>\n",
       "      <th>Primary_Phone_NBR</th>\n",
       "      <th>Phone2_NBR</th>\n",
       "      <th>Phone3_NBR</th>\n",
       "    </tr>\n",
       "  </thead>\n",
       "  <tbody>\n",
       "    <tr>\n",
       "      <th>0</th>\n",
       "      <td>10001</td>\n",
       "      <td>123456891</td>\n",
       "      <td>Upperbody</td>\n",
       "      <td>2.386041e+03</td>\n",
       "      <td>C</td>\n",
       "      <td>O</td>\n",
       "      <td>C</td>\n",
       "    </tr>\n",
       "    <tr>\n",
       "      <th>1</th>\n",
       "      <td>10002</td>\n",
       "      <td>123456891</td>\n",
       "      <td>Upperbody</td>\n",
       "      <td>7.219568e+03</td>\n",
       "      <td>C</td>\n",
       "      <td>O</td>\n",
       "      <td>C</td>\n",
       "    </tr>\n",
       "    <tr>\n",
       "      <th>2</th>\n",
       "      <td>10003</td>\n",
       "      <td>123456891</td>\n",
       "      <td>Upperbody</td>\n",
       "      <td>1.110167e+03</td>\n",
       "      <td>C</td>\n",
       "      <td>O</td>\n",
       "      <td>C</td>\n",
       "    </tr>\n",
       "    <tr>\n",
       "      <th>3</th>\n",
       "      <td>10004</td>\n",
       "      <td>123456891</td>\n",
       "      <td>Upperbody</td>\n",
       "      <td>4.522640e+03</td>\n",
       "      <td>C</td>\n",
       "      <td>O</td>\n",
       "      <td>C</td>\n",
       "    </tr>\n",
       "    <tr>\n",
       "      <th>4</th>\n",
       "      <td>10005</td>\n",
       "      <td>123456891</td>\n",
       "      <td>Upperbody</td>\n",
       "      <td>7.305193e+03</td>\n",
       "      <td>C</td>\n",
       "      <td>O</td>\n",
       "      <td>C</td>\n",
       "    </tr>\n",
       "    <tr>\n",
       "      <th>...</th>\n",
       "      <td>...</td>\n",
       "      <td>...</td>\n",
       "      <td>...</td>\n",
       "      <td>...</td>\n",
       "      <td>...</td>\n",
       "      <td>...</td>\n",
       "      <td>...</td>\n",
       "    </tr>\n",
       "    <tr>\n",
       "      <th>15989</th>\n",
       "      <td>25990</td>\n",
       "      <td>28862324</td>\n",
       "      <td>EarD</td>\n",
       "      <td>1.149511e+07</td>\n",
       "      <td>C</td>\n",
       "      <td>H</td>\n",
       "      <td>C</td>\n",
       "    </tr>\n",
       "    <tr>\n",
       "      <th>15990</th>\n",
       "      <td>25991</td>\n",
       "      <td>46570001</td>\n",
       "      <td>EarD</td>\n",
       "      <td>8.241271e+06</td>\n",
       "      <td>C</td>\n",
       "      <td>H</td>\n",
       "      <td>C</td>\n",
       "    </tr>\n",
       "    <tr>\n",
       "      <th>15991</th>\n",
       "      <td>25992</td>\n",
       "      <td>26399463</td>\n",
       "      <td>EarD</td>\n",
       "      <td>1.021972e+06</td>\n",
       "      <td>C</td>\n",
       "      <td>H</td>\n",
       "      <td>C</td>\n",
       "    </tr>\n",
       "    <tr>\n",
       "      <th>15992</th>\n",
       "      <td>25993</td>\n",
       "      <td>63512490</td>\n",
       "      <td>EarD</td>\n",
       "      <td>8.382799e+06</td>\n",
       "      <td>C</td>\n",
       "      <td>H</td>\n",
       "      <td>C</td>\n",
       "    </tr>\n",
       "    <tr>\n",
       "      <th>15993</th>\n",
       "      <td>25994</td>\n",
       "      <td>30518036</td>\n",
       "      <td>EarD</td>\n",
       "      <td>1.074175e+07</td>\n",
       "      <td>C</td>\n",
       "      <td>H</td>\n",
       "      <td>C</td>\n",
       "    </tr>\n",
       "  </tbody>\n",
       "</table>\n",
       "<p>15994 rows × 7 columns</p>\n",
       "</div>"
      ],
      "text/plain": [
       "       patientid  membershipid    groupid    person_nbr Primary_Phone_NBR  \\\n",
       "0          10001     123456891  Upperbody  2.386041e+03                 C   \n",
       "1          10002     123456891  Upperbody  7.219568e+03                 C   \n",
       "2          10003     123456891  Upperbody  1.110167e+03                 C   \n",
       "3          10004     123456891  Upperbody  4.522640e+03                 C   \n",
       "4          10005     123456891  Upperbody  7.305193e+03                 C   \n",
       "...          ...           ...        ...           ...               ...   \n",
       "15989      25990      28862324       EarD  1.149511e+07                 C   \n",
       "15990      25991      46570001       EarD  8.241271e+06                 C   \n",
       "15991      25992      26399463       EarD  1.021972e+06                 C   \n",
       "15992      25993      63512490       EarD  8.382799e+06                 C   \n",
       "15993      25994      30518036       EarD  1.074175e+07                 C   \n",
       "\n",
       "      Phone2_NBR Phone3_NBR  \n",
       "0              O          C  \n",
       "1              O          C  \n",
       "2              O          C  \n",
       "3              O          C  \n",
       "4              O          C  \n",
       "...          ...        ...  \n",
       "15989          H          C  \n",
       "15990          H          C  \n",
       "15991          H          C  \n",
       "15992          H          C  \n",
       "15993          H          C  \n",
       "\n",
       "[15994 rows x 7 columns]"
      ]
     },
     "execution_count": 9,
     "metadata": {},
     "output_type": "execute_result"
    }
   ],
   "source": [
    "df_bb_address=pd.read_excel(r\"C:\\Users\\hp\\Downloads\\Insurance_Customers.xlsx\",sheet_name=\"BBB_Address\")\n",
    "df_bb_address"
   ]
  },
  {
   "cell_type": "code",
   "execution_count": 10,
   "id": "61823139",
   "metadata": {},
   "outputs": [],
   "source": [
    "# ************************************basic checks******************************"
   ]
  },
  {
   "cell_type": "code",
   "execution_count": 11,
   "id": "33a7b63a",
   "metadata": {},
   "outputs": [
    {
     "data": {
      "text/plain": [
       "(15994, 7)"
      ]
     },
     "execution_count": 11,
     "metadata": {},
     "output_type": "execute_result"
    }
   ],
   "source": [
    "df_bb_address.shape"
   ]
  },
  {
   "cell_type": "code",
   "execution_count": 12,
   "id": "04367938",
   "metadata": {},
   "outputs": [
    {
     "data": {
      "text/plain": [
       "Index(['patientid', 'membershipid', 'groupid', 'person_nbr',\n",
       "       'Primary_Phone_NBR', 'Phone2_NBR', 'Phone3_NBR'],\n",
       "      dtype='object')"
      ]
     },
     "execution_count": 12,
     "metadata": {},
     "output_type": "execute_result"
    }
   ],
   "source": [
    "df_bb_address.columns"
   ]
  },
  {
   "cell_type": "code",
   "execution_count": 13,
   "id": "511e0f59",
   "metadata": {},
   "outputs": [
    {
     "data": {
      "text/html": [
       "<div>\n",
       "<style scoped>\n",
       "    .dataframe tbody tr th:only-of-type {\n",
       "        vertical-align: middle;\n",
       "    }\n",
       "\n",
       "    .dataframe tbody tr th {\n",
       "        vertical-align: top;\n",
       "    }\n",
       "\n",
       "    .dataframe thead th {\n",
       "        text-align: right;\n",
       "    }\n",
       "</style>\n",
       "<table border=\"1\" class=\"dataframe\">\n",
       "  <thead>\n",
       "    <tr style=\"text-align: right;\">\n",
       "      <th></th>\n",
       "      <th>patientid</th>\n",
       "      <th>membershipid</th>\n",
       "      <th>groupid</th>\n",
       "      <th>person_nbr</th>\n",
       "      <th>Primary_Phone_NBR</th>\n",
       "      <th>Phone2_NBR</th>\n",
       "      <th>Phone3_NBR</th>\n",
       "    </tr>\n",
       "  </thead>\n",
       "  <tbody>\n",
       "    <tr>\n",
       "      <th>0</th>\n",
       "      <td>10001</td>\n",
       "      <td>123456891</td>\n",
       "      <td>Upperbody</td>\n",
       "      <td>2386.041022</td>\n",
       "      <td>C</td>\n",
       "      <td>O</td>\n",
       "      <td>C</td>\n",
       "    </tr>\n",
       "    <tr>\n",
       "      <th>1</th>\n",
       "      <td>10002</td>\n",
       "      <td>123456891</td>\n",
       "      <td>Upperbody</td>\n",
       "      <td>7219.568003</td>\n",
       "      <td>C</td>\n",
       "      <td>O</td>\n",
       "      <td>C</td>\n",
       "    </tr>\n",
       "    <tr>\n",
       "      <th>2</th>\n",
       "      <td>10003</td>\n",
       "      <td>123456891</td>\n",
       "      <td>Upperbody</td>\n",
       "      <td>1110.167181</td>\n",
       "      <td>C</td>\n",
       "      <td>O</td>\n",
       "      <td>C</td>\n",
       "    </tr>\n",
       "    <tr>\n",
       "      <th>3</th>\n",
       "      <td>10004</td>\n",
       "      <td>123456891</td>\n",
       "      <td>Upperbody</td>\n",
       "      <td>4522.639998</td>\n",
       "      <td>C</td>\n",
       "      <td>O</td>\n",
       "      <td>C</td>\n",
       "    </tr>\n",
       "    <tr>\n",
       "      <th>4</th>\n",
       "      <td>10005</td>\n",
       "      <td>123456891</td>\n",
       "      <td>Upperbody</td>\n",
       "      <td>7305.192980</td>\n",
       "      <td>C</td>\n",
       "      <td>O</td>\n",
       "      <td>C</td>\n",
       "    </tr>\n",
       "  </tbody>\n",
       "</table>\n",
       "</div>"
      ],
      "text/plain": [
       "   patientid  membershipid    groupid   person_nbr Primary_Phone_NBR  \\\n",
       "0      10001     123456891  Upperbody  2386.041022                 C   \n",
       "1      10002     123456891  Upperbody  7219.568003                 C   \n",
       "2      10003     123456891  Upperbody  1110.167181                 C   \n",
       "3      10004     123456891  Upperbody  4522.639998                 C   \n",
       "4      10005     123456891  Upperbody  7305.192980                 C   \n",
       "\n",
       "  Phone2_NBR Phone3_NBR  \n",
       "0          O          C  \n",
       "1          O          C  \n",
       "2          O          C  \n",
       "3          O          C  \n",
       "4          O          C  "
      ]
     },
     "execution_count": 13,
     "metadata": {},
     "output_type": "execute_result"
    }
   ],
   "source": [
    "df_bb_address.head()"
   ]
  },
  {
   "cell_type": "code",
   "execution_count": 14,
   "id": "11b10770",
   "metadata": {},
   "outputs": [
    {
     "data": {
      "text/html": [
       "<div>\n",
       "<style scoped>\n",
       "    .dataframe tbody tr th:only-of-type {\n",
       "        vertical-align: middle;\n",
       "    }\n",
       "\n",
       "    .dataframe tbody tr th {\n",
       "        vertical-align: top;\n",
       "    }\n",
       "\n",
       "    .dataframe thead th {\n",
       "        text-align: right;\n",
       "    }\n",
       "</style>\n",
       "<table border=\"1\" class=\"dataframe\">\n",
       "  <thead>\n",
       "    <tr style=\"text-align: right;\">\n",
       "      <th></th>\n",
       "      <th>patientid</th>\n",
       "      <th>membershipid</th>\n",
       "      <th>groupid</th>\n",
       "      <th>person_nbr</th>\n",
       "      <th>Primary_Phone_NBR</th>\n",
       "      <th>Phone2_NBR</th>\n",
       "      <th>Phone3_NBR</th>\n",
       "    </tr>\n",
       "  </thead>\n",
       "  <tbody>\n",
       "    <tr>\n",
       "      <th>15989</th>\n",
       "      <td>25990</td>\n",
       "      <td>28862324</td>\n",
       "      <td>EarD</td>\n",
       "      <td>1.149511e+07</td>\n",
       "      <td>C</td>\n",
       "      <td>H</td>\n",
       "      <td>C</td>\n",
       "    </tr>\n",
       "    <tr>\n",
       "      <th>15990</th>\n",
       "      <td>25991</td>\n",
       "      <td>46570001</td>\n",
       "      <td>EarD</td>\n",
       "      <td>8.241271e+06</td>\n",
       "      <td>C</td>\n",
       "      <td>H</td>\n",
       "      <td>C</td>\n",
       "    </tr>\n",
       "    <tr>\n",
       "      <th>15991</th>\n",
       "      <td>25992</td>\n",
       "      <td>26399463</td>\n",
       "      <td>EarD</td>\n",
       "      <td>1.021972e+06</td>\n",
       "      <td>C</td>\n",
       "      <td>H</td>\n",
       "      <td>C</td>\n",
       "    </tr>\n",
       "    <tr>\n",
       "      <th>15992</th>\n",
       "      <td>25993</td>\n",
       "      <td>63512490</td>\n",
       "      <td>EarD</td>\n",
       "      <td>8.382799e+06</td>\n",
       "      <td>C</td>\n",
       "      <td>H</td>\n",
       "      <td>C</td>\n",
       "    </tr>\n",
       "    <tr>\n",
       "      <th>15993</th>\n",
       "      <td>25994</td>\n",
       "      <td>30518036</td>\n",
       "      <td>EarD</td>\n",
       "      <td>1.074175e+07</td>\n",
       "      <td>C</td>\n",
       "      <td>H</td>\n",
       "      <td>C</td>\n",
       "    </tr>\n",
       "  </tbody>\n",
       "</table>\n",
       "</div>"
      ],
      "text/plain": [
       "       patientid  membershipid groupid    person_nbr Primary_Phone_NBR  \\\n",
       "15989      25990      28862324    EarD  1.149511e+07                 C   \n",
       "15990      25991      46570001    EarD  8.241271e+06                 C   \n",
       "15991      25992      26399463    EarD  1.021972e+06                 C   \n",
       "15992      25993      63512490    EarD  8.382799e+06                 C   \n",
       "15993      25994      30518036    EarD  1.074175e+07                 C   \n",
       "\n",
       "      Phone2_NBR Phone3_NBR  \n",
       "15989          H          C  \n",
       "15990          H          C  \n",
       "15991          H          C  \n",
       "15992          H          C  \n",
       "15993          H          C  "
      ]
     },
     "execution_count": 14,
     "metadata": {},
     "output_type": "execute_result"
    }
   ],
   "source": [
    "df_bb_address.tail()"
   ]
  },
  {
   "cell_type": "code",
   "execution_count": 15,
   "id": "8c8507a8",
   "metadata": {},
   "outputs": [],
   "source": [
    "#****************left join*********************8"
   ]
  },
  {
   "cell_type": "code",
   "execution_count": 16,
   "id": "62b7538a",
   "metadata": {},
   "outputs": [
    {
     "data": {
      "text/html": [
       "<div>\n",
       "<style scoped>\n",
       "    .dataframe tbody tr th:only-of-type {\n",
       "        vertical-align: middle;\n",
       "    }\n",
       "\n",
       "    .dataframe tbody tr th {\n",
       "        vertical-align: top;\n",
       "    }\n",
       "\n",
       "    .dataframe thead th {\n",
       "        text-align: right;\n",
       "    }\n",
       "</style>\n",
       "<table border=\"1\" class=\"dataframe\">\n",
       "  <thead>\n",
       "    <tr style=\"text-align: right;\">\n",
       "      <th></th>\n",
       "      <th>patientid</th>\n",
       "      <th>membershipid</th>\n",
       "      <th>groupid</th>\n",
       "      <th>person_nbr</th>\n",
       "      <th>Primary_Phone_NBR</th>\n",
       "      <th>Phone2_NBR</th>\n",
       "      <th>Phone3_NBR</th>\n",
       "    </tr>\n",
       "  </thead>\n",
       "  <tbody>\n",
       "    <tr>\n",
       "      <th>0</th>\n",
       "      <td>10001</td>\n",
       "      <td>123456891</td>\n",
       "      <td>Upperbody</td>\n",
       "      <td>2386.041022</td>\n",
       "      <td>C</td>\n",
       "      <td>O</td>\n",
       "      <td>C</td>\n",
       "    </tr>\n",
       "    <tr>\n",
       "      <th>1</th>\n",
       "      <td>10002</td>\n",
       "      <td>123456891</td>\n",
       "      <td>Upperbody</td>\n",
       "      <td>7219.568003</td>\n",
       "      <td>C</td>\n",
       "      <td>O</td>\n",
       "      <td>C</td>\n",
       "    </tr>\n",
       "    <tr>\n",
       "      <th>2</th>\n",
       "      <td>10003</td>\n",
       "      <td>123456891</td>\n",
       "      <td>Upperbody</td>\n",
       "      <td>1110.167181</td>\n",
       "      <td>C</td>\n",
       "      <td>O</td>\n",
       "      <td>C</td>\n",
       "    </tr>\n",
       "    <tr>\n",
       "      <th>3</th>\n",
       "      <td>10004</td>\n",
       "      <td>123456891</td>\n",
       "      <td>Upperbody</td>\n",
       "      <td>4522.639998</td>\n",
       "      <td>C</td>\n",
       "      <td>O</td>\n",
       "      <td>C</td>\n",
       "    </tr>\n",
       "    <tr>\n",
       "      <th>4</th>\n",
       "      <td>10005</td>\n",
       "      <td>123456891</td>\n",
       "      <td>Upperbody</td>\n",
       "      <td>7305.192980</td>\n",
       "      <td>C</td>\n",
       "      <td>O</td>\n",
       "      <td>C</td>\n",
       "    </tr>\n",
       "    <tr>\n",
       "      <th>...</th>\n",
       "      <td>...</td>\n",
       "      <td>...</td>\n",
       "      <td>...</td>\n",
       "      <td>...</td>\n",
       "      <td>...</td>\n",
       "      <td>...</td>\n",
       "      <td>...</td>\n",
       "    </tr>\n",
       "    <tr>\n",
       "      <th>10114</th>\n",
       "      <td>20115</td>\n",
       "      <td>123456896</td>\n",
       "      <td>Nerves</td>\n",
       "      <td>2985.574310</td>\n",
       "      <td>C</td>\n",
       "      <td>H</td>\n",
       "      <td>C</td>\n",
       "    </tr>\n",
       "    <tr>\n",
       "      <th>10115</th>\n",
       "      <td>20116</td>\n",
       "      <td>123456896</td>\n",
       "      <td>Nerves</td>\n",
       "      <td>9698.888692</td>\n",
       "      <td>C</td>\n",
       "      <td>H</td>\n",
       "      <td>C</td>\n",
       "    </tr>\n",
       "    <tr>\n",
       "      <th>10116</th>\n",
       "      <td>20117</td>\n",
       "      <td>123456896</td>\n",
       "      <td>Nerves</td>\n",
       "      <td>3305.456074</td>\n",
       "      <td>C</td>\n",
       "      <td>H</td>\n",
       "      <td>C</td>\n",
       "    </tr>\n",
       "    <tr>\n",
       "      <th>10117</th>\n",
       "      <td>20118</td>\n",
       "      <td>123456896</td>\n",
       "      <td>Nerves</td>\n",
       "      <td>9179.853623</td>\n",
       "      <td>C</td>\n",
       "      <td>H</td>\n",
       "      <td>C</td>\n",
       "    </tr>\n",
       "    <tr>\n",
       "      <th>10118</th>\n",
       "      <td>20119</td>\n",
       "      <td>123456896</td>\n",
       "      <td>Nerves</td>\n",
       "      <td>2048.429434</td>\n",
       "      <td>C</td>\n",
       "      <td>H</td>\n",
       "      <td>C</td>\n",
       "    </tr>\n",
       "  </tbody>\n",
       "</table>\n",
       "<p>10119 rows × 7 columns</p>\n",
       "</div>"
      ],
      "text/plain": [
       "       patientid  membershipid    groupid   person_nbr Primary_Phone_NBR  \\\n",
       "0          10001     123456891  Upperbody  2386.041022                 C   \n",
       "1          10002     123456891  Upperbody  7219.568003                 C   \n",
       "2          10003     123456891  Upperbody  1110.167181                 C   \n",
       "3          10004     123456891  Upperbody  4522.639998                 C   \n",
       "4          10005     123456891  Upperbody  7305.192980                 C   \n",
       "...          ...           ...        ...          ...               ...   \n",
       "10114      20115     123456896     Nerves  2985.574310                 C   \n",
       "10115      20116     123456896     Nerves  9698.888692                 C   \n",
       "10116      20117     123456896     Nerves  3305.456074                 C   \n",
       "10117      20118     123456896     Nerves  9179.853623                 C   \n",
       "10118      20119     123456896     Nerves  2048.429434                 C   \n",
       "\n",
       "      Phone2_NBR Phone3_NBR  \n",
       "0              O          C  \n",
       "1              O          C  \n",
       "2              O          C  \n",
       "3              O          C  \n",
       "4              O          C  \n",
       "...          ...        ...  \n",
       "10114          H          C  \n",
       "10115          H          C  \n",
       "10116          H          C  \n",
       "10117          H          C  \n",
       "10118          H          C  \n",
       "\n",
       "[10119 rows x 7 columns]"
      ]
     },
     "execution_count": 16,
     "metadata": {},
     "output_type": "execute_result"
    }
   ],
   "source": [
    "df_pa_add_merge=df_bb_pati.merge(df_bb_address,how=\"left\",on=['patientid', 'membershipid', 'groupid', 'person_nbr'])\n",
    "df_pa_add_merge"
   ]
  },
  {
   "cell_type": "code",
   "execution_count": 17,
   "id": "6e52c48d",
   "metadata": {},
   "outputs": [],
   "source": [
    "# basic checks"
   ]
  },
  {
   "cell_type": "code",
   "execution_count": 18,
   "id": "bd436b1c",
   "metadata": {},
   "outputs": [
    {
     "data": {
      "text/html": [
       "<div>\n",
       "<style scoped>\n",
       "    .dataframe tbody tr th:only-of-type {\n",
       "        vertical-align: middle;\n",
       "    }\n",
       "\n",
       "    .dataframe tbody tr th {\n",
       "        vertical-align: top;\n",
       "    }\n",
       "\n",
       "    .dataframe thead th {\n",
       "        text-align: right;\n",
       "    }\n",
       "</style>\n",
       "<table border=\"1\" class=\"dataframe\">\n",
       "  <thead>\n",
       "    <tr style=\"text-align: right;\">\n",
       "      <th></th>\n",
       "      <th>patientid</th>\n",
       "      <th>membershipid</th>\n",
       "      <th>groupid</th>\n",
       "      <th>person_nbr</th>\n",
       "      <th>Primary_Phone_NBR</th>\n",
       "      <th>Phone2_NBR</th>\n",
       "      <th>Phone3_NBR</th>\n",
       "    </tr>\n",
       "  </thead>\n",
       "  <tbody>\n",
       "    <tr>\n",
       "      <th>0</th>\n",
       "      <td>10001</td>\n",
       "      <td>123456891</td>\n",
       "      <td>Upperbody</td>\n",
       "      <td>2386.041022</td>\n",
       "      <td>C</td>\n",
       "      <td>O</td>\n",
       "      <td>C</td>\n",
       "    </tr>\n",
       "    <tr>\n",
       "      <th>1</th>\n",
       "      <td>10002</td>\n",
       "      <td>123456891</td>\n",
       "      <td>Upperbody</td>\n",
       "      <td>7219.568003</td>\n",
       "      <td>C</td>\n",
       "      <td>O</td>\n",
       "      <td>C</td>\n",
       "    </tr>\n",
       "    <tr>\n",
       "      <th>2</th>\n",
       "      <td>10003</td>\n",
       "      <td>123456891</td>\n",
       "      <td>Upperbody</td>\n",
       "      <td>1110.167181</td>\n",
       "      <td>C</td>\n",
       "      <td>O</td>\n",
       "      <td>C</td>\n",
       "    </tr>\n",
       "    <tr>\n",
       "      <th>3</th>\n",
       "      <td>10004</td>\n",
       "      <td>123456891</td>\n",
       "      <td>Upperbody</td>\n",
       "      <td>4522.639998</td>\n",
       "      <td>C</td>\n",
       "      <td>O</td>\n",
       "      <td>C</td>\n",
       "    </tr>\n",
       "    <tr>\n",
       "      <th>4</th>\n",
       "      <td>10005</td>\n",
       "      <td>123456891</td>\n",
       "      <td>Upperbody</td>\n",
       "      <td>7305.192980</td>\n",
       "      <td>C</td>\n",
       "      <td>O</td>\n",
       "      <td>C</td>\n",
       "    </tr>\n",
       "  </tbody>\n",
       "</table>\n",
       "</div>"
      ],
      "text/plain": [
       "   patientid  membershipid    groupid   person_nbr Primary_Phone_NBR  \\\n",
       "0      10001     123456891  Upperbody  2386.041022                 C   \n",
       "1      10002     123456891  Upperbody  7219.568003                 C   \n",
       "2      10003     123456891  Upperbody  1110.167181                 C   \n",
       "3      10004     123456891  Upperbody  4522.639998                 C   \n",
       "4      10005     123456891  Upperbody  7305.192980                 C   \n",
       "\n",
       "  Phone2_NBR Phone3_NBR  \n",
       "0          O          C  \n",
       "1          O          C  \n",
       "2          O          C  \n",
       "3          O          C  \n",
       "4          O          C  "
      ]
     },
     "execution_count": 18,
     "metadata": {},
     "output_type": "execute_result"
    }
   ],
   "source": [
    "df_pa_add_merge.head()"
   ]
  },
  {
   "cell_type": "code",
   "execution_count": 19,
   "id": "d398e21b",
   "metadata": {},
   "outputs": [
    {
     "data": {
      "text/html": [
       "<div>\n",
       "<style scoped>\n",
       "    .dataframe tbody tr th:only-of-type {\n",
       "        vertical-align: middle;\n",
       "    }\n",
       "\n",
       "    .dataframe tbody tr th {\n",
       "        vertical-align: top;\n",
       "    }\n",
       "\n",
       "    .dataframe thead th {\n",
       "        text-align: right;\n",
       "    }\n",
       "</style>\n",
       "<table border=\"1\" class=\"dataframe\">\n",
       "  <thead>\n",
       "    <tr style=\"text-align: right;\">\n",
       "      <th></th>\n",
       "      <th>patientid</th>\n",
       "      <th>membershipid</th>\n",
       "      <th>groupid</th>\n",
       "      <th>person_nbr</th>\n",
       "      <th>Primary_Phone_NBR</th>\n",
       "      <th>Phone2_NBR</th>\n",
       "      <th>Phone3_NBR</th>\n",
       "    </tr>\n",
       "  </thead>\n",
       "  <tbody>\n",
       "    <tr>\n",
       "      <th>10114</th>\n",
       "      <td>20115</td>\n",
       "      <td>123456896</td>\n",
       "      <td>Nerves</td>\n",
       "      <td>2985.574310</td>\n",
       "      <td>C</td>\n",
       "      <td>H</td>\n",
       "      <td>C</td>\n",
       "    </tr>\n",
       "    <tr>\n",
       "      <th>10115</th>\n",
       "      <td>20116</td>\n",
       "      <td>123456896</td>\n",
       "      <td>Nerves</td>\n",
       "      <td>9698.888692</td>\n",
       "      <td>C</td>\n",
       "      <td>H</td>\n",
       "      <td>C</td>\n",
       "    </tr>\n",
       "    <tr>\n",
       "      <th>10116</th>\n",
       "      <td>20117</td>\n",
       "      <td>123456896</td>\n",
       "      <td>Nerves</td>\n",
       "      <td>3305.456074</td>\n",
       "      <td>C</td>\n",
       "      <td>H</td>\n",
       "      <td>C</td>\n",
       "    </tr>\n",
       "    <tr>\n",
       "      <th>10117</th>\n",
       "      <td>20118</td>\n",
       "      <td>123456896</td>\n",
       "      <td>Nerves</td>\n",
       "      <td>9179.853623</td>\n",
       "      <td>C</td>\n",
       "      <td>H</td>\n",
       "      <td>C</td>\n",
       "    </tr>\n",
       "    <tr>\n",
       "      <th>10118</th>\n",
       "      <td>20119</td>\n",
       "      <td>123456896</td>\n",
       "      <td>Nerves</td>\n",
       "      <td>2048.429434</td>\n",
       "      <td>C</td>\n",
       "      <td>H</td>\n",
       "      <td>C</td>\n",
       "    </tr>\n",
       "  </tbody>\n",
       "</table>\n",
       "</div>"
      ],
      "text/plain": [
       "       patientid  membershipid groupid   person_nbr Primary_Phone_NBR  \\\n",
       "10114      20115     123456896  Nerves  2985.574310                 C   \n",
       "10115      20116     123456896  Nerves  9698.888692                 C   \n",
       "10116      20117     123456896  Nerves  3305.456074                 C   \n",
       "10117      20118     123456896  Nerves  9179.853623                 C   \n",
       "10118      20119     123456896  Nerves  2048.429434                 C   \n",
       "\n",
       "      Phone2_NBR Phone3_NBR  \n",
       "10114          H          C  \n",
       "10115          H          C  \n",
       "10116          H          C  \n",
       "10117          H          C  \n",
       "10118          H          C  "
      ]
     },
     "execution_count": 19,
     "metadata": {},
     "output_type": "execute_result"
    }
   ],
   "source": [
    "df_pa_add_merge.tail()"
   ]
  },
  {
   "cell_type": "code",
   "execution_count": 20,
   "id": "05a4a781",
   "metadata": {},
   "outputs": [],
   "source": [
    "# ******************** adding a new column***************"
   ]
  },
  {
   "cell_type": "code",
   "execution_count": 21,
   "id": "29ec9f10",
   "metadata": {},
   "outputs": [],
   "source": [
    "df_pa_add_merge[\"cellflag\"]=\"\""
   ]
  },
  {
   "cell_type": "code",
   "execution_count": 22,
   "id": "f26c676f",
   "metadata": {},
   "outputs": [
    {
     "data": {
      "text/html": [
       "<div>\n",
       "<style scoped>\n",
       "    .dataframe tbody tr th:only-of-type {\n",
       "        vertical-align: middle;\n",
       "    }\n",
       "\n",
       "    .dataframe tbody tr th {\n",
       "        vertical-align: top;\n",
       "    }\n",
       "\n",
       "    .dataframe thead th {\n",
       "        text-align: right;\n",
       "    }\n",
       "</style>\n",
       "<table border=\"1\" class=\"dataframe\">\n",
       "  <thead>\n",
       "    <tr style=\"text-align: right;\">\n",
       "      <th></th>\n",
       "      <th>patientid</th>\n",
       "      <th>membershipid</th>\n",
       "      <th>groupid</th>\n",
       "      <th>person_nbr</th>\n",
       "      <th>Primary_Phone_NBR</th>\n",
       "      <th>Phone2_NBR</th>\n",
       "      <th>Phone3_NBR</th>\n",
       "      <th>cellflag</th>\n",
       "    </tr>\n",
       "  </thead>\n",
       "  <tbody>\n",
       "    <tr>\n",
       "      <th>0</th>\n",
       "      <td>10001</td>\n",
       "      <td>123456891</td>\n",
       "      <td>Upperbody</td>\n",
       "      <td>2386.041022</td>\n",
       "      <td>C</td>\n",
       "      <td>O</td>\n",
       "      <td>C</td>\n",
       "      <td></td>\n",
       "    </tr>\n",
       "    <tr>\n",
       "      <th>1</th>\n",
       "      <td>10002</td>\n",
       "      <td>123456891</td>\n",
       "      <td>Upperbody</td>\n",
       "      <td>7219.568003</td>\n",
       "      <td>C</td>\n",
       "      <td>O</td>\n",
       "      <td>C</td>\n",
       "      <td></td>\n",
       "    </tr>\n",
       "    <tr>\n",
       "      <th>2</th>\n",
       "      <td>10003</td>\n",
       "      <td>123456891</td>\n",
       "      <td>Upperbody</td>\n",
       "      <td>1110.167181</td>\n",
       "      <td>C</td>\n",
       "      <td>O</td>\n",
       "      <td>C</td>\n",
       "      <td></td>\n",
       "    </tr>\n",
       "    <tr>\n",
       "      <th>3</th>\n",
       "      <td>10004</td>\n",
       "      <td>123456891</td>\n",
       "      <td>Upperbody</td>\n",
       "      <td>4522.639998</td>\n",
       "      <td>C</td>\n",
       "      <td>O</td>\n",
       "      <td>C</td>\n",
       "      <td></td>\n",
       "    </tr>\n",
       "    <tr>\n",
       "      <th>4</th>\n",
       "      <td>10005</td>\n",
       "      <td>123456891</td>\n",
       "      <td>Upperbody</td>\n",
       "      <td>7305.192980</td>\n",
       "      <td>C</td>\n",
       "      <td>O</td>\n",
       "      <td>C</td>\n",
       "      <td></td>\n",
       "    </tr>\n",
       "    <tr>\n",
       "      <th>...</th>\n",
       "      <td>...</td>\n",
       "      <td>...</td>\n",
       "      <td>...</td>\n",
       "      <td>...</td>\n",
       "      <td>...</td>\n",
       "      <td>...</td>\n",
       "      <td>...</td>\n",
       "      <td>...</td>\n",
       "    </tr>\n",
       "    <tr>\n",
       "      <th>10114</th>\n",
       "      <td>20115</td>\n",
       "      <td>123456896</td>\n",
       "      <td>Nerves</td>\n",
       "      <td>2985.574310</td>\n",
       "      <td>C</td>\n",
       "      <td>H</td>\n",
       "      <td>C</td>\n",
       "      <td></td>\n",
       "    </tr>\n",
       "    <tr>\n",
       "      <th>10115</th>\n",
       "      <td>20116</td>\n",
       "      <td>123456896</td>\n",
       "      <td>Nerves</td>\n",
       "      <td>9698.888692</td>\n",
       "      <td>C</td>\n",
       "      <td>H</td>\n",
       "      <td>C</td>\n",
       "      <td></td>\n",
       "    </tr>\n",
       "    <tr>\n",
       "      <th>10116</th>\n",
       "      <td>20117</td>\n",
       "      <td>123456896</td>\n",
       "      <td>Nerves</td>\n",
       "      <td>3305.456074</td>\n",
       "      <td>C</td>\n",
       "      <td>H</td>\n",
       "      <td>C</td>\n",
       "      <td></td>\n",
       "    </tr>\n",
       "    <tr>\n",
       "      <th>10117</th>\n",
       "      <td>20118</td>\n",
       "      <td>123456896</td>\n",
       "      <td>Nerves</td>\n",
       "      <td>9179.853623</td>\n",
       "      <td>C</td>\n",
       "      <td>H</td>\n",
       "      <td>C</td>\n",
       "      <td></td>\n",
       "    </tr>\n",
       "    <tr>\n",
       "      <th>10118</th>\n",
       "      <td>20119</td>\n",
       "      <td>123456896</td>\n",
       "      <td>Nerves</td>\n",
       "      <td>2048.429434</td>\n",
       "      <td>C</td>\n",
       "      <td>H</td>\n",
       "      <td>C</td>\n",
       "      <td></td>\n",
       "    </tr>\n",
       "  </tbody>\n",
       "</table>\n",
       "<p>10119 rows × 8 columns</p>\n",
       "</div>"
      ],
      "text/plain": [
       "       patientid  membershipid    groupid   person_nbr Primary_Phone_NBR  \\\n",
       "0          10001     123456891  Upperbody  2386.041022                 C   \n",
       "1          10002     123456891  Upperbody  7219.568003                 C   \n",
       "2          10003     123456891  Upperbody  1110.167181                 C   \n",
       "3          10004     123456891  Upperbody  4522.639998                 C   \n",
       "4          10005     123456891  Upperbody  7305.192980                 C   \n",
       "...          ...           ...        ...          ...               ...   \n",
       "10114      20115     123456896     Nerves  2985.574310                 C   \n",
       "10115      20116     123456896     Nerves  9698.888692                 C   \n",
       "10116      20117     123456896     Nerves  3305.456074                 C   \n",
       "10117      20118     123456896     Nerves  9179.853623                 C   \n",
       "10118      20119     123456896     Nerves  2048.429434                 C   \n",
       "\n",
       "      Phone2_NBR Phone3_NBR cellflag  \n",
       "0              O          C           \n",
       "1              O          C           \n",
       "2              O          C           \n",
       "3              O          C           \n",
       "4              O          C           \n",
       "...          ...        ...      ...  \n",
       "10114          H          C           \n",
       "10115          H          C           \n",
       "10116          H          C           \n",
       "10117          H          C           \n",
       "10118          H          C           \n",
       "\n",
       "[10119 rows x 8 columns]"
      ]
     },
     "execution_count": 22,
     "metadata": {},
     "output_type": "execute_result"
    }
   ],
   "source": [
    "df_pa_add_merge"
   ]
  },
  {
   "cell_type": "code",
   "execution_count": 23,
   "id": "cc62df81",
   "metadata": {},
   "outputs": [
    {
     "data": {
      "text/plain": [
       "Index(['patientid', 'membershipid', 'groupid', 'person_nbr',\n",
       "       'Primary_Phone_NBR', 'Phone2_NBR', 'Phone3_NBR', 'cellflag'],\n",
       "      dtype='object')"
      ]
     },
     "execution_count": 23,
     "metadata": {},
     "output_type": "execute_result"
    }
   ],
   "source": [
    "df_pa_add_merge.columns"
   ]
  },
  {
   "cell_type": "code",
   "execution_count": 24,
   "id": "96a668e9",
   "metadata": {},
   "outputs": [],
   "source": [
    "#***************** cellflag update for p ****************888"
   ]
  },
  {
   "cell_type": "code",
   "execution_count": 25,
   "id": "da22f85f",
   "metadata": {},
   "outputs": [],
   "source": [
    "import numpy as np\n",
    "df_pa_add_merge[\"cellflag\"]=np.where(df_pa_add_merge[\"Primary_Phone_NBR\"]==\"C\",\"P\",df_pa_add_merge[\"cellflag\"])"
   ]
  },
  {
   "cell_type": "code",
   "execution_count": 26,
   "id": "19807395",
   "metadata": {},
   "outputs": [
    {
     "data": {
      "text/plain": [
       "     6372\n",
       "P    3747\n",
       "Name: cellflag, dtype: int64"
      ]
     },
     "execution_count": 26,
     "metadata": {},
     "output_type": "execute_result"
    }
   ],
   "source": [
    "df_pa_add_merge.cellflag.value_counts()"
   ]
  },
  {
   "cell_type": "code",
   "execution_count": 27,
   "id": "35474fe4",
   "metadata": {},
   "outputs": [],
   "source": [
    "# -----updating S flag, wher priman!=c pr2=c "
   ]
  },
  {
   "cell_type": "code",
   "execution_count": 28,
   "id": "3605f09a",
   "metadata": {},
   "outputs": [],
   "source": [
    "df_pa_add_merge[\"cellflag\"]=np.where((df_pa_add_merge[\"Primary_Phone_NBR\"]!=\"C\") & (df_pa_add_merge[\"Phone2_NBR\"]==\"C\"),\"S\",df_pa_add_merge[\"cellflag\"])"
   ]
  },
  {
   "cell_type": "code",
   "execution_count": 29,
   "id": "6a928eeb",
   "metadata": {},
   "outputs": [
    {
     "data": {
      "text/plain": [
       "     4630\n",
       "P    3747\n",
       "S    1742\n",
       "Name: cellflag, dtype: int64"
      ]
     },
     "execution_count": 29,
     "metadata": {},
     "output_type": "execute_result"
    }
   ],
   "source": [
    "df_pa_add_merge.cellflag.value_counts()"
   ]
  },
  {
   "cell_type": "code",
   "execution_count": 30,
   "id": "35708589",
   "metadata": {},
   "outputs": [],
   "source": [
    "# -----updating S flag, wher priman!=c and  pr3=c"
   ]
  },
  {
   "cell_type": "code",
   "execution_count": 31,
   "id": "1bc368f6",
   "metadata": {},
   "outputs": [],
   "source": [
    "df_pa_add_merge[\"cellflag\"]=np.where((df_pa_add_merge[\"Primary_Phone_NBR\"]!=\"C\") & (df_pa_add_merge[\"Phone3_NBR\"]==\"C\"),\"S\",df_pa_add_merge[\"cellflag\"])"
   ]
  },
  {
   "cell_type": "code",
   "execution_count": 32,
   "id": "2ad78d36",
   "metadata": {},
   "outputs": [],
   "source": [
    "# -----updating N flag, wher priman!=c  pr3!=c"
   ]
  },
  {
   "cell_type": "code",
   "execution_count": 33,
   "id": "193f493f",
   "metadata": {},
   "outputs": [],
   "source": [
    "df_pa_add_merge[\"cellflag\"]=np.where((df_pa_add_merge[\"Primary_Phone_NBR\"]!=\"C\") & (df_pa_add_merge[\"Phone3_NBR\"]!=\"C\"),\"N\",df_pa_add_merge[\"cellflag\"])"
   ]
  },
  {
   "cell_type": "code",
   "execution_count": 34,
   "id": "84a7642a",
   "metadata": {},
   "outputs": [],
   "source": [
    "# -----updating N flag, wher priman!=c pr2!=c "
   ]
  },
  {
   "cell_type": "code",
   "execution_count": 35,
   "id": "3e9374a7",
   "metadata": {},
   "outputs": [],
   "source": [
    "df_pa_add_merge[\"cellflag\"]=np.where((df_pa_add_merge[\"Primary_Phone_NBR\"]!=\"C\") & (df_pa_add_merge[\"Phone2_NBR\"]!=\"C\"),\"N\",df_pa_add_merge[\"cellflag\"])"
   ]
  },
  {
   "cell_type": "code",
   "execution_count": 36,
   "id": "44ccab82",
   "metadata": {},
   "outputs": [
    {
     "data": {
      "text/plain": [
       "array(['P', 'N', 'S'], dtype=object)"
      ]
     },
     "execution_count": 36,
     "metadata": {},
     "output_type": "execute_result"
    }
   ],
   "source": [
    "df_pa_add_merge.cellflag.unique()"
   ]
  },
  {
   "cell_type": "code",
   "execution_count": 37,
   "id": "405dc26d",
   "metadata": {},
   "outputs": [
    {
     "data": {
      "text/plain": [
       "N    6371\n",
       "P    3747\n",
       "S       1\n",
       "Name: cellflag, dtype: int64"
      ]
     },
     "execution_count": 37,
     "metadata": {},
     "output_type": "execute_result"
    }
   ],
   "source": [
    "df_pa_add_merge.cellflag.value_counts()"
   ]
  },
  {
   "cell_type": "code",
   "execution_count": 38,
   "id": "d372ab32",
   "metadata": {},
   "outputs": [],
   "source": [
    "# create a new columns"
   ]
  },
  {
   "cell_type": "code",
   "execution_count": 39,
   "id": "92af62ba",
   "metadata": {},
   "outputs": [],
   "source": [
    "df_pa_add_merge['Flag']=\"Total BBB patients count:\""
   ]
  },
  {
   "cell_type": "code",
   "execution_count": 40,
   "id": "4124a035",
   "metadata": {},
   "outputs": [
    {
     "data": {
      "text/html": [
       "<div>\n",
       "<style scoped>\n",
       "    .dataframe tbody tr th:only-of-type {\n",
       "        vertical-align: middle;\n",
       "    }\n",
       "\n",
       "    .dataframe tbody tr th {\n",
       "        vertical-align: top;\n",
       "    }\n",
       "\n",
       "    .dataframe thead th {\n",
       "        text-align: right;\n",
       "    }\n",
       "</style>\n",
       "<table border=\"1\" class=\"dataframe\">\n",
       "  <thead>\n",
       "    <tr style=\"text-align: right;\">\n",
       "      <th></th>\n",
       "      <th>patientid</th>\n",
       "      <th>membershipid</th>\n",
       "      <th>groupid</th>\n",
       "      <th>person_nbr</th>\n",
       "      <th>Primary_Phone_NBR</th>\n",
       "      <th>Phone2_NBR</th>\n",
       "      <th>Phone3_NBR</th>\n",
       "      <th>cellflag</th>\n",
       "      <th>Flag</th>\n",
       "    </tr>\n",
       "  </thead>\n",
       "  <tbody>\n",
       "    <tr>\n",
       "      <th>0</th>\n",
       "      <td>10001</td>\n",
       "      <td>123456891</td>\n",
       "      <td>Upperbody</td>\n",
       "      <td>2386.041022</td>\n",
       "      <td>C</td>\n",
       "      <td>O</td>\n",
       "      <td>C</td>\n",
       "      <td>P</td>\n",
       "      <td>Total BBB patients count:</td>\n",
       "    </tr>\n",
       "    <tr>\n",
       "      <th>1</th>\n",
       "      <td>10002</td>\n",
       "      <td>123456891</td>\n",
       "      <td>Upperbody</td>\n",
       "      <td>7219.568003</td>\n",
       "      <td>C</td>\n",
       "      <td>O</td>\n",
       "      <td>C</td>\n",
       "      <td>P</td>\n",
       "      <td>Total BBB patients count:</td>\n",
       "    </tr>\n",
       "    <tr>\n",
       "      <th>2</th>\n",
       "      <td>10003</td>\n",
       "      <td>123456891</td>\n",
       "      <td>Upperbody</td>\n",
       "      <td>1110.167181</td>\n",
       "      <td>C</td>\n",
       "      <td>O</td>\n",
       "      <td>C</td>\n",
       "      <td>P</td>\n",
       "      <td>Total BBB patients count:</td>\n",
       "    </tr>\n",
       "    <tr>\n",
       "      <th>3</th>\n",
       "      <td>10004</td>\n",
       "      <td>123456891</td>\n",
       "      <td>Upperbody</td>\n",
       "      <td>4522.639998</td>\n",
       "      <td>C</td>\n",
       "      <td>O</td>\n",
       "      <td>C</td>\n",
       "      <td>P</td>\n",
       "      <td>Total BBB patients count:</td>\n",
       "    </tr>\n",
       "    <tr>\n",
       "      <th>4</th>\n",
       "      <td>10005</td>\n",
       "      <td>123456891</td>\n",
       "      <td>Upperbody</td>\n",
       "      <td>7305.192980</td>\n",
       "      <td>C</td>\n",
       "      <td>O</td>\n",
       "      <td>C</td>\n",
       "      <td>P</td>\n",
       "      <td>Total BBB patients count:</td>\n",
       "    </tr>\n",
       "    <tr>\n",
       "      <th>...</th>\n",
       "      <td>...</td>\n",
       "      <td>...</td>\n",
       "      <td>...</td>\n",
       "      <td>...</td>\n",
       "      <td>...</td>\n",
       "      <td>...</td>\n",
       "      <td>...</td>\n",
       "      <td>...</td>\n",
       "      <td>...</td>\n",
       "    </tr>\n",
       "    <tr>\n",
       "      <th>10114</th>\n",
       "      <td>20115</td>\n",
       "      <td>123456896</td>\n",
       "      <td>Nerves</td>\n",
       "      <td>2985.574310</td>\n",
       "      <td>C</td>\n",
       "      <td>H</td>\n",
       "      <td>C</td>\n",
       "      <td>P</td>\n",
       "      <td>Total BBB patients count:</td>\n",
       "    </tr>\n",
       "    <tr>\n",
       "      <th>10115</th>\n",
       "      <td>20116</td>\n",
       "      <td>123456896</td>\n",
       "      <td>Nerves</td>\n",
       "      <td>9698.888692</td>\n",
       "      <td>C</td>\n",
       "      <td>H</td>\n",
       "      <td>C</td>\n",
       "      <td>P</td>\n",
       "      <td>Total BBB patients count:</td>\n",
       "    </tr>\n",
       "    <tr>\n",
       "      <th>10116</th>\n",
       "      <td>20117</td>\n",
       "      <td>123456896</td>\n",
       "      <td>Nerves</td>\n",
       "      <td>3305.456074</td>\n",
       "      <td>C</td>\n",
       "      <td>H</td>\n",
       "      <td>C</td>\n",
       "      <td>P</td>\n",
       "      <td>Total BBB patients count:</td>\n",
       "    </tr>\n",
       "    <tr>\n",
       "      <th>10117</th>\n",
       "      <td>20118</td>\n",
       "      <td>123456896</td>\n",
       "      <td>Nerves</td>\n",
       "      <td>9179.853623</td>\n",
       "      <td>C</td>\n",
       "      <td>H</td>\n",
       "      <td>C</td>\n",
       "      <td>P</td>\n",
       "      <td>Total BBB patients count:</td>\n",
       "    </tr>\n",
       "    <tr>\n",
       "      <th>10118</th>\n",
       "      <td>20119</td>\n",
       "      <td>123456896</td>\n",
       "      <td>Nerves</td>\n",
       "      <td>2048.429434</td>\n",
       "      <td>C</td>\n",
       "      <td>H</td>\n",
       "      <td>C</td>\n",
       "      <td>P</td>\n",
       "      <td>Total BBB patients count:</td>\n",
       "    </tr>\n",
       "  </tbody>\n",
       "</table>\n",
       "<p>10119 rows × 9 columns</p>\n",
       "</div>"
      ],
      "text/plain": [
       "       patientid  membershipid    groupid   person_nbr Primary_Phone_NBR  \\\n",
       "0          10001     123456891  Upperbody  2386.041022                 C   \n",
       "1          10002     123456891  Upperbody  7219.568003                 C   \n",
       "2          10003     123456891  Upperbody  1110.167181                 C   \n",
       "3          10004     123456891  Upperbody  4522.639998                 C   \n",
       "4          10005     123456891  Upperbody  7305.192980                 C   \n",
       "...          ...           ...        ...          ...               ...   \n",
       "10114      20115     123456896     Nerves  2985.574310                 C   \n",
       "10115      20116     123456896     Nerves  9698.888692                 C   \n",
       "10116      20117     123456896     Nerves  3305.456074                 C   \n",
       "10117      20118     123456896     Nerves  9179.853623                 C   \n",
       "10118      20119     123456896     Nerves  2048.429434                 C   \n",
       "\n",
       "      Phone2_NBR Phone3_NBR cellflag                       Flag  \n",
       "0              O          C        P  Total BBB patients count:  \n",
       "1              O          C        P  Total BBB patients count:  \n",
       "2              O          C        P  Total BBB patients count:  \n",
       "3              O          C        P  Total BBB patients count:  \n",
       "4              O          C        P  Total BBB patients count:  \n",
       "...          ...        ...      ...                        ...  \n",
       "10114          H          C        P  Total BBB patients count:  \n",
       "10115          H          C        P  Total BBB patients count:  \n",
       "10116          H          C        P  Total BBB patients count:  \n",
       "10117          H          C        P  Total BBB patients count:  \n",
       "10118          H          C        P  Total BBB patients count:  \n",
       "\n",
       "[10119 rows x 9 columns]"
      ]
     },
     "execution_count": 40,
     "metadata": {},
     "output_type": "execute_result"
    }
   ],
   "source": [
    "df_pa_add_merge"
   ]
  },
  {
   "cell_type": "code",
   "execution_count": 41,
   "id": "1e2c92bd",
   "metadata": {},
   "outputs": [],
   "source": [
    "# bbb_p_add_merge"
   ]
  },
  {
   "cell_type": "code",
   "execution_count": 42,
   "id": "7051c210",
   "metadata": {},
   "outputs": [],
   "source": [
    "df_pa_add_merge_p=df_pa_add_merge[df_pa_add_merge.cellflag==\"P\"]"
   ]
  },
  {
   "cell_type": "code",
   "execution_count": 43,
   "id": "853c0ce8",
   "metadata": {},
   "outputs": [
    {
     "name": "stderr",
     "output_type": "stream",
     "text": [
      "C:\\Users\\hp\\AppData\\Local\\Temp\\ipykernel_16584\\322280302.py:1: SettingWithCopyWarning: \n",
      "A value is trying to be set on a copy of a slice from a DataFrame.\n",
      "Try using .loc[row_indexer,col_indexer] = value instead\n",
      "\n",
      "See the caveats in the documentation: https://pandas.pydata.org/pandas-docs/stable/user_guide/indexing.html#returning-a-view-versus-a-copy\n",
      "  df_pa_add_merge_p[\"Flag\"]=\"Total BBB patients for cell flag P\"\n"
     ]
    }
   ],
   "source": [
    "df_pa_add_merge_p[\"Flag\"]=\"Total BBB patients for cell flag P\""
   ]
  },
  {
   "cell_type": "code",
   "execution_count": 44,
   "id": "3096f1aa",
   "metadata": {},
   "outputs": [],
   "source": [
    "df_pa_add_merge_s=df_pa_add_merge[df_pa_add_merge.cellflag==\"S\"]"
   ]
  },
  {
   "cell_type": "code",
   "execution_count": 45,
   "id": "a6dc3d63",
   "metadata": {},
   "outputs": [
    {
     "name": "stderr",
     "output_type": "stream",
     "text": [
      "C:\\Users\\hp\\AppData\\Local\\Temp\\ipykernel_16584\\1554297106.py:1: SettingWithCopyWarning: \n",
      "A value is trying to be set on a copy of a slice from a DataFrame.\n",
      "Try using .loc[row_indexer,col_indexer] = value instead\n",
      "\n",
      "See the caveats in the documentation: https://pandas.pydata.org/pandas-docs/stable/user_guide/indexing.html#returning-a-view-versus-a-copy\n",
      "  df_pa_add_merge_s[\"Flag\"]=\"Total BBB patients for cell flag S\"\n"
     ]
    }
   ],
   "source": [
    "df_pa_add_merge_s[\"Flag\"]=\"Total BBB patients for cell flag S\""
   ]
  },
  {
   "cell_type": "code",
   "execution_count": 46,
   "id": "77892057",
   "metadata": {},
   "outputs": [],
   "source": [
    "df_pa_add_merge_n=df_pa_add_merge[df_pa_add_merge.cellflag==\"N\"]"
   ]
  },
  {
   "cell_type": "code",
   "execution_count": 47,
   "id": "2684ffb0",
   "metadata": {},
   "outputs": [
    {
     "name": "stderr",
     "output_type": "stream",
     "text": [
      "C:\\Users\\hp\\AppData\\Local\\Temp\\ipykernel_16584\\2219746606.py:1: SettingWithCopyWarning: \n",
      "A value is trying to be set on a copy of a slice from a DataFrame.\n",
      "Try using .loc[row_indexer,col_indexer] = value instead\n",
      "\n",
      "See the caveats in the documentation: https://pandas.pydata.org/pandas-docs/stable/user_guide/indexing.html#returning-a-view-versus-a-copy\n",
      "  df_pa_add_merge_n[\"Flag\"]=\"Total BBB patients for cell flag N\"\n"
     ]
    }
   ],
   "source": [
    "df_pa_add_merge_n[\"Flag\"]=\"Total BBB patients for cell flag N\""
   ]
  },
  {
   "cell_type": "code",
   "execution_count": 48,
   "id": "3de1719b",
   "metadata": {},
   "outputs": [
    {
     "data": {
      "text/html": [
       "<div>\n",
       "<style scoped>\n",
       "    .dataframe tbody tr th:only-of-type {\n",
       "        vertical-align: middle;\n",
       "    }\n",
       "\n",
       "    .dataframe tbody tr th {\n",
       "        vertical-align: top;\n",
       "    }\n",
       "\n",
       "    .dataframe thead th {\n",
       "        text-align: right;\n",
       "    }\n",
       "</style>\n",
       "<table border=\"1\" class=\"dataframe\">\n",
       "  <thead>\n",
       "    <tr style=\"text-align: right;\">\n",
       "      <th></th>\n",
       "      <th>patientid</th>\n",
       "      <th>membershipid</th>\n",
       "      <th>groupid</th>\n",
       "      <th>person_nbr</th>\n",
       "      <th>Primary_Phone_NBR</th>\n",
       "      <th>Phone2_NBR</th>\n",
       "      <th>Phone3_NBR</th>\n",
       "      <th>cellflag</th>\n",
       "      <th>Flag</th>\n",
       "    </tr>\n",
       "  </thead>\n",
       "  <tbody>\n",
       "    <tr>\n",
       "      <th>0</th>\n",
       "      <td>10001</td>\n",
       "      <td>123456891</td>\n",
       "      <td>Upperbody</td>\n",
       "      <td>2386.041022</td>\n",
       "      <td>C</td>\n",
       "      <td>O</td>\n",
       "      <td>C</td>\n",
       "      <td>P</td>\n",
       "      <td>Total BBB patients count:</td>\n",
       "    </tr>\n",
       "    <tr>\n",
       "      <th>1</th>\n",
       "      <td>10002</td>\n",
       "      <td>123456891</td>\n",
       "      <td>Upperbody</td>\n",
       "      <td>7219.568003</td>\n",
       "      <td>C</td>\n",
       "      <td>O</td>\n",
       "      <td>C</td>\n",
       "      <td>P</td>\n",
       "      <td>Total BBB patients count:</td>\n",
       "    </tr>\n",
       "    <tr>\n",
       "      <th>2</th>\n",
       "      <td>10003</td>\n",
       "      <td>123456891</td>\n",
       "      <td>Upperbody</td>\n",
       "      <td>1110.167181</td>\n",
       "      <td>C</td>\n",
       "      <td>O</td>\n",
       "      <td>C</td>\n",
       "      <td>P</td>\n",
       "      <td>Total BBB patients count:</td>\n",
       "    </tr>\n",
       "    <tr>\n",
       "      <th>3</th>\n",
       "      <td>10004</td>\n",
       "      <td>123456891</td>\n",
       "      <td>Upperbody</td>\n",
       "      <td>4522.639998</td>\n",
       "      <td>C</td>\n",
       "      <td>O</td>\n",
       "      <td>C</td>\n",
       "      <td>P</td>\n",
       "      <td>Total BBB patients count:</td>\n",
       "    </tr>\n",
       "    <tr>\n",
       "      <th>4</th>\n",
       "      <td>10005</td>\n",
       "      <td>123456891</td>\n",
       "      <td>Upperbody</td>\n",
       "      <td>7305.192980</td>\n",
       "      <td>C</td>\n",
       "      <td>O</td>\n",
       "      <td>C</td>\n",
       "      <td>P</td>\n",
       "      <td>Total BBB patients count:</td>\n",
       "    </tr>\n",
       "  </tbody>\n",
       "</table>\n",
       "</div>"
      ],
      "text/plain": [
       "   patientid  membershipid    groupid   person_nbr Primary_Phone_NBR  \\\n",
       "0      10001     123456891  Upperbody  2386.041022                 C   \n",
       "1      10002     123456891  Upperbody  7219.568003                 C   \n",
       "2      10003     123456891  Upperbody  1110.167181                 C   \n",
       "3      10004     123456891  Upperbody  4522.639998                 C   \n",
       "4      10005     123456891  Upperbody  7305.192980                 C   \n",
       "\n",
       "  Phone2_NBR Phone3_NBR cellflag                       Flag  \n",
       "0          O          C        P  Total BBB patients count:  \n",
       "1          O          C        P  Total BBB patients count:  \n",
       "2          O          C        P  Total BBB patients count:  \n",
       "3          O          C        P  Total BBB patients count:  \n",
       "4          O          C        P  Total BBB patients count:  "
      ]
     },
     "execution_count": 48,
     "metadata": {},
     "output_type": "execute_result"
    }
   ],
   "source": [
    "df_pa_add_merge.head()"
   ]
  },
  {
   "cell_type": "code",
   "execution_count": 49,
   "id": "d59b0c68",
   "metadata": {},
   "outputs": [
    {
     "data": {
      "text/html": [
       "<div>\n",
       "<style scoped>\n",
       "    .dataframe tbody tr th:only-of-type {\n",
       "        vertical-align: middle;\n",
       "    }\n",
       "\n",
       "    .dataframe tbody tr th {\n",
       "        vertical-align: top;\n",
       "    }\n",
       "\n",
       "    .dataframe thead th {\n",
       "        text-align: right;\n",
       "    }\n",
       "</style>\n",
       "<table border=\"1\" class=\"dataframe\">\n",
       "  <thead>\n",
       "    <tr style=\"text-align: right;\">\n",
       "      <th></th>\n",
       "      <th>patientid</th>\n",
       "      <th>membershipid</th>\n",
       "      <th>groupid</th>\n",
       "      <th>person_nbr</th>\n",
       "      <th>Primary_Phone_NBR</th>\n",
       "      <th>Phone2_NBR</th>\n",
       "      <th>Phone3_NBR</th>\n",
       "      <th>cellflag</th>\n",
       "      <th>Flag</th>\n",
       "    </tr>\n",
       "  </thead>\n",
       "  <tbody>\n",
       "    <tr>\n",
       "      <th>0</th>\n",
       "      <td>10001</td>\n",
       "      <td>123456891</td>\n",
       "      <td>Upperbody</td>\n",
       "      <td>2386.041022</td>\n",
       "      <td>C</td>\n",
       "      <td>O</td>\n",
       "      <td>C</td>\n",
       "      <td>P</td>\n",
       "      <td>Total BBB patients for cell flag P</td>\n",
       "    </tr>\n",
       "    <tr>\n",
       "      <th>1</th>\n",
       "      <td>10002</td>\n",
       "      <td>123456891</td>\n",
       "      <td>Upperbody</td>\n",
       "      <td>7219.568003</td>\n",
       "      <td>C</td>\n",
       "      <td>O</td>\n",
       "      <td>C</td>\n",
       "      <td>P</td>\n",
       "      <td>Total BBB patients for cell flag P</td>\n",
       "    </tr>\n",
       "    <tr>\n",
       "      <th>2</th>\n",
       "      <td>10003</td>\n",
       "      <td>123456891</td>\n",
       "      <td>Upperbody</td>\n",
       "      <td>1110.167181</td>\n",
       "      <td>C</td>\n",
       "      <td>O</td>\n",
       "      <td>C</td>\n",
       "      <td>P</td>\n",
       "      <td>Total BBB patients for cell flag P</td>\n",
       "    </tr>\n",
       "    <tr>\n",
       "      <th>3</th>\n",
       "      <td>10004</td>\n",
       "      <td>123456891</td>\n",
       "      <td>Upperbody</td>\n",
       "      <td>4522.639998</td>\n",
       "      <td>C</td>\n",
       "      <td>O</td>\n",
       "      <td>C</td>\n",
       "      <td>P</td>\n",
       "      <td>Total BBB patients for cell flag P</td>\n",
       "    </tr>\n",
       "    <tr>\n",
       "      <th>4</th>\n",
       "      <td>10005</td>\n",
       "      <td>123456891</td>\n",
       "      <td>Upperbody</td>\n",
       "      <td>7305.192980</td>\n",
       "      <td>C</td>\n",
       "      <td>O</td>\n",
       "      <td>C</td>\n",
       "      <td>P</td>\n",
       "      <td>Total BBB patients for cell flag P</td>\n",
       "    </tr>\n",
       "  </tbody>\n",
       "</table>\n",
       "</div>"
      ],
      "text/plain": [
       "   patientid  membershipid    groupid   person_nbr Primary_Phone_NBR  \\\n",
       "0      10001     123456891  Upperbody  2386.041022                 C   \n",
       "1      10002     123456891  Upperbody  7219.568003                 C   \n",
       "2      10003     123456891  Upperbody  1110.167181                 C   \n",
       "3      10004     123456891  Upperbody  4522.639998                 C   \n",
       "4      10005     123456891  Upperbody  7305.192980                 C   \n",
       "\n",
       "  Phone2_NBR Phone3_NBR cellflag                                Flag  \n",
       "0          O          C        P  Total BBB patients for cell flag P  \n",
       "1          O          C        P  Total BBB patients for cell flag P  \n",
       "2          O          C        P  Total BBB patients for cell flag P  \n",
       "3          O          C        P  Total BBB patients for cell flag P  \n",
       "4          O          C        P  Total BBB patients for cell flag P  "
      ]
     },
     "execution_count": 49,
     "metadata": {},
     "output_type": "execute_result"
    }
   ],
   "source": [
    "df_pa_add_merge_p.head()"
   ]
  },
  {
   "cell_type": "code",
   "execution_count": 50,
   "id": "7c65f223",
   "metadata": {},
   "outputs": [
    {
     "data": {
      "text/html": [
       "<div>\n",
       "<style scoped>\n",
       "    .dataframe tbody tr th:only-of-type {\n",
       "        vertical-align: middle;\n",
       "    }\n",
       "\n",
       "    .dataframe tbody tr th {\n",
       "        vertical-align: top;\n",
       "    }\n",
       "\n",
       "    .dataframe thead th {\n",
       "        text-align: right;\n",
       "    }\n",
       "</style>\n",
       "<table border=\"1\" class=\"dataframe\">\n",
       "  <thead>\n",
       "    <tr style=\"text-align: right;\">\n",
       "      <th></th>\n",
       "      <th>patientid</th>\n",
       "      <th>membershipid</th>\n",
       "      <th>groupid</th>\n",
       "      <th>person_nbr</th>\n",
       "      <th>Primary_Phone_NBR</th>\n",
       "      <th>Phone2_NBR</th>\n",
       "      <th>Phone3_NBR</th>\n",
       "      <th>cellflag</th>\n",
       "      <th>Flag</th>\n",
       "    </tr>\n",
       "  </thead>\n",
       "  <tbody>\n",
       "    <tr>\n",
       "      <th>7117</th>\n",
       "      <td>17118</td>\n",
       "      <td>123456895</td>\n",
       "      <td>Obesity</td>\n",
       "      <td>1969.190691</td>\n",
       "      <td>O</td>\n",
       "      <td>C</td>\n",
       "      <td>C</td>\n",
       "      <td>S</td>\n",
       "      <td>Total BBB patients for cell flag S</td>\n",
       "    </tr>\n",
       "  </tbody>\n",
       "</table>\n",
       "</div>"
      ],
      "text/plain": [
       "      patientid  membershipid  groupid   person_nbr Primary_Phone_NBR  \\\n",
       "7117      17118     123456895  Obesity  1969.190691                 O   \n",
       "\n",
       "     Phone2_NBR Phone3_NBR cellflag                                Flag  \n",
       "7117          C          C        S  Total BBB patients for cell flag S  "
      ]
     },
     "execution_count": 50,
     "metadata": {},
     "output_type": "execute_result"
    }
   ],
   "source": [
    "df_pa_add_merge_s.head()"
   ]
  },
  {
   "cell_type": "code",
   "execution_count": 51,
   "id": "c03d4b90",
   "metadata": {},
   "outputs": [
    {
     "data": {
      "text/html": [
       "<div>\n",
       "<style scoped>\n",
       "    .dataframe tbody tr th:only-of-type {\n",
       "        vertical-align: middle;\n",
       "    }\n",
       "\n",
       "    .dataframe tbody tr th {\n",
       "        vertical-align: top;\n",
       "    }\n",
       "\n",
       "    .dataframe thead th {\n",
       "        text-align: right;\n",
       "    }\n",
       "</style>\n",
       "<table border=\"1\" class=\"dataframe\">\n",
       "  <thead>\n",
       "    <tr style=\"text-align: right;\">\n",
       "      <th></th>\n",
       "      <th>patientid</th>\n",
       "      <th>membershipid</th>\n",
       "      <th>groupid</th>\n",
       "      <th>person_nbr</th>\n",
       "      <th>Primary_Phone_NBR</th>\n",
       "      <th>Phone2_NBR</th>\n",
       "      <th>Phone3_NBR</th>\n",
       "      <th>cellflag</th>\n",
       "      <th>Flag</th>\n",
       "    </tr>\n",
       "  </thead>\n",
       "  <tbody>\n",
       "    <tr>\n",
       "      <th>614</th>\n",
       "      <td>10615</td>\n",
       "      <td>123456891</td>\n",
       "      <td>Lowerbody</td>\n",
       "      <td>3303.046210</td>\n",
       "      <td>O</td>\n",
       "      <td>C</td>\n",
       "      <td>O</td>\n",
       "      <td>N</td>\n",
       "      <td>Total BBB patients for cell flag N</td>\n",
       "    </tr>\n",
       "    <tr>\n",
       "      <th>615</th>\n",
       "      <td>10616</td>\n",
       "      <td>123456891</td>\n",
       "      <td>Lowerbody</td>\n",
       "      <td>4080.627852</td>\n",
       "      <td>O</td>\n",
       "      <td>C</td>\n",
       "      <td>O</td>\n",
       "      <td>N</td>\n",
       "      <td>Total BBB patients for cell flag N</td>\n",
       "    </tr>\n",
       "    <tr>\n",
       "      <th>616</th>\n",
       "      <td>10617</td>\n",
       "      <td>123456891</td>\n",
       "      <td>Lowerbody</td>\n",
       "      <td>4888.358478</td>\n",
       "      <td>O</td>\n",
       "      <td>C</td>\n",
       "      <td>O</td>\n",
       "      <td>N</td>\n",
       "      <td>Total BBB patients for cell flag N</td>\n",
       "    </tr>\n",
       "    <tr>\n",
       "      <th>617</th>\n",
       "      <td>10618</td>\n",
       "      <td>123456891</td>\n",
       "      <td>Lowerbody</td>\n",
       "      <td>9764.582779</td>\n",
       "      <td>O</td>\n",
       "      <td>C</td>\n",
       "      <td>O</td>\n",
       "      <td>N</td>\n",
       "      <td>Total BBB patients for cell flag N</td>\n",
       "    </tr>\n",
       "    <tr>\n",
       "      <th>618</th>\n",
       "      <td>10619</td>\n",
       "      <td>123456891</td>\n",
       "      <td>Lowerbody</td>\n",
       "      <td>7557.726735</td>\n",
       "      <td>O</td>\n",
       "      <td>C</td>\n",
       "      <td>O</td>\n",
       "      <td>N</td>\n",
       "      <td>Total BBB patients for cell flag N</td>\n",
       "    </tr>\n",
       "  </tbody>\n",
       "</table>\n",
       "</div>"
      ],
      "text/plain": [
       "     patientid  membershipid    groupid   person_nbr Primary_Phone_NBR  \\\n",
       "614      10615     123456891  Lowerbody  3303.046210                 O   \n",
       "615      10616     123456891  Lowerbody  4080.627852                 O   \n",
       "616      10617     123456891  Lowerbody  4888.358478                 O   \n",
       "617      10618     123456891  Lowerbody  9764.582779                 O   \n",
       "618      10619     123456891  Lowerbody  7557.726735                 O   \n",
       "\n",
       "    Phone2_NBR Phone3_NBR cellflag                                Flag  \n",
       "614          C          O        N  Total BBB patients for cell flag N  \n",
       "615          C          O        N  Total BBB patients for cell flag N  \n",
       "616          C          O        N  Total BBB patients for cell flag N  \n",
       "617          C          O        N  Total BBB patients for cell flag N  \n",
       "618          C          O        N  Total BBB patients for cell flag N  "
      ]
     },
     "execution_count": 51,
     "metadata": {},
     "output_type": "execute_result"
    }
   ],
   "source": [
    "df_pa_add_merge_n.head()"
   ]
  },
  {
   "cell_type": "code",
   "execution_count": 52,
   "id": "8a54d170",
   "metadata": {},
   "outputs": [],
   "source": [
    "# genetare a summery reports for values of p,s,n and total bbb patients\n",
    "#create a data frame for values of p,s,n and total bbb patients"
   ]
  },
  {
   "cell_type": "code",
   "execution_count": 53,
   "id": "c116cee6",
   "metadata": {},
   "outputs": [],
   "source": [
    "df_pa_add_merge_sm=df_pa_add_merge.groupby([\"Flag\"])[\"patientid\"].count()\n",
    "df_pa_add_merge_sm_ndf=pd.DataFrame(df_pa_add_merge_sm)\n",
    "df_pa_add_merge_sm_ndf.reset_index(inplace=True)"
   ]
  },
  {
   "cell_type": "code",
   "execution_count": 54,
   "id": "794b6ef1",
   "metadata": {},
   "outputs": [
    {
     "data": {
      "text/html": [
       "<div>\n",
       "<style scoped>\n",
       "    .dataframe tbody tr th:only-of-type {\n",
       "        vertical-align: middle;\n",
       "    }\n",
       "\n",
       "    .dataframe tbody tr th {\n",
       "        vertical-align: top;\n",
       "    }\n",
       "\n",
       "    .dataframe thead th {\n",
       "        text-align: right;\n",
       "    }\n",
       "</style>\n",
       "<table border=\"1\" class=\"dataframe\">\n",
       "  <thead>\n",
       "    <tr style=\"text-align: right;\">\n",
       "      <th></th>\n",
       "      <th>Flag</th>\n",
       "      <th>patientid</th>\n",
       "    </tr>\n",
       "  </thead>\n",
       "  <tbody>\n",
       "    <tr>\n",
       "      <th>0</th>\n",
       "      <td>Total BBB patients count:</td>\n",
       "      <td>10119</td>\n",
       "    </tr>\n",
       "  </tbody>\n",
       "</table>\n",
       "</div>"
      ],
      "text/plain": [
       "                        Flag  patientid\n",
       "0  Total BBB patients count:      10119"
      ]
     },
     "execution_count": 54,
     "metadata": {},
     "output_type": "execute_result"
    }
   ],
   "source": [
    "df_pa_add_merge_sm_ndf"
   ]
  },
  {
   "cell_type": "code",
   "execution_count": 55,
   "id": "c9b4e02b",
   "metadata": {},
   "outputs": [],
   "source": [
    "df_pa_add_merge_P_sm=df_pa_add_merge_p.groupby([\"Flag\"])[\"patientid\"].count()\n",
    "df_pa_add_merge_P_sm_ndf=pd.DataFrame(df_pa_add_merge_P_sm)\n",
    "df_pa_add_merge_P_sm_ndf.reset_index(inplace=True)"
   ]
  },
  {
   "cell_type": "code",
   "execution_count": 56,
   "id": "9ac9e913",
   "metadata": {},
   "outputs": [
    {
     "data": {
      "text/html": [
       "<div>\n",
       "<style scoped>\n",
       "    .dataframe tbody tr th:only-of-type {\n",
       "        vertical-align: middle;\n",
       "    }\n",
       "\n",
       "    .dataframe tbody tr th {\n",
       "        vertical-align: top;\n",
       "    }\n",
       "\n",
       "    .dataframe thead th {\n",
       "        text-align: right;\n",
       "    }\n",
       "</style>\n",
       "<table border=\"1\" class=\"dataframe\">\n",
       "  <thead>\n",
       "    <tr style=\"text-align: right;\">\n",
       "      <th></th>\n",
       "      <th>Flag</th>\n",
       "      <th>patientid</th>\n",
       "    </tr>\n",
       "  </thead>\n",
       "  <tbody>\n",
       "    <tr>\n",
       "      <th>0</th>\n",
       "      <td>Total BBB patients for cell flag P</td>\n",
       "      <td>3747</td>\n",
       "    </tr>\n",
       "  </tbody>\n",
       "</table>\n",
       "</div>"
      ],
      "text/plain": [
       "                                 Flag  patientid\n",
       "0  Total BBB patients for cell flag P       3747"
      ]
     },
     "execution_count": 56,
     "metadata": {},
     "output_type": "execute_result"
    }
   ],
   "source": [
    "df_pa_add_merge_P_sm_ndf"
   ]
  },
  {
   "cell_type": "code",
   "execution_count": 57,
   "id": "23e0105f",
   "metadata": {},
   "outputs": [],
   "source": [
    "\n",
    "df_pa_add_merge_s_sm=df_pa_add_merge_s.groupby([\"Flag\"])[\"patientid\"].count()\n",
    "df_pa_add_merge_s_sm_ndf=pd.DataFrame(df_pa_add_merge_s_sm)\n",
    "df_pa_add_merge_s_sm_ndf.reset_index(inplace=True)"
   ]
  },
  {
   "cell_type": "code",
   "execution_count": 58,
   "id": "95a87e1c",
   "metadata": {},
   "outputs": [
    {
     "data": {
      "text/html": [
       "<div>\n",
       "<style scoped>\n",
       "    .dataframe tbody tr th:only-of-type {\n",
       "        vertical-align: middle;\n",
       "    }\n",
       "\n",
       "    .dataframe tbody tr th {\n",
       "        vertical-align: top;\n",
       "    }\n",
       "\n",
       "    .dataframe thead th {\n",
       "        text-align: right;\n",
       "    }\n",
       "</style>\n",
       "<table border=\"1\" class=\"dataframe\">\n",
       "  <thead>\n",
       "    <tr style=\"text-align: right;\">\n",
       "      <th></th>\n",
       "      <th>Flag</th>\n",
       "      <th>patientid</th>\n",
       "    </tr>\n",
       "  </thead>\n",
       "  <tbody>\n",
       "    <tr>\n",
       "      <th>0</th>\n",
       "      <td>Total BBB patients for cell flag S</td>\n",
       "      <td>1</td>\n",
       "    </tr>\n",
       "  </tbody>\n",
       "</table>\n",
       "</div>"
      ],
      "text/plain": [
       "                                 Flag  patientid\n",
       "0  Total BBB patients for cell flag S          1"
      ]
     },
     "execution_count": 58,
     "metadata": {},
     "output_type": "execute_result"
    }
   ],
   "source": [
    "df_pa_add_merge_s_sm_ndf"
   ]
  },
  {
   "cell_type": "code",
   "execution_count": 59,
   "id": "8fc3af6d",
   "metadata": {},
   "outputs": [],
   "source": [
    "df_pa_add_merge_n_sm=df_pa_add_merge_n.groupby([\"Flag\"])[\"patientid\"].count()\n",
    "df_pa_add_merge_n_sm_ndf=pd.DataFrame(df_pa_add_merge_n_sm)\n",
    "df_pa_add_merge_n_sm_ndf.reset_index(inplace=True)"
   ]
  },
  {
   "cell_type": "code",
   "execution_count": 60,
   "id": "e68fc2ee",
   "metadata": {},
   "outputs": [
    {
     "data": {
      "text/html": [
       "<div>\n",
       "<style scoped>\n",
       "    .dataframe tbody tr th:only-of-type {\n",
       "        vertical-align: middle;\n",
       "    }\n",
       "\n",
       "    .dataframe tbody tr th {\n",
       "        vertical-align: top;\n",
       "    }\n",
       "\n",
       "    .dataframe thead th {\n",
       "        text-align: right;\n",
       "    }\n",
       "</style>\n",
       "<table border=\"1\" class=\"dataframe\">\n",
       "  <thead>\n",
       "    <tr style=\"text-align: right;\">\n",
       "      <th></th>\n",
       "      <th>Flag</th>\n",
       "      <th>patientid</th>\n",
       "    </tr>\n",
       "  </thead>\n",
       "  <tbody>\n",
       "    <tr>\n",
       "      <th>0</th>\n",
       "      <td>Total BBB patients for cell flag N</td>\n",
       "      <td>6371</td>\n",
       "    </tr>\n",
       "  </tbody>\n",
       "</table>\n",
       "</div>"
      ],
      "text/plain": [
       "                                 Flag  patientid\n",
       "0  Total BBB patients for cell flag N       6371"
      ]
     },
     "execution_count": 60,
     "metadata": {},
     "output_type": "execute_result"
    }
   ],
   "source": [
    "df_pa_add_merge_n_sm_ndf"
   ]
  },
  {
   "cell_type": "code",
   "execution_count": 61,
   "id": "db68d957",
   "metadata": {},
   "outputs": [
    {
     "data": {
      "text/plain": [
       "array(['P', 'N', 'S'], dtype=object)"
      ]
     },
     "execution_count": 61,
     "metadata": {},
     "output_type": "execute_result"
    }
   ],
   "source": [
    "df_pa_add_merge.cellflag.unique()"
   ]
  },
  {
   "cell_type": "code",
   "execution_count": 62,
   "id": "e8307a84",
   "metadata": {},
   "outputs": [
    {
     "data": {
      "text/plain": [
       "N    6371\n",
       "P    3747\n",
       "S       1\n",
       "Name: cellflag, dtype: int64"
      ]
     },
     "execution_count": 62,
     "metadata": {},
     "output_type": "execute_result"
    }
   ],
   "source": [
    "df_pa_add_merge.cellflag.value_counts()"
   ]
  },
  {
   "cell_type": "code",
   "execution_count": 63,
   "id": "942ecc64",
   "metadata": {},
   "outputs": [
    {
     "data": {
      "text/plain": [
       "Index(['patientid', 'membershipid', 'groupid', 'person_nbr',\n",
       "       'Primary_Phone_NBR', 'Phone2_NBR', 'Phone3_NBR', 'cellflag', 'Flag'],\n",
       "      dtype='object')"
      ]
     },
     "execution_count": 63,
     "metadata": {},
     "output_type": "execute_result"
    }
   ],
   "source": [
    "df_pa_add_merge.columns"
   ]
  },
  {
   "cell_type": "code",
   "execution_count": 64,
   "id": "469cb73c",
   "metadata": {},
   "outputs": [],
   "source": [
    "# append all df"
   ]
  },
  {
   "cell_type": "code",
   "execution_count": 65,
   "id": "1a8ed29f",
   "metadata": {},
   "outputs": [],
   "source": [
    "final_bb_df=pd.concat([df_pa_add_merge_sm_ndf,df_pa_add_merge_P_sm_ndf,df_pa_add_merge_s_sm_ndf,df_pa_add_merge_n_sm_ndf],ignore_index=True,axis=0)"
   ]
  },
  {
   "cell_type": "code",
   "execution_count": 66,
   "id": "5391c864",
   "metadata": {},
   "outputs": [
    {
     "data": {
      "text/html": [
       "<div>\n",
       "<style scoped>\n",
       "    .dataframe tbody tr th:only-of-type {\n",
       "        vertical-align: middle;\n",
       "    }\n",
       "\n",
       "    .dataframe tbody tr th {\n",
       "        vertical-align: top;\n",
       "    }\n",
       "\n",
       "    .dataframe thead th {\n",
       "        text-align: right;\n",
       "    }\n",
       "</style>\n",
       "<table border=\"1\" class=\"dataframe\">\n",
       "  <thead>\n",
       "    <tr style=\"text-align: right;\">\n",
       "      <th></th>\n",
       "      <th>Flag</th>\n",
       "      <th>patientid</th>\n",
       "    </tr>\n",
       "  </thead>\n",
       "  <tbody>\n",
       "    <tr>\n",
       "      <th>0</th>\n",
       "      <td>Total BBB patients count:</td>\n",
       "      <td>10119</td>\n",
       "    </tr>\n",
       "    <tr>\n",
       "      <th>1</th>\n",
       "      <td>Total BBB patients for cell flag P</td>\n",
       "      <td>3747</td>\n",
       "    </tr>\n",
       "    <tr>\n",
       "      <th>2</th>\n",
       "      <td>Total BBB patients for cell flag S</td>\n",
       "      <td>1</td>\n",
       "    </tr>\n",
       "    <tr>\n",
       "      <th>3</th>\n",
       "      <td>Total BBB patients for cell flag N</td>\n",
       "      <td>6371</td>\n",
       "    </tr>\n",
       "  </tbody>\n",
       "</table>\n",
       "</div>"
      ],
      "text/plain": [
       "                                 Flag  patientid\n",
       "0           Total BBB patients count:      10119\n",
       "1  Total BBB patients for cell flag P       3747\n",
       "2  Total BBB patients for cell flag S          1\n",
       "3  Total BBB patients for cell flag N       6371"
      ]
     },
     "execution_count": 66,
     "metadata": {},
     "output_type": "execute_result"
    }
   ],
   "source": [
    "final_bb_df"
   ]
  },
  {
   "cell_type": "code",
   "execution_count": 67,
   "id": "17340a3e",
   "metadata": {},
   "outputs": [
    {
     "data": {
      "text/plain": [
       "Index(['Flag', 'patientid'], dtype='object')"
      ]
     },
     "execution_count": 67,
     "metadata": {},
     "output_type": "execute_result"
    }
   ],
   "source": [
    "final_bb_df.columns"
   ]
  },
  {
   "cell_type": "code",
   "execution_count": 68,
   "id": "c48be903",
   "metadata": {},
   "outputs": [],
   "source": [
    "# rename a column name"
   ]
  },
  {
   "cell_type": "code",
   "execution_count": 69,
   "id": "33e28178",
   "metadata": {},
   "outputs": [],
   "source": [
    "final_bb_df.columns=[\"Flag\",\"Count\"]"
   ]
  },
  {
   "cell_type": "code",
   "execution_count": 70,
   "id": "214aea47",
   "metadata": {},
   "outputs": [
    {
     "data": {
      "text/html": [
       "<div>\n",
       "<style scoped>\n",
       "    .dataframe tbody tr th:only-of-type {\n",
       "        vertical-align: middle;\n",
       "    }\n",
       "\n",
       "    .dataframe tbody tr th {\n",
       "        vertical-align: top;\n",
       "    }\n",
       "\n",
       "    .dataframe thead th {\n",
       "        text-align: right;\n",
       "    }\n",
       "</style>\n",
       "<table border=\"1\" class=\"dataframe\">\n",
       "  <thead>\n",
       "    <tr style=\"text-align: right;\">\n",
       "      <th></th>\n",
       "      <th>Flag</th>\n",
       "      <th>Count</th>\n",
       "    </tr>\n",
       "  </thead>\n",
       "  <tbody>\n",
       "    <tr>\n",
       "      <th>0</th>\n",
       "      <td>Total BBB patients count:</td>\n",
       "      <td>10119</td>\n",
       "    </tr>\n",
       "    <tr>\n",
       "      <th>1</th>\n",
       "      <td>Total BBB patients for cell flag P</td>\n",
       "      <td>3747</td>\n",
       "    </tr>\n",
       "    <tr>\n",
       "      <th>2</th>\n",
       "      <td>Total BBB patients for cell flag S</td>\n",
       "      <td>1</td>\n",
       "    </tr>\n",
       "    <tr>\n",
       "      <th>3</th>\n",
       "      <td>Total BBB patients for cell flag N</td>\n",
       "      <td>6371</td>\n",
       "    </tr>\n",
       "  </tbody>\n",
       "</table>\n",
       "</div>"
      ],
      "text/plain": [
       "                                 Flag  Count\n",
       "0           Total BBB patients count:  10119\n",
       "1  Total BBB patients for cell flag P   3747\n",
       "2  Total BBB patients for cell flag S      1\n",
       "3  Total BBB patients for cell flag N   6371"
      ]
     },
     "execution_count": 70,
     "metadata": {},
     "output_type": "execute_result"
    }
   ],
   "source": [
    "final_bb_df"
   ]
  },
  {
   "cell_type": "code",
   "execution_count": 71,
   "id": "ee6a1865",
   "metadata": {},
   "outputs": [],
   "source": [
    "# create a new columns date"
   ]
  },
  {
   "cell_type": "code",
   "execution_count": 72,
   "id": "3c82663a",
   "metadata": {},
   "outputs": [
    {
     "name": "stdout",
     "output_type": "stream",
     "text": [
      "today= 2023-08-17\n"
     ]
    }
   ],
   "source": [
    "from datetime import date\n",
    "today=date.today()\n",
    "print(\"today=\",today)\n",
    "date=today"
   ]
  },
  {
   "cell_type": "code",
   "execution_count": 73,
   "id": "d7bab7b6",
   "metadata": {},
   "outputs": [],
   "source": [
    "final_bb_df[\"Date\"]=today"
   ]
  },
  {
   "cell_type": "code",
   "execution_count": 74,
   "id": "34d92a2a",
   "metadata": {},
   "outputs": [
    {
     "data": {
      "text/html": [
       "<div>\n",
       "<style scoped>\n",
       "    .dataframe tbody tr th:only-of-type {\n",
       "        vertical-align: middle;\n",
       "    }\n",
       "\n",
       "    .dataframe tbody tr th {\n",
       "        vertical-align: top;\n",
       "    }\n",
       "\n",
       "    .dataframe thead th {\n",
       "        text-align: right;\n",
       "    }\n",
       "</style>\n",
       "<table border=\"1\" class=\"dataframe\">\n",
       "  <thead>\n",
       "    <tr style=\"text-align: right;\">\n",
       "      <th></th>\n",
       "      <th>Flag</th>\n",
       "      <th>Count</th>\n",
       "      <th>Date</th>\n",
       "    </tr>\n",
       "  </thead>\n",
       "  <tbody>\n",
       "    <tr>\n",
       "      <th>0</th>\n",
       "      <td>Total BBB patients count:</td>\n",
       "      <td>10119</td>\n",
       "      <td>2023-08-17</td>\n",
       "    </tr>\n",
       "    <tr>\n",
       "      <th>1</th>\n",
       "      <td>Total BBB patients for cell flag P</td>\n",
       "      <td>3747</td>\n",
       "      <td>2023-08-17</td>\n",
       "    </tr>\n",
       "    <tr>\n",
       "      <th>2</th>\n",
       "      <td>Total BBB patients for cell flag S</td>\n",
       "      <td>1</td>\n",
       "      <td>2023-08-17</td>\n",
       "    </tr>\n",
       "    <tr>\n",
       "      <th>3</th>\n",
       "      <td>Total BBB patients for cell flag N</td>\n",
       "      <td>6371</td>\n",
       "      <td>2023-08-17</td>\n",
       "    </tr>\n",
       "  </tbody>\n",
       "</table>\n",
       "</div>"
      ],
      "text/plain": [
       "                                 Flag  Count        Date\n",
       "0           Total BBB patients count:  10119  2023-08-17\n",
       "1  Total BBB patients for cell flag P   3747  2023-08-17\n",
       "2  Total BBB patients for cell flag S      1  2023-08-17\n",
       "3  Total BBB patients for cell flag N   6371  2023-08-17"
      ]
     },
     "execution_count": 74,
     "metadata": {},
     "output_type": "execute_result"
    }
   ],
   "source": [
    "final_bb_df"
   ]
  },
  {
   "cell_type": "code",
   "execution_count": 75,
   "id": "741f3784",
   "metadata": {},
   "outputs": [],
   "source": [
    "# import time function"
   ]
  },
  {
   "cell_type": "code",
   "execution_count": 76,
   "id": "2c68a07b",
   "metadata": {},
   "outputs": [
    {
     "name": "stdout",
     "output_type": "stream",
     "text": [
      "12 :02 :07\n"
     ]
    }
   ],
   "source": [
    "import time\n",
    "now=time.localtime()\n",
    "t=time.strftime(\"%H :%M :%S\",now)\n",
    "print(t)\n",
    "                "
   ]
  },
  {
   "cell_type": "code",
   "execution_count": 77,
   "id": "b7572afc",
   "metadata": {},
   "outputs": [],
   "source": [
    "final_bb_df[\"Time\"]=t"
   ]
  },
  {
   "cell_type": "code",
   "execution_count": 78,
   "id": "3587f04a",
   "metadata": {},
   "outputs": [
    {
     "data": {
      "text/html": [
       "<div>\n",
       "<style scoped>\n",
       "    .dataframe tbody tr th:only-of-type {\n",
       "        vertical-align: middle;\n",
       "    }\n",
       "\n",
       "    .dataframe tbody tr th {\n",
       "        vertical-align: top;\n",
       "    }\n",
       "\n",
       "    .dataframe thead th {\n",
       "        text-align: right;\n",
       "    }\n",
       "</style>\n",
       "<table border=\"1\" class=\"dataframe\">\n",
       "  <thead>\n",
       "    <tr style=\"text-align: right;\">\n",
       "      <th></th>\n",
       "      <th>Flag</th>\n",
       "      <th>Count</th>\n",
       "      <th>Date</th>\n",
       "      <th>Time</th>\n",
       "    </tr>\n",
       "  </thead>\n",
       "  <tbody>\n",
       "    <tr>\n",
       "      <th>0</th>\n",
       "      <td>Total BBB patients count:</td>\n",
       "      <td>10119</td>\n",
       "      <td>2023-08-17</td>\n",
       "      <td>12 :02 :07</td>\n",
       "    </tr>\n",
       "    <tr>\n",
       "      <th>1</th>\n",
       "      <td>Total BBB patients for cell flag P</td>\n",
       "      <td>3747</td>\n",
       "      <td>2023-08-17</td>\n",
       "      <td>12 :02 :07</td>\n",
       "    </tr>\n",
       "    <tr>\n",
       "      <th>2</th>\n",
       "      <td>Total BBB patients for cell flag S</td>\n",
       "      <td>1</td>\n",
       "      <td>2023-08-17</td>\n",
       "      <td>12 :02 :07</td>\n",
       "    </tr>\n",
       "    <tr>\n",
       "      <th>3</th>\n",
       "      <td>Total BBB patients for cell flag N</td>\n",
       "      <td>6371</td>\n",
       "      <td>2023-08-17</td>\n",
       "      <td>12 :02 :07</td>\n",
       "    </tr>\n",
       "  </tbody>\n",
       "</table>\n",
       "</div>"
      ],
      "text/plain": [
       "                                 Flag  Count        Date        Time\n",
       "0           Total BBB patients count:  10119  2023-08-17  12 :02 :07\n",
       "1  Total BBB patients for cell flag P   3747  2023-08-17  12 :02 :07\n",
       "2  Total BBB patients for cell flag S      1  2023-08-17  12 :02 :07\n",
       "3  Total BBB patients for cell flag N   6371  2023-08-17  12 :02 :07"
      ]
     },
     "execution_count": 78,
     "metadata": {},
     "output_type": "execute_result"
    }
   ],
   "source": [
    "final_bb_df"
   ]
  },
  {
   "cell_type": "code",
   "execution_count": 79,
   "id": "1321511c",
   "metadata": {},
   "outputs": [
    {
     "data": {
      "text/plain": [
       "Index(['Flag', 'Count', 'Date', 'Time'], dtype='object')"
      ]
     },
     "execution_count": 79,
     "metadata": {},
     "output_type": "execute_result"
    }
   ],
   "source": [
    "final_bb_df.columns"
   ]
  },
  {
   "cell_type": "code",
   "execution_count": 80,
   "id": "ab82e6aa",
   "metadata": {},
   "outputs": [],
   "source": [
    "# sort the df"
   ]
  },
  {
   "cell_type": "code",
   "execution_count": 81,
   "id": "eb38abda",
   "metadata": {},
   "outputs": [],
   "source": [
    "df_bbb_f=final_bb_df.iloc[:,[2,3,0,1]]"
   ]
  },
  {
   "cell_type": "code",
   "execution_count": 82,
   "id": "61ecb672",
   "metadata": {},
   "outputs": [
    {
     "data": {
      "text/html": [
       "<div>\n",
       "<style scoped>\n",
       "    .dataframe tbody tr th:only-of-type {\n",
       "        vertical-align: middle;\n",
       "    }\n",
       "\n",
       "    .dataframe tbody tr th {\n",
       "        vertical-align: top;\n",
       "    }\n",
       "\n",
       "    .dataframe thead th {\n",
       "        text-align: right;\n",
       "    }\n",
       "</style>\n",
       "<table border=\"1\" class=\"dataframe\">\n",
       "  <thead>\n",
       "    <tr style=\"text-align: right;\">\n",
       "      <th></th>\n",
       "      <th>Date</th>\n",
       "      <th>Time</th>\n",
       "      <th>Flag</th>\n",
       "      <th>Count</th>\n",
       "    </tr>\n",
       "  </thead>\n",
       "  <tbody>\n",
       "    <tr>\n",
       "      <th>0</th>\n",
       "      <td>2023-08-17</td>\n",
       "      <td>12 :02 :07</td>\n",
       "      <td>Total BBB patients count:</td>\n",
       "      <td>10119</td>\n",
       "    </tr>\n",
       "    <tr>\n",
       "      <th>1</th>\n",
       "      <td>2023-08-17</td>\n",
       "      <td>12 :02 :07</td>\n",
       "      <td>Total BBB patients for cell flag P</td>\n",
       "      <td>3747</td>\n",
       "    </tr>\n",
       "    <tr>\n",
       "      <th>2</th>\n",
       "      <td>2023-08-17</td>\n",
       "      <td>12 :02 :07</td>\n",
       "      <td>Total BBB patients for cell flag S</td>\n",
       "      <td>1</td>\n",
       "    </tr>\n",
       "    <tr>\n",
       "      <th>3</th>\n",
       "      <td>2023-08-17</td>\n",
       "      <td>12 :02 :07</td>\n",
       "      <td>Total BBB patients for cell flag N</td>\n",
       "      <td>6371</td>\n",
       "    </tr>\n",
       "  </tbody>\n",
       "</table>\n",
       "</div>"
      ],
      "text/plain": [
       "         Date        Time                                Flag  Count\n",
       "0  2023-08-17  12 :02 :07           Total BBB patients count:  10119\n",
       "1  2023-08-17  12 :02 :07  Total BBB patients for cell flag P   3747\n",
       "2  2023-08-17  12 :02 :07  Total BBB patients for cell flag S      1\n",
       "3  2023-08-17  12 :02 :07  Total BBB patients for cell flag N   6371"
      ]
     },
     "execution_count": 82,
     "metadata": {},
     "output_type": "execute_result"
    }
   ],
   "source": [
    "df_bbb_f"
   ]
  },
  {
   "cell_type": "code",
   "execution_count": null,
   "id": "f51ec4cc",
   "metadata": {},
   "outputs": [],
   "source": []
  },
  {
   "cell_type": "code",
   "execution_count": 83,
   "id": "7e7b96e7",
   "metadata": {},
   "outputs": [],
   "source": [
    "#******************************* #import DDDpatients and DDD Address files *****************************************8"
   ]
  },
  {
   "cell_type": "code",
   "execution_count": 84,
   "id": "f56b3617",
   "metadata": {},
   "outputs": [],
   "source": [
    "# import ddd patients file"
   ]
  },
  {
   "cell_type": "code",
   "execution_count": 85,
   "id": "70ccdccc",
   "metadata": {},
   "outputs": [
    {
     "data": {
      "text/html": [
       "<div>\n",
       "<style scoped>\n",
       "    .dataframe tbody tr th:only-of-type {\n",
       "        vertical-align: middle;\n",
       "    }\n",
       "\n",
       "    .dataframe tbody tr th {\n",
       "        vertical-align: top;\n",
       "    }\n",
       "\n",
       "    .dataframe thead th {\n",
       "        text-align: right;\n",
       "    }\n",
       "</style>\n",
       "<table border=\"1\" class=\"dataframe\">\n",
       "  <thead>\n",
       "    <tr style=\"text-align: right;\">\n",
       "      <th></th>\n",
       "      <th>patientid</th>\n",
       "      <th>membershid</th>\n",
       "      <th>groupid</th>\n",
       "      <th>person_nbr</th>\n",
       "    </tr>\n",
       "  </thead>\n",
       "  <tbody>\n",
       "    <tr>\n",
       "      <th>0</th>\n",
       "      <td>200001</td>\n",
       "      <td>4456.162497</td>\n",
       "      <td>100</td>\n",
       "      <td>2748.280106</td>\n",
       "    </tr>\n",
       "    <tr>\n",
       "      <th>1</th>\n",
       "      <td>200002</td>\n",
       "      <td>4456.162497</td>\n",
       "      <td>100</td>\n",
       "      <td>3983.633278</td>\n",
       "    </tr>\n",
       "    <tr>\n",
       "      <th>2</th>\n",
       "      <td>200003</td>\n",
       "      <td>4456.162497</td>\n",
       "      <td>100</td>\n",
       "      <td>5918.043203</td>\n",
       "    </tr>\n",
       "    <tr>\n",
       "      <th>3</th>\n",
       "      <td>200004</td>\n",
       "      <td>4456.162497</td>\n",
       "      <td>100</td>\n",
       "      <td>5882.418134</td>\n",
       "    </tr>\n",
       "    <tr>\n",
       "      <th>4</th>\n",
       "      <td>200005</td>\n",
       "      <td>4456.162497</td>\n",
       "      <td>100</td>\n",
       "      <td>3519.095855</td>\n",
       "    </tr>\n",
       "    <tr>\n",
       "      <th>...</th>\n",
       "      <td>...</td>\n",
       "      <td>...</td>\n",
       "      <td>...</td>\n",
       "      <td>...</td>\n",
       "    </tr>\n",
       "    <tr>\n",
       "      <th>84006</th>\n",
       "      <td>284007</td>\n",
       "      <td>61967.640577</td>\n",
       "      <td>108</td>\n",
       "      <td>6406.791285</td>\n",
       "    </tr>\n",
       "    <tr>\n",
       "      <th>84007</th>\n",
       "      <td>284008</td>\n",
       "      <td>61967.640577</td>\n",
       "      <td>108</td>\n",
       "      <td>5736.801838</td>\n",
       "    </tr>\n",
       "    <tr>\n",
       "      <th>84008</th>\n",
       "      <td>284009</td>\n",
       "      <td>61967.640577</td>\n",
       "      <td>108</td>\n",
       "      <td>7613.994822</td>\n",
       "    </tr>\n",
       "    <tr>\n",
       "      <th>84009</th>\n",
       "      <td>284010</td>\n",
       "      <td>61967.640577</td>\n",
       "      <td>108</td>\n",
       "      <td>8530.577571</td>\n",
       "    </tr>\n",
       "    <tr>\n",
       "      <th>84010</th>\n",
       "      <td>284011</td>\n",
       "      <td>61967.640577</td>\n",
       "      <td>108</td>\n",
       "      <td>2140.830791</td>\n",
       "    </tr>\n",
       "  </tbody>\n",
       "</table>\n",
       "<p>84011 rows × 4 columns</p>\n",
       "</div>"
      ],
      "text/plain": [
       "       patientid    membershid  groupid   person_nbr\n",
       "0         200001   4456.162497      100  2748.280106\n",
       "1         200002   4456.162497      100  3983.633278\n",
       "2         200003   4456.162497      100  5918.043203\n",
       "3         200004   4456.162497      100  5882.418134\n",
       "4         200005   4456.162497      100  3519.095855\n",
       "...          ...           ...      ...          ...\n",
       "84006     284007  61967.640577      108  6406.791285\n",
       "84007     284008  61967.640577      108  5736.801838\n",
       "84008     284009  61967.640577      108  7613.994822\n",
       "84009     284010  61967.640577      108  8530.577571\n",
       "84010     284011  61967.640577      108  2140.830791\n",
       "\n",
       "[84011 rows x 4 columns]"
      ]
     },
     "execution_count": 85,
     "metadata": {},
     "output_type": "execute_result"
    }
   ],
   "source": [
    "import pandas as pd\n",
    "dd_p=pd.read_excel(r\"C:\\Users\\hp\\Downloads\\Insurance_Customers.xlsx\",sheet_name=\"DDD_Patients\")\n",
    "dd_p"
   ]
  },
  {
   "cell_type": "code",
   "execution_count": 86,
   "id": "820effbd",
   "metadata": {},
   "outputs": [],
   "source": [
    "# basic checks"
   ]
  },
  {
   "cell_type": "code",
   "execution_count": 87,
   "id": "b3257b86",
   "metadata": {},
   "outputs": [
    {
     "data": {
      "text/plain": [
       "(84011, 4)"
      ]
     },
     "execution_count": 87,
     "metadata": {},
     "output_type": "execute_result"
    }
   ],
   "source": [
    "dd_p.shape"
   ]
  },
  {
   "cell_type": "code",
   "execution_count": 88,
   "id": "d407154e",
   "metadata": {},
   "outputs": [
    {
     "data": {
      "text/plain": [
       "Index(['patientid', 'membershid', 'groupid', 'person_nbr'], dtype='object')"
      ]
     },
     "execution_count": 88,
     "metadata": {},
     "output_type": "execute_result"
    }
   ],
   "source": [
    "dd_p.columns"
   ]
  },
  {
   "cell_type": "code",
   "execution_count": 89,
   "id": "e8503996",
   "metadata": {},
   "outputs": [
    {
     "data": {
      "text/html": [
       "<div>\n",
       "<style scoped>\n",
       "    .dataframe tbody tr th:only-of-type {\n",
       "        vertical-align: middle;\n",
       "    }\n",
       "\n",
       "    .dataframe tbody tr th {\n",
       "        vertical-align: top;\n",
       "    }\n",
       "\n",
       "    .dataframe thead th {\n",
       "        text-align: right;\n",
       "    }\n",
       "</style>\n",
       "<table border=\"1\" class=\"dataframe\">\n",
       "  <thead>\n",
       "    <tr style=\"text-align: right;\">\n",
       "      <th></th>\n",
       "      <th>patientid</th>\n",
       "      <th>membershid</th>\n",
       "      <th>groupid</th>\n",
       "      <th>person_nbr</th>\n",
       "    </tr>\n",
       "  </thead>\n",
       "  <tbody>\n",
       "    <tr>\n",
       "      <th>0</th>\n",
       "      <td>200001</td>\n",
       "      <td>4456.162497</td>\n",
       "      <td>100</td>\n",
       "      <td>2748.280106</td>\n",
       "    </tr>\n",
       "    <tr>\n",
       "      <th>1</th>\n",
       "      <td>200002</td>\n",
       "      <td>4456.162497</td>\n",
       "      <td>100</td>\n",
       "      <td>3983.633278</td>\n",
       "    </tr>\n",
       "    <tr>\n",
       "      <th>2</th>\n",
       "      <td>200003</td>\n",
       "      <td>4456.162497</td>\n",
       "      <td>100</td>\n",
       "      <td>5918.043203</td>\n",
       "    </tr>\n",
       "    <tr>\n",
       "      <th>3</th>\n",
       "      <td>200004</td>\n",
       "      <td>4456.162497</td>\n",
       "      <td>100</td>\n",
       "      <td>5882.418134</td>\n",
       "    </tr>\n",
       "    <tr>\n",
       "      <th>4</th>\n",
       "      <td>200005</td>\n",
       "      <td>4456.162497</td>\n",
       "      <td>100</td>\n",
       "      <td>3519.095855</td>\n",
       "    </tr>\n",
       "  </tbody>\n",
       "</table>\n",
       "</div>"
      ],
      "text/plain": [
       "   patientid   membershid  groupid   person_nbr\n",
       "0     200001  4456.162497      100  2748.280106\n",
       "1     200002  4456.162497      100  3983.633278\n",
       "2     200003  4456.162497      100  5918.043203\n",
       "3     200004  4456.162497      100  5882.418134\n",
       "4     200005  4456.162497      100  3519.095855"
      ]
     },
     "execution_count": 89,
     "metadata": {},
     "output_type": "execute_result"
    }
   ],
   "source": [
    "dd_p.head()"
   ]
  },
  {
   "cell_type": "code",
   "execution_count": 90,
   "id": "46d63bd9",
   "metadata": {},
   "outputs": [
    {
     "data": {
      "text/html": [
       "<div>\n",
       "<style scoped>\n",
       "    .dataframe tbody tr th:only-of-type {\n",
       "        vertical-align: middle;\n",
       "    }\n",
       "\n",
       "    .dataframe tbody tr th {\n",
       "        vertical-align: top;\n",
       "    }\n",
       "\n",
       "    .dataframe thead th {\n",
       "        text-align: right;\n",
       "    }\n",
       "</style>\n",
       "<table border=\"1\" class=\"dataframe\">\n",
       "  <thead>\n",
       "    <tr style=\"text-align: right;\">\n",
       "      <th></th>\n",
       "      <th>patientid</th>\n",
       "      <th>membershid</th>\n",
       "      <th>groupid</th>\n",
       "      <th>person_nbr</th>\n",
       "    </tr>\n",
       "  </thead>\n",
       "  <tbody>\n",
       "    <tr>\n",
       "      <th>84006</th>\n",
       "      <td>284007</td>\n",
       "      <td>61967.640577</td>\n",
       "      <td>108</td>\n",
       "      <td>6406.791285</td>\n",
       "    </tr>\n",
       "    <tr>\n",
       "      <th>84007</th>\n",
       "      <td>284008</td>\n",
       "      <td>61967.640577</td>\n",
       "      <td>108</td>\n",
       "      <td>5736.801838</td>\n",
       "    </tr>\n",
       "    <tr>\n",
       "      <th>84008</th>\n",
       "      <td>284009</td>\n",
       "      <td>61967.640577</td>\n",
       "      <td>108</td>\n",
       "      <td>7613.994822</td>\n",
       "    </tr>\n",
       "    <tr>\n",
       "      <th>84009</th>\n",
       "      <td>284010</td>\n",
       "      <td>61967.640577</td>\n",
       "      <td>108</td>\n",
       "      <td>8530.577571</td>\n",
       "    </tr>\n",
       "    <tr>\n",
       "      <th>84010</th>\n",
       "      <td>284011</td>\n",
       "      <td>61967.640577</td>\n",
       "      <td>108</td>\n",
       "      <td>2140.830791</td>\n",
       "    </tr>\n",
       "  </tbody>\n",
       "</table>\n",
       "</div>"
      ],
      "text/plain": [
       "       patientid    membershid  groupid   person_nbr\n",
       "84006     284007  61967.640577      108  6406.791285\n",
       "84007     284008  61967.640577      108  5736.801838\n",
       "84008     284009  61967.640577      108  7613.994822\n",
       "84009     284010  61967.640577      108  8530.577571\n",
       "84010     284011  61967.640577      108  2140.830791"
      ]
     },
     "execution_count": 90,
     "metadata": {},
     "output_type": "execute_result"
    }
   ],
   "source": [
    "dd_p.tail()"
   ]
  },
  {
   "cell_type": "code",
   "execution_count": 91,
   "id": "6fd4ff1c",
   "metadata": {},
   "outputs": [],
   "source": [
    "# import ddd address file"
   ]
  },
  {
   "cell_type": "code",
   "execution_count": 92,
   "id": "2f4b505b",
   "metadata": {},
   "outputs": [
    {
     "data": {
      "text/html": [
       "<div>\n",
       "<style scoped>\n",
       "    .dataframe tbody tr th:only-of-type {\n",
       "        vertical-align: middle;\n",
       "    }\n",
       "\n",
       "    .dataframe tbody tr th {\n",
       "        vertical-align: top;\n",
       "    }\n",
       "\n",
       "    .dataframe thead th {\n",
       "        text-align: right;\n",
       "    }\n",
       "</style>\n",
       "<table border=\"1\" class=\"dataframe\">\n",
       "  <thead>\n",
       "    <tr style=\"text-align: right;\">\n",
       "      <th></th>\n",
       "      <th>patientid</th>\n",
       "      <th>membershid</th>\n",
       "      <th>groupid</th>\n",
       "      <th>person_nbr</th>\n",
       "      <th>Primary_Phone_NBR</th>\n",
       "      <th>Phone2_NBR</th>\n",
       "      <th>Phone3_NBR</th>\n",
       "    </tr>\n",
       "  </thead>\n",
       "  <tbody>\n",
       "    <tr>\n",
       "      <th>0</th>\n",
       "      <td>200001</td>\n",
       "      <td>4456.162497</td>\n",
       "      <td>100</td>\n",
       "      <td>2748.280106</td>\n",
       "      <td>C</td>\n",
       "      <td>O</td>\n",
       "      <td>C</td>\n",
       "    </tr>\n",
       "    <tr>\n",
       "      <th>1</th>\n",
       "      <td>200002</td>\n",
       "      <td>4456.162497</td>\n",
       "      <td>100</td>\n",
       "      <td>3983.633278</td>\n",
       "      <td>C</td>\n",
       "      <td>O</td>\n",
       "      <td>C</td>\n",
       "    </tr>\n",
       "    <tr>\n",
       "      <th>2</th>\n",
       "      <td>200003</td>\n",
       "      <td>4456.162497</td>\n",
       "      <td>100</td>\n",
       "      <td>5918.043203</td>\n",
       "      <td>C</td>\n",
       "      <td>O</td>\n",
       "      <td>C</td>\n",
       "    </tr>\n",
       "    <tr>\n",
       "      <th>3</th>\n",
       "      <td>200004</td>\n",
       "      <td>4456.162497</td>\n",
       "      <td>100</td>\n",
       "      <td>5882.418134</td>\n",
       "      <td>C</td>\n",
       "      <td>O</td>\n",
       "      <td>C</td>\n",
       "    </tr>\n",
       "    <tr>\n",
       "      <th>4</th>\n",
       "      <td>200005</td>\n",
       "      <td>4456.162497</td>\n",
       "      <td>100</td>\n",
       "      <td>3519.095855</td>\n",
       "      <td>C</td>\n",
       "      <td>O</td>\n",
       "      <td>C</td>\n",
       "    </tr>\n",
       "    <tr>\n",
       "      <th>...</th>\n",
       "      <td>...</td>\n",
       "      <td>...</td>\n",
       "      <td>...</td>\n",
       "      <td>...</td>\n",
       "      <td>...</td>\n",
       "      <td>...</td>\n",
       "      <td>...</td>\n",
       "    </tr>\n",
       "    <tr>\n",
       "      <th>84006</th>\n",
       "      <td>284007</td>\n",
       "      <td>61967.640577</td>\n",
       "      <td>108</td>\n",
       "      <td>6406.791285</td>\n",
       "      <td>C</td>\n",
       "      <td>C</td>\n",
       "      <td>C</td>\n",
       "    </tr>\n",
       "    <tr>\n",
       "      <th>84007</th>\n",
       "      <td>284008</td>\n",
       "      <td>61967.640577</td>\n",
       "      <td>108</td>\n",
       "      <td>5736.801838</td>\n",
       "      <td>C</td>\n",
       "      <td>C</td>\n",
       "      <td>C</td>\n",
       "    </tr>\n",
       "    <tr>\n",
       "      <th>84008</th>\n",
       "      <td>284009</td>\n",
       "      <td>61967.640577</td>\n",
       "      <td>108</td>\n",
       "      <td>7613.994822</td>\n",
       "      <td>C</td>\n",
       "      <td>C</td>\n",
       "      <td>C</td>\n",
       "    </tr>\n",
       "    <tr>\n",
       "      <th>84009</th>\n",
       "      <td>284010</td>\n",
       "      <td>61967.640577</td>\n",
       "      <td>108</td>\n",
       "      <td>8530.577571</td>\n",
       "      <td>C</td>\n",
       "      <td>C</td>\n",
       "      <td>C</td>\n",
       "    </tr>\n",
       "    <tr>\n",
       "      <th>84010</th>\n",
       "      <td>284011</td>\n",
       "      <td>61967.640577</td>\n",
       "      <td>108</td>\n",
       "      <td>2140.830791</td>\n",
       "      <td>C</td>\n",
       "      <td>C</td>\n",
       "      <td>C</td>\n",
       "    </tr>\n",
       "  </tbody>\n",
       "</table>\n",
       "<p>84011 rows × 7 columns</p>\n",
       "</div>"
      ],
      "text/plain": [
       "       patientid    membershid  groupid   person_nbr Primary_Phone_NBR  \\\n",
       "0         200001   4456.162497      100  2748.280106                 C   \n",
       "1         200002   4456.162497      100  3983.633278                 C   \n",
       "2         200003   4456.162497      100  5918.043203                 C   \n",
       "3         200004   4456.162497      100  5882.418134                 C   \n",
       "4         200005   4456.162497      100  3519.095855                 C   \n",
       "...          ...           ...      ...          ...               ...   \n",
       "84006     284007  61967.640577      108  6406.791285                 C   \n",
       "84007     284008  61967.640577      108  5736.801838                 C   \n",
       "84008     284009  61967.640577      108  7613.994822                 C   \n",
       "84009     284010  61967.640577      108  8530.577571                 C   \n",
       "84010     284011  61967.640577      108  2140.830791                 C   \n",
       "\n",
       "      Phone2_NBR Phone3_NBR  \n",
       "0              O          C  \n",
       "1              O          C  \n",
       "2              O          C  \n",
       "3              O          C  \n",
       "4              O          C  \n",
       "...          ...        ...  \n",
       "84006          C          C  \n",
       "84007          C          C  \n",
       "84008          C          C  \n",
       "84009          C          C  \n",
       "84010          C          C  \n",
       "\n",
       "[84011 rows x 7 columns]"
      ]
     },
     "execution_count": 92,
     "metadata": {},
     "output_type": "execute_result"
    }
   ],
   "source": [
    "import pandas as pd\n",
    "dd_a=pd.read_excel(r\"C:\\Users\\hp\\Downloads\\Insurance_Customers.xlsx\",sheet_name=\"DDD_Address\")\n",
    "dd_a"
   ]
  },
  {
   "cell_type": "code",
   "execution_count": 93,
   "id": "bd004427",
   "metadata": {},
   "outputs": [],
   "source": [
    "# basic checks"
   ]
  },
  {
   "cell_type": "code",
   "execution_count": 94,
   "id": "c683551c",
   "metadata": {},
   "outputs": [
    {
     "data": {
      "text/plain": [
       "(84011, 7)"
      ]
     },
     "execution_count": 94,
     "metadata": {},
     "output_type": "execute_result"
    }
   ],
   "source": [
    "dd_a.shape"
   ]
  },
  {
   "cell_type": "code",
   "execution_count": 95,
   "id": "52c514a8",
   "metadata": {},
   "outputs": [
    {
     "data": {
      "text/plain": [
       "Index(['patientid', 'membershid', 'groupid', 'person_nbr', 'Primary_Phone_NBR',\n",
       "       'Phone2_NBR', 'Phone3_NBR'],\n",
       "      dtype='object')"
      ]
     },
     "execution_count": 95,
     "metadata": {},
     "output_type": "execute_result"
    }
   ],
   "source": [
    "dd_a.columns"
   ]
  },
  {
   "cell_type": "code",
   "execution_count": 96,
   "id": "6af7ddf9",
   "metadata": {},
   "outputs": [
    {
     "data": {
      "text/html": [
       "<div>\n",
       "<style scoped>\n",
       "    .dataframe tbody tr th:only-of-type {\n",
       "        vertical-align: middle;\n",
       "    }\n",
       "\n",
       "    .dataframe tbody tr th {\n",
       "        vertical-align: top;\n",
       "    }\n",
       "\n",
       "    .dataframe thead th {\n",
       "        text-align: right;\n",
       "    }\n",
       "</style>\n",
       "<table border=\"1\" class=\"dataframe\">\n",
       "  <thead>\n",
       "    <tr style=\"text-align: right;\">\n",
       "      <th></th>\n",
       "      <th>patientid</th>\n",
       "      <th>membershid</th>\n",
       "      <th>groupid</th>\n",
       "      <th>person_nbr</th>\n",
       "      <th>Primary_Phone_NBR</th>\n",
       "      <th>Phone2_NBR</th>\n",
       "      <th>Phone3_NBR</th>\n",
       "    </tr>\n",
       "  </thead>\n",
       "  <tbody>\n",
       "    <tr>\n",
       "      <th>0</th>\n",
       "      <td>200001</td>\n",
       "      <td>4456.162497</td>\n",
       "      <td>100</td>\n",
       "      <td>2748.280106</td>\n",
       "      <td>C</td>\n",
       "      <td>O</td>\n",
       "      <td>C</td>\n",
       "    </tr>\n",
       "    <tr>\n",
       "      <th>1</th>\n",
       "      <td>200002</td>\n",
       "      <td>4456.162497</td>\n",
       "      <td>100</td>\n",
       "      <td>3983.633278</td>\n",
       "      <td>C</td>\n",
       "      <td>O</td>\n",
       "      <td>C</td>\n",
       "    </tr>\n",
       "    <tr>\n",
       "      <th>2</th>\n",
       "      <td>200003</td>\n",
       "      <td>4456.162497</td>\n",
       "      <td>100</td>\n",
       "      <td>5918.043203</td>\n",
       "      <td>C</td>\n",
       "      <td>O</td>\n",
       "      <td>C</td>\n",
       "    </tr>\n",
       "    <tr>\n",
       "      <th>3</th>\n",
       "      <td>200004</td>\n",
       "      <td>4456.162497</td>\n",
       "      <td>100</td>\n",
       "      <td>5882.418134</td>\n",
       "      <td>C</td>\n",
       "      <td>O</td>\n",
       "      <td>C</td>\n",
       "    </tr>\n",
       "    <tr>\n",
       "      <th>4</th>\n",
       "      <td>200005</td>\n",
       "      <td>4456.162497</td>\n",
       "      <td>100</td>\n",
       "      <td>3519.095855</td>\n",
       "      <td>C</td>\n",
       "      <td>O</td>\n",
       "      <td>C</td>\n",
       "    </tr>\n",
       "  </tbody>\n",
       "</table>\n",
       "</div>"
      ],
      "text/plain": [
       "   patientid   membershid  groupid   person_nbr Primary_Phone_NBR Phone2_NBR  \\\n",
       "0     200001  4456.162497      100  2748.280106                 C          O   \n",
       "1     200002  4456.162497      100  3983.633278                 C          O   \n",
       "2     200003  4456.162497      100  5918.043203                 C          O   \n",
       "3     200004  4456.162497      100  5882.418134                 C          O   \n",
       "4     200005  4456.162497      100  3519.095855                 C          O   \n",
       "\n",
       "  Phone3_NBR  \n",
       "0          C  \n",
       "1          C  \n",
       "2          C  \n",
       "3          C  \n",
       "4          C  "
      ]
     },
     "execution_count": 96,
     "metadata": {},
     "output_type": "execute_result"
    }
   ],
   "source": [
    "dd_a.head()"
   ]
  },
  {
   "cell_type": "code",
   "execution_count": 97,
   "id": "ed296efe",
   "metadata": {},
   "outputs": [
    {
     "data": {
      "text/html": [
       "<div>\n",
       "<style scoped>\n",
       "    .dataframe tbody tr th:only-of-type {\n",
       "        vertical-align: middle;\n",
       "    }\n",
       "\n",
       "    .dataframe tbody tr th {\n",
       "        vertical-align: top;\n",
       "    }\n",
       "\n",
       "    .dataframe thead th {\n",
       "        text-align: right;\n",
       "    }\n",
       "</style>\n",
       "<table border=\"1\" class=\"dataframe\">\n",
       "  <thead>\n",
       "    <tr style=\"text-align: right;\">\n",
       "      <th></th>\n",
       "      <th>patientid</th>\n",
       "      <th>membershid</th>\n",
       "      <th>groupid</th>\n",
       "      <th>person_nbr</th>\n",
       "      <th>Primary_Phone_NBR</th>\n",
       "      <th>Phone2_NBR</th>\n",
       "      <th>Phone3_NBR</th>\n",
       "    </tr>\n",
       "  </thead>\n",
       "  <tbody>\n",
       "    <tr>\n",
       "      <th>84006</th>\n",
       "      <td>284007</td>\n",
       "      <td>61967.640577</td>\n",
       "      <td>108</td>\n",
       "      <td>6406.791285</td>\n",
       "      <td>C</td>\n",
       "      <td>C</td>\n",
       "      <td>C</td>\n",
       "    </tr>\n",
       "    <tr>\n",
       "      <th>84007</th>\n",
       "      <td>284008</td>\n",
       "      <td>61967.640577</td>\n",
       "      <td>108</td>\n",
       "      <td>5736.801838</td>\n",
       "      <td>C</td>\n",
       "      <td>C</td>\n",
       "      <td>C</td>\n",
       "    </tr>\n",
       "    <tr>\n",
       "      <th>84008</th>\n",
       "      <td>284009</td>\n",
       "      <td>61967.640577</td>\n",
       "      <td>108</td>\n",
       "      <td>7613.994822</td>\n",
       "      <td>C</td>\n",
       "      <td>C</td>\n",
       "      <td>C</td>\n",
       "    </tr>\n",
       "    <tr>\n",
       "      <th>84009</th>\n",
       "      <td>284010</td>\n",
       "      <td>61967.640577</td>\n",
       "      <td>108</td>\n",
       "      <td>8530.577571</td>\n",
       "      <td>C</td>\n",
       "      <td>C</td>\n",
       "      <td>C</td>\n",
       "    </tr>\n",
       "    <tr>\n",
       "      <th>84010</th>\n",
       "      <td>284011</td>\n",
       "      <td>61967.640577</td>\n",
       "      <td>108</td>\n",
       "      <td>2140.830791</td>\n",
       "      <td>C</td>\n",
       "      <td>C</td>\n",
       "      <td>C</td>\n",
       "    </tr>\n",
       "  </tbody>\n",
       "</table>\n",
       "</div>"
      ],
      "text/plain": [
       "       patientid    membershid  groupid   person_nbr Primary_Phone_NBR  \\\n",
       "84006     284007  61967.640577      108  6406.791285                 C   \n",
       "84007     284008  61967.640577      108  5736.801838                 C   \n",
       "84008     284009  61967.640577      108  7613.994822                 C   \n",
       "84009     284010  61967.640577      108  8530.577571                 C   \n",
       "84010     284011  61967.640577      108  2140.830791                 C   \n",
       "\n",
       "      Phone2_NBR Phone3_NBR  \n",
       "84006          C          C  \n",
       "84007          C          C  \n",
       "84008          C          C  \n",
       "84009          C          C  \n",
       "84010          C          C  "
      ]
     },
     "execution_count": 97,
     "metadata": {},
     "output_type": "execute_result"
    }
   ],
   "source": [
    "dd_a.tail()"
   ]
  },
  {
   "cell_type": "code",
   "execution_count": 98,
   "id": "396ea82d",
   "metadata": {},
   "outputs": [],
   "source": [
    "# left join\n"
   ]
  },
  {
   "cell_type": "code",
   "execution_count": 99,
   "id": "3171c67b",
   "metadata": {},
   "outputs": [],
   "source": [
    "dd_l=dd_p.merge(dd_a,how=\"left\",on=['patientid', 'membershid', 'groupid', 'person_nbr'])"
   ]
  },
  {
   "cell_type": "code",
   "execution_count": 100,
   "id": "20ebe7a9",
   "metadata": {},
   "outputs": [
    {
     "data": {
      "text/html": [
       "<div>\n",
       "<style scoped>\n",
       "    .dataframe tbody tr th:only-of-type {\n",
       "        vertical-align: middle;\n",
       "    }\n",
       "\n",
       "    .dataframe tbody tr th {\n",
       "        vertical-align: top;\n",
       "    }\n",
       "\n",
       "    .dataframe thead th {\n",
       "        text-align: right;\n",
       "    }\n",
       "</style>\n",
       "<table border=\"1\" class=\"dataframe\">\n",
       "  <thead>\n",
       "    <tr style=\"text-align: right;\">\n",
       "      <th></th>\n",
       "      <th>patientid</th>\n",
       "      <th>membershid</th>\n",
       "      <th>groupid</th>\n",
       "      <th>person_nbr</th>\n",
       "      <th>Primary_Phone_NBR</th>\n",
       "      <th>Phone2_NBR</th>\n",
       "      <th>Phone3_NBR</th>\n",
       "    </tr>\n",
       "  </thead>\n",
       "  <tbody>\n",
       "    <tr>\n",
       "      <th>0</th>\n",
       "      <td>200001</td>\n",
       "      <td>4456.162497</td>\n",
       "      <td>100</td>\n",
       "      <td>2748.280106</td>\n",
       "      <td>C</td>\n",
       "      <td>O</td>\n",
       "      <td>C</td>\n",
       "    </tr>\n",
       "    <tr>\n",
       "      <th>1</th>\n",
       "      <td>200002</td>\n",
       "      <td>4456.162497</td>\n",
       "      <td>100</td>\n",
       "      <td>3983.633278</td>\n",
       "      <td>C</td>\n",
       "      <td>O</td>\n",
       "      <td>C</td>\n",
       "    </tr>\n",
       "    <tr>\n",
       "      <th>2</th>\n",
       "      <td>200003</td>\n",
       "      <td>4456.162497</td>\n",
       "      <td>100</td>\n",
       "      <td>5918.043203</td>\n",
       "      <td>C</td>\n",
       "      <td>O</td>\n",
       "      <td>C</td>\n",
       "    </tr>\n",
       "    <tr>\n",
       "      <th>3</th>\n",
       "      <td>200004</td>\n",
       "      <td>4456.162497</td>\n",
       "      <td>100</td>\n",
       "      <td>5882.418134</td>\n",
       "      <td>C</td>\n",
       "      <td>O</td>\n",
       "      <td>C</td>\n",
       "    </tr>\n",
       "    <tr>\n",
       "      <th>4</th>\n",
       "      <td>200005</td>\n",
       "      <td>4456.162497</td>\n",
       "      <td>100</td>\n",
       "      <td>3519.095855</td>\n",
       "      <td>C</td>\n",
       "      <td>O</td>\n",
       "      <td>C</td>\n",
       "    </tr>\n",
       "    <tr>\n",
       "      <th>...</th>\n",
       "      <td>...</td>\n",
       "      <td>...</td>\n",
       "      <td>...</td>\n",
       "      <td>...</td>\n",
       "      <td>...</td>\n",
       "      <td>...</td>\n",
       "      <td>...</td>\n",
       "    </tr>\n",
       "    <tr>\n",
       "      <th>84006</th>\n",
       "      <td>284007</td>\n",
       "      <td>61967.640577</td>\n",
       "      <td>108</td>\n",
       "      <td>6406.791285</td>\n",
       "      <td>C</td>\n",
       "      <td>C</td>\n",
       "      <td>C</td>\n",
       "    </tr>\n",
       "    <tr>\n",
       "      <th>84007</th>\n",
       "      <td>284008</td>\n",
       "      <td>61967.640577</td>\n",
       "      <td>108</td>\n",
       "      <td>5736.801838</td>\n",
       "      <td>C</td>\n",
       "      <td>C</td>\n",
       "      <td>C</td>\n",
       "    </tr>\n",
       "    <tr>\n",
       "      <th>84008</th>\n",
       "      <td>284009</td>\n",
       "      <td>61967.640577</td>\n",
       "      <td>108</td>\n",
       "      <td>7613.994822</td>\n",
       "      <td>C</td>\n",
       "      <td>C</td>\n",
       "      <td>C</td>\n",
       "    </tr>\n",
       "    <tr>\n",
       "      <th>84009</th>\n",
       "      <td>284010</td>\n",
       "      <td>61967.640577</td>\n",
       "      <td>108</td>\n",
       "      <td>8530.577571</td>\n",
       "      <td>C</td>\n",
       "      <td>C</td>\n",
       "      <td>C</td>\n",
       "    </tr>\n",
       "    <tr>\n",
       "      <th>84010</th>\n",
       "      <td>284011</td>\n",
       "      <td>61967.640577</td>\n",
       "      <td>108</td>\n",
       "      <td>2140.830791</td>\n",
       "      <td>C</td>\n",
       "      <td>C</td>\n",
       "      <td>C</td>\n",
       "    </tr>\n",
       "  </tbody>\n",
       "</table>\n",
       "<p>84011 rows × 7 columns</p>\n",
       "</div>"
      ],
      "text/plain": [
       "       patientid    membershid  groupid   person_nbr Primary_Phone_NBR  \\\n",
       "0         200001   4456.162497      100  2748.280106                 C   \n",
       "1         200002   4456.162497      100  3983.633278                 C   \n",
       "2         200003   4456.162497      100  5918.043203                 C   \n",
       "3         200004   4456.162497      100  5882.418134                 C   \n",
       "4         200005   4456.162497      100  3519.095855                 C   \n",
       "...          ...           ...      ...          ...               ...   \n",
       "84006     284007  61967.640577      108  6406.791285                 C   \n",
       "84007     284008  61967.640577      108  5736.801838                 C   \n",
       "84008     284009  61967.640577      108  7613.994822                 C   \n",
       "84009     284010  61967.640577      108  8530.577571                 C   \n",
       "84010     284011  61967.640577      108  2140.830791                 C   \n",
       "\n",
       "      Phone2_NBR Phone3_NBR  \n",
       "0              O          C  \n",
       "1              O          C  \n",
       "2              O          C  \n",
       "3              O          C  \n",
       "4              O          C  \n",
       "...          ...        ...  \n",
       "84006          C          C  \n",
       "84007          C          C  \n",
       "84008          C          C  \n",
       "84009          C          C  \n",
       "84010          C          C  \n",
       "\n",
       "[84011 rows x 7 columns]"
      ]
     },
     "execution_count": 100,
     "metadata": {},
     "output_type": "execute_result"
    }
   ],
   "source": [
    "dd_l"
   ]
  },
  {
   "cell_type": "code",
   "execution_count": 101,
   "id": "22feee2e",
   "metadata": {},
   "outputs": [],
   "source": [
    "# import ddd flags file"
   ]
  },
  {
   "cell_type": "code",
   "execution_count": 102,
   "id": "11fed3ac",
   "metadata": {},
   "outputs": [],
   "source": [
    "import pandas as pd\n",
    "df_f=pd.read_excel(r\"C:\\Users\\hp\\Downloads\\Insurance_Customers.xlsx\",sheet_name=\"DDD_Flag\")"
   ]
  },
  {
   "cell_type": "code",
   "execution_count": 103,
   "id": "efc03ea8",
   "metadata": {},
   "outputs": [
    {
     "data": {
      "text/html": [
       "<div>\n",
       "<style scoped>\n",
       "    .dataframe tbody tr th:only-of-type {\n",
       "        vertical-align: middle;\n",
       "    }\n",
       "\n",
       "    .dataframe tbody tr th {\n",
       "        vertical-align: top;\n",
       "    }\n",
       "\n",
       "    .dataframe thead th {\n",
       "        text-align: right;\n",
       "    }\n",
       "</style>\n",
       "<table border=\"1\" class=\"dataframe\">\n",
       "  <thead>\n",
       "    <tr style=\"text-align: right;\">\n",
       "      <th></th>\n",
       "      <th>groupid</th>\n",
       "      <th>Flag</th>\n",
       "    </tr>\n",
       "  </thead>\n",
       "  <tbody>\n",
       "    <tr>\n",
       "      <th>0</th>\n",
       "      <td>100</td>\n",
       "      <td>EarD</td>\n",
       "    </tr>\n",
       "    <tr>\n",
       "      <th>1</th>\n",
       "      <td>102</td>\n",
       "      <td>EyesD</td>\n",
       "    </tr>\n",
       "    <tr>\n",
       "      <th>2</th>\n",
       "      <td>103</td>\n",
       "      <td>Nervers</td>\n",
       "    </tr>\n",
       "    <tr>\n",
       "      <th>3</th>\n",
       "      <td>105</td>\n",
       "      <td>KneeF</td>\n",
       "    </tr>\n",
       "    <tr>\n",
       "      <th>4</th>\n",
       "      <td>106</td>\n",
       "      <td>SpineF</td>\n",
       "    </tr>\n",
       "    <tr>\n",
       "      <th>5</th>\n",
       "      <td>107</td>\n",
       "      <td>Obesity</td>\n",
       "    </tr>\n",
       "    <tr>\n",
       "      <th>6</th>\n",
       "      <td>108</td>\n",
       "      <td>Obesity-II</td>\n",
       "    </tr>\n",
       "  </tbody>\n",
       "</table>\n",
       "</div>"
      ],
      "text/plain": [
       "   groupid        Flag\n",
       "0      100        EarD\n",
       "1      102       EyesD\n",
       "2      103     Nervers\n",
       "3      105       KneeF\n",
       "4      106      SpineF\n",
       "5      107     Obesity\n",
       "6      108  Obesity-II"
      ]
     },
     "execution_count": 103,
     "metadata": {},
     "output_type": "execute_result"
    }
   ],
   "source": [
    "df_f"
   ]
  },
  {
   "cell_type": "code",
   "execution_count": 104,
   "id": "942be9b5",
   "metadata": {},
   "outputs": [],
   "source": [
    "# basic checks"
   ]
  },
  {
   "cell_type": "code",
   "execution_count": 105,
   "id": "9164a9f0",
   "metadata": {},
   "outputs": [
    {
     "data": {
      "text/plain": [
       "(7, 2)"
      ]
     },
     "execution_count": 105,
     "metadata": {},
     "output_type": "execute_result"
    }
   ],
   "source": [
    "df_f.shape"
   ]
  },
  {
   "cell_type": "code",
   "execution_count": 106,
   "id": "689f63bc",
   "metadata": {},
   "outputs": [
    {
     "data": {
      "text/plain": [
       "Index(['groupid', 'Flag'], dtype='object')"
      ]
     },
     "execution_count": 106,
     "metadata": {},
     "output_type": "execute_result"
    }
   ],
   "source": [
    "df_f.columns"
   ]
  },
  {
   "cell_type": "code",
   "execution_count": 107,
   "id": "28f7d0db",
   "metadata": {},
   "outputs": [],
   "source": [
    "# left join"
   ]
  },
  {
   "cell_type": "code",
   "execution_count": 108,
   "id": "01f9e39b",
   "metadata": {},
   "outputs": [],
   "source": [
    "dd_M=dd_l.merge(df_f,how=\"left\",on=\"groupid\")"
   ]
  },
  {
   "cell_type": "code",
   "execution_count": 109,
   "id": "615681a6",
   "metadata": {},
   "outputs": [
    {
     "data": {
      "text/html": [
       "<div>\n",
       "<style scoped>\n",
       "    .dataframe tbody tr th:only-of-type {\n",
       "        vertical-align: middle;\n",
       "    }\n",
       "\n",
       "    .dataframe tbody tr th {\n",
       "        vertical-align: top;\n",
       "    }\n",
       "\n",
       "    .dataframe thead th {\n",
       "        text-align: right;\n",
       "    }\n",
       "</style>\n",
       "<table border=\"1\" class=\"dataframe\">\n",
       "  <thead>\n",
       "    <tr style=\"text-align: right;\">\n",
       "      <th></th>\n",
       "      <th>patientid</th>\n",
       "      <th>membershid</th>\n",
       "      <th>groupid</th>\n",
       "      <th>person_nbr</th>\n",
       "      <th>Primary_Phone_NBR</th>\n",
       "      <th>Phone2_NBR</th>\n",
       "      <th>Phone3_NBR</th>\n",
       "      <th>Flag</th>\n",
       "    </tr>\n",
       "  </thead>\n",
       "  <tbody>\n",
       "    <tr>\n",
       "      <th>0</th>\n",
       "      <td>200001</td>\n",
       "      <td>4456.162497</td>\n",
       "      <td>100</td>\n",
       "      <td>2748.280106</td>\n",
       "      <td>C</td>\n",
       "      <td>O</td>\n",
       "      <td>C</td>\n",
       "      <td>EarD</td>\n",
       "    </tr>\n",
       "    <tr>\n",
       "      <th>1</th>\n",
       "      <td>200002</td>\n",
       "      <td>4456.162497</td>\n",
       "      <td>100</td>\n",
       "      <td>3983.633278</td>\n",
       "      <td>C</td>\n",
       "      <td>O</td>\n",
       "      <td>C</td>\n",
       "      <td>EarD</td>\n",
       "    </tr>\n",
       "    <tr>\n",
       "      <th>2</th>\n",
       "      <td>200003</td>\n",
       "      <td>4456.162497</td>\n",
       "      <td>100</td>\n",
       "      <td>5918.043203</td>\n",
       "      <td>C</td>\n",
       "      <td>O</td>\n",
       "      <td>C</td>\n",
       "      <td>EarD</td>\n",
       "    </tr>\n",
       "    <tr>\n",
       "      <th>3</th>\n",
       "      <td>200004</td>\n",
       "      <td>4456.162497</td>\n",
       "      <td>100</td>\n",
       "      <td>5882.418134</td>\n",
       "      <td>C</td>\n",
       "      <td>O</td>\n",
       "      <td>C</td>\n",
       "      <td>EarD</td>\n",
       "    </tr>\n",
       "    <tr>\n",
       "      <th>4</th>\n",
       "      <td>200005</td>\n",
       "      <td>4456.162497</td>\n",
       "      <td>100</td>\n",
       "      <td>3519.095855</td>\n",
       "      <td>C</td>\n",
       "      <td>O</td>\n",
       "      <td>C</td>\n",
       "      <td>EarD</td>\n",
       "    </tr>\n",
       "    <tr>\n",
       "      <th>...</th>\n",
       "      <td>...</td>\n",
       "      <td>...</td>\n",
       "      <td>...</td>\n",
       "      <td>...</td>\n",
       "      <td>...</td>\n",
       "      <td>...</td>\n",
       "      <td>...</td>\n",
       "      <td>...</td>\n",
       "    </tr>\n",
       "    <tr>\n",
       "      <th>84006</th>\n",
       "      <td>284007</td>\n",
       "      <td>61967.640577</td>\n",
       "      <td>108</td>\n",
       "      <td>6406.791285</td>\n",
       "      <td>C</td>\n",
       "      <td>C</td>\n",
       "      <td>C</td>\n",
       "      <td>Obesity-II</td>\n",
       "    </tr>\n",
       "    <tr>\n",
       "      <th>84007</th>\n",
       "      <td>284008</td>\n",
       "      <td>61967.640577</td>\n",
       "      <td>108</td>\n",
       "      <td>5736.801838</td>\n",
       "      <td>C</td>\n",
       "      <td>C</td>\n",
       "      <td>C</td>\n",
       "      <td>Obesity-II</td>\n",
       "    </tr>\n",
       "    <tr>\n",
       "      <th>84008</th>\n",
       "      <td>284009</td>\n",
       "      <td>61967.640577</td>\n",
       "      <td>108</td>\n",
       "      <td>7613.994822</td>\n",
       "      <td>C</td>\n",
       "      <td>C</td>\n",
       "      <td>C</td>\n",
       "      <td>Obesity-II</td>\n",
       "    </tr>\n",
       "    <tr>\n",
       "      <th>84009</th>\n",
       "      <td>284010</td>\n",
       "      <td>61967.640577</td>\n",
       "      <td>108</td>\n",
       "      <td>8530.577571</td>\n",
       "      <td>C</td>\n",
       "      <td>C</td>\n",
       "      <td>C</td>\n",
       "      <td>Obesity-II</td>\n",
       "    </tr>\n",
       "    <tr>\n",
       "      <th>84010</th>\n",
       "      <td>284011</td>\n",
       "      <td>61967.640577</td>\n",
       "      <td>108</td>\n",
       "      <td>2140.830791</td>\n",
       "      <td>C</td>\n",
       "      <td>C</td>\n",
       "      <td>C</td>\n",
       "      <td>Obesity-II</td>\n",
       "    </tr>\n",
       "  </tbody>\n",
       "</table>\n",
       "<p>84011 rows × 8 columns</p>\n",
       "</div>"
      ],
      "text/plain": [
       "       patientid    membershid  groupid   person_nbr Primary_Phone_NBR  \\\n",
       "0         200001   4456.162497      100  2748.280106                 C   \n",
       "1         200002   4456.162497      100  3983.633278                 C   \n",
       "2         200003   4456.162497      100  5918.043203                 C   \n",
       "3         200004   4456.162497      100  5882.418134                 C   \n",
       "4         200005   4456.162497      100  3519.095855                 C   \n",
       "...          ...           ...      ...          ...               ...   \n",
       "84006     284007  61967.640577      108  6406.791285                 C   \n",
       "84007     284008  61967.640577      108  5736.801838                 C   \n",
       "84008     284009  61967.640577      108  7613.994822                 C   \n",
       "84009     284010  61967.640577      108  8530.577571                 C   \n",
       "84010     284011  61967.640577      108  2140.830791                 C   \n",
       "\n",
       "      Phone2_NBR Phone3_NBR        Flag  \n",
       "0              O          C        EarD  \n",
       "1              O          C        EarD  \n",
       "2              O          C        EarD  \n",
       "3              O          C        EarD  \n",
       "4              O          C        EarD  \n",
       "...          ...        ...         ...  \n",
       "84006          C          C  Obesity-II  \n",
       "84007          C          C  Obesity-II  \n",
       "84008          C          C  Obesity-II  \n",
       "84009          C          C  Obesity-II  \n",
       "84010          C          C  Obesity-II  \n",
       "\n",
       "[84011 rows x 8 columns]"
      ]
     },
     "execution_count": 109,
     "metadata": {},
     "output_type": "execute_result"
    }
   ],
   "source": [
    "dd_M"
   ]
  },
  {
   "cell_type": "code",
   "execution_count": 110,
   "id": "e85bcbe3",
   "metadata": {},
   "outputs": [
    {
     "data": {
      "text/plain": [
       "Index(['patientid', 'membershid', 'groupid', 'person_nbr', 'Primary_Phone_NBR',\n",
       "       'Phone2_NBR', 'Phone3_NBR', 'Flag'],\n",
       "      dtype='object')"
      ]
     },
     "execution_count": 110,
     "metadata": {},
     "output_type": "execute_result"
    }
   ],
   "source": [
    "dd_M.columns"
   ]
  },
  {
   "cell_type": "code",
   "execution_count": 111,
   "id": "d3484046",
   "metadata": {},
   "outputs": [],
   "source": [
    "# slice or remove columns name"
   ]
  },
  {
   "cell_type": "code",
   "execution_count": 112,
   "id": "bd0f49d6",
   "metadata": {},
   "outputs": [],
   "source": [
    "dd_M_l=dd_M[['patientid', 'membershid','person_nbr', 'Primary_Phone_NBR',\n",
    "       'Phone2_NBR', 'Phone3_NBR', 'Flag']]"
   ]
  },
  {
   "cell_type": "code",
   "execution_count": 113,
   "id": "4cfeef8f",
   "metadata": {},
   "outputs": [
    {
     "data": {
      "text/html": [
       "<div>\n",
       "<style scoped>\n",
       "    .dataframe tbody tr th:only-of-type {\n",
       "        vertical-align: middle;\n",
       "    }\n",
       "\n",
       "    .dataframe tbody tr th {\n",
       "        vertical-align: top;\n",
       "    }\n",
       "\n",
       "    .dataframe thead th {\n",
       "        text-align: right;\n",
       "    }\n",
       "</style>\n",
       "<table border=\"1\" class=\"dataframe\">\n",
       "  <thead>\n",
       "    <tr style=\"text-align: right;\">\n",
       "      <th></th>\n",
       "      <th>patientid</th>\n",
       "      <th>membershid</th>\n",
       "      <th>person_nbr</th>\n",
       "      <th>Primary_Phone_NBR</th>\n",
       "      <th>Phone2_NBR</th>\n",
       "      <th>Phone3_NBR</th>\n",
       "      <th>Flag</th>\n",
       "    </tr>\n",
       "  </thead>\n",
       "  <tbody>\n",
       "    <tr>\n",
       "      <th>0</th>\n",
       "      <td>200001</td>\n",
       "      <td>4456.162497</td>\n",
       "      <td>2748.280106</td>\n",
       "      <td>C</td>\n",
       "      <td>O</td>\n",
       "      <td>C</td>\n",
       "      <td>EarD</td>\n",
       "    </tr>\n",
       "    <tr>\n",
       "      <th>1</th>\n",
       "      <td>200002</td>\n",
       "      <td>4456.162497</td>\n",
       "      <td>3983.633278</td>\n",
       "      <td>C</td>\n",
       "      <td>O</td>\n",
       "      <td>C</td>\n",
       "      <td>EarD</td>\n",
       "    </tr>\n",
       "    <tr>\n",
       "      <th>2</th>\n",
       "      <td>200003</td>\n",
       "      <td>4456.162497</td>\n",
       "      <td>5918.043203</td>\n",
       "      <td>C</td>\n",
       "      <td>O</td>\n",
       "      <td>C</td>\n",
       "      <td>EarD</td>\n",
       "    </tr>\n",
       "    <tr>\n",
       "      <th>3</th>\n",
       "      <td>200004</td>\n",
       "      <td>4456.162497</td>\n",
       "      <td>5882.418134</td>\n",
       "      <td>C</td>\n",
       "      <td>O</td>\n",
       "      <td>C</td>\n",
       "      <td>EarD</td>\n",
       "    </tr>\n",
       "    <tr>\n",
       "      <th>4</th>\n",
       "      <td>200005</td>\n",
       "      <td>4456.162497</td>\n",
       "      <td>3519.095855</td>\n",
       "      <td>C</td>\n",
       "      <td>O</td>\n",
       "      <td>C</td>\n",
       "      <td>EarD</td>\n",
       "    </tr>\n",
       "    <tr>\n",
       "      <th>...</th>\n",
       "      <td>...</td>\n",
       "      <td>...</td>\n",
       "      <td>...</td>\n",
       "      <td>...</td>\n",
       "      <td>...</td>\n",
       "      <td>...</td>\n",
       "      <td>...</td>\n",
       "    </tr>\n",
       "    <tr>\n",
       "      <th>84006</th>\n",
       "      <td>284007</td>\n",
       "      <td>61967.640577</td>\n",
       "      <td>6406.791285</td>\n",
       "      <td>C</td>\n",
       "      <td>C</td>\n",
       "      <td>C</td>\n",
       "      <td>Obesity-II</td>\n",
       "    </tr>\n",
       "    <tr>\n",
       "      <th>84007</th>\n",
       "      <td>284008</td>\n",
       "      <td>61967.640577</td>\n",
       "      <td>5736.801838</td>\n",
       "      <td>C</td>\n",
       "      <td>C</td>\n",
       "      <td>C</td>\n",
       "      <td>Obesity-II</td>\n",
       "    </tr>\n",
       "    <tr>\n",
       "      <th>84008</th>\n",
       "      <td>284009</td>\n",
       "      <td>61967.640577</td>\n",
       "      <td>7613.994822</td>\n",
       "      <td>C</td>\n",
       "      <td>C</td>\n",
       "      <td>C</td>\n",
       "      <td>Obesity-II</td>\n",
       "    </tr>\n",
       "    <tr>\n",
       "      <th>84009</th>\n",
       "      <td>284010</td>\n",
       "      <td>61967.640577</td>\n",
       "      <td>8530.577571</td>\n",
       "      <td>C</td>\n",
       "      <td>C</td>\n",
       "      <td>C</td>\n",
       "      <td>Obesity-II</td>\n",
       "    </tr>\n",
       "    <tr>\n",
       "      <th>84010</th>\n",
       "      <td>284011</td>\n",
       "      <td>61967.640577</td>\n",
       "      <td>2140.830791</td>\n",
       "      <td>C</td>\n",
       "      <td>C</td>\n",
       "      <td>C</td>\n",
       "      <td>Obesity-II</td>\n",
       "    </tr>\n",
       "  </tbody>\n",
       "</table>\n",
       "<p>84011 rows × 7 columns</p>\n",
       "</div>"
      ],
      "text/plain": [
       "       patientid    membershid   person_nbr Primary_Phone_NBR Phone2_NBR  \\\n",
       "0         200001   4456.162497  2748.280106                 C          O   \n",
       "1         200002   4456.162497  3983.633278                 C          O   \n",
       "2         200003   4456.162497  5918.043203                 C          O   \n",
       "3         200004   4456.162497  5882.418134                 C          O   \n",
       "4         200005   4456.162497  3519.095855                 C          O   \n",
       "...          ...           ...          ...               ...        ...   \n",
       "84006     284007  61967.640577  6406.791285                 C          C   \n",
       "84007     284008  61967.640577  5736.801838                 C          C   \n",
       "84008     284009  61967.640577  7613.994822                 C          C   \n",
       "84009     284010  61967.640577  8530.577571                 C          C   \n",
       "84010     284011  61967.640577  2140.830791                 C          C   \n",
       "\n",
       "      Phone3_NBR        Flag  \n",
       "0              C        EarD  \n",
       "1              C        EarD  \n",
       "2              C        EarD  \n",
       "3              C        EarD  \n",
       "4              C        EarD  \n",
       "...          ...         ...  \n",
       "84006          C  Obesity-II  \n",
       "84007          C  Obesity-II  \n",
       "84008          C  Obesity-II  \n",
       "84009          C  Obesity-II  \n",
       "84010          C  Obesity-II  \n",
       "\n",
       "[84011 rows x 7 columns]"
      ]
     },
     "execution_count": 113,
     "metadata": {},
     "output_type": "execute_result"
    }
   ],
   "source": [
    "dd_M_l"
   ]
  },
  {
   "cell_type": "code",
   "execution_count": 114,
   "id": "727aed20",
   "metadata": {},
   "outputs": [],
   "source": [
    "# rename a column name"
   ]
  },
  {
   "cell_type": "code",
   "execution_count": 115,
   "id": "d4fabc2e",
   "metadata": {},
   "outputs": [],
   "source": [
    "dd_M_l.columns=['patientid', 'membershid','person_nbr', 'Primary_Phone_NBR',\n",
    "       'Phone2_NBR', 'Phone3_NBR', 'groupid']"
   ]
  },
  {
   "cell_type": "code",
   "execution_count": 116,
   "id": "6bffeb73",
   "metadata": {},
   "outputs": [
    {
     "data": {
      "text/html": [
       "<div>\n",
       "<style scoped>\n",
       "    .dataframe tbody tr th:only-of-type {\n",
       "        vertical-align: middle;\n",
       "    }\n",
       "\n",
       "    .dataframe tbody tr th {\n",
       "        vertical-align: top;\n",
       "    }\n",
       "\n",
       "    .dataframe thead th {\n",
       "        text-align: right;\n",
       "    }\n",
       "</style>\n",
       "<table border=\"1\" class=\"dataframe\">\n",
       "  <thead>\n",
       "    <tr style=\"text-align: right;\">\n",
       "      <th></th>\n",
       "      <th>patientid</th>\n",
       "      <th>membershid</th>\n",
       "      <th>person_nbr</th>\n",
       "      <th>Primary_Phone_NBR</th>\n",
       "      <th>Phone2_NBR</th>\n",
       "      <th>Phone3_NBR</th>\n",
       "      <th>groupid</th>\n",
       "    </tr>\n",
       "  </thead>\n",
       "  <tbody>\n",
       "    <tr>\n",
       "      <th>0</th>\n",
       "      <td>200001</td>\n",
       "      <td>4456.162497</td>\n",
       "      <td>2748.280106</td>\n",
       "      <td>C</td>\n",
       "      <td>O</td>\n",
       "      <td>C</td>\n",
       "      <td>EarD</td>\n",
       "    </tr>\n",
       "    <tr>\n",
       "      <th>1</th>\n",
       "      <td>200002</td>\n",
       "      <td>4456.162497</td>\n",
       "      <td>3983.633278</td>\n",
       "      <td>C</td>\n",
       "      <td>O</td>\n",
       "      <td>C</td>\n",
       "      <td>EarD</td>\n",
       "    </tr>\n",
       "    <tr>\n",
       "      <th>2</th>\n",
       "      <td>200003</td>\n",
       "      <td>4456.162497</td>\n",
       "      <td>5918.043203</td>\n",
       "      <td>C</td>\n",
       "      <td>O</td>\n",
       "      <td>C</td>\n",
       "      <td>EarD</td>\n",
       "    </tr>\n",
       "    <tr>\n",
       "      <th>3</th>\n",
       "      <td>200004</td>\n",
       "      <td>4456.162497</td>\n",
       "      <td>5882.418134</td>\n",
       "      <td>C</td>\n",
       "      <td>O</td>\n",
       "      <td>C</td>\n",
       "      <td>EarD</td>\n",
       "    </tr>\n",
       "    <tr>\n",
       "      <th>4</th>\n",
       "      <td>200005</td>\n",
       "      <td>4456.162497</td>\n",
       "      <td>3519.095855</td>\n",
       "      <td>C</td>\n",
       "      <td>O</td>\n",
       "      <td>C</td>\n",
       "      <td>EarD</td>\n",
       "    </tr>\n",
       "    <tr>\n",
       "      <th>...</th>\n",
       "      <td>...</td>\n",
       "      <td>...</td>\n",
       "      <td>...</td>\n",
       "      <td>...</td>\n",
       "      <td>...</td>\n",
       "      <td>...</td>\n",
       "      <td>...</td>\n",
       "    </tr>\n",
       "    <tr>\n",
       "      <th>84006</th>\n",
       "      <td>284007</td>\n",
       "      <td>61967.640577</td>\n",
       "      <td>6406.791285</td>\n",
       "      <td>C</td>\n",
       "      <td>C</td>\n",
       "      <td>C</td>\n",
       "      <td>Obesity-II</td>\n",
       "    </tr>\n",
       "    <tr>\n",
       "      <th>84007</th>\n",
       "      <td>284008</td>\n",
       "      <td>61967.640577</td>\n",
       "      <td>5736.801838</td>\n",
       "      <td>C</td>\n",
       "      <td>C</td>\n",
       "      <td>C</td>\n",
       "      <td>Obesity-II</td>\n",
       "    </tr>\n",
       "    <tr>\n",
       "      <th>84008</th>\n",
       "      <td>284009</td>\n",
       "      <td>61967.640577</td>\n",
       "      <td>7613.994822</td>\n",
       "      <td>C</td>\n",
       "      <td>C</td>\n",
       "      <td>C</td>\n",
       "      <td>Obesity-II</td>\n",
       "    </tr>\n",
       "    <tr>\n",
       "      <th>84009</th>\n",
       "      <td>284010</td>\n",
       "      <td>61967.640577</td>\n",
       "      <td>8530.577571</td>\n",
       "      <td>C</td>\n",
       "      <td>C</td>\n",
       "      <td>C</td>\n",
       "      <td>Obesity-II</td>\n",
       "    </tr>\n",
       "    <tr>\n",
       "      <th>84010</th>\n",
       "      <td>284011</td>\n",
       "      <td>61967.640577</td>\n",
       "      <td>2140.830791</td>\n",
       "      <td>C</td>\n",
       "      <td>C</td>\n",
       "      <td>C</td>\n",
       "      <td>Obesity-II</td>\n",
       "    </tr>\n",
       "  </tbody>\n",
       "</table>\n",
       "<p>84011 rows × 7 columns</p>\n",
       "</div>"
      ],
      "text/plain": [
       "       patientid    membershid   person_nbr Primary_Phone_NBR Phone2_NBR  \\\n",
       "0         200001   4456.162497  2748.280106                 C          O   \n",
       "1         200002   4456.162497  3983.633278                 C          O   \n",
       "2         200003   4456.162497  5918.043203                 C          O   \n",
       "3         200004   4456.162497  5882.418134                 C          O   \n",
       "4         200005   4456.162497  3519.095855                 C          O   \n",
       "...          ...           ...          ...               ...        ...   \n",
       "84006     284007  61967.640577  6406.791285                 C          C   \n",
       "84007     284008  61967.640577  5736.801838                 C          C   \n",
       "84008     284009  61967.640577  7613.994822                 C          C   \n",
       "84009     284010  61967.640577  8530.577571                 C          C   \n",
       "84010     284011  61967.640577  2140.830791                 C          C   \n",
       "\n",
       "      Phone3_NBR     groupid  \n",
       "0              C        EarD  \n",
       "1              C        EarD  \n",
       "2              C        EarD  \n",
       "3              C        EarD  \n",
       "4              C        EarD  \n",
       "...          ...         ...  \n",
       "84006          C  Obesity-II  \n",
       "84007          C  Obesity-II  \n",
       "84008          C  Obesity-II  \n",
       "84009          C  Obesity-II  \n",
       "84010          C  Obesity-II  \n",
       "\n",
       "[84011 rows x 7 columns]"
      ]
     },
     "execution_count": 116,
     "metadata": {},
     "output_type": "execute_result"
    }
   ],
   "source": [
    "dd_M_l"
   ]
  },
  {
   "cell_type": "code",
   "execution_count": 117,
   "id": "bf414dc6",
   "metadata": {},
   "outputs": [
    {
     "data": {
      "text/plain": [
       "Index(['patientid', 'membershid', 'person_nbr', 'Primary_Phone_NBR',\n",
       "       'Phone2_NBR', 'Phone3_NBR', 'groupid'],\n",
       "      dtype='object')"
      ]
     },
     "execution_count": 117,
     "metadata": {},
     "output_type": "execute_result"
    }
   ],
   "source": [
    "dd_M_l.columns"
   ]
  },
  {
   "cell_type": "code",
   "execution_count": 118,
   "id": "4b28032d",
   "metadata": {},
   "outputs": [],
   "source": [
    "# create a columns name\n"
   ]
  },
  {
   "cell_type": "code",
   "execution_count": 119,
   "id": "f1469232",
   "metadata": {},
   "outputs": [],
   "source": [
    "dd_M_l[\"Cellflag\"]=\"\""
   ]
  },
  {
   "cell_type": "code",
   "execution_count": 120,
   "id": "43a793d8",
   "metadata": {},
   "outputs": [
    {
     "data": {
      "text/plain": [
       "Index(['patientid', 'membershid', 'person_nbr', 'Primary_Phone_NBR',\n",
       "       'Phone2_NBR', 'Phone3_NBR', 'groupid', 'Cellflag'],\n",
       "      dtype='object')"
      ]
     },
     "execution_count": 120,
     "metadata": {},
     "output_type": "execute_result"
    }
   ],
   "source": [
    "dd_M_l.columns"
   ]
  },
  {
   "cell_type": "code",
   "execution_count": 121,
   "id": "b10c3305",
   "metadata": {},
   "outputs": [
    {
     "data": {
      "text/html": [
       "<div>\n",
       "<style scoped>\n",
       "    .dataframe tbody tr th:only-of-type {\n",
       "        vertical-align: middle;\n",
       "    }\n",
       "\n",
       "    .dataframe tbody tr th {\n",
       "        vertical-align: top;\n",
       "    }\n",
       "\n",
       "    .dataframe thead th {\n",
       "        text-align: right;\n",
       "    }\n",
       "</style>\n",
       "<table border=\"1\" class=\"dataframe\">\n",
       "  <thead>\n",
       "    <tr style=\"text-align: right;\">\n",
       "      <th></th>\n",
       "      <th>patientid</th>\n",
       "      <th>membershid</th>\n",
       "      <th>person_nbr</th>\n",
       "      <th>Primary_Phone_NBR</th>\n",
       "      <th>Phone2_NBR</th>\n",
       "      <th>Phone3_NBR</th>\n",
       "      <th>groupid</th>\n",
       "      <th>Cellflag</th>\n",
       "    </tr>\n",
       "  </thead>\n",
       "  <tbody>\n",
       "    <tr>\n",
       "      <th>0</th>\n",
       "      <td>200001</td>\n",
       "      <td>4456.162497</td>\n",
       "      <td>2748.280106</td>\n",
       "      <td>C</td>\n",
       "      <td>O</td>\n",
       "      <td>C</td>\n",
       "      <td>EarD</td>\n",
       "      <td></td>\n",
       "    </tr>\n",
       "    <tr>\n",
       "      <th>1</th>\n",
       "      <td>200002</td>\n",
       "      <td>4456.162497</td>\n",
       "      <td>3983.633278</td>\n",
       "      <td>C</td>\n",
       "      <td>O</td>\n",
       "      <td>C</td>\n",
       "      <td>EarD</td>\n",
       "      <td></td>\n",
       "    </tr>\n",
       "    <tr>\n",
       "      <th>2</th>\n",
       "      <td>200003</td>\n",
       "      <td>4456.162497</td>\n",
       "      <td>5918.043203</td>\n",
       "      <td>C</td>\n",
       "      <td>O</td>\n",
       "      <td>C</td>\n",
       "      <td>EarD</td>\n",
       "      <td></td>\n",
       "    </tr>\n",
       "    <tr>\n",
       "      <th>3</th>\n",
       "      <td>200004</td>\n",
       "      <td>4456.162497</td>\n",
       "      <td>5882.418134</td>\n",
       "      <td>C</td>\n",
       "      <td>O</td>\n",
       "      <td>C</td>\n",
       "      <td>EarD</td>\n",
       "      <td></td>\n",
       "    </tr>\n",
       "    <tr>\n",
       "      <th>4</th>\n",
       "      <td>200005</td>\n",
       "      <td>4456.162497</td>\n",
       "      <td>3519.095855</td>\n",
       "      <td>C</td>\n",
       "      <td>O</td>\n",
       "      <td>C</td>\n",
       "      <td>EarD</td>\n",
       "      <td></td>\n",
       "    </tr>\n",
       "    <tr>\n",
       "      <th>...</th>\n",
       "      <td>...</td>\n",
       "      <td>...</td>\n",
       "      <td>...</td>\n",
       "      <td>...</td>\n",
       "      <td>...</td>\n",
       "      <td>...</td>\n",
       "      <td>...</td>\n",
       "      <td>...</td>\n",
       "    </tr>\n",
       "    <tr>\n",
       "      <th>84006</th>\n",
       "      <td>284007</td>\n",
       "      <td>61967.640577</td>\n",
       "      <td>6406.791285</td>\n",
       "      <td>C</td>\n",
       "      <td>C</td>\n",
       "      <td>C</td>\n",
       "      <td>Obesity-II</td>\n",
       "      <td></td>\n",
       "    </tr>\n",
       "    <tr>\n",
       "      <th>84007</th>\n",
       "      <td>284008</td>\n",
       "      <td>61967.640577</td>\n",
       "      <td>5736.801838</td>\n",
       "      <td>C</td>\n",
       "      <td>C</td>\n",
       "      <td>C</td>\n",
       "      <td>Obesity-II</td>\n",
       "      <td></td>\n",
       "    </tr>\n",
       "    <tr>\n",
       "      <th>84008</th>\n",
       "      <td>284009</td>\n",
       "      <td>61967.640577</td>\n",
       "      <td>7613.994822</td>\n",
       "      <td>C</td>\n",
       "      <td>C</td>\n",
       "      <td>C</td>\n",
       "      <td>Obesity-II</td>\n",
       "      <td></td>\n",
       "    </tr>\n",
       "    <tr>\n",
       "      <th>84009</th>\n",
       "      <td>284010</td>\n",
       "      <td>61967.640577</td>\n",
       "      <td>8530.577571</td>\n",
       "      <td>C</td>\n",
       "      <td>C</td>\n",
       "      <td>C</td>\n",
       "      <td>Obesity-II</td>\n",
       "      <td></td>\n",
       "    </tr>\n",
       "    <tr>\n",
       "      <th>84010</th>\n",
       "      <td>284011</td>\n",
       "      <td>61967.640577</td>\n",
       "      <td>2140.830791</td>\n",
       "      <td>C</td>\n",
       "      <td>C</td>\n",
       "      <td>C</td>\n",
       "      <td>Obesity-II</td>\n",
       "      <td></td>\n",
       "    </tr>\n",
       "  </tbody>\n",
       "</table>\n",
       "<p>84011 rows × 8 columns</p>\n",
       "</div>"
      ],
      "text/plain": [
       "       patientid    membershid   person_nbr Primary_Phone_NBR Phone2_NBR  \\\n",
       "0         200001   4456.162497  2748.280106                 C          O   \n",
       "1         200002   4456.162497  3983.633278                 C          O   \n",
       "2         200003   4456.162497  5918.043203                 C          O   \n",
       "3         200004   4456.162497  5882.418134                 C          O   \n",
       "4         200005   4456.162497  3519.095855                 C          O   \n",
       "...          ...           ...          ...               ...        ...   \n",
       "84006     284007  61967.640577  6406.791285                 C          C   \n",
       "84007     284008  61967.640577  5736.801838                 C          C   \n",
       "84008     284009  61967.640577  7613.994822                 C          C   \n",
       "84009     284010  61967.640577  8530.577571                 C          C   \n",
       "84010     284011  61967.640577  2140.830791                 C          C   \n",
       "\n",
       "      Phone3_NBR     groupid Cellflag  \n",
       "0              C        EarD           \n",
       "1              C        EarD           \n",
       "2              C        EarD           \n",
       "3              C        EarD           \n",
       "4              C        EarD           \n",
       "...          ...         ...      ...  \n",
       "84006          C  Obesity-II           \n",
       "84007          C  Obesity-II           \n",
       "84008          C  Obesity-II           \n",
       "84009          C  Obesity-II           \n",
       "84010          C  Obesity-II           \n",
       "\n",
       "[84011 rows x 8 columns]"
      ]
     },
     "execution_count": 121,
     "metadata": {},
     "output_type": "execute_result"
    }
   ],
   "source": [
    "dd_M_l"
   ]
  },
  {
   "cell_type": "code",
   "execution_count": 122,
   "id": "60a22ceb",
   "metadata": {},
   "outputs": [],
   "source": [
    "# update cell flag values as p"
   ]
  },
  {
   "cell_type": "code",
   "execution_count": 123,
   "id": "de27978e",
   "metadata": {},
   "outputs": [],
   "source": [
    "import numpy as np\n",
    "dd_M_l[\"Cellflag\"]=np.where(dd_M_l[\"Primary_Phone_NBR\"]==\"C\",\"P\",dd_M_l[\"Cellflag\"])"
   ]
  },
  {
   "cell_type": "code",
   "execution_count": 124,
   "id": "523b09c4",
   "metadata": {},
   "outputs": [
    {
     "data": {
      "text/plain": [
       "array(['P', ''], dtype=object)"
      ]
     },
     "execution_count": 124,
     "metadata": {},
     "output_type": "execute_result"
    }
   ],
   "source": [
    "dd_M_l.Cellflag.unique()"
   ]
  },
  {
   "cell_type": "code",
   "execution_count": 125,
   "id": "9de8f757",
   "metadata": {},
   "outputs": [
    {
     "data": {
      "text/plain": [
       "P    81589\n",
       "      2422\n",
       "Name: Cellflag, dtype: int64"
      ]
     },
     "execution_count": 125,
     "metadata": {},
     "output_type": "execute_result"
    }
   ],
   "source": [
    "dd_M_l.Cellflag.value_counts()"
   ]
  },
  {
   "cell_type": "code",
   "execution_count": 126,
   "id": "515e15f8",
   "metadata": {},
   "outputs": [],
   "source": [
    "# update cellflag values as s"
   ]
  },
  {
   "cell_type": "code",
   "execution_count": 127,
   "id": "49766209",
   "metadata": {},
   "outputs": [],
   "source": [
    "dd_M_l[\"Cellflag\"]=np.where((dd_M_l['Primary_Phone_NBR']!=\"C\") & (dd_M_l['Phone2_NBR']==\"C\"),\"S\",dd_M_l[\"Cellflag\"])"
   ]
  },
  {
   "cell_type": "code",
   "execution_count": 128,
   "id": "e7656eea",
   "metadata": {},
   "outputs": [
    {
     "data": {
      "text/plain": [
       "array(['P', 'S', ''], dtype=object)"
      ]
     },
     "execution_count": 128,
     "metadata": {},
     "output_type": "execute_result"
    }
   ],
   "source": [
    "dd_M_l.Cellflag.unique()"
   ]
  },
  {
   "cell_type": "code",
   "execution_count": 129,
   "id": "bf6ada12",
   "metadata": {},
   "outputs": [
    {
     "data": {
      "text/plain": [
       "P    81589\n",
       "      1874\n",
       "S      548\n",
       "Name: Cellflag, dtype: int64"
      ]
     },
     "execution_count": 129,
     "metadata": {},
     "output_type": "execute_result"
    }
   ],
   "source": [
    "dd_M_l.Cellflag.value_counts()"
   ]
  },
  {
   "cell_type": "code",
   "execution_count": 130,
   "id": "a9a84a7f",
   "metadata": {},
   "outputs": [],
   "source": [
    "dd_M_l[\"Cellflag\"]=np.where((dd_M_l['Primary_Phone_NBR']!=\"C\") & (dd_M_l['Phone3_NBR']==\"C\"),\"S\",dd_M_l[\"Cellflag\"])"
   ]
  },
  {
   "cell_type": "code",
   "execution_count": 131,
   "id": "a5afe485",
   "metadata": {},
   "outputs": [
    {
     "data": {
      "text/plain": [
       "array(['P', 'S', ''], dtype=object)"
      ]
     },
     "execution_count": 131,
     "metadata": {},
     "output_type": "execute_result"
    }
   ],
   "source": [
    "dd_M_l.Cellflag.unique()"
   ]
  },
  {
   "cell_type": "code",
   "execution_count": 132,
   "id": "8c6120aa",
   "metadata": {},
   "outputs": [
    {
     "data": {
      "text/plain": [
       "P    81589\n",
       "S     1810\n",
       "       612\n",
       "Name: Cellflag, dtype: int64"
      ]
     },
     "execution_count": 132,
     "metadata": {},
     "output_type": "execute_result"
    }
   ],
   "source": [
    "dd_M_l.Cellflag.value_counts()"
   ]
  },
  {
   "cell_type": "code",
   "execution_count": 133,
   "id": "9b0d9351",
   "metadata": {},
   "outputs": [],
   "source": [
    "# update cell flag values as N"
   ]
  },
  {
   "cell_type": "code",
   "execution_count": 134,
   "id": "067a939d",
   "metadata": {},
   "outputs": [],
   "source": [
    "dd_M_l[\"Cellflag\"]=np.where((dd_M_l['Primary_Phone_NBR']!=\"C\") & (dd_M_l['Phone2_NBR']!=\"C\"),\"N\",dd_M_l[\"Cellflag\"])"
   ]
  },
  {
   "cell_type": "code",
   "execution_count": 135,
   "id": "cbc8946d",
   "metadata": {},
   "outputs": [
    {
     "data": {
      "text/plain": [
       "array(['P', 'S', 'N'], dtype=object)"
      ]
     },
     "execution_count": 135,
     "metadata": {},
     "output_type": "execute_result"
    }
   ],
   "source": [
    "dd_M_l.Cellflag.unique()"
   ]
  },
  {
   "cell_type": "code",
   "execution_count": 136,
   "id": "80536b31",
   "metadata": {},
   "outputs": [
    {
     "data": {
      "text/plain": [
       "P    81589\n",
       "N     1874\n",
       "S      548\n",
       "Name: Cellflag, dtype: int64"
      ]
     },
     "execution_count": 136,
     "metadata": {},
     "output_type": "execute_result"
    }
   ],
   "source": [
    "dd_M_l.Cellflag.value_counts()"
   ]
  },
  {
   "cell_type": "code",
   "execution_count": 137,
   "id": "64d44e30",
   "metadata": {},
   "outputs": [],
   "source": [
    "dd_M_l[\"Cellflag\"]=np.where((dd_M_l['Primary_Phone_NBR']!=\"C\") & (dd_M_l['Phone3_NBR']!=\"C\"),\"N\",dd_M_l[\"Cellflag\"])"
   ]
  },
  {
   "cell_type": "code",
   "execution_count": 138,
   "id": "0dc719f4",
   "metadata": {},
   "outputs": [
    {
     "data": {
      "text/plain": [
       "array(['P', 'N'], dtype=object)"
      ]
     },
     "execution_count": 138,
     "metadata": {},
     "output_type": "execute_result"
    }
   ],
   "source": [
    "dd_M_l.Cellflag.unique()"
   ]
  },
  {
   "cell_type": "code",
   "execution_count": 139,
   "id": "21f52e9d",
   "metadata": {},
   "outputs": [
    {
     "data": {
      "text/plain": [
       "P    81589\n",
       "N     2422\n",
       "Name: Cellflag, dtype: int64"
      ]
     },
     "execution_count": 139,
     "metadata": {},
     "output_type": "execute_result"
    }
   ],
   "source": [
    "dd_M_l.Cellflag.value_counts()"
   ]
  },
  {
   "cell_type": "code",
   "execution_count": 140,
   "id": "87eb806d",
   "metadata": {},
   "outputs": [
    {
     "data": {
      "text/html": [
       "<div>\n",
       "<style scoped>\n",
       "    .dataframe tbody tr th:only-of-type {\n",
       "        vertical-align: middle;\n",
       "    }\n",
       "\n",
       "    .dataframe tbody tr th {\n",
       "        vertical-align: top;\n",
       "    }\n",
       "\n",
       "    .dataframe thead th {\n",
       "        text-align: right;\n",
       "    }\n",
       "</style>\n",
       "<table border=\"1\" class=\"dataframe\">\n",
       "  <thead>\n",
       "    <tr style=\"text-align: right;\">\n",
       "      <th></th>\n",
       "      <th>patientid</th>\n",
       "      <th>membershid</th>\n",
       "      <th>person_nbr</th>\n",
       "      <th>Primary_Phone_NBR</th>\n",
       "      <th>Phone2_NBR</th>\n",
       "      <th>Phone3_NBR</th>\n",
       "      <th>groupid</th>\n",
       "      <th>Cellflag</th>\n",
       "    </tr>\n",
       "  </thead>\n",
       "  <tbody>\n",
       "    <tr>\n",
       "      <th>0</th>\n",
       "      <td>200001</td>\n",
       "      <td>4456.162497</td>\n",
       "      <td>2748.280106</td>\n",
       "      <td>C</td>\n",
       "      <td>O</td>\n",
       "      <td>C</td>\n",
       "      <td>EarD</td>\n",
       "      <td>P</td>\n",
       "    </tr>\n",
       "    <tr>\n",
       "      <th>1</th>\n",
       "      <td>200002</td>\n",
       "      <td>4456.162497</td>\n",
       "      <td>3983.633278</td>\n",
       "      <td>C</td>\n",
       "      <td>O</td>\n",
       "      <td>C</td>\n",
       "      <td>EarD</td>\n",
       "      <td>P</td>\n",
       "    </tr>\n",
       "    <tr>\n",
       "      <th>2</th>\n",
       "      <td>200003</td>\n",
       "      <td>4456.162497</td>\n",
       "      <td>5918.043203</td>\n",
       "      <td>C</td>\n",
       "      <td>O</td>\n",
       "      <td>C</td>\n",
       "      <td>EarD</td>\n",
       "      <td>P</td>\n",
       "    </tr>\n",
       "    <tr>\n",
       "      <th>3</th>\n",
       "      <td>200004</td>\n",
       "      <td>4456.162497</td>\n",
       "      <td>5882.418134</td>\n",
       "      <td>C</td>\n",
       "      <td>O</td>\n",
       "      <td>C</td>\n",
       "      <td>EarD</td>\n",
       "      <td>P</td>\n",
       "    </tr>\n",
       "    <tr>\n",
       "      <th>4</th>\n",
       "      <td>200005</td>\n",
       "      <td>4456.162497</td>\n",
       "      <td>3519.095855</td>\n",
       "      <td>C</td>\n",
       "      <td>O</td>\n",
       "      <td>C</td>\n",
       "      <td>EarD</td>\n",
       "      <td>P</td>\n",
       "    </tr>\n",
       "    <tr>\n",
       "      <th>...</th>\n",
       "      <td>...</td>\n",
       "      <td>...</td>\n",
       "      <td>...</td>\n",
       "      <td>...</td>\n",
       "      <td>...</td>\n",
       "      <td>...</td>\n",
       "      <td>...</td>\n",
       "      <td>...</td>\n",
       "    </tr>\n",
       "    <tr>\n",
       "      <th>84006</th>\n",
       "      <td>284007</td>\n",
       "      <td>61967.640577</td>\n",
       "      <td>6406.791285</td>\n",
       "      <td>C</td>\n",
       "      <td>C</td>\n",
       "      <td>C</td>\n",
       "      <td>Obesity-II</td>\n",
       "      <td>P</td>\n",
       "    </tr>\n",
       "    <tr>\n",
       "      <th>84007</th>\n",
       "      <td>284008</td>\n",
       "      <td>61967.640577</td>\n",
       "      <td>5736.801838</td>\n",
       "      <td>C</td>\n",
       "      <td>C</td>\n",
       "      <td>C</td>\n",
       "      <td>Obesity-II</td>\n",
       "      <td>P</td>\n",
       "    </tr>\n",
       "    <tr>\n",
       "      <th>84008</th>\n",
       "      <td>284009</td>\n",
       "      <td>61967.640577</td>\n",
       "      <td>7613.994822</td>\n",
       "      <td>C</td>\n",
       "      <td>C</td>\n",
       "      <td>C</td>\n",
       "      <td>Obesity-II</td>\n",
       "      <td>P</td>\n",
       "    </tr>\n",
       "    <tr>\n",
       "      <th>84009</th>\n",
       "      <td>284010</td>\n",
       "      <td>61967.640577</td>\n",
       "      <td>8530.577571</td>\n",
       "      <td>C</td>\n",
       "      <td>C</td>\n",
       "      <td>C</td>\n",
       "      <td>Obesity-II</td>\n",
       "      <td>P</td>\n",
       "    </tr>\n",
       "    <tr>\n",
       "      <th>84010</th>\n",
       "      <td>284011</td>\n",
       "      <td>61967.640577</td>\n",
       "      <td>2140.830791</td>\n",
       "      <td>C</td>\n",
       "      <td>C</td>\n",
       "      <td>C</td>\n",
       "      <td>Obesity-II</td>\n",
       "      <td>P</td>\n",
       "    </tr>\n",
       "  </tbody>\n",
       "</table>\n",
       "<p>84011 rows × 8 columns</p>\n",
       "</div>"
      ],
      "text/plain": [
       "       patientid    membershid   person_nbr Primary_Phone_NBR Phone2_NBR  \\\n",
       "0         200001   4456.162497  2748.280106                 C          O   \n",
       "1         200002   4456.162497  3983.633278                 C          O   \n",
       "2         200003   4456.162497  5918.043203                 C          O   \n",
       "3         200004   4456.162497  5882.418134                 C          O   \n",
       "4         200005   4456.162497  3519.095855                 C          O   \n",
       "...          ...           ...          ...               ...        ...   \n",
       "84006     284007  61967.640577  6406.791285                 C          C   \n",
       "84007     284008  61967.640577  5736.801838                 C          C   \n",
       "84008     284009  61967.640577  7613.994822                 C          C   \n",
       "84009     284010  61967.640577  8530.577571                 C          C   \n",
       "84010     284011  61967.640577  2140.830791                 C          C   \n",
       "\n",
       "      Phone3_NBR     groupid Cellflag  \n",
       "0              C        EarD        P  \n",
       "1              C        EarD        P  \n",
       "2              C        EarD        P  \n",
       "3              C        EarD        P  \n",
       "4              C        EarD        P  \n",
       "...          ...         ...      ...  \n",
       "84006          C  Obesity-II        P  \n",
       "84007          C  Obesity-II        P  \n",
       "84008          C  Obesity-II        P  \n",
       "84009          C  Obesity-II        P  \n",
       "84010          C  Obesity-II        P  \n",
       "\n",
       "[84011 rows x 8 columns]"
      ]
     },
     "execution_count": 140,
     "metadata": {},
     "output_type": "execute_result"
    }
   ],
   "source": [
    "dd_M_l"
   ]
  },
  {
   "cell_type": "code",
   "execution_count": 141,
   "id": "7717b628",
   "metadata": {},
   "outputs": [],
   "source": [
    "# create a column as flag"
   ]
  },
  {
   "cell_type": "code",
   "execution_count": 142,
   "id": "cc740cae",
   "metadata": {},
   "outputs": [],
   "source": [
    "dd_M_l[\"Flag\"]=\"Total DDD patients count:\""
   ]
  },
  {
   "cell_type": "code",
   "execution_count": 143,
   "id": "2e0419a6",
   "metadata": {},
   "outputs": [
    {
     "data": {
      "text/html": [
       "<div>\n",
       "<style scoped>\n",
       "    .dataframe tbody tr th:only-of-type {\n",
       "        vertical-align: middle;\n",
       "    }\n",
       "\n",
       "    .dataframe tbody tr th {\n",
       "        vertical-align: top;\n",
       "    }\n",
       "\n",
       "    .dataframe thead th {\n",
       "        text-align: right;\n",
       "    }\n",
       "</style>\n",
       "<table border=\"1\" class=\"dataframe\">\n",
       "  <thead>\n",
       "    <tr style=\"text-align: right;\">\n",
       "      <th></th>\n",
       "      <th>patientid</th>\n",
       "      <th>membershid</th>\n",
       "      <th>person_nbr</th>\n",
       "      <th>Primary_Phone_NBR</th>\n",
       "      <th>Phone2_NBR</th>\n",
       "      <th>Phone3_NBR</th>\n",
       "      <th>groupid</th>\n",
       "      <th>Cellflag</th>\n",
       "      <th>Flag</th>\n",
       "    </tr>\n",
       "  </thead>\n",
       "  <tbody>\n",
       "    <tr>\n",
       "      <th>0</th>\n",
       "      <td>200001</td>\n",
       "      <td>4456.162497</td>\n",
       "      <td>2748.280106</td>\n",
       "      <td>C</td>\n",
       "      <td>O</td>\n",
       "      <td>C</td>\n",
       "      <td>EarD</td>\n",
       "      <td>P</td>\n",
       "      <td>Total DDD patients count:</td>\n",
       "    </tr>\n",
       "    <tr>\n",
       "      <th>1</th>\n",
       "      <td>200002</td>\n",
       "      <td>4456.162497</td>\n",
       "      <td>3983.633278</td>\n",
       "      <td>C</td>\n",
       "      <td>O</td>\n",
       "      <td>C</td>\n",
       "      <td>EarD</td>\n",
       "      <td>P</td>\n",
       "      <td>Total DDD patients count:</td>\n",
       "    </tr>\n",
       "    <tr>\n",
       "      <th>2</th>\n",
       "      <td>200003</td>\n",
       "      <td>4456.162497</td>\n",
       "      <td>5918.043203</td>\n",
       "      <td>C</td>\n",
       "      <td>O</td>\n",
       "      <td>C</td>\n",
       "      <td>EarD</td>\n",
       "      <td>P</td>\n",
       "      <td>Total DDD patients count:</td>\n",
       "    </tr>\n",
       "    <tr>\n",
       "      <th>3</th>\n",
       "      <td>200004</td>\n",
       "      <td>4456.162497</td>\n",
       "      <td>5882.418134</td>\n",
       "      <td>C</td>\n",
       "      <td>O</td>\n",
       "      <td>C</td>\n",
       "      <td>EarD</td>\n",
       "      <td>P</td>\n",
       "      <td>Total DDD patients count:</td>\n",
       "    </tr>\n",
       "    <tr>\n",
       "      <th>4</th>\n",
       "      <td>200005</td>\n",
       "      <td>4456.162497</td>\n",
       "      <td>3519.095855</td>\n",
       "      <td>C</td>\n",
       "      <td>O</td>\n",
       "      <td>C</td>\n",
       "      <td>EarD</td>\n",
       "      <td>P</td>\n",
       "      <td>Total DDD patients count:</td>\n",
       "    </tr>\n",
       "    <tr>\n",
       "      <th>...</th>\n",
       "      <td>...</td>\n",
       "      <td>...</td>\n",
       "      <td>...</td>\n",
       "      <td>...</td>\n",
       "      <td>...</td>\n",
       "      <td>...</td>\n",
       "      <td>...</td>\n",
       "      <td>...</td>\n",
       "      <td>...</td>\n",
       "    </tr>\n",
       "    <tr>\n",
       "      <th>84006</th>\n",
       "      <td>284007</td>\n",
       "      <td>61967.640577</td>\n",
       "      <td>6406.791285</td>\n",
       "      <td>C</td>\n",
       "      <td>C</td>\n",
       "      <td>C</td>\n",
       "      <td>Obesity-II</td>\n",
       "      <td>P</td>\n",
       "      <td>Total DDD patients count:</td>\n",
       "    </tr>\n",
       "    <tr>\n",
       "      <th>84007</th>\n",
       "      <td>284008</td>\n",
       "      <td>61967.640577</td>\n",
       "      <td>5736.801838</td>\n",
       "      <td>C</td>\n",
       "      <td>C</td>\n",
       "      <td>C</td>\n",
       "      <td>Obesity-II</td>\n",
       "      <td>P</td>\n",
       "      <td>Total DDD patients count:</td>\n",
       "    </tr>\n",
       "    <tr>\n",
       "      <th>84008</th>\n",
       "      <td>284009</td>\n",
       "      <td>61967.640577</td>\n",
       "      <td>7613.994822</td>\n",
       "      <td>C</td>\n",
       "      <td>C</td>\n",
       "      <td>C</td>\n",
       "      <td>Obesity-II</td>\n",
       "      <td>P</td>\n",
       "      <td>Total DDD patients count:</td>\n",
       "    </tr>\n",
       "    <tr>\n",
       "      <th>84009</th>\n",
       "      <td>284010</td>\n",
       "      <td>61967.640577</td>\n",
       "      <td>8530.577571</td>\n",
       "      <td>C</td>\n",
       "      <td>C</td>\n",
       "      <td>C</td>\n",
       "      <td>Obesity-II</td>\n",
       "      <td>P</td>\n",
       "      <td>Total DDD patients count:</td>\n",
       "    </tr>\n",
       "    <tr>\n",
       "      <th>84010</th>\n",
       "      <td>284011</td>\n",
       "      <td>61967.640577</td>\n",
       "      <td>2140.830791</td>\n",
       "      <td>C</td>\n",
       "      <td>C</td>\n",
       "      <td>C</td>\n",
       "      <td>Obesity-II</td>\n",
       "      <td>P</td>\n",
       "      <td>Total DDD patients count:</td>\n",
       "    </tr>\n",
       "  </tbody>\n",
       "</table>\n",
       "<p>84011 rows × 9 columns</p>\n",
       "</div>"
      ],
      "text/plain": [
       "       patientid    membershid   person_nbr Primary_Phone_NBR Phone2_NBR  \\\n",
       "0         200001   4456.162497  2748.280106                 C          O   \n",
       "1         200002   4456.162497  3983.633278                 C          O   \n",
       "2         200003   4456.162497  5918.043203                 C          O   \n",
       "3         200004   4456.162497  5882.418134                 C          O   \n",
       "4         200005   4456.162497  3519.095855                 C          O   \n",
       "...          ...           ...          ...               ...        ...   \n",
       "84006     284007  61967.640577  6406.791285                 C          C   \n",
       "84007     284008  61967.640577  5736.801838                 C          C   \n",
       "84008     284009  61967.640577  7613.994822                 C          C   \n",
       "84009     284010  61967.640577  8530.577571                 C          C   \n",
       "84010     284011  61967.640577  2140.830791                 C          C   \n",
       "\n",
       "      Phone3_NBR     groupid Cellflag                       Flag  \n",
       "0              C        EarD        P  Total DDD patients count:  \n",
       "1              C        EarD        P  Total DDD patients count:  \n",
       "2              C        EarD        P  Total DDD patients count:  \n",
       "3              C        EarD        P  Total DDD patients count:  \n",
       "4              C        EarD        P  Total DDD patients count:  \n",
       "...          ...         ...      ...                        ...  \n",
       "84006          C  Obesity-II        P  Total DDD patients count:  \n",
       "84007          C  Obesity-II        P  Total DDD patients count:  \n",
       "84008          C  Obesity-II        P  Total DDD patients count:  \n",
       "84009          C  Obesity-II        P  Total DDD patients count:  \n",
       "84010          C  Obesity-II        P  Total DDD patients count:  \n",
       "\n",
       "[84011 rows x 9 columns]"
      ]
     },
     "execution_count": 143,
     "metadata": {},
     "output_type": "execute_result"
    }
   ],
   "source": [
    "dd_M_l"
   ]
  },
  {
   "cell_type": "code",
   "execution_count": 144,
   "id": "b6e06d58",
   "metadata": {},
   "outputs": [
    {
     "data": {
      "text/plain": [
       "P    81589\n",
       "N     2422\n",
       "Name: Cellflag, dtype: int64"
      ]
     },
     "execution_count": 144,
     "metadata": {},
     "output_type": "execute_result"
    }
   ],
   "source": [
    "dd_M_l.Cellflag.value_counts()"
   ]
  },
  {
   "cell_type": "code",
   "execution_count": 145,
   "id": "10f42bbd",
   "metadata": {},
   "outputs": [],
   "source": [
    "# bbb p add merge"
   ]
  },
  {
   "cell_type": "code",
   "execution_count": 146,
   "id": "839c22d8",
   "metadata": {},
   "outputs": [],
   "source": [
    "dd_M_l_P=dd_M_l[dd_M_l.Cellflag==\"P\"]"
   ]
  },
  {
   "cell_type": "code",
   "execution_count": 147,
   "id": "c33e94f2",
   "metadata": {},
   "outputs": [
    {
     "name": "stderr",
     "output_type": "stream",
     "text": [
      "C:\\Users\\hp\\AppData\\Local\\Temp\\ipykernel_16584\\4212311883.py:1: SettingWithCopyWarning: \n",
      "A value is trying to be set on a copy of a slice from a DataFrame.\n",
      "Try using .loc[row_indexer,col_indexer] = value instead\n",
      "\n",
      "See the caveats in the documentation: https://pandas.pydata.org/pandas-docs/stable/user_guide/indexing.html#returning-a-view-versus-a-copy\n",
      "  dd_M_l_P[\"Flag\"]=\"Total DDD patients for cell flag P\"\n"
     ]
    }
   ],
   "source": [
    "dd_M_l_P[\"Flag\"]=\"Total DDD patients for cell flag P\""
   ]
  },
  {
   "cell_type": "code",
   "execution_count": 148,
   "id": "ee814e16",
   "metadata": {},
   "outputs": [],
   "source": [
    "# bbb add s merge"
   ]
  },
  {
   "cell_type": "code",
   "execution_count": 149,
   "id": "f9a05221",
   "metadata": {},
   "outputs": [],
   "source": [
    "dd_M_l_S=dd_M_l[dd_M_l.Cellflag==\"S\"]"
   ]
  },
  {
   "cell_type": "code",
   "execution_count": 150,
   "id": "39e9f68d",
   "metadata": {},
   "outputs": [],
   "source": [
    "dd_M_l_S[\"Flag\"]=\"Total DDD patients for cell flag S\""
   ]
  },
  {
   "cell_type": "code",
   "execution_count": 151,
   "id": "e5437c4f",
   "metadata": {},
   "outputs": [
    {
     "data": {
      "text/html": [
       "<div>\n",
       "<style scoped>\n",
       "    .dataframe tbody tr th:only-of-type {\n",
       "        vertical-align: middle;\n",
       "    }\n",
       "\n",
       "    .dataframe tbody tr th {\n",
       "        vertical-align: top;\n",
       "    }\n",
       "\n",
       "    .dataframe thead th {\n",
       "        text-align: right;\n",
       "    }\n",
       "</style>\n",
       "<table border=\"1\" class=\"dataframe\">\n",
       "  <thead>\n",
       "    <tr style=\"text-align: right;\">\n",
       "      <th></th>\n",
       "      <th>patientid</th>\n",
       "      <th>membershid</th>\n",
       "      <th>person_nbr</th>\n",
       "      <th>Primary_Phone_NBR</th>\n",
       "      <th>Phone2_NBR</th>\n",
       "      <th>Phone3_NBR</th>\n",
       "      <th>groupid</th>\n",
       "      <th>Cellflag</th>\n",
       "      <th>Flag</th>\n",
       "    </tr>\n",
       "  </thead>\n",
       "  <tbody>\n",
       "  </tbody>\n",
       "</table>\n",
       "</div>"
      ],
      "text/plain": [
       "Empty DataFrame\n",
       "Columns: [patientid, membershid, person_nbr, Primary_Phone_NBR, Phone2_NBR, Phone3_NBR, groupid, Cellflag, Flag]\n",
       "Index: []"
      ]
     },
     "execution_count": 151,
     "metadata": {},
     "output_type": "execute_result"
    }
   ],
   "source": [
    "dd_M_l_S"
   ]
  },
  {
   "cell_type": "code",
   "execution_count": 152,
   "id": "dea1a858",
   "metadata": {},
   "outputs": [],
   "source": [
    "# bbb add N merge"
   ]
  },
  {
   "cell_type": "code",
   "execution_count": 153,
   "id": "c3fcef27",
   "metadata": {},
   "outputs": [],
   "source": [
    "dd_M_l_N=dd_M_l[dd_M_l.Cellflag==\"N\"]"
   ]
  },
  {
   "cell_type": "code",
   "execution_count": 154,
   "id": "b35d5902",
   "metadata": {},
   "outputs": [
    {
     "name": "stderr",
     "output_type": "stream",
     "text": [
      "C:\\Users\\hp\\AppData\\Local\\Temp\\ipykernel_16584\\908310300.py:1: SettingWithCopyWarning: \n",
      "A value is trying to be set on a copy of a slice from a DataFrame.\n",
      "Try using .loc[row_indexer,col_indexer] = value instead\n",
      "\n",
      "See the caveats in the documentation: https://pandas.pydata.org/pandas-docs/stable/user_guide/indexing.html#returning-a-view-versus-a-copy\n",
      "  dd_M_l_N[\"Flag\"]=\"Total DDD patients for cell flag N\"\n"
     ]
    }
   ],
   "source": [
    "dd_M_l_N[\"Flag\"]=\"Total DDD patients for cell flag N\""
   ]
  },
  {
   "cell_type": "code",
   "execution_count": 155,
   "id": "75a73aa8",
   "metadata": {},
   "outputs": [
    {
     "data": {
      "text/html": [
       "<div>\n",
       "<style scoped>\n",
       "    .dataframe tbody tr th:only-of-type {\n",
       "        vertical-align: middle;\n",
       "    }\n",
       "\n",
       "    .dataframe tbody tr th {\n",
       "        vertical-align: top;\n",
       "    }\n",
       "\n",
       "    .dataframe thead th {\n",
       "        text-align: right;\n",
       "    }\n",
       "</style>\n",
       "<table border=\"1\" class=\"dataframe\">\n",
       "  <thead>\n",
       "    <tr style=\"text-align: right;\">\n",
       "      <th></th>\n",
       "      <th>patientid</th>\n",
       "      <th>membershid</th>\n",
       "      <th>person_nbr</th>\n",
       "      <th>Primary_Phone_NBR</th>\n",
       "      <th>Phone2_NBR</th>\n",
       "      <th>Phone3_NBR</th>\n",
       "      <th>groupid</th>\n",
       "      <th>Cellflag</th>\n",
       "      <th>Flag</th>\n",
       "    </tr>\n",
       "  </thead>\n",
       "  <tbody>\n",
       "    <tr>\n",
       "      <th>614</th>\n",
       "      <td>200615</td>\n",
       "      <td>4456.162497</td>\n",
       "      <td>6677.313951</td>\n",
       "      <td>O</td>\n",
       "      <td>C</td>\n",
       "      <td>O</td>\n",
       "      <td>EarD</td>\n",
       "      <td>N</td>\n",
       "      <td>Total DDD patients for cell flag N</td>\n",
       "    </tr>\n",
       "    <tr>\n",
       "      <th>615</th>\n",
       "      <td>200616</td>\n",
       "      <td>4456.162497</td>\n",
       "      <td>2462.055205</td>\n",
       "      <td>O</td>\n",
       "      <td>C</td>\n",
       "      <td>O</td>\n",
       "      <td>EarD</td>\n",
       "      <td>N</td>\n",
       "      <td>Total DDD patients for cell flag N</td>\n",
       "    </tr>\n",
       "    <tr>\n",
       "      <th>616</th>\n",
       "      <td>200617</td>\n",
       "      <td>4456.162497</td>\n",
       "      <td>3429.345531</td>\n",
       "      <td>O</td>\n",
       "      <td>C</td>\n",
       "      <td>O</td>\n",
       "      <td>EarD</td>\n",
       "      <td>N</td>\n",
       "      <td>Total DDD patients for cell flag N</td>\n",
       "    </tr>\n",
       "    <tr>\n",
       "      <th>617</th>\n",
       "      <td>200618</td>\n",
       "      <td>4456.162497</td>\n",
       "      <td>9685.907698</td>\n",
       "      <td>O</td>\n",
       "      <td>C</td>\n",
       "      <td>O</td>\n",
       "      <td>EarD</td>\n",
       "      <td>N</td>\n",
       "      <td>Total DDD patients for cell flag N</td>\n",
       "    </tr>\n",
       "    <tr>\n",
       "      <th>618</th>\n",
       "      <td>200619</td>\n",
       "      <td>4456.162497</td>\n",
       "      <td>4297.300386</td>\n",
       "      <td>O</td>\n",
       "      <td>C</td>\n",
       "      <td>O</td>\n",
       "      <td>EarD</td>\n",
       "      <td>N</td>\n",
       "      <td>Total DDD patients for cell flag N</td>\n",
       "    </tr>\n",
       "    <tr>\n",
       "      <th>...</th>\n",
       "      <td>...</td>\n",
       "      <td>...</td>\n",
       "      <td>...</td>\n",
       "      <td>...</td>\n",
       "      <td>...</td>\n",
       "      <td>...</td>\n",
       "      <td>...</td>\n",
       "      <td>...</td>\n",
       "      <td>...</td>\n",
       "    </tr>\n",
       "    <tr>\n",
       "      <th>3031</th>\n",
       "      <td>203032</td>\n",
       "      <td>11928.016776</td>\n",
       "      <td>2816.560876</td>\n",
       "      <td>H</td>\n",
       "      <td>C</td>\n",
       "      <td>O</td>\n",
       "      <td>EarD</td>\n",
       "      <td>N</td>\n",
       "      <td>Total DDD patients for cell flag N</td>\n",
       "    </tr>\n",
       "    <tr>\n",
       "      <th>3032</th>\n",
       "      <td>203033</td>\n",
       "      <td>11928.016776</td>\n",
       "      <td>1722.102601</td>\n",
       "      <td>H</td>\n",
       "      <td>C</td>\n",
       "      <td>O</td>\n",
       "      <td>EarD</td>\n",
       "      <td>N</td>\n",
       "      <td>Total DDD patients for cell flag N</td>\n",
       "    </tr>\n",
       "    <tr>\n",
       "      <th>3033</th>\n",
       "      <td>203034</td>\n",
       "      <td>11928.016776</td>\n",
       "      <td>4944.903288</td>\n",
       "      <td>H</td>\n",
       "      <td>C</td>\n",
       "      <td>O</td>\n",
       "      <td>EarD</td>\n",
       "      <td>N</td>\n",
       "      <td>Total DDD patients for cell flag N</td>\n",
       "    </tr>\n",
       "    <tr>\n",
       "      <th>3034</th>\n",
       "      <td>203035</td>\n",
       "      <td>11928.016776</td>\n",
       "      <td>8644.975125</td>\n",
       "      <td>H</td>\n",
       "      <td>C</td>\n",
       "      <td>O</td>\n",
       "      <td>EarD</td>\n",
       "      <td>N</td>\n",
       "      <td>Total DDD patients for cell flag N</td>\n",
       "    </tr>\n",
       "    <tr>\n",
       "      <th>3035</th>\n",
       "      <td>203036</td>\n",
       "      <td>11928.016776</td>\n",
       "      <td>1595.251060</td>\n",
       "      <td>H</td>\n",
       "      <td>C</td>\n",
       "      <td>O</td>\n",
       "      <td>EarD</td>\n",
       "      <td>N</td>\n",
       "      <td>Total DDD patients for cell flag N</td>\n",
       "    </tr>\n",
       "  </tbody>\n",
       "</table>\n",
       "<p>2422 rows × 9 columns</p>\n",
       "</div>"
      ],
      "text/plain": [
       "      patientid    membershid   person_nbr Primary_Phone_NBR Phone2_NBR  \\\n",
       "614      200615   4456.162497  6677.313951                 O          C   \n",
       "615      200616   4456.162497  2462.055205                 O          C   \n",
       "616      200617   4456.162497  3429.345531                 O          C   \n",
       "617      200618   4456.162497  9685.907698                 O          C   \n",
       "618      200619   4456.162497  4297.300386                 O          C   \n",
       "...         ...           ...          ...               ...        ...   \n",
       "3031     203032  11928.016776  2816.560876                 H          C   \n",
       "3032     203033  11928.016776  1722.102601                 H          C   \n",
       "3033     203034  11928.016776  4944.903288                 H          C   \n",
       "3034     203035  11928.016776  8644.975125                 H          C   \n",
       "3035     203036  11928.016776  1595.251060                 H          C   \n",
       "\n",
       "     Phone3_NBR groupid Cellflag                                Flag  \n",
       "614           O    EarD        N  Total DDD patients for cell flag N  \n",
       "615           O    EarD        N  Total DDD patients for cell flag N  \n",
       "616           O    EarD        N  Total DDD patients for cell flag N  \n",
       "617           O    EarD        N  Total DDD patients for cell flag N  \n",
       "618           O    EarD        N  Total DDD patients for cell flag N  \n",
       "...         ...     ...      ...                                 ...  \n",
       "3031          O    EarD        N  Total DDD patients for cell flag N  \n",
       "3032          O    EarD        N  Total DDD patients for cell flag N  \n",
       "3033          O    EarD        N  Total DDD patients for cell flag N  \n",
       "3034          O    EarD        N  Total DDD patients for cell flag N  \n",
       "3035          O    EarD        N  Total DDD patients for cell flag N  \n",
       "\n",
       "[2422 rows x 9 columns]"
      ]
     },
     "execution_count": 155,
     "metadata": {},
     "output_type": "execute_result"
    }
   ],
   "source": [
    "dd_M_l_N"
   ]
  },
  {
   "cell_type": "code",
   "execution_count": 156,
   "id": "7a9221de",
   "metadata": {},
   "outputs": [],
   "source": [
    "# create a summery reports for flag values total bbb "
   ]
  },
  {
   "cell_type": "code",
   "execution_count": 157,
   "id": "f238c536",
   "metadata": {},
   "outputs": [],
   "source": [
    "dd_M_l_sm=dd_M_l.groupby([\"Flag\"])[\"patientid\"].count()"
   ]
  },
  {
   "cell_type": "code",
   "execution_count": 158,
   "id": "015fea46",
   "metadata": {},
   "outputs": [],
   "source": [
    "dd_M_l_sm_ndf=pd.DataFrame(dd_M_l_sm)\n",
    "dd_M_l_sm_ndf.reset_index(inplace=True)"
   ]
  },
  {
   "cell_type": "code",
   "execution_count": 159,
   "id": "81327477",
   "metadata": {},
   "outputs": [
    {
     "data": {
      "text/html": [
       "<div>\n",
       "<style scoped>\n",
       "    .dataframe tbody tr th:only-of-type {\n",
       "        vertical-align: middle;\n",
       "    }\n",
       "\n",
       "    .dataframe tbody tr th {\n",
       "        vertical-align: top;\n",
       "    }\n",
       "\n",
       "    .dataframe thead th {\n",
       "        text-align: right;\n",
       "    }\n",
       "</style>\n",
       "<table border=\"1\" class=\"dataframe\">\n",
       "  <thead>\n",
       "    <tr style=\"text-align: right;\">\n",
       "      <th></th>\n",
       "      <th>Flag</th>\n",
       "      <th>patientid</th>\n",
       "    </tr>\n",
       "  </thead>\n",
       "  <tbody>\n",
       "    <tr>\n",
       "      <th>0</th>\n",
       "      <td>Total DDD patients count:</td>\n",
       "      <td>84011</td>\n",
       "    </tr>\n",
       "  </tbody>\n",
       "</table>\n",
       "</div>"
      ],
      "text/plain": [
       "                        Flag  patientid\n",
       "0  Total DDD patients count:      84011"
      ]
     },
     "execution_count": 159,
     "metadata": {},
     "output_type": "execute_result"
    }
   ],
   "source": [
    "dd_M_l_sm_ndf"
   ]
  },
  {
   "cell_type": "code",
   "execution_count": 160,
   "id": "aed501db",
   "metadata": {},
   "outputs": [],
   "source": [
    "# create a summery reports by bbb p values"
   ]
  },
  {
   "cell_type": "code",
   "execution_count": 161,
   "id": "1c637b9a",
   "metadata": {},
   "outputs": [],
   "source": [
    "dd_M_l_P_sm=dd_M_l_P.groupby([\"Flag\"])[\"patientid\"].count()\n",
    "dd_M_l_P_sm_ndf=pd.DataFrame(dd_M_l_P_sm)\n",
    "dd_M_l_P_sm_ndf.reset_index(inplace=True)"
   ]
  },
  {
   "cell_type": "code",
   "execution_count": 162,
   "id": "807dd43b",
   "metadata": {},
   "outputs": [
    {
     "data": {
      "text/html": [
       "<div>\n",
       "<style scoped>\n",
       "    .dataframe tbody tr th:only-of-type {\n",
       "        vertical-align: middle;\n",
       "    }\n",
       "\n",
       "    .dataframe tbody tr th {\n",
       "        vertical-align: top;\n",
       "    }\n",
       "\n",
       "    .dataframe thead th {\n",
       "        text-align: right;\n",
       "    }\n",
       "</style>\n",
       "<table border=\"1\" class=\"dataframe\">\n",
       "  <thead>\n",
       "    <tr style=\"text-align: right;\">\n",
       "      <th></th>\n",
       "      <th>Flag</th>\n",
       "      <th>patientid</th>\n",
       "    </tr>\n",
       "  </thead>\n",
       "  <tbody>\n",
       "    <tr>\n",
       "      <th>0</th>\n",
       "      <td>Total DDD patients for cell flag P</td>\n",
       "      <td>81589</td>\n",
       "    </tr>\n",
       "  </tbody>\n",
       "</table>\n",
       "</div>"
      ],
      "text/plain": [
       "                                 Flag  patientid\n",
       "0  Total DDD patients for cell flag P      81589"
      ]
     },
     "execution_count": 162,
     "metadata": {},
     "output_type": "execute_result"
    }
   ],
   "source": [
    "dd_M_l_P_sm_ndf"
   ]
  },
  {
   "cell_type": "code",
   "execution_count": 163,
   "id": "013c75cf",
   "metadata": {},
   "outputs": [],
   "source": [
    "# create a summery report by s values"
   ]
  },
  {
   "cell_type": "code",
   "execution_count": 164,
   "id": "d829056e",
   "metadata": {},
   "outputs": [],
   "source": [
    "dd_M_l_S_sm=dd_M_l_S.groupby([\"Flag\"])[\"patientid\"].count()\n",
    "dd_M_l_S_sm_ndf=pd.DataFrame(dd_M_l_S_sm)\n",
    "dd_M_l_S_sm_ndf.reset_index(inplace=True)"
   ]
  },
  {
   "cell_type": "code",
   "execution_count": 165,
   "id": "e54ec634",
   "metadata": {},
   "outputs": [
    {
     "data": {
      "text/html": [
       "<div>\n",
       "<style scoped>\n",
       "    .dataframe tbody tr th:only-of-type {\n",
       "        vertical-align: middle;\n",
       "    }\n",
       "\n",
       "    .dataframe tbody tr th {\n",
       "        vertical-align: top;\n",
       "    }\n",
       "\n",
       "    .dataframe thead th {\n",
       "        text-align: right;\n",
       "    }\n",
       "</style>\n",
       "<table border=\"1\" class=\"dataframe\">\n",
       "  <thead>\n",
       "    <tr style=\"text-align: right;\">\n",
       "      <th></th>\n",
       "      <th>Flag</th>\n",
       "      <th>patientid</th>\n",
       "    </tr>\n",
       "  </thead>\n",
       "  <tbody>\n",
       "  </tbody>\n",
       "</table>\n",
       "</div>"
      ],
      "text/plain": [
       "Empty DataFrame\n",
       "Columns: [Flag, patientid]\n",
       "Index: []"
      ]
     },
     "execution_count": 165,
     "metadata": {},
     "output_type": "execute_result"
    }
   ],
   "source": [
    "dd_M_l_S_sm_ndf"
   ]
  },
  {
   "cell_type": "code",
   "execution_count": 166,
   "id": "6adfc00d",
   "metadata": {},
   "outputs": [],
   "source": [
    "# create a summery report by n values"
   ]
  },
  {
   "cell_type": "code",
   "execution_count": 167,
   "id": "bf99fde8",
   "metadata": {},
   "outputs": [],
   "source": [
    "dd_M_l_N_sm=dd_M_l_N.groupby([\"Flag\"])[\"patientid\"].count()\n",
    "dd_M_l_N_sm_ndf=pd.DataFrame(dd_M_l_N_sm)\n",
    "dd_M_l_N_sm_ndf.reset_index(inplace=True)"
   ]
  },
  {
   "cell_type": "code",
   "execution_count": 168,
   "id": "3e10ac27",
   "metadata": {},
   "outputs": [
    {
     "data": {
      "text/html": [
       "<div>\n",
       "<style scoped>\n",
       "    .dataframe tbody tr th:only-of-type {\n",
       "        vertical-align: middle;\n",
       "    }\n",
       "\n",
       "    .dataframe tbody tr th {\n",
       "        vertical-align: top;\n",
       "    }\n",
       "\n",
       "    .dataframe thead th {\n",
       "        text-align: right;\n",
       "    }\n",
       "</style>\n",
       "<table border=\"1\" class=\"dataframe\">\n",
       "  <thead>\n",
       "    <tr style=\"text-align: right;\">\n",
       "      <th></th>\n",
       "      <th>Flag</th>\n",
       "      <th>patientid</th>\n",
       "    </tr>\n",
       "  </thead>\n",
       "  <tbody>\n",
       "    <tr>\n",
       "      <th>0</th>\n",
       "      <td>Total DDD patients for cell flag N</td>\n",
       "      <td>2422</td>\n",
       "    </tr>\n",
       "  </tbody>\n",
       "</table>\n",
       "</div>"
      ],
      "text/plain": [
       "                                 Flag  patientid\n",
       "0  Total DDD patients for cell flag N       2422"
      ]
     },
     "execution_count": 168,
     "metadata": {},
     "output_type": "execute_result"
    }
   ],
   "source": [
    "dd_M_l_N_sm_ndf"
   ]
  },
  {
   "cell_type": "code",
   "execution_count": 169,
   "id": "faafa291",
   "metadata": {},
   "outputs": [],
   "source": [
    "#append all data frames"
   ]
  },
  {
   "cell_type": "code",
   "execution_count": 170,
   "id": "9b0f366c",
   "metadata": {},
   "outputs": [],
   "source": [
    "df_final_ddd=pd.concat([dd_M_l_sm_ndf,dd_M_l_P_sm_ndf,dd_M_l_S_sm_ndf,dd_M_l_N_sm_ndf],ignore_index=True,axis=0)"
   ]
  },
  {
   "cell_type": "code",
   "execution_count": 171,
   "id": "eab7a7cd",
   "metadata": {},
   "outputs": [],
   "source": [
    "# import date function"
   ]
  },
  {
   "cell_type": "code",
   "execution_count": 172,
   "id": "6bf24111",
   "metadata": {},
   "outputs": [
    {
     "name": "stdout",
     "output_type": "stream",
     "text": [
      "today= 2023-08-17\n"
     ]
    }
   ],
   "source": [
    "from datetime import date\n",
    "today=date.today()\n",
    "print(\"today=\",today)\n",
    "date=today"
   ]
  },
  {
   "cell_type": "code",
   "execution_count": 173,
   "id": "4b413423",
   "metadata": {},
   "outputs": [
    {
     "data": {
      "text/plain": [
       "datetime.date(2023, 8, 17)"
      ]
     },
     "execution_count": 173,
     "metadata": {},
     "output_type": "execute_result"
    }
   ],
   "source": [
    "today"
   ]
  },
  {
   "cell_type": "code",
   "execution_count": 174,
   "id": "59809600",
   "metadata": {},
   "outputs": [],
   "source": [
    "df_final_ddd[\"Date\"]=today"
   ]
  },
  {
   "cell_type": "code",
   "execution_count": 175,
   "id": "fc57ac94",
   "metadata": {},
   "outputs": [
    {
     "data": {
      "text/plain": [
       "Index(['Flag', 'patientid', 'Date'], dtype='object')"
      ]
     },
     "execution_count": 175,
     "metadata": {},
     "output_type": "execute_result"
    }
   ],
   "source": [
    "df_final_ddd.columns"
   ]
  },
  {
   "cell_type": "code",
   "execution_count": 176,
   "id": "23fec366",
   "metadata": {},
   "outputs": [],
   "source": [
    "# import time function"
   ]
  },
  {
   "cell_type": "code",
   "execution_count": 177,
   "id": "7fc78a9d",
   "metadata": {},
   "outputs": [
    {
     "name": "stdout",
     "output_type": "stream",
     "text": [
      "12 :02 :36\n"
     ]
    }
   ],
   "source": [
    "import time\n",
    "now=time.localtime()\n",
    "t=time.strftime(\"%H :%M :%S\",now)\n",
    "print(t)\n",
    "                "
   ]
  },
  {
   "cell_type": "code",
   "execution_count": 178,
   "id": "ec5c6376",
   "metadata": {},
   "outputs": [
    {
     "data": {
      "text/plain": [
       "'12 :02 :36'"
      ]
     },
     "execution_count": 178,
     "metadata": {},
     "output_type": "execute_result"
    }
   ],
   "source": [
    "t"
   ]
  },
  {
   "cell_type": "code",
   "execution_count": 179,
   "id": "b748cc68",
   "metadata": {},
   "outputs": [],
   "source": [
    "df_final_ddd[\"Time\"]=t"
   ]
  },
  {
   "cell_type": "code",
   "execution_count": 180,
   "id": "1dc4e096",
   "metadata": {},
   "outputs": [
    {
     "data": {
      "text/plain": [
       "Index(['Flag', 'patientid', 'Date', 'Time'], dtype='object')"
      ]
     },
     "execution_count": 180,
     "metadata": {},
     "output_type": "execute_result"
    }
   ],
   "source": [
    "df_final_ddd.columns"
   ]
  },
  {
   "cell_type": "code",
   "execution_count": 181,
   "id": "5f2d974b",
   "metadata": {},
   "outputs": [],
   "source": [
    "df_final_ddd.columns=['Flag', 'Count', 'Date', 'Time']"
   ]
  },
  {
   "cell_type": "code",
   "execution_count": 182,
   "id": "92481a77",
   "metadata": {},
   "outputs": [
    {
     "data": {
      "text/plain": [
       "Index(['Flag', 'Count', 'Date', 'Time'], dtype='object')"
      ]
     },
     "execution_count": 182,
     "metadata": {},
     "output_type": "execute_result"
    }
   ],
   "source": [
    "df_final_ddd.columns"
   ]
  },
  {
   "cell_type": "code",
   "execution_count": 183,
   "id": "aa0edc37",
   "metadata": {},
   "outputs": [],
   "source": [
    "# final output"
   ]
  },
  {
   "cell_type": "code",
   "execution_count": 184,
   "id": "03137074",
   "metadata": {},
   "outputs": [
    {
     "data": {
      "text/html": [
       "<div>\n",
       "<style scoped>\n",
       "    .dataframe tbody tr th:only-of-type {\n",
       "        vertical-align: middle;\n",
       "    }\n",
       "\n",
       "    .dataframe tbody tr th {\n",
       "        vertical-align: top;\n",
       "    }\n",
       "\n",
       "    .dataframe thead th {\n",
       "        text-align: right;\n",
       "    }\n",
       "</style>\n",
       "<table border=\"1\" class=\"dataframe\">\n",
       "  <thead>\n",
       "    <tr style=\"text-align: right;\">\n",
       "      <th></th>\n",
       "      <th>Flag</th>\n",
       "      <th>Count</th>\n",
       "      <th>Date</th>\n",
       "      <th>Time</th>\n",
       "    </tr>\n",
       "  </thead>\n",
       "  <tbody>\n",
       "    <tr>\n",
       "      <th>0</th>\n",
       "      <td>Total DDD patients count:</td>\n",
       "      <td>84011</td>\n",
       "      <td>2023-08-17</td>\n",
       "      <td>12 :02 :36</td>\n",
       "    </tr>\n",
       "    <tr>\n",
       "      <th>1</th>\n",
       "      <td>Total DDD patients for cell flag P</td>\n",
       "      <td>81589</td>\n",
       "      <td>2023-08-17</td>\n",
       "      <td>12 :02 :36</td>\n",
       "    </tr>\n",
       "    <tr>\n",
       "      <th>2</th>\n",
       "      <td>Total DDD patients for cell flag N</td>\n",
       "      <td>2422</td>\n",
       "      <td>2023-08-17</td>\n",
       "      <td>12 :02 :36</td>\n",
       "    </tr>\n",
       "  </tbody>\n",
       "</table>\n",
       "</div>"
      ],
      "text/plain": [
       "                                 Flag  Count        Date        Time\n",
       "0           Total DDD patients count:  84011  2023-08-17  12 :02 :36\n",
       "1  Total DDD patients for cell flag P  81589  2023-08-17  12 :02 :36\n",
       "2  Total DDD patients for cell flag N   2422  2023-08-17  12 :02 :36"
      ]
     },
     "execution_count": 184,
     "metadata": {},
     "output_type": "execute_result"
    }
   ],
   "source": [
    "df_final_ddd"
   ]
  },
  {
   "cell_type": "code",
   "execution_count": 185,
   "id": "b40684ba",
   "metadata": {},
   "outputs": [],
   "source": [
    "# sort the data frame"
   ]
  },
  {
   "cell_type": "code",
   "execution_count": 186,
   "id": "139202d6",
   "metadata": {},
   "outputs": [],
   "source": [
    "df_ddd_final=df_final_ddd.iloc[:,[2,3,0,1]]"
   ]
  },
  {
   "cell_type": "code",
   "execution_count": 187,
   "id": "e762160a",
   "metadata": {},
   "outputs": [
    {
     "data": {
      "text/html": [
       "<div>\n",
       "<style scoped>\n",
       "    .dataframe tbody tr th:only-of-type {\n",
       "        vertical-align: middle;\n",
       "    }\n",
       "\n",
       "    .dataframe tbody tr th {\n",
       "        vertical-align: top;\n",
       "    }\n",
       "\n",
       "    .dataframe thead th {\n",
       "        text-align: right;\n",
       "    }\n",
       "</style>\n",
       "<table border=\"1\" class=\"dataframe\">\n",
       "  <thead>\n",
       "    <tr style=\"text-align: right;\">\n",
       "      <th></th>\n",
       "      <th>Date</th>\n",
       "      <th>Time</th>\n",
       "      <th>Flag</th>\n",
       "      <th>Count</th>\n",
       "    </tr>\n",
       "  </thead>\n",
       "  <tbody>\n",
       "    <tr>\n",
       "      <th>0</th>\n",
       "      <td>2023-08-17</td>\n",
       "      <td>12 :02 :36</td>\n",
       "      <td>Total DDD patients count:</td>\n",
       "      <td>84011</td>\n",
       "    </tr>\n",
       "    <tr>\n",
       "      <th>1</th>\n",
       "      <td>2023-08-17</td>\n",
       "      <td>12 :02 :36</td>\n",
       "      <td>Total DDD patients for cell flag P</td>\n",
       "      <td>81589</td>\n",
       "    </tr>\n",
       "    <tr>\n",
       "      <th>2</th>\n",
       "      <td>2023-08-17</td>\n",
       "      <td>12 :02 :36</td>\n",
       "      <td>Total DDD patients for cell flag N</td>\n",
       "      <td>2422</td>\n",
       "    </tr>\n",
       "  </tbody>\n",
       "</table>\n",
       "</div>"
      ],
      "text/plain": [
       "         Date        Time                                Flag  Count\n",
       "0  2023-08-17  12 :02 :36           Total DDD patients count:  84011\n",
       "1  2023-08-17  12 :02 :36  Total DDD patients for cell flag P  81589\n",
       "2  2023-08-17  12 :02 :36  Total DDD patients for cell flag N   2422"
      ]
     },
     "execution_count": 187,
     "metadata": {},
     "output_type": "execute_result"
    }
   ],
   "source": [
    "df_ddd_final"
   ]
  },
  {
   "cell_type": "code",
   "execution_count": null,
   "id": "78ae93d4",
   "metadata": {},
   "outputs": [],
   "source": []
  },
  {
   "cell_type": "code",
   "execution_count": 188,
   "id": "9433712b",
   "metadata": {},
   "outputs": [],
   "source": [
    "#**************************** #  bbb patients To check all level wise Patientid, membershipid, groupid **************************"
   ]
  },
  {
   "cell_type": "code",
   "execution_count": 189,
   "id": "0787e0e6",
   "metadata": {},
   "outputs": [],
   "source": [
    "# import bbb patients data "
   ]
  },
  {
   "cell_type": "code",
   "execution_count": 190,
   "id": "ad69c20d",
   "metadata": {},
   "outputs": [
    {
     "data": {
      "text/html": [
       "<div>\n",
       "<style scoped>\n",
       "    .dataframe tbody tr th:only-of-type {\n",
       "        vertical-align: middle;\n",
       "    }\n",
       "\n",
       "    .dataframe tbody tr th {\n",
       "        vertical-align: top;\n",
       "    }\n",
       "\n",
       "    .dataframe thead th {\n",
       "        text-align: right;\n",
       "    }\n",
       "</style>\n",
       "<table border=\"1\" class=\"dataframe\">\n",
       "  <thead>\n",
       "    <tr style=\"text-align: right;\">\n",
       "      <th></th>\n",
       "      <th>patientid</th>\n",
       "      <th>membershipid</th>\n",
       "      <th>groupid</th>\n",
       "      <th>person_nbr</th>\n",
       "    </tr>\n",
       "  </thead>\n",
       "  <tbody>\n",
       "    <tr>\n",
       "      <th>0</th>\n",
       "      <td>10001</td>\n",
       "      <td>123456891</td>\n",
       "      <td>Upperbody</td>\n",
       "      <td>2386.041022</td>\n",
       "    </tr>\n",
       "    <tr>\n",
       "      <th>1</th>\n",
       "      <td>10002</td>\n",
       "      <td>123456891</td>\n",
       "      <td>Upperbody</td>\n",
       "      <td>7219.568003</td>\n",
       "    </tr>\n",
       "    <tr>\n",
       "      <th>2</th>\n",
       "      <td>10003</td>\n",
       "      <td>123456891</td>\n",
       "      <td>Upperbody</td>\n",
       "      <td>1110.167181</td>\n",
       "    </tr>\n",
       "    <tr>\n",
       "      <th>3</th>\n",
       "      <td>10004</td>\n",
       "      <td>123456891</td>\n",
       "      <td>Upperbody</td>\n",
       "      <td>4522.639998</td>\n",
       "    </tr>\n",
       "    <tr>\n",
       "      <th>4</th>\n",
       "      <td>10005</td>\n",
       "      <td>123456891</td>\n",
       "      <td>Upperbody</td>\n",
       "      <td>7305.192980</td>\n",
       "    </tr>\n",
       "    <tr>\n",
       "      <th>...</th>\n",
       "      <td>...</td>\n",
       "      <td>...</td>\n",
       "      <td>...</td>\n",
       "      <td>...</td>\n",
       "    </tr>\n",
       "    <tr>\n",
       "      <th>10114</th>\n",
       "      <td>20115</td>\n",
       "      <td>123456896</td>\n",
       "      <td>Nerves</td>\n",
       "      <td>2985.574310</td>\n",
       "    </tr>\n",
       "    <tr>\n",
       "      <th>10115</th>\n",
       "      <td>20116</td>\n",
       "      <td>123456896</td>\n",
       "      <td>Nerves</td>\n",
       "      <td>9698.888692</td>\n",
       "    </tr>\n",
       "    <tr>\n",
       "      <th>10116</th>\n",
       "      <td>20117</td>\n",
       "      <td>123456896</td>\n",
       "      <td>Nerves</td>\n",
       "      <td>3305.456074</td>\n",
       "    </tr>\n",
       "    <tr>\n",
       "      <th>10117</th>\n",
       "      <td>20118</td>\n",
       "      <td>123456896</td>\n",
       "      <td>Nerves</td>\n",
       "      <td>9179.853623</td>\n",
       "    </tr>\n",
       "    <tr>\n",
       "      <th>10118</th>\n",
       "      <td>20119</td>\n",
       "      <td>123456896</td>\n",
       "      <td>Nerves</td>\n",
       "      <td>2048.429434</td>\n",
       "    </tr>\n",
       "  </tbody>\n",
       "</table>\n",
       "<p>10119 rows × 4 columns</p>\n",
       "</div>"
      ],
      "text/plain": [
       "       patientid  membershipid    groupid   person_nbr\n",
       "0          10001     123456891  Upperbody  2386.041022\n",
       "1          10002     123456891  Upperbody  7219.568003\n",
       "2          10003     123456891  Upperbody  1110.167181\n",
       "3          10004     123456891  Upperbody  4522.639998\n",
       "4          10005     123456891  Upperbody  7305.192980\n",
       "...          ...           ...        ...          ...\n",
       "10114      20115     123456896     Nerves  2985.574310\n",
       "10115      20116     123456896     Nerves  9698.888692\n",
       "10116      20117     123456896     Nerves  3305.456074\n",
       "10117      20118     123456896     Nerves  9179.853623\n",
       "10118      20119     123456896     Nerves  2048.429434\n",
       "\n",
       "[10119 rows x 4 columns]"
      ]
     },
     "execution_count": 190,
     "metadata": {},
     "output_type": "execute_result"
    }
   ],
   "source": [
    "import pandas as pd\n",
    "df_dd_pati_2=pd.read_excel(r\"C:\\Users\\hp\\Downloads\\Insurance_Customers.xlsx\",sheet_name=\"BBB_Patients\")\n",
    "df_dd_pati_2"
   ]
  },
  {
   "cell_type": "code",
   "execution_count": 191,
   "id": "dbac840a",
   "metadata": {},
   "outputs": [],
   "source": [
    "# *******************basic checks"
   ]
  },
  {
   "cell_type": "code",
   "execution_count": 192,
   "id": "cb728bf2",
   "metadata": {},
   "outputs": [
    {
     "data": {
      "text/plain": [
       "(10119, 4)"
      ]
     },
     "execution_count": 192,
     "metadata": {},
     "output_type": "execute_result"
    }
   ],
   "source": [
    "df_dd_pati_2.shape"
   ]
  },
  {
   "cell_type": "code",
   "execution_count": 193,
   "id": "5bad1ca9",
   "metadata": {},
   "outputs": [
    {
     "data": {
      "text/plain": [
       "Index(['patientid', 'membershipid', 'groupid', 'person_nbr'], dtype='object')"
      ]
     },
     "execution_count": 193,
     "metadata": {},
     "output_type": "execute_result"
    }
   ],
   "source": [
    "df_dd_pati_2.columns"
   ]
  },
  {
   "cell_type": "code",
   "execution_count": 194,
   "id": "2fa6a2a2",
   "metadata": {},
   "outputs": [
    {
     "data": {
      "text/html": [
       "<div>\n",
       "<style scoped>\n",
       "    .dataframe tbody tr th:only-of-type {\n",
       "        vertical-align: middle;\n",
       "    }\n",
       "\n",
       "    .dataframe tbody tr th {\n",
       "        vertical-align: top;\n",
       "    }\n",
       "\n",
       "    .dataframe thead th {\n",
       "        text-align: right;\n",
       "    }\n",
       "</style>\n",
       "<table border=\"1\" class=\"dataframe\">\n",
       "  <thead>\n",
       "    <tr style=\"text-align: right;\">\n",
       "      <th></th>\n",
       "      <th>patientid</th>\n",
       "      <th>membershipid</th>\n",
       "      <th>groupid</th>\n",
       "      <th>person_nbr</th>\n",
       "    </tr>\n",
       "  </thead>\n",
       "  <tbody>\n",
       "    <tr>\n",
       "      <th>0</th>\n",
       "      <td>10001</td>\n",
       "      <td>123456891</td>\n",
       "      <td>Upperbody</td>\n",
       "      <td>2386.041022</td>\n",
       "    </tr>\n",
       "    <tr>\n",
       "      <th>1</th>\n",
       "      <td>10002</td>\n",
       "      <td>123456891</td>\n",
       "      <td>Upperbody</td>\n",
       "      <td>7219.568003</td>\n",
       "    </tr>\n",
       "    <tr>\n",
       "      <th>2</th>\n",
       "      <td>10003</td>\n",
       "      <td>123456891</td>\n",
       "      <td>Upperbody</td>\n",
       "      <td>1110.167181</td>\n",
       "    </tr>\n",
       "    <tr>\n",
       "      <th>3</th>\n",
       "      <td>10004</td>\n",
       "      <td>123456891</td>\n",
       "      <td>Upperbody</td>\n",
       "      <td>4522.639998</td>\n",
       "    </tr>\n",
       "    <tr>\n",
       "      <th>4</th>\n",
       "      <td>10005</td>\n",
       "      <td>123456891</td>\n",
       "      <td>Upperbody</td>\n",
       "      <td>7305.192980</td>\n",
       "    </tr>\n",
       "  </tbody>\n",
       "</table>\n",
       "</div>"
      ],
      "text/plain": [
       "   patientid  membershipid    groupid   person_nbr\n",
       "0      10001     123456891  Upperbody  2386.041022\n",
       "1      10002     123456891  Upperbody  7219.568003\n",
       "2      10003     123456891  Upperbody  1110.167181\n",
       "3      10004     123456891  Upperbody  4522.639998\n",
       "4      10005     123456891  Upperbody  7305.192980"
      ]
     },
     "execution_count": 194,
     "metadata": {},
     "output_type": "execute_result"
    }
   ],
   "source": [
    "df_dd_pati_2.head()"
   ]
  },
  {
   "cell_type": "code",
   "execution_count": 195,
   "id": "a7051148",
   "metadata": {},
   "outputs": [
    {
     "data": {
      "text/html": [
       "<div>\n",
       "<style scoped>\n",
       "    .dataframe tbody tr th:only-of-type {\n",
       "        vertical-align: middle;\n",
       "    }\n",
       "\n",
       "    .dataframe tbody tr th {\n",
       "        vertical-align: top;\n",
       "    }\n",
       "\n",
       "    .dataframe thead th {\n",
       "        text-align: right;\n",
       "    }\n",
       "</style>\n",
       "<table border=\"1\" class=\"dataframe\">\n",
       "  <thead>\n",
       "    <tr style=\"text-align: right;\">\n",
       "      <th></th>\n",
       "      <th>patientid</th>\n",
       "      <th>membershipid</th>\n",
       "      <th>groupid</th>\n",
       "      <th>person_nbr</th>\n",
       "    </tr>\n",
       "  </thead>\n",
       "  <tbody>\n",
       "    <tr>\n",
       "      <th>10114</th>\n",
       "      <td>20115</td>\n",
       "      <td>123456896</td>\n",
       "      <td>Nerves</td>\n",
       "      <td>2985.574310</td>\n",
       "    </tr>\n",
       "    <tr>\n",
       "      <th>10115</th>\n",
       "      <td>20116</td>\n",
       "      <td>123456896</td>\n",
       "      <td>Nerves</td>\n",
       "      <td>9698.888692</td>\n",
       "    </tr>\n",
       "    <tr>\n",
       "      <th>10116</th>\n",
       "      <td>20117</td>\n",
       "      <td>123456896</td>\n",
       "      <td>Nerves</td>\n",
       "      <td>3305.456074</td>\n",
       "    </tr>\n",
       "    <tr>\n",
       "      <th>10117</th>\n",
       "      <td>20118</td>\n",
       "      <td>123456896</td>\n",
       "      <td>Nerves</td>\n",
       "      <td>9179.853623</td>\n",
       "    </tr>\n",
       "    <tr>\n",
       "      <th>10118</th>\n",
       "      <td>20119</td>\n",
       "      <td>123456896</td>\n",
       "      <td>Nerves</td>\n",
       "      <td>2048.429434</td>\n",
       "    </tr>\n",
       "  </tbody>\n",
       "</table>\n",
       "</div>"
      ],
      "text/plain": [
       "       patientid  membershipid groupid   person_nbr\n",
       "10114      20115     123456896  Nerves  2985.574310\n",
       "10115      20116     123456896  Nerves  9698.888692\n",
       "10116      20117     123456896  Nerves  3305.456074\n",
       "10117      20118     123456896  Nerves  9179.853623\n",
       "10118      20119     123456896  Nerves  2048.429434"
      ]
     },
     "execution_count": 195,
     "metadata": {},
     "output_type": "execute_result"
    }
   ],
   "source": [
    "df_dd_pati_2.tail()"
   ]
  },
  {
   "cell_type": "code",
   "execution_count": 196,
   "id": "5abf7aee",
   "metadata": {},
   "outputs": [],
   "source": [
    "# ************** import ddd address file"
   ]
  },
  {
   "cell_type": "code",
   "execution_count": 197,
   "id": "054f00e6",
   "metadata": {},
   "outputs": [
    {
     "data": {
      "text/html": [
       "<div>\n",
       "<style scoped>\n",
       "    .dataframe tbody tr th:only-of-type {\n",
       "        vertical-align: middle;\n",
       "    }\n",
       "\n",
       "    .dataframe tbody tr th {\n",
       "        vertical-align: top;\n",
       "    }\n",
       "\n",
       "    .dataframe thead th {\n",
       "        text-align: right;\n",
       "    }\n",
       "</style>\n",
       "<table border=\"1\" class=\"dataframe\">\n",
       "  <thead>\n",
       "    <tr style=\"text-align: right;\">\n",
       "      <th></th>\n",
       "      <th>patientid</th>\n",
       "      <th>membershipid</th>\n",
       "      <th>groupid</th>\n",
       "      <th>person_nbr</th>\n",
       "      <th>Primary_Phone_NBR</th>\n",
       "      <th>Phone2_NBR</th>\n",
       "      <th>Phone3_NBR</th>\n",
       "    </tr>\n",
       "  </thead>\n",
       "  <tbody>\n",
       "    <tr>\n",
       "      <th>0</th>\n",
       "      <td>10001</td>\n",
       "      <td>123456891</td>\n",
       "      <td>Upperbody</td>\n",
       "      <td>2.386041e+03</td>\n",
       "      <td>C</td>\n",
       "      <td>O</td>\n",
       "      <td>C</td>\n",
       "    </tr>\n",
       "    <tr>\n",
       "      <th>1</th>\n",
       "      <td>10002</td>\n",
       "      <td>123456891</td>\n",
       "      <td>Upperbody</td>\n",
       "      <td>7.219568e+03</td>\n",
       "      <td>C</td>\n",
       "      <td>O</td>\n",
       "      <td>C</td>\n",
       "    </tr>\n",
       "    <tr>\n",
       "      <th>2</th>\n",
       "      <td>10003</td>\n",
       "      <td>123456891</td>\n",
       "      <td>Upperbody</td>\n",
       "      <td>1.110167e+03</td>\n",
       "      <td>C</td>\n",
       "      <td>O</td>\n",
       "      <td>C</td>\n",
       "    </tr>\n",
       "    <tr>\n",
       "      <th>3</th>\n",
       "      <td>10004</td>\n",
       "      <td>123456891</td>\n",
       "      <td>Upperbody</td>\n",
       "      <td>4.522640e+03</td>\n",
       "      <td>C</td>\n",
       "      <td>O</td>\n",
       "      <td>C</td>\n",
       "    </tr>\n",
       "    <tr>\n",
       "      <th>4</th>\n",
       "      <td>10005</td>\n",
       "      <td>123456891</td>\n",
       "      <td>Upperbody</td>\n",
       "      <td>7.305193e+03</td>\n",
       "      <td>C</td>\n",
       "      <td>O</td>\n",
       "      <td>C</td>\n",
       "    </tr>\n",
       "    <tr>\n",
       "      <th>...</th>\n",
       "      <td>...</td>\n",
       "      <td>...</td>\n",
       "      <td>...</td>\n",
       "      <td>...</td>\n",
       "      <td>...</td>\n",
       "      <td>...</td>\n",
       "      <td>...</td>\n",
       "    </tr>\n",
       "    <tr>\n",
       "      <th>15989</th>\n",
       "      <td>25990</td>\n",
       "      <td>28862324</td>\n",
       "      <td>EarD</td>\n",
       "      <td>1.149511e+07</td>\n",
       "      <td>C</td>\n",
       "      <td>H</td>\n",
       "      <td>C</td>\n",
       "    </tr>\n",
       "    <tr>\n",
       "      <th>15990</th>\n",
       "      <td>25991</td>\n",
       "      <td>46570001</td>\n",
       "      <td>EarD</td>\n",
       "      <td>8.241271e+06</td>\n",
       "      <td>C</td>\n",
       "      <td>H</td>\n",
       "      <td>C</td>\n",
       "    </tr>\n",
       "    <tr>\n",
       "      <th>15991</th>\n",
       "      <td>25992</td>\n",
       "      <td>26399463</td>\n",
       "      <td>EarD</td>\n",
       "      <td>1.021972e+06</td>\n",
       "      <td>C</td>\n",
       "      <td>H</td>\n",
       "      <td>C</td>\n",
       "    </tr>\n",
       "    <tr>\n",
       "      <th>15992</th>\n",
       "      <td>25993</td>\n",
       "      <td>63512490</td>\n",
       "      <td>EarD</td>\n",
       "      <td>8.382799e+06</td>\n",
       "      <td>C</td>\n",
       "      <td>H</td>\n",
       "      <td>C</td>\n",
       "    </tr>\n",
       "    <tr>\n",
       "      <th>15993</th>\n",
       "      <td>25994</td>\n",
       "      <td>30518036</td>\n",
       "      <td>EarD</td>\n",
       "      <td>1.074175e+07</td>\n",
       "      <td>C</td>\n",
       "      <td>H</td>\n",
       "      <td>C</td>\n",
       "    </tr>\n",
       "  </tbody>\n",
       "</table>\n",
       "<p>15994 rows × 7 columns</p>\n",
       "</div>"
      ],
      "text/plain": [
       "       patientid  membershipid    groupid    person_nbr Primary_Phone_NBR  \\\n",
       "0          10001     123456891  Upperbody  2.386041e+03                 C   \n",
       "1          10002     123456891  Upperbody  7.219568e+03                 C   \n",
       "2          10003     123456891  Upperbody  1.110167e+03                 C   \n",
       "3          10004     123456891  Upperbody  4.522640e+03                 C   \n",
       "4          10005     123456891  Upperbody  7.305193e+03                 C   \n",
       "...          ...           ...        ...           ...               ...   \n",
       "15989      25990      28862324       EarD  1.149511e+07                 C   \n",
       "15990      25991      46570001       EarD  8.241271e+06                 C   \n",
       "15991      25992      26399463       EarD  1.021972e+06                 C   \n",
       "15992      25993      63512490       EarD  8.382799e+06                 C   \n",
       "15993      25994      30518036       EarD  1.074175e+07                 C   \n",
       "\n",
       "      Phone2_NBR Phone3_NBR  \n",
       "0              O          C  \n",
       "1              O          C  \n",
       "2              O          C  \n",
       "3              O          C  \n",
       "4              O          C  \n",
       "...          ...        ...  \n",
       "15989          H          C  \n",
       "15990          H          C  \n",
       "15991          H          C  \n",
       "15992          H          C  \n",
       "15993          H          C  \n",
       "\n",
       "[15994 rows x 7 columns]"
      ]
     },
     "execution_count": 197,
     "metadata": {},
     "output_type": "execute_result"
    }
   ],
   "source": [
    "df_bb_address_2=pd.read_excel(r\"C:\\Users\\hp\\Downloads\\Insurance_Customers.xlsx\",sheet_name=\"BBB_Address\")\n",
    "df_bb_address_2"
   ]
  },
  {
   "cell_type": "code",
   "execution_count": 198,
   "id": "1ff4261a",
   "metadata": {},
   "outputs": [],
   "source": [
    "#************** basic checks"
   ]
  },
  {
   "cell_type": "code",
   "execution_count": 199,
   "id": "5be4b19e",
   "metadata": {},
   "outputs": [
    {
     "data": {
      "text/plain": [
       "(15994, 7)"
      ]
     },
     "execution_count": 199,
     "metadata": {},
     "output_type": "execute_result"
    }
   ],
   "source": [
    "df_bb_address_2.shape"
   ]
  },
  {
   "cell_type": "code",
   "execution_count": 200,
   "id": "86a3ad58",
   "metadata": {},
   "outputs": [
    {
     "data": {
      "text/plain": [
       "Index(['patientid', 'membershipid', 'groupid', 'person_nbr',\n",
       "       'Primary_Phone_NBR', 'Phone2_NBR', 'Phone3_NBR'],\n",
       "      dtype='object')"
      ]
     },
     "execution_count": 200,
     "metadata": {},
     "output_type": "execute_result"
    }
   ],
   "source": [
    "df_bb_address_2.columns"
   ]
  },
  {
   "cell_type": "code",
   "execution_count": 201,
   "id": "bc8e1156",
   "metadata": {},
   "outputs": [
    {
     "data": {
      "text/html": [
       "<div>\n",
       "<style scoped>\n",
       "    .dataframe tbody tr th:only-of-type {\n",
       "        vertical-align: middle;\n",
       "    }\n",
       "\n",
       "    .dataframe tbody tr th {\n",
       "        vertical-align: top;\n",
       "    }\n",
       "\n",
       "    .dataframe thead th {\n",
       "        text-align: right;\n",
       "    }\n",
       "</style>\n",
       "<table border=\"1\" class=\"dataframe\">\n",
       "  <thead>\n",
       "    <tr style=\"text-align: right;\">\n",
       "      <th></th>\n",
       "      <th>patientid</th>\n",
       "      <th>membershipid</th>\n",
       "      <th>groupid</th>\n",
       "      <th>person_nbr</th>\n",
       "      <th>Primary_Phone_NBR</th>\n",
       "      <th>Phone2_NBR</th>\n",
       "      <th>Phone3_NBR</th>\n",
       "    </tr>\n",
       "  </thead>\n",
       "  <tbody>\n",
       "    <tr>\n",
       "      <th>0</th>\n",
       "      <td>10001</td>\n",
       "      <td>123456891</td>\n",
       "      <td>Upperbody</td>\n",
       "      <td>2386.041022</td>\n",
       "      <td>C</td>\n",
       "      <td>O</td>\n",
       "      <td>C</td>\n",
       "    </tr>\n",
       "    <tr>\n",
       "      <th>1</th>\n",
       "      <td>10002</td>\n",
       "      <td>123456891</td>\n",
       "      <td>Upperbody</td>\n",
       "      <td>7219.568003</td>\n",
       "      <td>C</td>\n",
       "      <td>O</td>\n",
       "      <td>C</td>\n",
       "    </tr>\n",
       "    <tr>\n",
       "      <th>2</th>\n",
       "      <td>10003</td>\n",
       "      <td>123456891</td>\n",
       "      <td>Upperbody</td>\n",
       "      <td>1110.167181</td>\n",
       "      <td>C</td>\n",
       "      <td>O</td>\n",
       "      <td>C</td>\n",
       "    </tr>\n",
       "    <tr>\n",
       "      <th>3</th>\n",
       "      <td>10004</td>\n",
       "      <td>123456891</td>\n",
       "      <td>Upperbody</td>\n",
       "      <td>4522.639998</td>\n",
       "      <td>C</td>\n",
       "      <td>O</td>\n",
       "      <td>C</td>\n",
       "    </tr>\n",
       "    <tr>\n",
       "      <th>4</th>\n",
       "      <td>10005</td>\n",
       "      <td>123456891</td>\n",
       "      <td>Upperbody</td>\n",
       "      <td>7305.192980</td>\n",
       "      <td>C</td>\n",
       "      <td>O</td>\n",
       "      <td>C</td>\n",
       "    </tr>\n",
       "  </tbody>\n",
       "</table>\n",
       "</div>"
      ],
      "text/plain": [
       "   patientid  membershipid    groupid   person_nbr Primary_Phone_NBR  \\\n",
       "0      10001     123456891  Upperbody  2386.041022                 C   \n",
       "1      10002     123456891  Upperbody  7219.568003                 C   \n",
       "2      10003     123456891  Upperbody  1110.167181                 C   \n",
       "3      10004     123456891  Upperbody  4522.639998                 C   \n",
       "4      10005     123456891  Upperbody  7305.192980                 C   \n",
       "\n",
       "  Phone2_NBR Phone3_NBR  \n",
       "0          O          C  \n",
       "1          O          C  \n",
       "2          O          C  \n",
       "3          O          C  \n",
       "4          O          C  "
      ]
     },
     "execution_count": 201,
     "metadata": {},
     "output_type": "execute_result"
    }
   ],
   "source": [
    "df_bb_address_2.head()"
   ]
  },
  {
   "cell_type": "code",
   "execution_count": 202,
   "id": "9b659b76",
   "metadata": {},
   "outputs": [
    {
     "data": {
      "text/html": [
       "<div>\n",
       "<style scoped>\n",
       "    .dataframe tbody tr th:only-of-type {\n",
       "        vertical-align: middle;\n",
       "    }\n",
       "\n",
       "    .dataframe tbody tr th {\n",
       "        vertical-align: top;\n",
       "    }\n",
       "\n",
       "    .dataframe thead th {\n",
       "        text-align: right;\n",
       "    }\n",
       "</style>\n",
       "<table border=\"1\" class=\"dataframe\">\n",
       "  <thead>\n",
       "    <tr style=\"text-align: right;\">\n",
       "      <th></th>\n",
       "      <th>patientid</th>\n",
       "      <th>membershipid</th>\n",
       "      <th>groupid</th>\n",
       "      <th>person_nbr</th>\n",
       "      <th>Primary_Phone_NBR</th>\n",
       "      <th>Phone2_NBR</th>\n",
       "      <th>Phone3_NBR</th>\n",
       "    </tr>\n",
       "  </thead>\n",
       "  <tbody>\n",
       "    <tr>\n",
       "      <th>15989</th>\n",
       "      <td>25990</td>\n",
       "      <td>28862324</td>\n",
       "      <td>EarD</td>\n",
       "      <td>1.149511e+07</td>\n",
       "      <td>C</td>\n",
       "      <td>H</td>\n",
       "      <td>C</td>\n",
       "    </tr>\n",
       "    <tr>\n",
       "      <th>15990</th>\n",
       "      <td>25991</td>\n",
       "      <td>46570001</td>\n",
       "      <td>EarD</td>\n",
       "      <td>8.241271e+06</td>\n",
       "      <td>C</td>\n",
       "      <td>H</td>\n",
       "      <td>C</td>\n",
       "    </tr>\n",
       "    <tr>\n",
       "      <th>15991</th>\n",
       "      <td>25992</td>\n",
       "      <td>26399463</td>\n",
       "      <td>EarD</td>\n",
       "      <td>1.021972e+06</td>\n",
       "      <td>C</td>\n",
       "      <td>H</td>\n",
       "      <td>C</td>\n",
       "    </tr>\n",
       "    <tr>\n",
       "      <th>15992</th>\n",
       "      <td>25993</td>\n",
       "      <td>63512490</td>\n",
       "      <td>EarD</td>\n",
       "      <td>8.382799e+06</td>\n",
       "      <td>C</td>\n",
       "      <td>H</td>\n",
       "      <td>C</td>\n",
       "    </tr>\n",
       "    <tr>\n",
       "      <th>15993</th>\n",
       "      <td>25994</td>\n",
       "      <td>30518036</td>\n",
       "      <td>EarD</td>\n",
       "      <td>1.074175e+07</td>\n",
       "      <td>C</td>\n",
       "      <td>H</td>\n",
       "      <td>C</td>\n",
       "    </tr>\n",
       "  </tbody>\n",
       "</table>\n",
       "</div>"
      ],
      "text/plain": [
       "       patientid  membershipid groupid    person_nbr Primary_Phone_NBR  \\\n",
       "15989      25990      28862324    EarD  1.149511e+07                 C   \n",
       "15990      25991      46570001    EarD  8.241271e+06                 C   \n",
       "15991      25992      26399463    EarD  1.021972e+06                 C   \n",
       "15992      25993      63512490    EarD  8.382799e+06                 C   \n",
       "15993      25994      30518036    EarD  1.074175e+07                 C   \n",
       "\n",
       "      Phone2_NBR Phone3_NBR  \n",
       "15989          H          C  \n",
       "15990          H          C  \n",
       "15991          H          C  \n",
       "15992          H          C  \n",
       "15993          H          C  "
      ]
     },
     "execution_count": 202,
     "metadata": {},
     "output_type": "execute_result"
    }
   ],
   "source": [
    "df_bb_address_2.tail()"
   ]
  },
  {
   "cell_type": "code",
   "execution_count": 203,
   "id": "fe792c21",
   "metadata": {},
   "outputs": [],
   "source": [
    "# *************** left join\n"
   ]
  },
  {
   "cell_type": "code",
   "execution_count": 204,
   "id": "37de7346",
   "metadata": {},
   "outputs": [
    {
     "data": {
      "text/html": [
       "<div>\n",
       "<style scoped>\n",
       "    .dataframe tbody tr th:only-of-type {\n",
       "        vertical-align: middle;\n",
       "    }\n",
       "\n",
       "    .dataframe tbody tr th {\n",
       "        vertical-align: top;\n",
       "    }\n",
       "\n",
       "    .dataframe thead th {\n",
       "        text-align: right;\n",
       "    }\n",
       "</style>\n",
       "<table border=\"1\" class=\"dataframe\">\n",
       "  <thead>\n",
       "    <tr style=\"text-align: right;\">\n",
       "      <th></th>\n",
       "      <th>patientid</th>\n",
       "      <th>membershipid</th>\n",
       "      <th>groupid</th>\n",
       "      <th>person_nbr_x</th>\n",
       "      <th>person_nbr_y</th>\n",
       "      <th>Primary_Phone_NBR</th>\n",
       "      <th>Phone2_NBR</th>\n",
       "      <th>Phone3_NBR</th>\n",
       "    </tr>\n",
       "  </thead>\n",
       "  <tbody>\n",
       "    <tr>\n",
       "      <th>0</th>\n",
       "      <td>10001</td>\n",
       "      <td>123456891</td>\n",
       "      <td>Upperbody</td>\n",
       "      <td>2386.041022</td>\n",
       "      <td>2386.041022</td>\n",
       "      <td>C</td>\n",
       "      <td>O</td>\n",
       "      <td>C</td>\n",
       "    </tr>\n",
       "    <tr>\n",
       "      <th>1</th>\n",
       "      <td>10002</td>\n",
       "      <td>123456891</td>\n",
       "      <td>Upperbody</td>\n",
       "      <td>7219.568003</td>\n",
       "      <td>7219.568003</td>\n",
       "      <td>C</td>\n",
       "      <td>O</td>\n",
       "      <td>C</td>\n",
       "    </tr>\n",
       "    <tr>\n",
       "      <th>2</th>\n",
       "      <td>10003</td>\n",
       "      <td>123456891</td>\n",
       "      <td>Upperbody</td>\n",
       "      <td>1110.167181</td>\n",
       "      <td>1110.167181</td>\n",
       "      <td>C</td>\n",
       "      <td>O</td>\n",
       "      <td>C</td>\n",
       "    </tr>\n",
       "    <tr>\n",
       "      <th>3</th>\n",
       "      <td>10004</td>\n",
       "      <td>123456891</td>\n",
       "      <td>Upperbody</td>\n",
       "      <td>4522.639998</td>\n",
       "      <td>4522.639998</td>\n",
       "      <td>C</td>\n",
       "      <td>O</td>\n",
       "      <td>C</td>\n",
       "    </tr>\n",
       "    <tr>\n",
       "      <th>4</th>\n",
       "      <td>10005</td>\n",
       "      <td>123456891</td>\n",
       "      <td>Upperbody</td>\n",
       "      <td>7305.192980</td>\n",
       "      <td>7305.192980</td>\n",
       "      <td>C</td>\n",
       "      <td>O</td>\n",
       "      <td>C</td>\n",
       "    </tr>\n",
       "    <tr>\n",
       "      <th>...</th>\n",
       "      <td>...</td>\n",
       "      <td>...</td>\n",
       "      <td>...</td>\n",
       "      <td>...</td>\n",
       "      <td>...</td>\n",
       "      <td>...</td>\n",
       "      <td>...</td>\n",
       "      <td>...</td>\n",
       "    </tr>\n",
       "    <tr>\n",
       "      <th>10114</th>\n",
       "      <td>20115</td>\n",
       "      <td>123456896</td>\n",
       "      <td>Nerves</td>\n",
       "      <td>2985.574310</td>\n",
       "      <td>2985.574310</td>\n",
       "      <td>C</td>\n",
       "      <td>H</td>\n",
       "      <td>C</td>\n",
       "    </tr>\n",
       "    <tr>\n",
       "      <th>10115</th>\n",
       "      <td>20116</td>\n",
       "      <td>123456896</td>\n",
       "      <td>Nerves</td>\n",
       "      <td>9698.888692</td>\n",
       "      <td>9698.888692</td>\n",
       "      <td>C</td>\n",
       "      <td>H</td>\n",
       "      <td>C</td>\n",
       "    </tr>\n",
       "    <tr>\n",
       "      <th>10116</th>\n",
       "      <td>20117</td>\n",
       "      <td>123456896</td>\n",
       "      <td>Nerves</td>\n",
       "      <td>3305.456074</td>\n",
       "      <td>3305.456074</td>\n",
       "      <td>C</td>\n",
       "      <td>H</td>\n",
       "      <td>C</td>\n",
       "    </tr>\n",
       "    <tr>\n",
       "      <th>10117</th>\n",
       "      <td>20118</td>\n",
       "      <td>123456896</td>\n",
       "      <td>Nerves</td>\n",
       "      <td>9179.853623</td>\n",
       "      <td>9179.853623</td>\n",
       "      <td>C</td>\n",
       "      <td>H</td>\n",
       "      <td>C</td>\n",
       "    </tr>\n",
       "    <tr>\n",
       "      <th>10118</th>\n",
       "      <td>20119</td>\n",
       "      <td>123456896</td>\n",
       "      <td>Nerves</td>\n",
       "      <td>2048.429434</td>\n",
       "      <td>2048.429434</td>\n",
       "      <td>C</td>\n",
       "      <td>H</td>\n",
       "      <td>C</td>\n",
       "    </tr>\n",
       "  </tbody>\n",
       "</table>\n",
       "<p>10119 rows × 8 columns</p>\n",
       "</div>"
      ],
      "text/plain": [
       "       patientid  membershipid    groupid  person_nbr_x  person_nbr_y  \\\n",
       "0          10001     123456891  Upperbody   2386.041022   2386.041022   \n",
       "1          10002     123456891  Upperbody   7219.568003   7219.568003   \n",
       "2          10003     123456891  Upperbody   1110.167181   1110.167181   \n",
       "3          10004     123456891  Upperbody   4522.639998   4522.639998   \n",
       "4          10005     123456891  Upperbody   7305.192980   7305.192980   \n",
       "...          ...           ...        ...           ...           ...   \n",
       "10114      20115     123456896     Nerves   2985.574310   2985.574310   \n",
       "10115      20116     123456896     Nerves   9698.888692   9698.888692   \n",
       "10116      20117     123456896     Nerves   3305.456074   3305.456074   \n",
       "10117      20118     123456896     Nerves   9179.853623   9179.853623   \n",
       "10118      20119     123456896     Nerves   2048.429434   2048.429434   \n",
       "\n",
       "      Primary_Phone_NBR Phone2_NBR Phone3_NBR  \n",
       "0                     C          O          C  \n",
       "1                     C          O          C  \n",
       "2                     C          O          C  \n",
       "3                     C          O          C  \n",
       "4                     C          O          C  \n",
       "...                 ...        ...        ...  \n",
       "10114                 C          H          C  \n",
       "10115                 C          H          C  \n",
       "10116                 C          H          C  \n",
       "10117                 C          H          C  \n",
       "10118                 C          H          C  \n",
       "\n",
       "[10119 rows x 8 columns]"
      ]
     },
     "execution_count": 204,
     "metadata": {},
     "output_type": "execute_result"
    }
   ],
   "source": [
    "df_pati_add_merg2=df_dd_pati_2.merge(df_bb_address_2,how=\"left\",on=['patientid', 'membershipid', 'groupid'])\n",
    "df_pati_add_merg2"
   ]
  },
  {
   "cell_type": "code",
   "execution_count": 205,
   "id": "710fcfec",
   "metadata": {},
   "outputs": [
    {
     "data": {
      "text/plain": [
       "Index(['patientid', 'membershipid', 'groupid', 'person_nbr_x', 'person_nbr_y',\n",
       "       'Primary_Phone_NBR', 'Phone2_NBR', 'Phone3_NBR'],\n",
       "      dtype='object')"
      ]
     },
     "execution_count": 205,
     "metadata": {},
     "output_type": "execute_result"
    }
   ],
   "source": [
    "df_pati_add_merg2.columns"
   ]
  },
  {
   "cell_type": "code",
   "execution_count": 206,
   "id": "fde79855",
   "metadata": {},
   "outputs": [
    {
     "data": {
      "text/html": [
       "<div>\n",
       "<style scoped>\n",
       "    .dataframe tbody tr th:only-of-type {\n",
       "        vertical-align: middle;\n",
       "    }\n",
       "\n",
       "    .dataframe tbody tr th {\n",
       "        vertical-align: top;\n",
       "    }\n",
       "\n",
       "    .dataframe thead th {\n",
       "        text-align: right;\n",
       "    }\n",
       "</style>\n",
       "<table border=\"1\" class=\"dataframe\">\n",
       "  <thead>\n",
       "    <tr style=\"text-align: right;\">\n",
       "      <th></th>\n",
       "      <th>patientid</th>\n",
       "      <th>membershipid</th>\n",
       "      <th>groupid</th>\n",
       "      <th>person_nbr_x</th>\n",
       "      <th>person_nbr_y</th>\n",
       "      <th>Primary_Phone_NBR</th>\n",
       "      <th>Phone2_NBR</th>\n",
       "      <th>Phone3_NBR</th>\n",
       "    </tr>\n",
       "  </thead>\n",
       "  <tbody>\n",
       "    <tr>\n",
       "      <th>0</th>\n",
       "      <td>10001</td>\n",
       "      <td>123456891</td>\n",
       "      <td>Upperbody</td>\n",
       "      <td>2386.041022</td>\n",
       "      <td>2386.041022</td>\n",
       "      <td>C</td>\n",
       "      <td>O</td>\n",
       "      <td>C</td>\n",
       "    </tr>\n",
       "    <tr>\n",
       "      <th>1</th>\n",
       "      <td>10002</td>\n",
       "      <td>123456891</td>\n",
       "      <td>Upperbody</td>\n",
       "      <td>7219.568003</td>\n",
       "      <td>7219.568003</td>\n",
       "      <td>C</td>\n",
       "      <td>O</td>\n",
       "      <td>C</td>\n",
       "    </tr>\n",
       "    <tr>\n",
       "      <th>2</th>\n",
       "      <td>10003</td>\n",
       "      <td>123456891</td>\n",
       "      <td>Upperbody</td>\n",
       "      <td>1110.167181</td>\n",
       "      <td>1110.167181</td>\n",
       "      <td>C</td>\n",
       "      <td>O</td>\n",
       "      <td>C</td>\n",
       "    </tr>\n",
       "    <tr>\n",
       "      <th>3</th>\n",
       "      <td>10004</td>\n",
       "      <td>123456891</td>\n",
       "      <td>Upperbody</td>\n",
       "      <td>4522.639998</td>\n",
       "      <td>4522.639998</td>\n",
       "      <td>C</td>\n",
       "      <td>O</td>\n",
       "      <td>C</td>\n",
       "    </tr>\n",
       "    <tr>\n",
       "      <th>4</th>\n",
       "      <td>10005</td>\n",
       "      <td>123456891</td>\n",
       "      <td>Upperbody</td>\n",
       "      <td>7305.192980</td>\n",
       "      <td>7305.192980</td>\n",
       "      <td>C</td>\n",
       "      <td>O</td>\n",
       "      <td>C</td>\n",
       "    </tr>\n",
       "  </tbody>\n",
       "</table>\n",
       "</div>"
      ],
      "text/plain": [
       "   patientid  membershipid    groupid  person_nbr_x  person_nbr_y  \\\n",
       "0      10001     123456891  Upperbody   2386.041022   2386.041022   \n",
       "1      10002     123456891  Upperbody   7219.568003   7219.568003   \n",
       "2      10003     123456891  Upperbody   1110.167181   1110.167181   \n",
       "3      10004     123456891  Upperbody   4522.639998   4522.639998   \n",
       "4      10005     123456891  Upperbody   7305.192980   7305.192980   \n",
       "\n",
       "  Primary_Phone_NBR Phone2_NBR Phone3_NBR  \n",
       "0                 C          O          C  \n",
       "1                 C          O          C  \n",
       "2                 C          O          C  \n",
       "3                 C          O          C  \n",
       "4                 C          O          C  "
      ]
     },
     "execution_count": 206,
     "metadata": {},
     "output_type": "execute_result"
    }
   ],
   "source": [
    "df_pati_add_merg2.head()"
   ]
  },
  {
   "cell_type": "code",
   "execution_count": 207,
   "id": "032733e7",
   "metadata": {},
   "outputs": [
    {
     "data": {
      "text/html": [
       "<div>\n",
       "<style scoped>\n",
       "    .dataframe tbody tr th:only-of-type {\n",
       "        vertical-align: middle;\n",
       "    }\n",
       "\n",
       "    .dataframe tbody tr th {\n",
       "        vertical-align: top;\n",
       "    }\n",
       "\n",
       "    .dataframe thead th {\n",
       "        text-align: right;\n",
       "    }\n",
       "</style>\n",
       "<table border=\"1\" class=\"dataframe\">\n",
       "  <thead>\n",
       "    <tr style=\"text-align: right;\">\n",
       "      <th></th>\n",
       "      <th>patientid</th>\n",
       "      <th>membershipid</th>\n",
       "      <th>groupid</th>\n",
       "      <th>person_nbr_x</th>\n",
       "      <th>person_nbr_y</th>\n",
       "      <th>Primary_Phone_NBR</th>\n",
       "      <th>Phone2_NBR</th>\n",
       "      <th>Phone3_NBR</th>\n",
       "    </tr>\n",
       "  </thead>\n",
       "  <tbody>\n",
       "    <tr>\n",
       "      <th>10114</th>\n",
       "      <td>20115</td>\n",
       "      <td>123456896</td>\n",
       "      <td>Nerves</td>\n",
       "      <td>2985.574310</td>\n",
       "      <td>2985.574310</td>\n",
       "      <td>C</td>\n",
       "      <td>H</td>\n",
       "      <td>C</td>\n",
       "    </tr>\n",
       "    <tr>\n",
       "      <th>10115</th>\n",
       "      <td>20116</td>\n",
       "      <td>123456896</td>\n",
       "      <td>Nerves</td>\n",
       "      <td>9698.888692</td>\n",
       "      <td>9698.888692</td>\n",
       "      <td>C</td>\n",
       "      <td>H</td>\n",
       "      <td>C</td>\n",
       "    </tr>\n",
       "    <tr>\n",
       "      <th>10116</th>\n",
       "      <td>20117</td>\n",
       "      <td>123456896</td>\n",
       "      <td>Nerves</td>\n",
       "      <td>3305.456074</td>\n",
       "      <td>3305.456074</td>\n",
       "      <td>C</td>\n",
       "      <td>H</td>\n",
       "      <td>C</td>\n",
       "    </tr>\n",
       "    <tr>\n",
       "      <th>10117</th>\n",
       "      <td>20118</td>\n",
       "      <td>123456896</td>\n",
       "      <td>Nerves</td>\n",
       "      <td>9179.853623</td>\n",
       "      <td>9179.853623</td>\n",
       "      <td>C</td>\n",
       "      <td>H</td>\n",
       "      <td>C</td>\n",
       "    </tr>\n",
       "    <tr>\n",
       "      <th>10118</th>\n",
       "      <td>20119</td>\n",
       "      <td>123456896</td>\n",
       "      <td>Nerves</td>\n",
       "      <td>2048.429434</td>\n",
       "      <td>2048.429434</td>\n",
       "      <td>C</td>\n",
       "      <td>H</td>\n",
       "      <td>C</td>\n",
       "    </tr>\n",
       "  </tbody>\n",
       "</table>\n",
       "</div>"
      ],
      "text/plain": [
       "       patientid  membershipid groupid  person_nbr_x  person_nbr_y  \\\n",
       "10114      20115     123456896  Nerves   2985.574310   2985.574310   \n",
       "10115      20116     123456896  Nerves   9698.888692   9698.888692   \n",
       "10116      20117     123456896  Nerves   3305.456074   3305.456074   \n",
       "10117      20118     123456896  Nerves   9179.853623   9179.853623   \n",
       "10118      20119     123456896  Nerves   2048.429434   2048.429434   \n",
       "\n",
       "      Primary_Phone_NBR Phone2_NBR Phone3_NBR  \n",
       "10114                 C          H          C  \n",
       "10115                 C          H          C  \n",
       "10116                 C          H          C  \n",
       "10117                 C          H          C  \n",
       "10118                 C          H          C  "
      ]
     },
     "execution_count": 207,
     "metadata": {},
     "output_type": "execute_result"
    }
   ],
   "source": [
    "df_pati_add_merg2.tail()"
   ]
  },
  {
   "cell_type": "code",
   "execution_count": 208,
   "id": "20184093",
   "metadata": {},
   "outputs": [],
   "source": [
    "############### adding a new column"
   ]
  },
  {
   "cell_type": "code",
   "execution_count": 209,
   "id": "509843af",
   "metadata": {},
   "outputs": [],
   "source": [
    "df_pati_add_merg2[\"Cellflag\"]=\"\""
   ]
  },
  {
   "cell_type": "code",
   "execution_count": 210,
   "id": "fb4ef71a",
   "metadata": {},
   "outputs": [
    {
     "data": {
      "text/plain": [
       "Index(['patientid', 'membershipid', 'groupid', 'person_nbr_x', 'person_nbr_y',\n",
       "       'Primary_Phone_NBR', 'Phone2_NBR', 'Phone3_NBR', 'Cellflag'],\n",
       "      dtype='object')"
      ]
     },
     "execution_count": 210,
     "metadata": {},
     "output_type": "execute_result"
    }
   ],
   "source": [
    "df_pati_add_merg2.columns"
   ]
  },
  {
   "cell_type": "code",
   "execution_count": 211,
   "id": "d5f4d715",
   "metadata": {},
   "outputs": [],
   "source": [
    "# updatinga cell flag  c  as p"
   ]
  },
  {
   "cell_type": "code",
   "execution_count": 212,
   "id": "95a62847",
   "metadata": {},
   "outputs": [],
   "source": [
    "import numpy as np\n",
    "df_pati_add_merg2['Cellflag']=np.where(df_pati_add_merg2['Primary_Phone_NBR']==\"C\",\"P\",df_pati_add_merg2['Cellflag'])"
   ]
  },
  {
   "cell_type": "code",
   "execution_count": 213,
   "id": "0abddcb6",
   "metadata": {},
   "outputs": [
    {
     "data": {
      "text/plain": [
       "array(['P', ''], dtype=object)"
      ]
     },
     "execution_count": 213,
     "metadata": {},
     "output_type": "execute_result"
    }
   ],
   "source": [
    "df_pati_add_merg2.Cellflag.unique()"
   ]
  },
  {
   "cell_type": "code",
   "execution_count": 214,
   "id": "8720138a",
   "metadata": {},
   "outputs": [
    {
     "data": {
      "text/plain": [
       "     6372\n",
       "P    3747\n",
       "Name: Cellflag, dtype: int64"
      ]
     },
     "execution_count": 214,
     "metadata": {},
     "output_type": "execute_result"
    }
   ],
   "source": [
    "df_pati_add_merg2.Cellflag.value_counts()"
   ]
  },
  {
   "cell_type": "code",
   "execution_count": 215,
   "id": "af2b2fc4",
   "metadata": {},
   "outputs": [],
   "source": [
    "  # updating cellflag  as s"
   ]
  },
  {
   "cell_type": "code",
   "execution_count": 216,
   "id": "48dcd3d3",
   "metadata": {},
   "outputs": [],
   "source": [
    "df_pati_add_merg2['Cellflag']=np.where((df_pati_add_merg2['Primary_Phone_NBR']!=\"C\") & \n",
    "                                       (df_pati_add_merg2['Phone2_NBR']==\"C\"),\"S\",df_pati_add_merg2['Cellflag'])"
   ]
  },
  {
   "cell_type": "code",
   "execution_count": 217,
   "id": "dd254d73",
   "metadata": {},
   "outputs": [],
   "source": [
    "df_pati_add_merg2['Cellflag']=np.where((df_pati_add_merg2['Primary_Phone_NBR']!=\"C\") & \n",
    "                                       (df_pati_add_merg2['Phone3_NBR']==\"C\"),\"S\",df_pati_add_merg2['Cellflag'])"
   ]
  },
  {
   "cell_type": "code",
   "execution_count": 218,
   "id": "c8dc1433",
   "metadata": {},
   "outputs": [
    {
     "data": {
      "text/plain": [
       "S    5590\n",
       "P    3747\n",
       "      782\n",
       "Name: Cellflag, dtype: int64"
      ]
     },
     "execution_count": 218,
     "metadata": {},
     "output_type": "execute_result"
    }
   ],
   "source": [
    "df_pati_add_merg2.Cellflag.value_counts()"
   ]
  },
  {
   "cell_type": "code",
   "execution_count": 219,
   "id": "db7e4e9c",
   "metadata": {},
   "outputs": [],
   "source": [
    "# updating cell flag as N"
   ]
  },
  {
   "cell_type": "code",
   "execution_count": 220,
   "id": "fee2a160",
   "metadata": {},
   "outputs": [],
   "source": [
    "df_pati_add_merg2['Cellflag']=np.where((df_pati_add_merg2['Primary_Phone_NBR']!=\"C\") & \n",
    "                                       (df_pati_add_merg2['Phone3_NBR']!=\"C\"),\"N\",df_pati_add_merg2['Cellflag'])"
   ]
  },
  {
   "cell_type": "code",
   "execution_count": 221,
   "id": "53366d92",
   "metadata": {},
   "outputs": [],
   "source": [
    "df_pati_add_merg2['Cellflag']=np.where((df_pati_add_merg2['Primary_Phone_NBR']!=\"C\") & \n",
    "                                       (df_pati_add_merg2['Phone2_NBR']!=\"C\"),\"N\",df_pati_add_merg2['Cellflag'])"
   ]
  },
  {
   "cell_type": "code",
   "execution_count": 222,
   "id": "d502bf6d",
   "metadata": {},
   "outputs": [
    {
     "data": {
      "text/plain": [
       "array(['P', 'N', 'S'], dtype=object)"
      ]
     },
     "execution_count": 222,
     "metadata": {},
     "output_type": "execute_result"
    }
   ],
   "source": [
    "df_pati_add_merg2.Cellflag.unique()"
   ]
  },
  {
   "cell_type": "code",
   "execution_count": 223,
   "id": "785b8191",
   "metadata": {},
   "outputs": [
    {
     "data": {
      "text/plain": [
       "N    6371\n",
       "P    3747\n",
       "S       1\n",
       "Name: Cellflag, dtype: int64"
      ]
     },
     "execution_count": 223,
     "metadata": {},
     "output_type": "execute_result"
    }
   ],
   "source": [
    "df_pati_add_merg2.Cellflag.value_counts()"
   ]
  },
  {
   "cell_type": "code",
   "execution_count": 224,
   "id": "11f1c3ef",
   "metadata": {},
   "outputs": [],
   "source": [
    "df_pati_add_merg2['Flag']=\"Total BBB patients\""
   ]
  },
  {
   "cell_type": "code",
   "execution_count": 225,
   "id": "287c2158",
   "metadata": {},
   "outputs": [],
   "source": [
    "#bbb_p_add_merge_P=bbb_p_add_merge[bbb_p_add_merge.Cell_Flag==\"P\"]\n",
    "df_pati_add_merg2_p=df_pati_add_merg2[df_pati_add_merg2.Cellflag==\"P\"]\n"
   ]
  },
  {
   "cell_type": "code",
   "execution_count": 226,
   "id": "3b3ded34",
   "metadata": {},
   "outputs": [
    {
     "name": "stderr",
     "output_type": "stream",
     "text": [
      "C:\\Users\\hp\\AppData\\Local\\Temp\\ipykernel_16584\\622081601.py:1: SettingWithCopyWarning: \n",
      "A value is trying to be set on a copy of a slice from a DataFrame.\n",
      "Try using .loc[row_indexer,col_indexer] = value instead\n",
      "\n",
      "See the caveats in the documentation: https://pandas.pydata.org/pandas-docs/stable/user_guide/indexing.html#returning-a-view-versus-a-copy\n",
      "  df_pati_add_merg2_p[\"Flag\"]=\"Total BBB patients for cell flag P\"\n"
     ]
    }
   ],
   "source": [
    "df_pati_add_merg2_p[\"Flag\"]=\"Total BBB patients for cell flag P\""
   ]
  },
  {
   "cell_type": "code",
   "execution_count": 227,
   "id": "5fa89b31",
   "metadata": {},
   "outputs": [
    {
     "name": "stderr",
     "output_type": "stream",
     "text": [
      "C:\\Users\\hp\\AppData\\Local\\Temp\\ipykernel_16584\\1256459819.py:3: SettingWithCopyWarning: \n",
      "A value is trying to be set on a copy of a slice from a DataFrame.\n",
      "Try using .loc[row_indexer,col_indexer] = value instead\n",
      "\n",
      "See the caveats in the documentation: https://pandas.pydata.org/pandas-docs/stable/user_guide/indexing.html#returning-a-view-versus-a-copy\n",
      "  df_pati_add_merg2_S[\"Flag\"]=\"Total BBB patients for cell flag S\"\n"
     ]
    }
   ],
   "source": [
    "#bbb_p_add_merge_S=bbb_p_add_merge[bbb_p_add_merge.Cell_Flag==\"S\"]\n",
    "df_pati_add_merg2_S=df_pati_add_merg2[df_pati_add_merg2.Cellflag==\"S\"]\n",
    "df_pati_add_merg2_S[\"Flag\"]=\"Total BBB patients for cell flag S\""
   ]
  },
  {
   "cell_type": "code",
   "execution_count": 228,
   "id": "7e9d63d4",
   "metadata": {},
   "outputs": [
    {
     "name": "stderr",
     "output_type": "stream",
     "text": [
      "C:\\Users\\hp\\AppData\\Local\\Temp\\ipykernel_16584\\3436611553.py:3: SettingWithCopyWarning: \n",
      "A value is trying to be set on a copy of a slice from a DataFrame.\n",
      "Try using .loc[row_indexer,col_indexer] = value instead\n",
      "\n",
      "See the caveats in the documentation: https://pandas.pydata.org/pandas-docs/stable/user_guide/indexing.html#returning-a-view-versus-a-copy\n",
      "  df_pati_add_merg2_N[\"Flag\"]=\"Total BBB patients for cell flag N\"\n"
     ]
    }
   ],
   "source": [
    "#bbb_p_add_merge_N=bbb_p_add_merge[bbb_p_add_merge.Cell_Flag==\"N\"]\n",
    "df_pati_add_merg2_N=df_pati_add_merg2[df_pati_add_merg2.Cellflag==\"N\"]\n",
    "df_pati_add_merg2_N[\"Flag\"]=\"Total BBB patients for cell flag N\""
   ]
  },
  {
   "cell_type": "code",
   "execution_count": 229,
   "id": "a350c9da",
   "metadata": {},
   "outputs": [
    {
     "data": {
      "text/html": [
       "<div>\n",
       "<style scoped>\n",
       "    .dataframe tbody tr th:only-of-type {\n",
       "        vertical-align: middle;\n",
       "    }\n",
       "\n",
       "    .dataframe tbody tr th {\n",
       "        vertical-align: top;\n",
       "    }\n",
       "\n",
       "    .dataframe thead th {\n",
       "        text-align: right;\n",
       "    }\n",
       "</style>\n",
       "<table border=\"1\" class=\"dataframe\">\n",
       "  <thead>\n",
       "    <tr style=\"text-align: right;\">\n",
       "      <th></th>\n",
       "      <th>patientid</th>\n",
       "      <th>membershipid</th>\n",
       "      <th>groupid</th>\n",
       "      <th>person_nbr_x</th>\n",
       "      <th>person_nbr_y</th>\n",
       "      <th>Primary_Phone_NBR</th>\n",
       "      <th>Phone2_NBR</th>\n",
       "      <th>Phone3_NBR</th>\n",
       "      <th>Cellflag</th>\n",
       "      <th>Flag</th>\n",
       "    </tr>\n",
       "  </thead>\n",
       "  <tbody>\n",
       "    <tr>\n",
       "      <th>0</th>\n",
       "      <td>10001</td>\n",
       "      <td>123456891</td>\n",
       "      <td>Upperbody</td>\n",
       "      <td>2386.041022</td>\n",
       "      <td>2386.041022</td>\n",
       "      <td>C</td>\n",
       "      <td>O</td>\n",
       "      <td>C</td>\n",
       "      <td>P</td>\n",
       "      <td>Total BBB patients</td>\n",
       "    </tr>\n",
       "    <tr>\n",
       "      <th>1</th>\n",
       "      <td>10002</td>\n",
       "      <td>123456891</td>\n",
       "      <td>Upperbody</td>\n",
       "      <td>7219.568003</td>\n",
       "      <td>7219.568003</td>\n",
       "      <td>C</td>\n",
       "      <td>O</td>\n",
       "      <td>C</td>\n",
       "      <td>P</td>\n",
       "      <td>Total BBB patients</td>\n",
       "    </tr>\n",
       "    <tr>\n",
       "      <th>2</th>\n",
       "      <td>10003</td>\n",
       "      <td>123456891</td>\n",
       "      <td>Upperbody</td>\n",
       "      <td>1110.167181</td>\n",
       "      <td>1110.167181</td>\n",
       "      <td>C</td>\n",
       "      <td>O</td>\n",
       "      <td>C</td>\n",
       "      <td>P</td>\n",
       "      <td>Total BBB patients</td>\n",
       "    </tr>\n",
       "    <tr>\n",
       "      <th>3</th>\n",
       "      <td>10004</td>\n",
       "      <td>123456891</td>\n",
       "      <td>Upperbody</td>\n",
       "      <td>4522.639998</td>\n",
       "      <td>4522.639998</td>\n",
       "      <td>C</td>\n",
       "      <td>O</td>\n",
       "      <td>C</td>\n",
       "      <td>P</td>\n",
       "      <td>Total BBB patients</td>\n",
       "    </tr>\n",
       "    <tr>\n",
       "      <th>4</th>\n",
       "      <td>10005</td>\n",
       "      <td>123456891</td>\n",
       "      <td>Upperbody</td>\n",
       "      <td>7305.192980</td>\n",
       "      <td>7305.192980</td>\n",
       "      <td>C</td>\n",
       "      <td>O</td>\n",
       "      <td>C</td>\n",
       "      <td>P</td>\n",
       "      <td>Total BBB patients</td>\n",
       "    </tr>\n",
       "  </tbody>\n",
       "</table>\n",
       "</div>"
      ],
      "text/plain": [
       "   patientid  membershipid    groupid  person_nbr_x  person_nbr_y  \\\n",
       "0      10001     123456891  Upperbody   2386.041022   2386.041022   \n",
       "1      10002     123456891  Upperbody   7219.568003   7219.568003   \n",
       "2      10003     123456891  Upperbody   1110.167181   1110.167181   \n",
       "3      10004     123456891  Upperbody   4522.639998   4522.639998   \n",
       "4      10005     123456891  Upperbody   7305.192980   7305.192980   \n",
       "\n",
       "  Primary_Phone_NBR Phone2_NBR Phone3_NBR Cellflag                Flag  \n",
       "0                 C          O          C        P  Total BBB patients  \n",
       "1                 C          O          C        P  Total BBB patients  \n",
       "2                 C          O          C        P  Total BBB patients  \n",
       "3                 C          O          C        P  Total BBB patients  \n",
       "4                 C          O          C        P  Total BBB patients  "
      ]
     },
     "execution_count": 229,
     "metadata": {},
     "output_type": "execute_result"
    }
   ],
   "source": [
    "df_pati_add_merg2.head()"
   ]
  },
  {
   "cell_type": "code",
   "execution_count": 230,
   "id": "b5e8b076",
   "metadata": {},
   "outputs": [
    {
     "data": {
      "text/html": [
       "<div>\n",
       "<style scoped>\n",
       "    .dataframe tbody tr th:only-of-type {\n",
       "        vertical-align: middle;\n",
       "    }\n",
       "\n",
       "    .dataframe tbody tr th {\n",
       "        vertical-align: top;\n",
       "    }\n",
       "\n",
       "    .dataframe thead th {\n",
       "        text-align: right;\n",
       "    }\n",
       "</style>\n",
       "<table border=\"1\" class=\"dataframe\">\n",
       "  <thead>\n",
       "    <tr style=\"text-align: right;\">\n",
       "      <th></th>\n",
       "      <th>patientid</th>\n",
       "      <th>membershipid</th>\n",
       "      <th>groupid</th>\n",
       "      <th>person_nbr_x</th>\n",
       "      <th>person_nbr_y</th>\n",
       "      <th>Primary_Phone_NBR</th>\n",
       "      <th>Phone2_NBR</th>\n",
       "      <th>Phone3_NBR</th>\n",
       "      <th>Cellflag</th>\n",
       "      <th>Flag</th>\n",
       "    </tr>\n",
       "  </thead>\n",
       "  <tbody>\n",
       "    <tr>\n",
       "      <th>0</th>\n",
       "      <td>10001</td>\n",
       "      <td>123456891</td>\n",
       "      <td>Upperbody</td>\n",
       "      <td>2386.041022</td>\n",
       "      <td>2386.041022</td>\n",
       "      <td>C</td>\n",
       "      <td>O</td>\n",
       "      <td>C</td>\n",
       "      <td>P</td>\n",
       "      <td>Total BBB patients for cell flag P</td>\n",
       "    </tr>\n",
       "    <tr>\n",
       "      <th>1</th>\n",
       "      <td>10002</td>\n",
       "      <td>123456891</td>\n",
       "      <td>Upperbody</td>\n",
       "      <td>7219.568003</td>\n",
       "      <td>7219.568003</td>\n",
       "      <td>C</td>\n",
       "      <td>O</td>\n",
       "      <td>C</td>\n",
       "      <td>P</td>\n",
       "      <td>Total BBB patients for cell flag P</td>\n",
       "    </tr>\n",
       "    <tr>\n",
       "      <th>2</th>\n",
       "      <td>10003</td>\n",
       "      <td>123456891</td>\n",
       "      <td>Upperbody</td>\n",
       "      <td>1110.167181</td>\n",
       "      <td>1110.167181</td>\n",
       "      <td>C</td>\n",
       "      <td>O</td>\n",
       "      <td>C</td>\n",
       "      <td>P</td>\n",
       "      <td>Total BBB patients for cell flag P</td>\n",
       "    </tr>\n",
       "    <tr>\n",
       "      <th>3</th>\n",
       "      <td>10004</td>\n",
       "      <td>123456891</td>\n",
       "      <td>Upperbody</td>\n",
       "      <td>4522.639998</td>\n",
       "      <td>4522.639998</td>\n",
       "      <td>C</td>\n",
       "      <td>O</td>\n",
       "      <td>C</td>\n",
       "      <td>P</td>\n",
       "      <td>Total BBB patients for cell flag P</td>\n",
       "    </tr>\n",
       "    <tr>\n",
       "      <th>4</th>\n",
       "      <td>10005</td>\n",
       "      <td>123456891</td>\n",
       "      <td>Upperbody</td>\n",
       "      <td>7305.192980</td>\n",
       "      <td>7305.192980</td>\n",
       "      <td>C</td>\n",
       "      <td>O</td>\n",
       "      <td>C</td>\n",
       "      <td>P</td>\n",
       "      <td>Total BBB patients for cell flag P</td>\n",
       "    </tr>\n",
       "  </tbody>\n",
       "</table>\n",
       "</div>"
      ],
      "text/plain": [
       "   patientid  membershipid    groupid  person_nbr_x  person_nbr_y  \\\n",
       "0      10001     123456891  Upperbody   2386.041022   2386.041022   \n",
       "1      10002     123456891  Upperbody   7219.568003   7219.568003   \n",
       "2      10003     123456891  Upperbody   1110.167181   1110.167181   \n",
       "3      10004     123456891  Upperbody   4522.639998   4522.639998   \n",
       "4      10005     123456891  Upperbody   7305.192980   7305.192980   \n",
       "\n",
       "  Primary_Phone_NBR Phone2_NBR Phone3_NBR Cellflag  \\\n",
       "0                 C          O          C        P   \n",
       "1                 C          O          C        P   \n",
       "2                 C          O          C        P   \n",
       "3                 C          O          C        P   \n",
       "4                 C          O          C        P   \n",
       "\n",
       "                                 Flag  \n",
       "0  Total BBB patients for cell flag P  \n",
       "1  Total BBB patients for cell flag P  \n",
       "2  Total BBB patients for cell flag P  \n",
       "3  Total BBB patients for cell flag P  \n",
       "4  Total BBB patients for cell flag P  "
      ]
     },
     "execution_count": 230,
     "metadata": {},
     "output_type": "execute_result"
    }
   ],
   "source": [
    "df_pati_add_merg2_p.head()"
   ]
  },
  {
   "cell_type": "code",
   "execution_count": 231,
   "id": "c4b90ca8",
   "metadata": {},
   "outputs": [
    {
     "data": {
      "text/html": [
       "<div>\n",
       "<style scoped>\n",
       "    .dataframe tbody tr th:only-of-type {\n",
       "        vertical-align: middle;\n",
       "    }\n",
       "\n",
       "    .dataframe tbody tr th {\n",
       "        vertical-align: top;\n",
       "    }\n",
       "\n",
       "    .dataframe thead th {\n",
       "        text-align: right;\n",
       "    }\n",
       "</style>\n",
       "<table border=\"1\" class=\"dataframe\">\n",
       "  <thead>\n",
       "    <tr style=\"text-align: right;\">\n",
       "      <th></th>\n",
       "      <th>patientid</th>\n",
       "      <th>membershipid</th>\n",
       "      <th>groupid</th>\n",
       "      <th>person_nbr_x</th>\n",
       "      <th>person_nbr_y</th>\n",
       "      <th>Primary_Phone_NBR</th>\n",
       "      <th>Phone2_NBR</th>\n",
       "      <th>Phone3_NBR</th>\n",
       "      <th>Cellflag</th>\n",
       "      <th>Flag</th>\n",
       "    </tr>\n",
       "  </thead>\n",
       "  <tbody>\n",
       "    <tr>\n",
       "      <th>7117</th>\n",
       "      <td>17118</td>\n",
       "      <td>123456895</td>\n",
       "      <td>Obesity</td>\n",
       "      <td>1969.190691</td>\n",
       "      <td>1969.190691</td>\n",
       "      <td>O</td>\n",
       "      <td>C</td>\n",
       "      <td>C</td>\n",
       "      <td>S</td>\n",
       "      <td>Total BBB patients for cell flag S</td>\n",
       "    </tr>\n",
       "  </tbody>\n",
       "</table>\n",
       "</div>"
      ],
      "text/plain": [
       "      patientid  membershipid  groupid  person_nbr_x  person_nbr_y  \\\n",
       "7117      17118     123456895  Obesity   1969.190691   1969.190691   \n",
       "\n",
       "     Primary_Phone_NBR Phone2_NBR Phone3_NBR Cellflag  \\\n",
       "7117                 O          C          C        S   \n",
       "\n",
       "                                    Flag  \n",
       "7117  Total BBB patients for cell flag S  "
      ]
     },
     "execution_count": 231,
     "metadata": {},
     "output_type": "execute_result"
    }
   ],
   "source": [
    "df_pati_add_merg2_S.head()"
   ]
  },
  {
   "cell_type": "code",
   "execution_count": 232,
   "id": "7f319c2b",
   "metadata": {},
   "outputs": [
    {
     "data": {
      "text/html": [
       "<div>\n",
       "<style scoped>\n",
       "    .dataframe tbody tr th:only-of-type {\n",
       "        vertical-align: middle;\n",
       "    }\n",
       "\n",
       "    .dataframe tbody tr th {\n",
       "        vertical-align: top;\n",
       "    }\n",
       "\n",
       "    .dataframe thead th {\n",
       "        text-align: right;\n",
       "    }\n",
       "</style>\n",
       "<table border=\"1\" class=\"dataframe\">\n",
       "  <thead>\n",
       "    <tr style=\"text-align: right;\">\n",
       "      <th></th>\n",
       "      <th>patientid</th>\n",
       "      <th>membershipid</th>\n",
       "      <th>groupid</th>\n",
       "      <th>person_nbr_x</th>\n",
       "      <th>person_nbr_y</th>\n",
       "      <th>Primary_Phone_NBR</th>\n",
       "      <th>Phone2_NBR</th>\n",
       "      <th>Phone3_NBR</th>\n",
       "      <th>Cellflag</th>\n",
       "      <th>Flag</th>\n",
       "    </tr>\n",
       "  </thead>\n",
       "  <tbody>\n",
       "    <tr>\n",
       "      <th>614</th>\n",
       "      <td>10615</td>\n",
       "      <td>123456891</td>\n",
       "      <td>Lowerbody</td>\n",
       "      <td>3303.046210</td>\n",
       "      <td>3303.046210</td>\n",
       "      <td>O</td>\n",
       "      <td>C</td>\n",
       "      <td>O</td>\n",
       "      <td>N</td>\n",
       "      <td>Total BBB patients for cell flag N</td>\n",
       "    </tr>\n",
       "    <tr>\n",
       "      <th>615</th>\n",
       "      <td>10616</td>\n",
       "      <td>123456891</td>\n",
       "      <td>Lowerbody</td>\n",
       "      <td>4080.627852</td>\n",
       "      <td>4080.627852</td>\n",
       "      <td>O</td>\n",
       "      <td>C</td>\n",
       "      <td>O</td>\n",
       "      <td>N</td>\n",
       "      <td>Total BBB patients for cell flag N</td>\n",
       "    </tr>\n",
       "    <tr>\n",
       "      <th>616</th>\n",
       "      <td>10617</td>\n",
       "      <td>123456891</td>\n",
       "      <td>Lowerbody</td>\n",
       "      <td>4888.358478</td>\n",
       "      <td>4888.358478</td>\n",
       "      <td>O</td>\n",
       "      <td>C</td>\n",
       "      <td>O</td>\n",
       "      <td>N</td>\n",
       "      <td>Total BBB patients for cell flag N</td>\n",
       "    </tr>\n",
       "    <tr>\n",
       "      <th>617</th>\n",
       "      <td>10618</td>\n",
       "      <td>123456891</td>\n",
       "      <td>Lowerbody</td>\n",
       "      <td>9764.582779</td>\n",
       "      <td>9764.582779</td>\n",
       "      <td>O</td>\n",
       "      <td>C</td>\n",
       "      <td>O</td>\n",
       "      <td>N</td>\n",
       "      <td>Total BBB patients for cell flag N</td>\n",
       "    </tr>\n",
       "    <tr>\n",
       "      <th>618</th>\n",
       "      <td>10619</td>\n",
       "      <td>123456891</td>\n",
       "      <td>Lowerbody</td>\n",
       "      <td>7557.726735</td>\n",
       "      <td>7557.726735</td>\n",
       "      <td>O</td>\n",
       "      <td>C</td>\n",
       "      <td>O</td>\n",
       "      <td>N</td>\n",
       "      <td>Total BBB patients for cell flag N</td>\n",
       "    </tr>\n",
       "  </tbody>\n",
       "</table>\n",
       "</div>"
      ],
      "text/plain": [
       "     patientid  membershipid    groupid  person_nbr_x  person_nbr_y  \\\n",
       "614      10615     123456891  Lowerbody   3303.046210   3303.046210   \n",
       "615      10616     123456891  Lowerbody   4080.627852   4080.627852   \n",
       "616      10617     123456891  Lowerbody   4888.358478   4888.358478   \n",
       "617      10618     123456891  Lowerbody   9764.582779   9764.582779   \n",
       "618      10619     123456891  Lowerbody   7557.726735   7557.726735   \n",
       "\n",
       "    Primary_Phone_NBR Phone2_NBR Phone3_NBR Cellflag  \\\n",
       "614                 O          C          O        N   \n",
       "615                 O          C          O        N   \n",
       "616                 O          C          O        N   \n",
       "617                 O          C          O        N   \n",
       "618                 O          C          O        N   \n",
       "\n",
       "                                   Flag  \n",
       "614  Total BBB patients for cell flag N  \n",
       "615  Total BBB patients for cell flag N  \n",
       "616  Total BBB patients for cell flag N  \n",
       "617  Total BBB patients for cell flag N  \n",
       "618  Total BBB patients for cell flag N  "
      ]
     },
     "execution_count": 232,
     "metadata": {},
     "output_type": "execute_result"
    }
   ],
   "source": [
    "df_pati_add_merg2_N.head()"
   ]
  },
  {
   "cell_type": "code",
   "execution_count": 233,
   "id": "27abbbfe",
   "metadata": {},
   "outputs": [],
   "source": [
    "df_pati_add_merg2_sm=df_pati_add_merg2.groupby([\"Flag\"])[\"patientid\"].count()\n",
    "df_pati_add_merg2_sm_ndf=pd.DataFrame(df_pati_add_merg2_sm)\n",
    "df_pati_add_merg2_sm_ndf.reset_index(inplace=True)"
   ]
  },
  {
   "cell_type": "code",
   "execution_count": 234,
   "id": "d7612ae3",
   "metadata": {},
   "outputs": [
    {
     "data": {
      "text/html": [
       "<div>\n",
       "<style scoped>\n",
       "    .dataframe tbody tr th:only-of-type {\n",
       "        vertical-align: middle;\n",
       "    }\n",
       "\n",
       "    .dataframe tbody tr th {\n",
       "        vertical-align: top;\n",
       "    }\n",
       "\n",
       "    .dataframe thead th {\n",
       "        text-align: right;\n",
       "    }\n",
       "</style>\n",
       "<table border=\"1\" class=\"dataframe\">\n",
       "  <thead>\n",
       "    <tr style=\"text-align: right;\">\n",
       "      <th></th>\n",
       "      <th>Flag</th>\n",
       "      <th>patientid</th>\n",
       "    </tr>\n",
       "  </thead>\n",
       "  <tbody>\n",
       "    <tr>\n",
       "      <th>0</th>\n",
       "      <td>Total BBB patients</td>\n",
       "      <td>10119</td>\n",
       "    </tr>\n",
       "  </tbody>\n",
       "</table>\n",
       "</div>"
      ],
      "text/plain": [
       "                 Flag  patientid\n",
       "0  Total BBB patients      10119"
      ]
     },
     "execution_count": 234,
     "metadata": {},
     "output_type": "execute_result"
    }
   ],
   "source": [
    "df_pati_add_merg2_sm_ndf"
   ]
  },
  {
   "cell_type": "code",
   "execution_count": 235,
   "id": "44f3769e",
   "metadata": {},
   "outputs": [],
   "source": [
    "df_pati_add_merg2_p_sm=df_pati_add_merg2_p.groupby([\"Flag\"])[\"patientid\"].count()\n",
    "df_pati_add_merg2_p_sm.ndf=pd.DataFrame(df_pati_add_merg2_p_sm)\n",
    "df_pati_add_merg2_p_sm.ndf.reset_index(inplace=True)"
   ]
  },
  {
   "cell_type": "code",
   "execution_count": 236,
   "id": "67f9594c",
   "metadata": {},
   "outputs": [
    {
     "data": {
      "text/html": [
       "<div>\n",
       "<style scoped>\n",
       "    .dataframe tbody tr th:only-of-type {\n",
       "        vertical-align: middle;\n",
       "    }\n",
       "\n",
       "    .dataframe tbody tr th {\n",
       "        vertical-align: top;\n",
       "    }\n",
       "\n",
       "    .dataframe thead th {\n",
       "        text-align: right;\n",
       "    }\n",
       "</style>\n",
       "<table border=\"1\" class=\"dataframe\">\n",
       "  <thead>\n",
       "    <tr style=\"text-align: right;\">\n",
       "      <th></th>\n",
       "      <th>Flag</th>\n",
       "      <th>patientid</th>\n",
       "    </tr>\n",
       "  </thead>\n",
       "  <tbody>\n",
       "    <tr>\n",
       "      <th>0</th>\n",
       "      <td>Total BBB patients for cell flag P</td>\n",
       "      <td>3747</td>\n",
       "    </tr>\n",
       "  </tbody>\n",
       "</table>\n",
       "</div>"
      ],
      "text/plain": [
       "                                 Flag  patientid\n",
       "0  Total BBB patients for cell flag P       3747"
      ]
     },
     "execution_count": 236,
     "metadata": {},
     "output_type": "execute_result"
    }
   ],
   "source": [
    "df_pati_add_merg2_p_sm.ndf"
   ]
  },
  {
   "cell_type": "code",
   "execution_count": 237,
   "id": "5fc3b778",
   "metadata": {},
   "outputs": [],
   "source": [
    "df_pati_add_merg2_S_sm=df_pati_add_merg2_S.groupby([\"Flag\"])[\"patientid\"].count()\n",
    "df_pati_add_merg2_S_sm_ndf=pd.DataFrame(df_pati_add_merg2_S_sm)\n",
    "df_pati_add_merg2_S_sm_ndf.reset_index(inplace=True)"
   ]
  },
  {
   "cell_type": "code",
   "execution_count": 238,
   "id": "c4d968f1",
   "metadata": {},
   "outputs": [
    {
     "data": {
      "text/html": [
       "<div>\n",
       "<style scoped>\n",
       "    .dataframe tbody tr th:only-of-type {\n",
       "        vertical-align: middle;\n",
       "    }\n",
       "\n",
       "    .dataframe tbody tr th {\n",
       "        vertical-align: top;\n",
       "    }\n",
       "\n",
       "    .dataframe thead th {\n",
       "        text-align: right;\n",
       "    }\n",
       "</style>\n",
       "<table border=\"1\" class=\"dataframe\">\n",
       "  <thead>\n",
       "    <tr style=\"text-align: right;\">\n",
       "      <th></th>\n",
       "      <th>Flag</th>\n",
       "      <th>patientid</th>\n",
       "    </tr>\n",
       "  </thead>\n",
       "  <tbody>\n",
       "    <tr>\n",
       "      <th>0</th>\n",
       "      <td>Total BBB patients for cell flag S</td>\n",
       "      <td>1</td>\n",
       "    </tr>\n",
       "  </tbody>\n",
       "</table>\n",
       "</div>"
      ],
      "text/plain": [
       "                                 Flag  patientid\n",
       "0  Total BBB patients for cell flag S          1"
      ]
     },
     "execution_count": 238,
     "metadata": {},
     "output_type": "execute_result"
    }
   ],
   "source": [
    "df_pati_add_merg2_S_sm_ndf"
   ]
  },
  {
   "cell_type": "code",
   "execution_count": 239,
   "id": "3bd9852d",
   "metadata": {},
   "outputs": [],
   "source": [
    "df_pati_add_merg2_N_sm=df_pati_add_merg2_N.groupby([\"Flag\"])[\"patientid\"].count()\n",
    "df_pati_add_merg2_N_sm_ndf=pd.DataFrame(df_pati_add_merg2_N_sm)\n",
    "df_pati_add_merg2_N_sm_ndf.reset_index(inplace=True)"
   ]
  },
  {
   "cell_type": "code",
   "execution_count": 240,
   "id": "3502e6e9",
   "metadata": {},
   "outputs": [
    {
     "data": {
      "text/html": [
       "<div>\n",
       "<style scoped>\n",
       "    .dataframe tbody tr th:only-of-type {\n",
       "        vertical-align: middle;\n",
       "    }\n",
       "\n",
       "    .dataframe tbody tr th {\n",
       "        vertical-align: top;\n",
       "    }\n",
       "\n",
       "    .dataframe thead th {\n",
       "        text-align: right;\n",
       "    }\n",
       "</style>\n",
       "<table border=\"1\" class=\"dataframe\">\n",
       "  <thead>\n",
       "    <tr style=\"text-align: right;\">\n",
       "      <th></th>\n",
       "      <th>Flag</th>\n",
       "      <th>patientid</th>\n",
       "    </tr>\n",
       "  </thead>\n",
       "  <tbody>\n",
       "    <tr>\n",
       "      <th>0</th>\n",
       "      <td>Total BBB patients for cell flag N</td>\n",
       "      <td>6371</td>\n",
       "    </tr>\n",
       "  </tbody>\n",
       "</table>\n",
       "</div>"
      ],
      "text/plain": [
       "                                 Flag  patientid\n",
       "0  Total BBB patients for cell flag N       6371"
      ]
     },
     "execution_count": 240,
     "metadata": {},
     "output_type": "execute_result"
    }
   ],
   "source": [
    "df_pati_add_merg2_N_sm_ndf"
   ]
  },
  {
   "cell_type": "code",
   "execution_count": 241,
   "id": "3770babd",
   "metadata": {},
   "outputs": [],
   "source": [
    "final_dataframe1=pd.concat([df_pati_add_merg2_sm_ndf,df_pati_add_merg2_p_sm.ndf,df_pati_add_merg2_S_sm_ndf,df_pati_add_merg2_N_sm_ndf],ignore_index=True,axis=0)"
   ]
  },
  {
   "cell_type": "code",
   "execution_count": 242,
   "id": "b162e85f",
   "metadata": {},
   "outputs": [],
   "source": [
    "final_dataframe1.columns=[\"Flag\",\"Count\"]"
   ]
  },
  {
   "cell_type": "code",
   "execution_count": 243,
   "id": "efd11d9b",
   "metadata": {},
   "outputs": [
    {
     "data": {
      "text/html": [
       "<div>\n",
       "<style scoped>\n",
       "    .dataframe tbody tr th:only-of-type {\n",
       "        vertical-align: middle;\n",
       "    }\n",
       "\n",
       "    .dataframe tbody tr th {\n",
       "        vertical-align: top;\n",
       "    }\n",
       "\n",
       "    .dataframe thead th {\n",
       "        text-align: right;\n",
       "    }\n",
       "</style>\n",
       "<table border=\"1\" class=\"dataframe\">\n",
       "  <thead>\n",
       "    <tr style=\"text-align: right;\">\n",
       "      <th></th>\n",
       "      <th>Flag</th>\n",
       "      <th>Count</th>\n",
       "    </tr>\n",
       "  </thead>\n",
       "  <tbody>\n",
       "    <tr>\n",
       "      <th>0</th>\n",
       "      <td>Total BBB patients</td>\n",
       "      <td>10119</td>\n",
       "    </tr>\n",
       "    <tr>\n",
       "      <th>1</th>\n",
       "      <td>Total BBB patients for cell flag P</td>\n",
       "      <td>3747</td>\n",
       "    </tr>\n",
       "    <tr>\n",
       "      <th>2</th>\n",
       "      <td>Total BBB patients for cell flag S</td>\n",
       "      <td>1</td>\n",
       "    </tr>\n",
       "    <tr>\n",
       "      <th>3</th>\n",
       "      <td>Total BBB patients for cell flag N</td>\n",
       "      <td>6371</td>\n",
       "    </tr>\n",
       "  </tbody>\n",
       "</table>\n",
       "</div>"
      ],
      "text/plain": [
       "                                 Flag  Count\n",
       "0                  Total BBB patients  10119\n",
       "1  Total BBB patients for cell flag P   3747\n",
       "2  Total BBB patients for cell flag S      1\n",
       "3  Total BBB patients for cell flag N   6371"
      ]
     },
     "execution_count": 243,
     "metadata": {},
     "output_type": "execute_result"
    }
   ],
   "source": [
    "final_dataframe1"
   ]
  },
  {
   "cell_type": "code",
   "execution_count": 244,
   "id": "6946617f",
   "metadata": {},
   "outputs": [
    {
     "name": "stdout",
     "output_type": "stream",
     "text": [
      "today= 2023-08-17\n"
     ]
    }
   ],
   "source": [
    "from datetime import date\n",
    "today=date.today()\n",
    "print(\"today=\",today)\n",
    "date=today"
   ]
  },
  {
   "cell_type": "code",
   "execution_count": 245,
   "id": "96e0c9ce",
   "metadata": {},
   "outputs": [
    {
     "name": "stdout",
     "output_type": "stream",
     "text": [
      "12 :02 :43\n"
     ]
    }
   ],
   "source": [
    "import time\n",
    "now=time.localtime()\n",
    "t=time.strftime(\"%H :%M :%S\",now)\n",
    "print(t)\n",
    "                "
   ]
  },
  {
   "cell_type": "code",
   "execution_count": 246,
   "id": "88724c7d",
   "metadata": {},
   "outputs": [],
   "source": [
    "final_dataframe1[\"Date\"]=today"
   ]
  },
  {
   "cell_type": "code",
   "execution_count": 247,
   "id": "ffa72cb7",
   "metadata": {},
   "outputs": [
    {
     "data": {
      "text/html": [
       "<div>\n",
       "<style scoped>\n",
       "    .dataframe tbody tr th:only-of-type {\n",
       "        vertical-align: middle;\n",
       "    }\n",
       "\n",
       "    .dataframe tbody tr th {\n",
       "        vertical-align: top;\n",
       "    }\n",
       "\n",
       "    .dataframe thead th {\n",
       "        text-align: right;\n",
       "    }\n",
       "</style>\n",
       "<table border=\"1\" class=\"dataframe\">\n",
       "  <thead>\n",
       "    <tr style=\"text-align: right;\">\n",
       "      <th></th>\n",
       "      <th>Flag</th>\n",
       "      <th>Count</th>\n",
       "      <th>Date</th>\n",
       "    </tr>\n",
       "  </thead>\n",
       "  <tbody>\n",
       "    <tr>\n",
       "      <th>0</th>\n",
       "      <td>Total BBB patients</td>\n",
       "      <td>10119</td>\n",
       "      <td>2023-08-17</td>\n",
       "    </tr>\n",
       "    <tr>\n",
       "      <th>1</th>\n",
       "      <td>Total BBB patients for cell flag P</td>\n",
       "      <td>3747</td>\n",
       "      <td>2023-08-17</td>\n",
       "    </tr>\n",
       "    <tr>\n",
       "      <th>2</th>\n",
       "      <td>Total BBB patients for cell flag S</td>\n",
       "      <td>1</td>\n",
       "      <td>2023-08-17</td>\n",
       "    </tr>\n",
       "    <tr>\n",
       "      <th>3</th>\n",
       "      <td>Total BBB patients for cell flag N</td>\n",
       "      <td>6371</td>\n",
       "      <td>2023-08-17</td>\n",
       "    </tr>\n",
       "  </tbody>\n",
       "</table>\n",
       "</div>"
      ],
      "text/plain": [
       "                                 Flag  Count        Date\n",
       "0                  Total BBB patients  10119  2023-08-17\n",
       "1  Total BBB patients for cell flag P   3747  2023-08-17\n",
       "2  Total BBB patients for cell flag S      1  2023-08-17\n",
       "3  Total BBB patients for cell flag N   6371  2023-08-17"
      ]
     },
     "execution_count": 247,
     "metadata": {},
     "output_type": "execute_result"
    }
   ],
   "source": [
    "final_dataframe1"
   ]
  },
  {
   "cell_type": "code",
   "execution_count": 248,
   "id": "07bbf3ca",
   "metadata": {},
   "outputs": [],
   "source": [
    "final_dataframe1[\"Time\"]=t"
   ]
  },
  {
   "cell_type": "code",
   "execution_count": 249,
   "id": "2c9d4ce6",
   "metadata": {},
   "outputs": [
    {
     "data": {
      "text/html": [
       "<div>\n",
       "<style scoped>\n",
       "    .dataframe tbody tr th:only-of-type {\n",
       "        vertical-align: middle;\n",
       "    }\n",
       "\n",
       "    .dataframe tbody tr th {\n",
       "        vertical-align: top;\n",
       "    }\n",
       "\n",
       "    .dataframe thead th {\n",
       "        text-align: right;\n",
       "    }\n",
       "</style>\n",
       "<table border=\"1\" class=\"dataframe\">\n",
       "  <thead>\n",
       "    <tr style=\"text-align: right;\">\n",
       "      <th></th>\n",
       "      <th>Flag</th>\n",
       "      <th>Count</th>\n",
       "      <th>Date</th>\n",
       "      <th>Time</th>\n",
       "    </tr>\n",
       "  </thead>\n",
       "  <tbody>\n",
       "    <tr>\n",
       "      <th>0</th>\n",
       "      <td>Total BBB patients</td>\n",
       "      <td>10119</td>\n",
       "      <td>2023-08-17</td>\n",
       "      <td>12 :02 :43</td>\n",
       "    </tr>\n",
       "    <tr>\n",
       "      <th>1</th>\n",
       "      <td>Total BBB patients for cell flag P</td>\n",
       "      <td>3747</td>\n",
       "      <td>2023-08-17</td>\n",
       "      <td>12 :02 :43</td>\n",
       "    </tr>\n",
       "    <tr>\n",
       "      <th>2</th>\n",
       "      <td>Total BBB patients for cell flag S</td>\n",
       "      <td>1</td>\n",
       "      <td>2023-08-17</td>\n",
       "      <td>12 :02 :43</td>\n",
       "    </tr>\n",
       "    <tr>\n",
       "      <th>3</th>\n",
       "      <td>Total BBB patients for cell flag N</td>\n",
       "      <td>6371</td>\n",
       "      <td>2023-08-17</td>\n",
       "      <td>12 :02 :43</td>\n",
       "    </tr>\n",
       "  </tbody>\n",
       "</table>\n",
       "</div>"
      ],
      "text/plain": [
       "                                 Flag  Count        Date        Time\n",
       "0                  Total BBB patients  10119  2023-08-17  12 :02 :43\n",
       "1  Total BBB patients for cell flag P   3747  2023-08-17  12 :02 :43\n",
       "2  Total BBB patients for cell flag S      1  2023-08-17  12 :02 :43\n",
       "3  Total BBB patients for cell flag N   6371  2023-08-17  12 :02 :43"
      ]
     },
     "execution_count": 249,
     "metadata": {},
     "output_type": "execute_result"
    }
   ],
   "source": [
    "final_dataframe1"
   ]
  },
  {
   "cell_type": "code",
   "execution_count": null,
   "id": "d40a0aaa",
   "metadata": {},
   "outputs": [],
   "source": []
  },
  {
   "cell_type": "code",
   "execution_count": 250,
   "id": "d45cdc2b",
   "metadata": {},
   "outputs": [],
   "source": [
    "# sort the column names"
   ]
  },
  {
   "cell_type": "code",
   "execution_count": 251,
   "id": "e9fd019c",
   "metadata": {},
   "outputs": [],
   "source": [
    "df_bbb1=final_dataframe1.iloc[:,[2,3,0,1]]"
   ]
  },
  {
   "cell_type": "code",
   "execution_count": 252,
   "id": "c290d4a9",
   "metadata": {},
   "outputs": [
    {
     "data": {
      "text/html": [
       "<div>\n",
       "<style scoped>\n",
       "    .dataframe tbody tr th:only-of-type {\n",
       "        vertical-align: middle;\n",
       "    }\n",
       "\n",
       "    .dataframe tbody tr th {\n",
       "        vertical-align: top;\n",
       "    }\n",
       "\n",
       "    .dataframe thead th {\n",
       "        text-align: right;\n",
       "    }\n",
       "</style>\n",
       "<table border=\"1\" class=\"dataframe\">\n",
       "  <thead>\n",
       "    <tr style=\"text-align: right;\">\n",
       "      <th></th>\n",
       "      <th>Date</th>\n",
       "      <th>Time</th>\n",
       "      <th>Flag</th>\n",
       "      <th>Count</th>\n",
       "    </tr>\n",
       "  </thead>\n",
       "  <tbody>\n",
       "    <tr>\n",
       "      <th>0</th>\n",
       "      <td>2023-08-17</td>\n",
       "      <td>12 :02 :43</td>\n",
       "      <td>Total BBB patients</td>\n",
       "      <td>10119</td>\n",
       "    </tr>\n",
       "    <tr>\n",
       "      <th>1</th>\n",
       "      <td>2023-08-17</td>\n",
       "      <td>12 :02 :43</td>\n",
       "      <td>Total BBB patients for cell flag P</td>\n",
       "      <td>3747</td>\n",
       "    </tr>\n",
       "    <tr>\n",
       "      <th>2</th>\n",
       "      <td>2023-08-17</td>\n",
       "      <td>12 :02 :43</td>\n",
       "      <td>Total BBB patients for cell flag S</td>\n",
       "      <td>1</td>\n",
       "    </tr>\n",
       "    <tr>\n",
       "      <th>3</th>\n",
       "      <td>2023-08-17</td>\n",
       "      <td>12 :02 :43</td>\n",
       "      <td>Total BBB patients for cell flag N</td>\n",
       "      <td>6371</td>\n",
       "    </tr>\n",
       "  </tbody>\n",
       "</table>\n",
       "</div>"
      ],
      "text/plain": [
       "         Date        Time                                Flag  Count\n",
       "0  2023-08-17  12 :02 :43                  Total BBB patients  10119\n",
       "1  2023-08-17  12 :02 :43  Total BBB patients for cell flag P   3747\n",
       "2  2023-08-17  12 :02 :43  Total BBB patients for cell flag S      1\n",
       "3  2023-08-17  12 :02 :43  Total BBB patients for cell flag N   6371"
      ]
     },
     "execution_count": 252,
     "metadata": {},
     "output_type": "execute_result"
    }
   ],
   "source": [
    "df_bbb1"
   ]
  },
  {
   "cell_type": "code",
   "execution_count": 253,
   "id": "6dc2e757",
   "metadata": {},
   "outputs": [],
   "source": [
    "#**************************** #  ddd patients To check all level wise Patientid, membershipid, groupid **************************"
   ]
  },
  {
   "cell_type": "code",
   "execution_count": 254,
   "id": "488418ef",
   "metadata": {},
   "outputs": [],
   "source": [
    "#********************* #import ddd patients file "
   ]
  },
  {
   "cell_type": "code",
   "execution_count": 365,
   "id": "f804f655",
   "metadata": {},
   "outputs": [
    {
     "data": {
      "text/html": [
       "<div>\n",
       "<style scoped>\n",
       "    .dataframe tbody tr th:only-of-type {\n",
       "        vertical-align: middle;\n",
       "    }\n",
       "\n",
       "    .dataframe tbody tr th {\n",
       "        vertical-align: top;\n",
       "    }\n",
       "\n",
       "    .dataframe thead th {\n",
       "        text-align: right;\n",
       "    }\n",
       "</style>\n",
       "<table border=\"1\" class=\"dataframe\">\n",
       "  <thead>\n",
       "    <tr style=\"text-align: right;\">\n",
       "      <th></th>\n",
       "      <th>patientid</th>\n",
       "      <th>membershid</th>\n",
       "      <th>groupid</th>\n",
       "      <th>person_nbr</th>\n",
       "    </tr>\n",
       "  </thead>\n",
       "  <tbody>\n",
       "    <tr>\n",
       "      <th>0</th>\n",
       "      <td>200001</td>\n",
       "      <td>4456.162497</td>\n",
       "      <td>100</td>\n",
       "      <td>2748.280106</td>\n",
       "    </tr>\n",
       "    <tr>\n",
       "      <th>1</th>\n",
       "      <td>200002</td>\n",
       "      <td>4456.162497</td>\n",
       "      <td>100</td>\n",
       "      <td>3983.633278</td>\n",
       "    </tr>\n",
       "    <tr>\n",
       "      <th>2</th>\n",
       "      <td>200003</td>\n",
       "      <td>4456.162497</td>\n",
       "      <td>100</td>\n",
       "      <td>5918.043203</td>\n",
       "    </tr>\n",
       "    <tr>\n",
       "      <th>3</th>\n",
       "      <td>200004</td>\n",
       "      <td>4456.162497</td>\n",
       "      <td>100</td>\n",
       "      <td>5882.418134</td>\n",
       "    </tr>\n",
       "    <tr>\n",
       "      <th>4</th>\n",
       "      <td>200005</td>\n",
       "      <td>4456.162497</td>\n",
       "      <td>100</td>\n",
       "      <td>3519.095855</td>\n",
       "    </tr>\n",
       "    <tr>\n",
       "      <th>...</th>\n",
       "      <td>...</td>\n",
       "      <td>...</td>\n",
       "      <td>...</td>\n",
       "      <td>...</td>\n",
       "    </tr>\n",
       "    <tr>\n",
       "      <th>84006</th>\n",
       "      <td>284007</td>\n",
       "      <td>61967.640577</td>\n",
       "      <td>108</td>\n",
       "      <td>6406.791285</td>\n",
       "    </tr>\n",
       "    <tr>\n",
       "      <th>84007</th>\n",
       "      <td>284008</td>\n",
       "      <td>61967.640577</td>\n",
       "      <td>108</td>\n",
       "      <td>5736.801838</td>\n",
       "    </tr>\n",
       "    <tr>\n",
       "      <th>84008</th>\n",
       "      <td>284009</td>\n",
       "      <td>61967.640577</td>\n",
       "      <td>108</td>\n",
       "      <td>7613.994822</td>\n",
       "    </tr>\n",
       "    <tr>\n",
       "      <th>84009</th>\n",
       "      <td>284010</td>\n",
       "      <td>61967.640577</td>\n",
       "      <td>108</td>\n",
       "      <td>8530.577571</td>\n",
       "    </tr>\n",
       "    <tr>\n",
       "      <th>84010</th>\n",
       "      <td>284011</td>\n",
       "      <td>61967.640577</td>\n",
       "      <td>108</td>\n",
       "      <td>2140.830791</td>\n",
       "    </tr>\n",
       "  </tbody>\n",
       "</table>\n",
       "<p>84011 rows × 4 columns</p>\n",
       "</div>"
      ],
      "text/plain": [
       "       patientid    membershid  groupid   person_nbr\n",
       "0         200001   4456.162497      100  2748.280106\n",
       "1         200002   4456.162497      100  3983.633278\n",
       "2         200003   4456.162497      100  5918.043203\n",
       "3         200004   4456.162497      100  5882.418134\n",
       "4         200005   4456.162497      100  3519.095855\n",
       "...          ...           ...      ...          ...\n",
       "84006     284007  61967.640577      108  6406.791285\n",
       "84007     284008  61967.640577      108  5736.801838\n",
       "84008     284009  61967.640577      108  7613.994822\n",
       "84009     284010  61967.640577      108  8530.577571\n",
       "84010     284011  61967.640577      108  2140.830791\n",
       "\n",
       "[84011 rows x 4 columns]"
      ]
     },
     "execution_count": 365,
     "metadata": {},
     "output_type": "execute_result"
    }
   ],
   "source": [
    "import pandas as pd\n",
    "df_ddd_pati2=pd.read_excel(r\"C:\\Users\\hp\\Downloads\\Insurance_Customers.xlsx\",sheet_name=\"DDD_Patients\")\n",
    "df_ddd_pati2"
   ]
  },
  {
   "cell_type": "code",
   "execution_count": 366,
   "id": "2dfc1322",
   "metadata": {},
   "outputs": [],
   "source": [
    "#************* # basic checks"
   ]
  },
  {
   "cell_type": "code",
   "execution_count": 367,
   "id": "a873f95d",
   "metadata": {},
   "outputs": [
    {
     "data": {
      "text/plain": [
       "(84011, 4)"
      ]
     },
     "execution_count": 367,
     "metadata": {},
     "output_type": "execute_result"
    }
   ],
   "source": [
    "df_ddd_pati2.shape"
   ]
  },
  {
   "cell_type": "code",
   "execution_count": 368,
   "id": "8ba90f76",
   "metadata": {},
   "outputs": [
    {
     "data": {
      "text/plain": [
       "Index(['patientid', 'membershid', 'groupid', 'person_nbr'], dtype='object')"
      ]
     },
     "execution_count": 368,
     "metadata": {},
     "output_type": "execute_result"
    }
   ],
   "source": [
    "df_ddd_pati2.columns"
   ]
  },
  {
   "cell_type": "code",
   "execution_count": 369,
   "id": "9c9c1f2a",
   "metadata": {},
   "outputs": [
    {
     "data": {
      "text/html": [
       "<div>\n",
       "<style scoped>\n",
       "    .dataframe tbody tr th:only-of-type {\n",
       "        vertical-align: middle;\n",
       "    }\n",
       "\n",
       "    .dataframe tbody tr th {\n",
       "        vertical-align: top;\n",
       "    }\n",
       "\n",
       "    .dataframe thead th {\n",
       "        text-align: right;\n",
       "    }\n",
       "</style>\n",
       "<table border=\"1\" class=\"dataframe\">\n",
       "  <thead>\n",
       "    <tr style=\"text-align: right;\">\n",
       "      <th></th>\n",
       "      <th>patientid</th>\n",
       "      <th>membershid</th>\n",
       "      <th>groupid</th>\n",
       "      <th>person_nbr</th>\n",
       "    </tr>\n",
       "  </thead>\n",
       "  <tbody>\n",
       "    <tr>\n",
       "      <th>0</th>\n",
       "      <td>200001</td>\n",
       "      <td>4456.162497</td>\n",
       "      <td>100</td>\n",
       "      <td>2748.280106</td>\n",
       "    </tr>\n",
       "    <tr>\n",
       "      <th>1</th>\n",
       "      <td>200002</td>\n",
       "      <td>4456.162497</td>\n",
       "      <td>100</td>\n",
       "      <td>3983.633278</td>\n",
       "    </tr>\n",
       "    <tr>\n",
       "      <th>2</th>\n",
       "      <td>200003</td>\n",
       "      <td>4456.162497</td>\n",
       "      <td>100</td>\n",
       "      <td>5918.043203</td>\n",
       "    </tr>\n",
       "    <tr>\n",
       "      <th>3</th>\n",
       "      <td>200004</td>\n",
       "      <td>4456.162497</td>\n",
       "      <td>100</td>\n",
       "      <td>5882.418134</td>\n",
       "    </tr>\n",
       "    <tr>\n",
       "      <th>4</th>\n",
       "      <td>200005</td>\n",
       "      <td>4456.162497</td>\n",
       "      <td>100</td>\n",
       "      <td>3519.095855</td>\n",
       "    </tr>\n",
       "  </tbody>\n",
       "</table>\n",
       "</div>"
      ],
      "text/plain": [
       "   patientid   membershid  groupid   person_nbr\n",
       "0     200001  4456.162497      100  2748.280106\n",
       "1     200002  4456.162497      100  3983.633278\n",
       "2     200003  4456.162497      100  5918.043203\n",
       "3     200004  4456.162497      100  5882.418134\n",
       "4     200005  4456.162497      100  3519.095855"
      ]
     },
     "execution_count": 369,
     "metadata": {},
     "output_type": "execute_result"
    }
   ],
   "source": [
    "df_ddd_pati2.head()"
   ]
  },
  {
   "cell_type": "code",
   "execution_count": 370,
   "id": "2501d912",
   "metadata": {},
   "outputs": [
    {
     "data": {
      "text/html": [
       "<div>\n",
       "<style scoped>\n",
       "    .dataframe tbody tr th:only-of-type {\n",
       "        vertical-align: middle;\n",
       "    }\n",
       "\n",
       "    .dataframe tbody tr th {\n",
       "        vertical-align: top;\n",
       "    }\n",
       "\n",
       "    .dataframe thead th {\n",
       "        text-align: right;\n",
       "    }\n",
       "</style>\n",
       "<table border=\"1\" class=\"dataframe\">\n",
       "  <thead>\n",
       "    <tr style=\"text-align: right;\">\n",
       "      <th></th>\n",
       "      <th>patientid</th>\n",
       "      <th>membershid</th>\n",
       "      <th>groupid</th>\n",
       "      <th>person_nbr</th>\n",
       "    </tr>\n",
       "  </thead>\n",
       "  <tbody>\n",
       "    <tr>\n",
       "      <th>84006</th>\n",
       "      <td>284007</td>\n",
       "      <td>61967.640577</td>\n",
       "      <td>108</td>\n",
       "      <td>6406.791285</td>\n",
       "    </tr>\n",
       "    <tr>\n",
       "      <th>84007</th>\n",
       "      <td>284008</td>\n",
       "      <td>61967.640577</td>\n",
       "      <td>108</td>\n",
       "      <td>5736.801838</td>\n",
       "    </tr>\n",
       "    <tr>\n",
       "      <th>84008</th>\n",
       "      <td>284009</td>\n",
       "      <td>61967.640577</td>\n",
       "      <td>108</td>\n",
       "      <td>7613.994822</td>\n",
       "    </tr>\n",
       "    <tr>\n",
       "      <th>84009</th>\n",
       "      <td>284010</td>\n",
       "      <td>61967.640577</td>\n",
       "      <td>108</td>\n",
       "      <td>8530.577571</td>\n",
       "    </tr>\n",
       "    <tr>\n",
       "      <th>84010</th>\n",
       "      <td>284011</td>\n",
       "      <td>61967.640577</td>\n",
       "      <td>108</td>\n",
       "      <td>2140.830791</td>\n",
       "    </tr>\n",
       "  </tbody>\n",
       "</table>\n",
       "</div>"
      ],
      "text/plain": [
       "       patientid    membershid  groupid   person_nbr\n",
       "84006     284007  61967.640577      108  6406.791285\n",
       "84007     284008  61967.640577      108  5736.801838\n",
       "84008     284009  61967.640577      108  7613.994822\n",
       "84009     284010  61967.640577      108  8530.577571\n",
       "84010     284011  61967.640577      108  2140.830791"
      ]
     },
     "execution_count": 370,
     "metadata": {},
     "output_type": "execute_result"
    }
   ],
   "source": [
    "df_ddd_pati2.tail()"
   ]
  },
  {
   "cell_type": "code",
   "execution_count": 371,
   "id": "91fd2c75",
   "metadata": {},
   "outputs": [],
   "source": [
    "#****************** # import ddd  address file"
   ]
  },
  {
   "cell_type": "code",
   "execution_count": 372,
   "id": "d2d5d6e2",
   "metadata": {},
   "outputs": [
    {
     "data": {
      "text/html": [
       "<div>\n",
       "<style scoped>\n",
       "    .dataframe tbody tr th:only-of-type {\n",
       "        vertical-align: middle;\n",
       "    }\n",
       "\n",
       "    .dataframe tbody tr th {\n",
       "        vertical-align: top;\n",
       "    }\n",
       "\n",
       "    .dataframe thead th {\n",
       "        text-align: right;\n",
       "    }\n",
       "</style>\n",
       "<table border=\"1\" class=\"dataframe\">\n",
       "  <thead>\n",
       "    <tr style=\"text-align: right;\">\n",
       "      <th></th>\n",
       "      <th>patientid</th>\n",
       "      <th>membershid</th>\n",
       "      <th>groupid</th>\n",
       "      <th>person_nbr</th>\n",
       "      <th>Primary_Phone_NBR</th>\n",
       "      <th>Phone2_NBR</th>\n",
       "      <th>Phone3_NBR</th>\n",
       "    </tr>\n",
       "  </thead>\n",
       "  <tbody>\n",
       "    <tr>\n",
       "      <th>0</th>\n",
       "      <td>200001</td>\n",
       "      <td>4456.162497</td>\n",
       "      <td>100</td>\n",
       "      <td>2748.280106</td>\n",
       "      <td>C</td>\n",
       "      <td>O</td>\n",
       "      <td>C</td>\n",
       "    </tr>\n",
       "    <tr>\n",
       "      <th>1</th>\n",
       "      <td>200002</td>\n",
       "      <td>4456.162497</td>\n",
       "      <td>100</td>\n",
       "      <td>3983.633278</td>\n",
       "      <td>C</td>\n",
       "      <td>O</td>\n",
       "      <td>C</td>\n",
       "    </tr>\n",
       "    <tr>\n",
       "      <th>2</th>\n",
       "      <td>200003</td>\n",
       "      <td>4456.162497</td>\n",
       "      <td>100</td>\n",
       "      <td>5918.043203</td>\n",
       "      <td>C</td>\n",
       "      <td>O</td>\n",
       "      <td>C</td>\n",
       "    </tr>\n",
       "    <tr>\n",
       "      <th>3</th>\n",
       "      <td>200004</td>\n",
       "      <td>4456.162497</td>\n",
       "      <td>100</td>\n",
       "      <td>5882.418134</td>\n",
       "      <td>C</td>\n",
       "      <td>O</td>\n",
       "      <td>C</td>\n",
       "    </tr>\n",
       "    <tr>\n",
       "      <th>4</th>\n",
       "      <td>200005</td>\n",
       "      <td>4456.162497</td>\n",
       "      <td>100</td>\n",
       "      <td>3519.095855</td>\n",
       "      <td>C</td>\n",
       "      <td>O</td>\n",
       "      <td>C</td>\n",
       "    </tr>\n",
       "    <tr>\n",
       "      <th>...</th>\n",
       "      <td>...</td>\n",
       "      <td>...</td>\n",
       "      <td>...</td>\n",
       "      <td>...</td>\n",
       "      <td>...</td>\n",
       "      <td>...</td>\n",
       "      <td>...</td>\n",
       "    </tr>\n",
       "    <tr>\n",
       "      <th>84006</th>\n",
       "      <td>284007</td>\n",
       "      <td>61967.640577</td>\n",
       "      <td>108</td>\n",
       "      <td>6406.791285</td>\n",
       "      <td>C</td>\n",
       "      <td>C</td>\n",
       "      <td>C</td>\n",
       "    </tr>\n",
       "    <tr>\n",
       "      <th>84007</th>\n",
       "      <td>284008</td>\n",
       "      <td>61967.640577</td>\n",
       "      <td>108</td>\n",
       "      <td>5736.801838</td>\n",
       "      <td>C</td>\n",
       "      <td>C</td>\n",
       "      <td>C</td>\n",
       "    </tr>\n",
       "    <tr>\n",
       "      <th>84008</th>\n",
       "      <td>284009</td>\n",
       "      <td>61967.640577</td>\n",
       "      <td>108</td>\n",
       "      <td>7613.994822</td>\n",
       "      <td>C</td>\n",
       "      <td>C</td>\n",
       "      <td>C</td>\n",
       "    </tr>\n",
       "    <tr>\n",
       "      <th>84009</th>\n",
       "      <td>284010</td>\n",
       "      <td>61967.640577</td>\n",
       "      <td>108</td>\n",
       "      <td>8530.577571</td>\n",
       "      <td>C</td>\n",
       "      <td>C</td>\n",
       "      <td>C</td>\n",
       "    </tr>\n",
       "    <tr>\n",
       "      <th>84010</th>\n",
       "      <td>284011</td>\n",
       "      <td>61967.640577</td>\n",
       "      <td>108</td>\n",
       "      <td>2140.830791</td>\n",
       "      <td>C</td>\n",
       "      <td>C</td>\n",
       "      <td>C</td>\n",
       "    </tr>\n",
       "  </tbody>\n",
       "</table>\n",
       "<p>84011 rows × 7 columns</p>\n",
       "</div>"
      ],
      "text/plain": [
       "       patientid    membershid  groupid   person_nbr Primary_Phone_NBR  \\\n",
       "0         200001   4456.162497      100  2748.280106                 C   \n",
       "1         200002   4456.162497      100  3983.633278                 C   \n",
       "2         200003   4456.162497      100  5918.043203                 C   \n",
       "3         200004   4456.162497      100  5882.418134                 C   \n",
       "4         200005   4456.162497      100  3519.095855                 C   \n",
       "...          ...           ...      ...          ...               ...   \n",
       "84006     284007  61967.640577      108  6406.791285                 C   \n",
       "84007     284008  61967.640577      108  5736.801838                 C   \n",
       "84008     284009  61967.640577      108  7613.994822                 C   \n",
       "84009     284010  61967.640577      108  8530.577571                 C   \n",
       "84010     284011  61967.640577      108  2140.830791                 C   \n",
       "\n",
       "      Phone2_NBR Phone3_NBR  \n",
       "0              O          C  \n",
       "1              O          C  \n",
       "2              O          C  \n",
       "3              O          C  \n",
       "4              O          C  \n",
       "...          ...        ...  \n",
       "84006          C          C  \n",
       "84007          C          C  \n",
       "84008          C          C  \n",
       "84009          C          C  \n",
       "84010          C          C  \n",
       "\n",
       "[84011 rows x 7 columns]"
      ]
     },
     "execution_count": 372,
     "metadata": {},
     "output_type": "execute_result"
    }
   ],
   "source": [
    "df_ddd_add2=pd.read_excel(r\"C:\\Users\\hp\\Downloads\\Insurance_Customers.xlsx\",sheet_name=\"DDD_Address\")\n",
    "df_ddd_add2"
   ]
  },
  {
   "cell_type": "code",
   "execution_count": 373,
   "id": "8c4d7e85",
   "metadata": {},
   "outputs": [],
   "source": [
    "#**************# basic checks"
   ]
  },
  {
   "cell_type": "code",
   "execution_count": 374,
   "id": "b199d513",
   "metadata": {},
   "outputs": [
    {
     "data": {
      "text/plain": [
       "(84011, 7)"
      ]
     },
     "execution_count": 374,
     "metadata": {},
     "output_type": "execute_result"
    }
   ],
   "source": [
    "df_ddd_add2.shape"
   ]
  },
  {
   "cell_type": "code",
   "execution_count": 375,
   "id": "eeb885b9",
   "metadata": {},
   "outputs": [
    {
     "data": {
      "text/plain": [
       "Index(['patientid', 'membershid', 'groupid', 'person_nbr', 'Primary_Phone_NBR',\n",
       "       'Phone2_NBR', 'Phone3_NBR'],\n",
       "      dtype='object')"
      ]
     },
     "execution_count": 375,
     "metadata": {},
     "output_type": "execute_result"
    }
   ],
   "source": [
    "df_ddd_add2.columns"
   ]
  },
  {
   "cell_type": "code",
   "execution_count": 376,
   "id": "815529dc",
   "metadata": {},
   "outputs": [
    {
     "data": {
      "text/html": [
       "<div>\n",
       "<style scoped>\n",
       "    .dataframe tbody tr th:only-of-type {\n",
       "        vertical-align: middle;\n",
       "    }\n",
       "\n",
       "    .dataframe tbody tr th {\n",
       "        vertical-align: top;\n",
       "    }\n",
       "\n",
       "    .dataframe thead th {\n",
       "        text-align: right;\n",
       "    }\n",
       "</style>\n",
       "<table border=\"1\" class=\"dataframe\">\n",
       "  <thead>\n",
       "    <tr style=\"text-align: right;\">\n",
       "      <th></th>\n",
       "      <th>patientid</th>\n",
       "      <th>membershid</th>\n",
       "      <th>groupid</th>\n",
       "      <th>person_nbr</th>\n",
       "      <th>Primary_Phone_NBR</th>\n",
       "      <th>Phone2_NBR</th>\n",
       "      <th>Phone3_NBR</th>\n",
       "    </tr>\n",
       "  </thead>\n",
       "  <tbody>\n",
       "    <tr>\n",
       "      <th>0</th>\n",
       "      <td>200001</td>\n",
       "      <td>4456.162497</td>\n",
       "      <td>100</td>\n",
       "      <td>2748.280106</td>\n",
       "      <td>C</td>\n",
       "      <td>O</td>\n",
       "      <td>C</td>\n",
       "    </tr>\n",
       "    <tr>\n",
       "      <th>1</th>\n",
       "      <td>200002</td>\n",
       "      <td>4456.162497</td>\n",
       "      <td>100</td>\n",
       "      <td>3983.633278</td>\n",
       "      <td>C</td>\n",
       "      <td>O</td>\n",
       "      <td>C</td>\n",
       "    </tr>\n",
       "    <tr>\n",
       "      <th>2</th>\n",
       "      <td>200003</td>\n",
       "      <td>4456.162497</td>\n",
       "      <td>100</td>\n",
       "      <td>5918.043203</td>\n",
       "      <td>C</td>\n",
       "      <td>O</td>\n",
       "      <td>C</td>\n",
       "    </tr>\n",
       "    <tr>\n",
       "      <th>3</th>\n",
       "      <td>200004</td>\n",
       "      <td>4456.162497</td>\n",
       "      <td>100</td>\n",
       "      <td>5882.418134</td>\n",
       "      <td>C</td>\n",
       "      <td>O</td>\n",
       "      <td>C</td>\n",
       "    </tr>\n",
       "    <tr>\n",
       "      <th>4</th>\n",
       "      <td>200005</td>\n",
       "      <td>4456.162497</td>\n",
       "      <td>100</td>\n",
       "      <td>3519.095855</td>\n",
       "      <td>C</td>\n",
       "      <td>O</td>\n",
       "      <td>C</td>\n",
       "    </tr>\n",
       "  </tbody>\n",
       "</table>\n",
       "</div>"
      ],
      "text/plain": [
       "   patientid   membershid  groupid   person_nbr Primary_Phone_NBR Phone2_NBR  \\\n",
       "0     200001  4456.162497      100  2748.280106                 C          O   \n",
       "1     200002  4456.162497      100  3983.633278                 C          O   \n",
       "2     200003  4456.162497      100  5918.043203                 C          O   \n",
       "3     200004  4456.162497      100  5882.418134                 C          O   \n",
       "4     200005  4456.162497      100  3519.095855                 C          O   \n",
       "\n",
       "  Phone3_NBR  \n",
       "0          C  \n",
       "1          C  \n",
       "2          C  \n",
       "3          C  \n",
       "4          C  "
      ]
     },
     "execution_count": 376,
     "metadata": {},
     "output_type": "execute_result"
    }
   ],
   "source": [
    "df_ddd_add2.head()"
   ]
  },
  {
   "cell_type": "code",
   "execution_count": 377,
   "id": "48c9c3de",
   "metadata": {},
   "outputs": [
    {
     "data": {
      "text/html": [
       "<div>\n",
       "<style scoped>\n",
       "    .dataframe tbody tr th:only-of-type {\n",
       "        vertical-align: middle;\n",
       "    }\n",
       "\n",
       "    .dataframe tbody tr th {\n",
       "        vertical-align: top;\n",
       "    }\n",
       "\n",
       "    .dataframe thead th {\n",
       "        text-align: right;\n",
       "    }\n",
       "</style>\n",
       "<table border=\"1\" class=\"dataframe\">\n",
       "  <thead>\n",
       "    <tr style=\"text-align: right;\">\n",
       "      <th></th>\n",
       "      <th>patientid</th>\n",
       "      <th>membershid</th>\n",
       "      <th>groupid</th>\n",
       "      <th>person_nbr</th>\n",
       "      <th>Primary_Phone_NBR</th>\n",
       "      <th>Phone2_NBR</th>\n",
       "      <th>Phone3_NBR</th>\n",
       "    </tr>\n",
       "  </thead>\n",
       "  <tbody>\n",
       "    <tr>\n",
       "      <th>84006</th>\n",
       "      <td>284007</td>\n",
       "      <td>61967.640577</td>\n",
       "      <td>108</td>\n",
       "      <td>6406.791285</td>\n",
       "      <td>C</td>\n",
       "      <td>C</td>\n",
       "      <td>C</td>\n",
       "    </tr>\n",
       "    <tr>\n",
       "      <th>84007</th>\n",
       "      <td>284008</td>\n",
       "      <td>61967.640577</td>\n",
       "      <td>108</td>\n",
       "      <td>5736.801838</td>\n",
       "      <td>C</td>\n",
       "      <td>C</td>\n",
       "      <td>C</td>\n",
       "    </tr>\n",
       "    <tr>\n",
       "      <th>84008</th>\n",
       "      <td>284009</td>\n",
       "      <td>61967.640577</td>\n",
       "      <td>108</td>\n",
       "      <td>7613.994822</td>\n",
       "      <td>C</td>\n",
       "      <td>C</td>\n",
       "      <td>C</td>\n",
       "    </tr>\n",
       "    <tr>\n",
       "      <th>84009</th>\n",
       "      <td>284010</td>\n",
       "      <td>61967.640577</td>\n",
       "      <td>108</td>\n",
       "      <td>8530.577571</td>\n",
       "      <td>C</td>\n",
       "      <td>C</td>\n",
       "      <td>C</td>\n",
       "    </tr>\n",
       "    <tr>\n",
       "      <th>84010</th>\n",
       "      <td>284011</td>\n",
       "      <td>61967.640577</td>\n",
       "      <td>108</td>\n",
       "      <td>2140.830791</td>\n",
       "      <td>C</td>\n",
       "      <td>C</td>\n",
       "      <td>C</td>\n",
       "    </tr>\n",
       "  </tbody>\n",
       "</table>\n",
       "</div>"
      ],
      "text/plain": [
       "       patientid    membershid  groupid   person_nbr Primary_Phone_NBR  \\\n",
       "84006     284007  61967.640577      108  6406.791285                 C   \n",
       "84007     284008  61967.640577      108  5736.801838                 C   \n",
       "84008     284009  61967.640577      108  7613.994822                 C   \n",
       "84009     284010  61967.640577      108  8530.577571                 C   \n",
       "84010     284011  61967.640577      108  2140.830791                 C   \n",
       "\n",
       "      Phone2_NBR Phone3_NBR  \n",
       "84006          C          C  \n",
       "84007          C          C  \n",
       "84008          C          C  \n",
       "84009          C          C  \n",
       "84010          C          C  "
      ]
     },
     "execution_count": 377,
     "metadata": {},
     "output_type": "execute_result"
    }
   ],
   "source": [
    "df_ddd_add2.tail()"
   ]
  },
  {
   "cell_type": "code",
   "execution_count": 378,
   "id": "b77feae9",
   "metadata": {},
   "outputs": [],
   "source": [
    "#***************** # left join"
   ]
  },
  {
   "cell_type": "code",
   "execution_count": 379,
   "id": "0323ec83",
   "metadata": {},
   "outputs": [
    {
     "data": {
      "text/html": [
       "<div>\n",
       "<style scoped>\n",
       "    .dataframe tbody tr th:only-of-type {\n",
       "        vertical-align: middle;\n",
       "    }\n",
       "\n",
       "    .dataframe tbody tr th {\n",
       "        vertical-align: top;\n",
       "    }\n",
       "\n",
       "    .dataframe thead th {\n",
       "        text-align: right;\n",
       "    }\n",
       "</style>\n",
       "<table border=\"1\" class=\"dataframe\">\n",
       "  <thead>\n",
       "    <tr style=\"text-align: right;\">\n",
       "      <th></th>\n",
       "      <th>patientid</th>\n",
       "      <th>membershid</th>\n",
       "      <th>groupid</th>\n",
       "      <th>person_nbr_x</th>\n",
       "      <th>person_nbr_y</th>\n",
       "      <th>Primary_Phone_NBR</th>\n",
       "      <th>Phone2_NBR</th>\n",
       "      <th>Phone3_NBR</th>\n",
       "    </tr>\n",
       "  </thead>\n",
       "  <tbody>\n",
       "    <tr>\n",
       "      <th>0</th>\n",
       "      <td>200001</td>\n",
       "      <td>4456.162497</td>\n",
       "      <td>100</td>\n",
       "      <td>2748.280106</td>\n",
       "      <td>2748.280106</td>\n",
       "      <td>C</td>\n",
       "      <td>O</td>\n",
       "      <td>C</td>\n",
       "    </tr>\n",
       "    <tr>\n",
       "      <th>1</th>\n",
       "      <td>200002</td>\n",
       "      <td>4456.162497</td>\n",
       "      <td>100</td>\n",
       "      <td>3983.633278</td>\n",
       "      <td>3983.633278</td>\n",
       "      <td>C</td>\n",
       "      <td>O</td>\n",
       "      <td>C</td>\n",
       "    </tr>\n",
       "    <tr>\n",
       "      <th>2</th>\n",
       "      <td>200003</td>\n",
       "      <td>4456.162497</td>\n",
       "      <td>100</td>\n",
       "      <td>5918.043203</td>\n",
       "      <td>5918.043203</td>\n",
       "      <td>C</td>\n",
       "      <td>O</td>\n",
       "      <td>C</td>\n",
       "    </tr>\n",
       "    <tr>\n",
       "      <th>3</th>\n",
       "      <td>200004</td>\n",
       "      <td>4456.162497</td>\n",
       "      <td>100</td>\n",
       "      <td>5882.418134</td>\n",
       "      <td>5882.418134</td>\n",
       "      <td>C</td>\n",
       "      <td>O</td>\n",
       "      <td>C</td>\n",
       "    </tr>\n",
       "    <tr>\n",
       "      <th>4</th>\n",
       "      <td>200005</td>\n",
       "      <td>4456.162497</td>\n",
       "      <td>100</td>\n",
       "      <td>3519.095855</td>\n",
       "      <td>3519.095855</td>\n",
       "      <td>C</td>\n",
       "      <td>O</td>\n",
       "      <td>C</td>\n",
       "    </tr>\n",
       "    <tr>\n",
       "      <th>...</th>\n",
       "      <td>...</td>\n",
       "      <td>...</td>\n",
       "      <td>...</td>\n",
       "      <td>...</td>\n",
       "      <td>...</td>\n",
       "      <td>...</td>\n",
       "      <td>...</td>\n",
       "      <td>...</td>\n",
       "    </tr>\n",
       "    <tr>\n",
       "      <th>84006</th>\n",
       "      <td>284007</td>\n",
       "      <td>61967.640577</td>\n",
       "      <td>108</td>\n",
       "      <td>6406.791285</td>\n",
       "      <td>6406.791285</td>\n",
       "      <td>C</td>\n",
       "      <td>C</td>\n",
       "      <td>C</td>\n",
       "    </tr>\n",
       "    <tr>\n",
       "      <th>84007</th>\n",
       "      <td>284008</td>\n",
       "      <td>61967.640577</td>\n",
       "      <td>108</td>\n",
       "      <td>5736.801838</td>\n",
       "      <td>5736.801838</td>\n",
       "      <td>C</td>\n",
       "      <td>C</td>\n",
       "      <td>C</td>\n",
       "    </tr>\n",
       "    <tr>\n",
       "      <th>84008</th>\n",
       "      <td>284009</td>\n",
       "      <td>61967.640577</td>\n",
       "      <td>108</td>\n",
       "      <td>7613.994822</td>\n",
       "      <td>7613.994822</td>\n",
       "      <td>C</td>\n",
       "      <td>C</td>\n",
       "      <td>C</td>\n",
       "    </tr>\n",
       "    <tr>\n",
       "      <th>84009</th>\n",
       "      <td>284010</td>\n",
       "      <td>61967.640577</td>\n",
       "      <td>108</td>\n",
       "      <td>8530.577571</td>\n",
       "      <td>8530.577571</td>\n",
       "      <td>C</td>\n",
       "      <td>C</td>\n",
       "      <td>C</td>\n",
       "    </tr>\n",
       "    <tr>\n",
       "      <th>84010</th>\n",
       "      <td>284011</td>\n",
       "      <td>61967.640577</td>\n",
       "      <td>108</td>\n",
       "      <td>2140.830791</td>\n",
       "      <td>2140.830791</td>\n",
       "      <td>C</td>\n",
       "      <td>C</td>\n",
       "      <td>C</td>\n",
       "    </tr>\n",
       "  </tbody>\n",
       "</table>\n",
       "<p>84011 rows × 8 columns</p>\n",
       "</div>"
      ],
      "text/plain": [
       "       patientid    membershid  groupid  person_nbr_x  person_nbr_y  \\\n",
       "0         200001   4456.162497      100   2748.280106   2748.280106   \n",
       "1         200002   4456.162497      100   3983.633278   3983.633278   \n",
       "2         200003   4456.162497      100   5918.043203   5918.043203   \n",
       "3         200004   4456.162497      100   5882.418134   5882.418134   \n",
       "4         200005   4456.162497      100   3519.095855   3519.095855   \n",
       "...          ...           ...      ...           ...           ...   \n",
       "84006     284007  61967.640577      108   6406.791285   6406.791285   \n",
       "84007     284008  61967.640577      108   5736.801838   5736.801838   \n",
       "84008     284009  61967.640577      108   7613.994822   7613.994822   \n",
       "84009     284010  61967.640577      108   8530.577571   8530.577571   \n",
       "84010     284011  61967.640577      108   2140.830791   2140.830791   \n",
       "\n",
       "      Primary_Phone_NBR Phone2_NBR Phone3_NBR  \n",
       "0                     C          O          C  \n",
       "1                     C          O          C  \n",
       "2                     C          O          C  \n",
       "3                     C          O          C  \n",
       "4                     C          O          C  \n",
       "...                 ...        ...        ...  \n",
       "84006                 C          C          C  \n",
       "84007                 C          C          C  \n",
       "84008                 C          C          C  \n",
       "84009                 C          C          C  \n",
       "84010                 C          C          C  \n",
       "\n",
       "[84011 rows x 8 columns]"
      ]
     },
     "execution_count": 379,
     "metadata": {},
     "output_type": "execute_result"
    }
   ],
   "source": [
    "df_pati_add_merg2=df_ddd_pati2.merge(df_ddd_add2,how=\"left\",on=['patientid', 'membershid', 'groupid'])\n",
    "df_pati_add_merg2"
   ]
  },
  {
   "cell_type": "code",
   "execution_count": 380,
   "id": "514f2326",
   "metadata": {},
   "outputs": [
    {
     "data": {
      "text/html": [
       "<div>\n",
       "<style scoped>\n",
       "    .dataframe tbody tr th:only-of-type {\n",
       "        vertical-align: middle;\n",
       "    }\n",
       "\n",
       "    .dataframe tbody tr th {\n",
       "        vertical-align: top;\n",
       "    }\n",
       "\n",
       "    .dataframe thead th {\n",
       "        text-align: right;\n",
       "    }\n",
       "</style>\n",
       "<table border=\"1\" class=\"dataframe\">\n",
       "  <thead>\n",
       "    <tr style=\"text-align: right;\">\n",
       "      <th></th>\n",
       "      <th>patientid</th>\n",
       "      <th>membershid</th>\n",
       "      <th>groupid</th>\n",
       "      <th>person_nbr_x</th>\n",
       "      <th>person_nbr_y</th>\n",
       "      <th>Primary_Phone_NBR</th>\n",
       "      <th>Phone2_NBR</th>\n",
       "      <th>Phone3_NBR</th>\n",
       "    </tr>\n",
       "  </thead>\n",
       "  <tbody>\n",
       "    <tr>\n",
       "      <th>0</th>\n",
       "      <td>200001</td>\n",
       "      <td>4456.162497</td>\n",
       "      <td>100</td>\n",
       "      <td>2748.280106</td>\n",
       "      <td>2748.280106</td>\n",
       "      <td>C</td>\n",
       "      <td>O</td>\n",
       "      <td>C</td>\n",
       "    </tr>\n",
       "    <tr>\n",
       "      <th>1</th>\n",
       "      <td>200002</td>\n",
       "      <td>4456.162497</td>\n",
       "      <td>100</td>\n",
       "      <td>3983.633278</td>\n",
       "      <td>3983.633278</td>\n",
       "      <td>C</td>\n",
       "      <td>O</td>\n",
       "      <td>C</td>\n",
       "    </tr>\n",
       "    <tr>\n",
       "      <th>2</th>\n",
       "      <td>200003</td>\n",
       "      <td>4456.162497</td>\n",
       "      <td>100</td>\n",
       "      <td>5918.043203</td>\n",
       "      <td>5918.043203</td>\n",
       "      <td>C</td>\n",
       "      <td>O</td>\n",
       "      <td>C</td>\n",
       "    </tr>\n",
       "    <tr>\n",
       "      <th>3</th>\n",
       "      <td>200004</td>\n",
       "      <td>4456.162497</td>\n",
       "      <td>100</td>\n",
       "      <td>5882.418134</td>\n",
       "      <td>5882.418134</td>\n",
       "      <td>C</td>\n",
       "      <td>O</td>\n",
       "      <td>C</td>\n",
       "    </tr>\n",
       "    <tr>\n",
       "      <th>4</th>\n",
       "      <td>200005</td>\n",
       "      <td>4456.162497</td>\n",
       "      <td>100</td>\n",
       "      <td>3519.095855</td>\n",
       "      <td>3519.095855</td>\n",
       "      <td>C</td>\n",
       "      <td>O</td>\n",
       "      <td>C</td>\n",
       "    </tr>\n",
       "  </tbody>\n",
       "</table>\n",
       "</div>"
      ],
      "text/plain": [
       "   patientid   membershid  groupid  person_nbr_x  person_nbr_y  \\\n",
       "0     200001  4456.162497      100   2748.280106   2748.280106   \n",
       "1     200002  4456.162497      100   3983.633278   3983.633278   \n",
       "2     200003  4456.162497      100   5918.043203   5918.043203   \n",
       "3     200004  4456.162497      100   5882.418134   5882.418134   \n",
       "4     200005  4456.162497      100   3519.095855   3519.095855   \n",
       "\n",
       "  Primary_Phone_NBR Phone2_NBR Phone3_NBR  \n",
       "0                 C          O          C  \n",
       "1                 C          O          C  \n",
       "2                 C          O          C  \n",
       "3                 C          O          C  \n",
       "4                 C          O          C  "
      ]
     },
     "execution_count": 380,
     "metadata": {},
     "output_type": "execute_result"
    }
   ],
   "source": [
    "df_pati_add_merg2.head()"
   ]
  },
  {
   "cell_type": "code",
   "execution_count": 381,
   "id": "d4d70fcc",
   "metadata": {},
   "outputs": [
    {
     "data": {
      "text/html": [
       "<div>\n",
       "<style scoped>\n",
       "    .dataframe tbody tr th:only-of-type {\n",
       "        vertical-align: middle;\n",
       "    }\n",
       "\n",
       "    .dataframe tbody tr th {\n",
       "        vertical-align: top;\n",
       "    }\n",
       "\n",
       "    .dataframe thead th {\n",
       "        text-align: right;\n",
       "    }\n",
       "</style>\n",
       "<table border=\"1\" class=\"dataframe\">\n",
       "  <thead>\n",
       "    <tr style=\"text-align: right;\">\n",
       "      <th></th>\n",
       "      <th>patientid</th>\n",
       "      <th>membershid</th>\n",
       "      <th>groupid</th>\n",
       "      <th>person_nbr_x</th>\n",
       "      <th>person_nbr_y</th>\n",
       "      <th>Primary_Phone_NBR</th>\n",
       "      <th>Phone2_NBR</th>\n",
       "      <th>Phone3_NBR</th>\n",
       "    </tr>\n",
       "  </thead>\n",
       "  <tbody>\n",
       "    <tr>\n",
       "      <th>84006</th>\n",
       "      <td>284007</td>\n",
       "      <td>61967.640577</td>\n",
       "      <td>108</td>\n",
       "      <td>6406.791285</td>\n",
       "      <td>6406.791285</td>\n",
       "      <td>C</td>\n",
       "      <td>C</td>\n",
       "      <td>C</td>\n",
       "    </tr>\n",
       "    <tr>\n",
       "      <th>84007</th>\n",
       "      <td>284008</td>\n",
       "      <td>61967.640577</td>\n",
       "      <td>108</td>\n",
       "      <td>5736.801838</td>\n",
       "      <td>5736.801838</td>\n",
       "      <td>C</td>\n",
       "      <td>C</td>\n",
       "      <td>C</td>\n",
       "    </tr>\n",
       "    <tr>\n",
       "      <th>84008</th>\n",
       "      <td>284009</td>\n",
       "      <td>61967.640577</td>\n",
       "      <td>108</td>\n",
       "      <td>7613.994822</td>\n",
       "      <td>7613.994822</td>\n",
       "      <td>C</td>\n",
       "      <td>C</td>\n",
       "      <td>C</td>\n",
       "    </tr>\n",
       "    <tr>\n",
       "      <th>84009</th>\n",
       "      <td>284010</td>\n",
       "      <td>61967.640577</td>\n",
       "      <td>108</td>\n",
       "      <td>8530.577571</td>\n",
       "      <td>8530.577571</td>\n",
       "      <td>C</td>\n",
       "      <td>C</td>\n",
       "      <td>C</td>\n",
       "    </tr>\n",
       "    <tr>\n",
       "      <th>84010</th>\n",
       "      <td>284011</td>\n",
       "      <td>61967.640577</td>\n",
       "      <td>108</td>\n",
       "      <td>2140.830791</td>\n",
       "      <td>2140.830791</td>\n",
       "      <td>C</td>\n",
       "      <td>C</td>\n",
       "      <td>C</td>\n",
       "    </tr>\n",
       "  </tbody>\n",
       "</table>\n",
       "</div>"
      ],
      "text/plain": [
       "       patientid    membershid  groupid  person_nbr_x  person_nbr_y  \\\n",
       "84006     284007  61967.640577      108   6406.791285   6406.791285   \n",
       "84007     284008  61967.640577      108   5736.801838   5736.801838   \n",
       "84008     284009  61967.640577      108   7613.994822   7613.994822   \n",
       "84009     284010  61967.640577      108   8530.577571   8530.577571   \n",
       "84010     284011  61967.640577      108   2140.830791   2140.830791   \n",
       "\n",
       "      Primary_Phone_NBR Phone2_NBR Phone3_NBR  \n",
       "84006                 C          C          C  \n",
       "84007                 C          C          C  \n",
       "84008                 C          C          C  \n",
       "84009                 C          C          C  \n",
       "84010                 C          C          C  "
      ]
     },
     "execution_count": 381,
     "metadata": {},
     "output_type": "execute_result"
    }
   ],
   "source": [
    "df_pati_add_merg2.tail()"
   ]
  },
  {
   "cell_type": "code",
   "execution_count": 382,
   "id": "8aa02f21",
   "metadata": {},
   "outputs": [],
   "source": [
    "# import dd flags "
   ]
  },
  {
   "cell_type": "code",
   "execution_count": 383,
   "id": "d081c746",
   "metadata": {},
   "outputs": [
    {
     "data": {
      "text/html": [
       "<div>\n",
       "<style scoped>\n",
       "    .dataframe tbody tr th:only-of-type {\n",
       "        vertical-align: middle;\n",
       "    }\n",
       "\n",
       "    .dataframe tbody tr th {\n",
       "        vertical-align: top;\n",
       "    }\n",
       "\n",
       "    .dataframe thead th {\n",
       "        text-align: right;\n",
       "    }\n",
       "</style>\n",
       "<table border=\"1\" class=\"dataframe\">\n",
       "  <thead>\n",
       "    <tr style=\"text-align: right;\">\n",
       "      <th></th>\n",
       "      <th>groupid</th>\n",
       "      <th>Flag</th>\n",
       "    </tr>\n",
       "  </thead>\n",
       "  <tbody>\n",
       "    <tr>\n",
       "      <th>0</th>\n",
       "      <td>100</td>\n",
       "      <td>EarD</td>\n",
       "    </tr>\n",
       "    <tr>\n",
       "      <th>1</th>\n",
       "      <td>102</td>\n",
       "      <td>EyesD</td>\n",
       "    </tr>\n",
       "    <tr>\n",
       "      <th>2</th>\n",
       "      <td>103</td>\n",
       "      <td>Nervers</td>\n",
       "    </tr>\n",
       "    <tr>\n",
       "      <th>3</th>\n",
       "      <td>105</td>\n",
       "      <td>KneeF</td>\n",
       "    </tr>\n",
       "    <tr>\n",
       "      <th>4</th>\n",
       "      <td>106</td>\n",
       "      <td>SpineF</td>\n",
       "    </tr>\n",
       "    <tr>\n",
       "      <th>5</th>\n",
       "      <td>107</td>\n",
       "      <td>Obesity</td>\n",
       "    </tr>\n",
       "    <tr>\n",
       "      <th>6</th>\n",
       "      <td>108</td>\n",
       "      <td>Obesity-II</td>\n",
       "    </tr>\n",
       "  </tbody>\n",
       "</table>\n",
       "</div>"
      ],
      "text/plain": [
       "   groupid        Flag\n",
       "0      100        EarD\n",
       "1      102       EyesD\n",
       "2      103     Nervers\n",
       "3      105       KneeF\n",
       "4      106      SpineF\n",
       "5      107     Obesity\n",
       "6      108  Obesity-II"
      ]
     },
     "execution_count": 383,
     "metadata": {},
     "output_type": "execute_result"
    }
   ],
   "source": [
    "import pandas as pd\n",
    "df_ddd_flags2=pd.read_excel(r\"C:\\Users\\hp\\Downloads\\Insurance_Customers.xlsx\",sheet_name=\"DDD_Flag\")\n",
    "df_ddd_flags2"
   ]
  },
  {
   "cell_type": "code",
   "execution_count": 384,
   "id": "faf3ebf5",
   "metadata": {},
   "outputs": [],
   "source": [
    "# left join dd patients and dd flags"
   ]
  },
  {
   "cell_type": "code",
   "execution_count": 385,
   "id": "76b776ac",
   "metadata": {},
   "outputs": [
    {
     "data": {
      "text/html": [
       "<div>\n",
       "<style scoped>\n",
       "    .dataframe tbody tr th:only-of-type {\n",
       "        vertical-align: middle;\n",
       "    }\n",
       "\n",
       "    .dataframe tbody tr th {\n",
       "        vertical-align: top;\n",
       "    }\n",
       "\n",
       "    .dataframe thead th {\n",
       "        text-align: right;\n",
       "    }\n",
       "</style>\n",
       "<table border=\"1\" class=\"dataframe\">\n",
       "  <thead>\n",
       "    <tr style=\"text-align: right;\">\n",
       "      <th></th>\n",
       "      <th>patientid</th>\n",
       "      <th>membershid</th>\n",
       "      <th>groupid</th>\n",
       "      <th>person_nbr_x</th>\n",
       "      <th>person_nbr_y</th>\n",
       "      <th>Primary_Phone_NBR</th>\n",
       "      <th>Phone2_NBR</th>\n",
       "      <th>Phone3_NBR</th>\n",
       "      <th>Flag</th>\n",
       "    </tr>\n",
       "  </thead>\n",
       "  <tbody>\n",
       "    <tr>\n",
       "      <th>0</th>\n",
       "      <td>200001</td>\n",
       "      <td>4456.162497</td>\n",
       "      <td>100</td>\n",
       "      <td>2748.280106</td>\n",
       "      <td>2748.280106</td>\n",
       "      <td>C</td>\n",
       "      <td>O</td>\n",
       "      <td>C</td>\n",
       "      <td>EarD</td>\n",
       "    </tr>\n",
       "    <tr>\n",
       "      <th>1</th>\n",
       "      <td>200002</td>\n",
       "      <td>4456.162497</td>\n",
       "      <td>100</td>\n",
       "      <td>3983.633278</td>\n",
       "      <td>3983.633278</td>\n",
       "      <td>C</td>\n",
       "      <td>O</td>\n",
       "      <td>C</td>\n",
       "      <td>EarD</td>\n",
       "    </tr>\n",
       "    <tr>\n",
       "      <th>2</th>\n",
       "      <td>200003</td>\n",
       "      <td>4456.162497</td>\n",
       "      <td>100</td>\n",
       "      <td>5918.043203</td>\n",
       "      <td>5918.043203</td>\n",
       "      <td>C</td>\n",
       "      <td>O</td>\n",
       "      <td>C</td>\n",
       "      <td>EarD</td>\n",
       "    </tr>\n",
       "    <tr>\n",
       "      <th>3</th>\n",
       "      <td>200004</td>\n",
       "      <td>4456.162497</td>\n",
       "      <td>100</td>\n",
       "      <td>5882.418134</td>\n",
       "      <td>5882.418134</td>\n",
       "      <td>C</td>\n",
       "      <td>O</td>\n",
       "      <td>C</td>\n",
       "      <td>EarD</td>\n",
       "    </tr>\n",
       "    <tr>\n",
       "      <th>4</th>\n",
       "      <td>200005</td>\n",
       "      <td>4456.162497</td>\n",
       "      <td>100</td>\n",
       "      <td>3519.095855</td>\n",
       "      <td>3519.095855</td>\n",
       "      <td>C</td>\n",
       "      <td>O</td>\n",
       "      <td>C</td>\n",
       "      <td>EarD</td>\n",
       "    </tr>\n",
       "    <tr>\n",
       "      <th>...</th>\n",
       "      <td>...</td>\n",
       "      <td>...</td>\n",
       "      <td>...</td>\n",
       "      <td>...</td>\n",
       "      <td>...</td>\n",
       "      <td>...</td>\n",
       "      <td>...</td>\n",
       "      <td>...</td>\n",
       "      <td>...</td>\n",
       "    </tr>\n",
       "    <tr>\n",
       "      <th>84006</th>\n",
       "      <td>284007</td>\n",
       "      <td>61967.640577</td>\n",
       "      <td>108</td>\n",
       "      <td>6406.791285</td>\n",
       "      <td>6406.791285</td>\n",
       "      <td>C</td>\n",
       "      <td>C</td>\n",
       "      <td>C</td>\n",
       "      <td>Obesity-II</td>\n",
       "    </tr>\n",
       "    <tr>\n",
       "      <th>84007</th>\n",
       "      <td>284008</td>\n",
       "      <td>61967.640577</td>\n",
       "      <td>108</td>\n",
       "      <td>5736.801838</td>\n",
       "      <td>5736.801838</td>\n",
       "      <td>C</td>\n",
       "      <td>C</td>\n",
       "      <td>C</td>\n",
       "      <td>Obesity-II</td>\n",
       "    </tr>\n",
       "    <tr>\n",
       "      <th>84008</th>\n",
       "      <td>284009</td>\n",
       "      <td>61967.640577</td>\n",
       "      <td>108</td>\n",
       "      <td>7613.994822</td>\n",
       "      <td>7613.994822</td>\n",
       "      <td>C</td>\n",
       "      <td>C</td>\n",
       "      <td>C</td>\n",
       "      <td>Obesity-II</td>\n",
       "    </tr>\n",
       "    <tr>\n",
       "      <th>84009</th>\n",
       "      <td>284010</td>\n",
       "      <td>61967.640577</td>\n",
       "      <td>108</td>\n",
       "      <td>8530.577571</td>\n",
       "      <td>8530.577571</td>\n",
       "      <td>C</td>\n",
       "      <td>C</td>\n",
       "      <td>C</td>\n",
       "      <td>Obesity-II</td>\n",
       "    </tr>\n",
       "    <tr>\n",
       "      <th>84010</th>\n",
       "      <td>284011</td>\n",
       "      <td>61967.640577</td>\n",
       "      <td>108</td>\n",
       "      <td>2140.830791</td>\n",
       "      <td>2140.830791</td>\n",
       "      <td>C</td>\n",
       "      <td>C</td>\n",
       "      <td>C</td>\n",
       "      <td>Obesity-II</td>\n",
       "    </tr>\n",
       "  </tbody>\n",
       "</table>\n",
       "<p>84011 rows × 9 columns</p>\n",
       "</div>"
      ],
      "text/plain": [
       "       patientid    membershid  groupid  person_nbr_x  person_nbr_y  \\\n",
       "0         200001   4456.162497      100   2748.280106   2748.280106   \n",
       "1         200002   4456.162497      100   3983.633278   3983.633278   \n",
       "2         200003   4456.162497      100   5918.043203   5918.043203   \n",
       "3         200004   4456.162497      100   5882.418134   5882.418134   \n",
       "4         200005   4456.162497      100   3519.095855   3519.095855   \n",
       "...          ...           ...      ...           ...           ...   \n",
       "84006     284007  61967.640577      108   6406.791285   6406.791285   \n",
       "84007     284008  61967.640577      108   5736.801838   5736.801838   \n",
       "84008     284009  61967.640577      108   7613.994822   7613.994822   \n",
       "84009     284010  61967.640577      108   8530.577571   8530.577571   \n",
       "84010     284011  61967.640577      108   2140.830791   2140.830791   \n",
       "\n",
       "      Primary_Phone_NBR Phone2_NBR Phone3_NBR        Flag  \n",
       "0                     C          O          C        EarD  \n",
       "1                     C          O          C        EarD  \n",
       "2                     C          O          C        EarD  \n",
       "3                     C          O          C        EarD  \n",
       "4                     C          O          C        EarD  \n",
       "...                 ...        ...        ...         ...  \n",
       "84006                 C          C          C  Obesity-II  \n",
       "84007                 C          C          C  Obesity-II  \n",
       "84008                 C          C          C  Obesity-II  \n",
       "84009                 C          C          C  Obesity-II  \n",
       "84010                 C          C          C  Obesity-II  \n",
       "\n",
       "[84011 rows x 9 columns]"
      ]
     },
     "execution_count": 385,
     "metadata": {},
     "output_type": "execute_result"
    }
   ],
   "source": [
    "df_merg_flags=df_pati_add_merg2.merge(df_ddd_flags2,how=\"left\",on=\"groupid\")\n",
    "df_merg_flags"
   ]
  },
  {
   "cell_type": "code",
   "execution_count": 386,
   "id": "0ce5f56c",
   "metadata": {},
   "outputs": [
    {
     "data": {
      "text/plain": [
       "Index(['patientid', 'membershid', 'groupid', 'person_nbr_x', 'person_nbr_y',\n",
       "       'Primary_Phone_NBR', 'Phone2_NBR', 'Phone3_NBR', 'Flag'],\n",
       "      dtype='object')"
      ]
     },
     "execution_count": 386,
     "metadata": {},
     "output_type": "execute_result"
    }
   ],
   "source": [
    "df_merg_flags.columns"
   ]
  },
  {
   "cell_type": "code",
   "execution_count": 387,
   "id": "e5f55e2d",
   "metadata": {},
   "outputs": [],
   "source": [
    "##**************** remove a columns"
   ]
  },
  {
   "cell_type": "code",
   "execution_count": 388,
   "id": "4a6291d9",
   "metadata": {},
   "outputs": [],
   "source": [
    "df_merg_flags1=df_merg_flags[['patientid', 'membershid', 'person_nbr_x', 'person_nbr_y',\n",
    "       'Primary_Phone_NBR', 'Phone2_NBR', 'Phone3_NBR', 'Flag']]"
   ]
  },
  {
   "cell_type": "code",
   "execution_count": 389,
   "id": "127b9503",
   "metadata": {},
   "outputs": [
    {
     "data": {
      "text/plain": [
       "Index(['patientid', 'membershid', 'person_nbr_x', 'person_nbr_y',\n",
       "       'Primary_Phone_NBR', 'Phone2_NBR', 'Phone3_NBR', 'Flag'],\n",
       "      dtype='object')"
      ]
     },
     "execution_count": 389,
     "metadata": {},
     "output_type": "execute_result"
    }
   ],
   "source": [
    "df_merg_flags1.columns"
   ]
  },
  {
   "cell_type": "code",
   "execution_count": 390,
   "id": "c1b1b27b",
   "metadata": {},
   "outputs": [],
   "source": [
    "#*********add column name"
   ]
  },
  {
   "cell_type": "code",
   "execution_count": 391,
   "id": "a5e3c1bd",
   "metadata": {},
   "outputs": [],
   "source": [
    "df_merg_flags1[\"Cellflag\"]=\" \""
   ]
  },
  {
   "cell_type": "code",
   "execution_count": 392,
   "id": "3e5d62cc",
   "metadata": {},
   "outputs": [
    {
     "data": {
      "text/plain": [
       "Index(['patientid', 'membershid', 'person_nbr_x', 'person_nbr_y',\n",
       "       'Primary_Phone_NBR', 'Phone2_NBR', 'Phone3_NBR', 'Flag', 'Cellflag'],\n",
       "      dtype='object')"
      ]
     },
     "execution_count": 392,
     "metadata": {},
     "output_type": "execute_result"
    }
   ],
   "source": [
    "df_merg_flags1.columns"
   ]
  },
  {
   "cell_type": "code",
   "execution_count": 393,
   "id": "b1316f38",
   "metadata": {},
   "outputs": [
    {
     "data": {
      "text/html": [
       "<div>\n",
       "<style scoped>\n",
       "    .dataframe tbody tr th:only-of-type {\n",
       "        vertical-align: middle;\n",
       "    }\n",
       "\n",
       "    .dataframe tbody tr th {\n",
       "        vertical-align: top;\n",
       "    }\n",
       "\n",
       "    .dataframe thead th {\n",
       "        text-align: right;\n",
       "    }\n",
       "</style>\n",
       "<table border=\"1\" class=\"dataframe\">\n",
       "  <thead>\n",
       "    <tr style=\"text-align: right;\">\n",
       "      <th></th>\n",
       "      <th>patientid</th>\n",
       "      <th>membershid</th>\n",
       "      <th>person_nbr_x</th>\n",
       "      <th>person_nbr_y</th>\n",
       "      <th>Primary_Phone_NBR</th>\n",
       "      <th>Phone2_NBR</th>\n",
       "      <th>Phone3_NBR</th>\n",
       "      <th>Flag</th>\n",
       "      <th>Cellflag</th>\n",
       "    </tr>\n",
       "  </thead>\n",
       "  <tbody>\n",
       "    <tr>\n",
       "      <th>0</th>\n",
       "      <td>200001</td>\n",
       "      <td>4456.162497</td>\n",
       "      <td>2748.280106</td>\n",
       "      <td>2748.280106</td>\n",
       "      <td>C</td>\n",
       "      <td>O</td>\n",
       "      <td>C</td>\n",
       "      <td>EarD</td>\n",
       "      <td></td>\n",
       "    </tr>\n",
       "    <tr>\n",
       "      <th>1</th>\n",
       "      <td>200002</td>\n",
       "      <td>4456.162497</td>\n",
       "      <td>3983.633278</td>\n",
       "      <td>3983.633278</td>\n",
       "      <td>C</td>\n",
       "      <td>O</td>\n",
       "      <td>C</td>\n",
       "      <td>EarD</td>\n",
       "      <td></td>\n",
       "    </tr>\n",
       "    <tr>\n",
       "      <th>2</th>\n",
       "      <td>200003</td>\n",
       "      <td>4456.162497</td>\n",
       "      <td>5918.043203</td>\n",
       "      <td>5918.043203</td>\n",
       "      <td>C</td>\n",
       "      <td>O</td>\n",
       "      <td>C</td>\n",
       "      <td>EarD</td>\n",
       "      <td></td>\n",
       "    </tr>\n",
       "    <tr>\n",
       "      <th>3</th>\n",
       "      <td>200004</td>\n",
       "      <td>4456.162497</td>\n",
       "      <td>5882.418134</td>\n",
       "      <td>5882.418134</td>\n",
       "      <td>C</td>\n",
       "      <td>O</td>\n",
       "      <td>C</td>\n",
       "      <td>EarD</td>\n",
       "      <td></td>\n",
       "    </tr>\n",
       "    <tr>\n",
       "      <th>4</th>\n",
       "      <td>200005</td>\n",
       "      <td>4456.162497</td>\n",
       "      <td>3519.095855</td>\n",
       "      <td>3519.095855</td>\n",
       "      <td>C</td>\n",
       "      <td>O</td>\n",
       "      <td>C</td>\n",
       "      <td>EarD</td>\n",
       "      <td></td>\n",
       "    </tr>\n",
       "    <tr>\n",
       "      <th>...</th>\n",
       "      <td>...</td>\n",
       "      <td>...</td>\n",
       "      <td>...</td>\n",
       "      <td>...</td>\n",
       "      <td>...</td>\n",
       "      <td>...</td>\n",
       "      <td>...</td>\n",
       "      <td>...</td>\n",
       "      <td>...</td>\n",
       "    </tr>\n",
       "    <tr>\n",
       "      <th>84006</th>\n",
       "      <td>284007</td>\n",
       "      <td>61967.640577</td>\n",
       "      <td>6406.791285</td>\n",
       "      <td>6406.791285</td>\n",
       "      <td>C</td>\n",
       "      <td>C</td>\n",
       "      <td>C</td>\n",
       "      <td>Obesity-II</td>\n",
       "      <td></td>\n",
       "    </tr>\n",
       "    <tr>\n",
       "      <th>84007</th>\n",
       "      <td>284008</td>\n",
       "      <td>61967.640577</td>\n",
       "      <td>5736.801838</td>\n",
       "      <td>5736.801838</td>\n",
       "      <td>C</td>\n",
       "      <td>C</td>\n",
       "      <td>C</td>\n",
       "      <td>Obesity-II</td>\n",
       "      <td></td>\n",
       "    </tr>\n",
       "    <tr>\n",
       "      <th>84008</th>\n",
       "      <td>284009</td>\n",
       "      <td>61967.640577</td>\n",
       "      <td>7613.994822</td>\n",
       "      <td>7613.994822</td>\n",
       "      <td>C</td>\n",
       "      <td>C</td>\n",
       "      <td>C</td>\n",
       "      <td>Obesity-II</td>\n",
       "      <td></td>\n",
       "    </tr>\n",
       "    <tr>\n",
       "      <th>84009</th>\n",
       "      <td>284010</td>\n",
       "      <td>61967.640577</td>\n",
       "      <td>8530.577571</td>\n",
       "      <td>8530.577571</td>\n",
       "      <td>C</td>\n",
       "      <td>C</td>\n",
       "      <td>C</td>\n",
       "      <td>Obesity-II</td>\n",
       "      <td></td>\n",
       "    </tr>\n",
       "    <tr>\n",
       "      <th>84010</th>\n",
       "      <td>284011</td>\n",
       "      <td>61967.640577</td>\n",
       "      <td>2140.830791</td>\n",
       "      <td>2140.830791</td>\n",
       "      <td>C</td>\n",
       "      <td>C</td>\n",
       "      <td>C</td>\n",
       "      <td>Obesity-II</td>\n",
       "      <td></td>\n",
       "    </tr>\n",
       "  </tbody>\n",
       "</table>\n",
       "<p>84011 rows × 9 columns</p>\n",
       "</div>"
      ],
      "text/plain": [
       "       patientid    membershid  person_nbr_x  person_nbr_y Primary_Phone_NBR  \\\n",
       "0         200001   4456.162497   2748.280106   2748.280106                 C   \n",
       "1         200002   4456.162497   3983.633278   3983.633278                 C   \n",
       "2         200003   4456.162497   5918.043203   5918.043203                 C   \n",
       "3         200004   4456.162497   5882.418134   5882.418134                 C   \n",
       "4         200005   4456.162497   3519.095855   3519.095855                 C   \n",
       "...          ...           ...           ...           ...               ...   \n",
       "84006     284007  61967.640577   6406.791285   6406.791285                 C   \n",
       "84007     284008  61967.640577   5736.801838   5736.801838                 C   \n",
       "84008     284009  61967.640577   7613.994822   7613.994822                 C   \n",
       "84009     284010  61967.640577   8530.577571   8530.577571                 C   \n",
       "84010     284011  61967.640577   2140.830791   2140.830791                 C   \n",
       "\n",
       "      Phone2_NBR Phone3_NBR        Flag Cellflag  \n",
       "0              O          C        EarD           \n",
       "1              O          C        EarD           \n",
       "2              O          C        EarD           \n",
       "3              O          C        EarD           \n",
       "4              O          C        EarD           \n",
       "...          ...        ...         ...      ...  \n",
       "84006          C          C  Obesity-II           \n",
       "84007          C          C  Obesity-II           \n",
       "84008          C          C  Obesity-II           \n",
       "84009          C          C  Obesity-II           \n",
       "84010          C          C  Obesity-II           \n",
       "\n",
       "[84011 rows x 9 columns]"
      ]
     },
     "execution_count": 393,
     "metadata": {},
     "output_type": "execute_result"
    }
   ],
   "source": [
    "df_merg_flags1"
   ]
  },
  {
   "cell_type": "code",
   "execution_count": 394,
   "id": "3d0b2764",
   "metadata": {},
   "outputs": [],
   "source": [
    "# rename a column name"
   ]
  },
  {
   "cell_type": "code",
   "execution_count": 395,
   "id": "5fdf8f5d",
   "metadata": {},
   "outputs": [],
   "source": [
    "df_merg_flags1.columns=['patientid', 'membershid', 'person_nbr_x', 'person_nbr_y',\n",
    "       'Primary_Phone_NBR', 'Phone2_NBR', 'Phone3_NBR', 'groupid', 'Cellflag']"
   ]
  },
  {
   "cell_type": "code",
   "execution_count": 396,
   "id": "b5678b00",
   "metadata": {},
   "outputs": [
    {
     "data": {
      "text/html": [
       "<div>\n",
       "<style scoped>\n",
       "    .dataframe tbody tr th:only-of-type {\n",
       "        vertical-align: middle;\n",
       "    }\n",
       "\n",
       "    .dataframe tbody tr th {\n",
       "        vertical-align: top;\n",
       "    }\n",
       "\n",
       "    .dataframe thead th {\n",
       "        text-align: right;\n",
       "    }\n",
       "</style>\n",
       "<table border=\"1\" class=\"dataframe\">\n",
       "  <thead>\n",
       "    <tr style=\"text-align: right;\">\n",
       "      <th></th>\n",
       "      <th>patientid</th>\n",
       "      <th>membershid</th>\n",
       "      <th>person_nbr_x</th>\n",
       "      <th>person_nbr_y</th>\n",
       "      <th>Primary_Phone_NBR</th>\n",
       "      <th>Phone2_NBR</th>\n",
       "      <th>Phone3_NBR</th>\n",
       "      <th>groupid</th>\n",
       "      <th>Cellflag</th>\n",
       "    </tr>\n",
       "  </thead>\n",
       "  <tbody>\n",
       "    <tr>\n",
       "      <th>0</th>\n",
       "      <td>200001</td>\n",
       "      <td>4456.162497</td>\n",
       "      <td>2748.280106</td>\n",
       "      <td>2748.280106</td>\n",
       "      <td>C</td>\n",
       "      <td>O</td>\n",
       "      <td>C</td>\n",
       "      <td>EarD</td>\n",
       "      <td></td>\n",
       "    </tr>\n",
       "    <tr>\n",
       "      <th>1</th>\n",
       "      <td>200002</td>\n",
       "      <td>4456.162497</td>\n",
       "      <td>3983.633278</td>\n",
       "      <td>3983.633278</td>\n",
       "      <td>C</td>\n",
       "      <td>O</td>\n",
       "      <td>C</td>\n",
       "      <td>EarD</td>\n",
       "      <td></td>\n",
       "    </tr>\n",
       "    <tr>\n",
       "      <th>2</th>\n",
       "      <td>200003</td>\n",
       "      <td>4456.162497</td>\n",
       "      <td>5918.043203</td>\n",
       "      <td>5918.043203</td>\n",
       "      <td>C</td>\n",
       "      <td>O</td>\n",
       "      <td>C</td>\n",
       "      <td>EarD</td>\n",
       "      <td></td>\n",
       "    </tr>\n",
       "    <tr>\n",
       "      <th>3</th>\n",
       "      <td>200004</td>\n",
       "      <td>4456.162497</td>\n",
       "      <td>5882.418134</td>\n",
       "      <td>5882.418134</td>\n",
       "      <td>C</td>\n",
       "      <td>O</td>\n",
       "      <td>C</td>\n",
       "      <td>EarD</td>\n",
       "      <td></td>\n",
       "    </tr>\n",
       "    <tr>\n",
       "      <th>4</th>\n",
       "      <td>200005</td>\n",
       "      <td>4456.162497</td>\n",
       "      <td>3519.095855</td>\n",
       "      <td>3519.095855</td>\n",
       "      <td>C</td>\n",
       "      <td>O</td>\n",
       "      <td>C</td>\n",
       "      <td>EarD</td>\n",
       "      <td></td>\n",
       "    </tr>\n",
       "    <tr>\n",
       "      <th>...</th>\n",
       "      <td>...</td>\n",
       "      <td>...</td>\n",
       "      <td>...</td>\n",
       "      <td>...</td>\n",
       "      <td>...</td>\n",
       "      <td>...</td>\n",
       "      <td>...</td>\n",
       "      <td>...</td>\n",
       "      <td>...</td>\n",
       "    </tr>\n",
       "    <tr>\n",
       "      <th>84006</th>\n",
       "      <td>284007</td>\n",
       "      <td>61967.640577</td>\n",
       "      <td>6406.791285</td>\n",
       "      <td>6406.791285</td>\n",
       "      <td>C</td>\n",
       "      <td>C</td>\n",
       "      <td>C</td>\n",
       "      <td>Obesity-II</td>\n",
       "      <td></td>\n",
       "    </tr>\n",
       "    <tr>\n",
       "      <th>84007</th>\n",
       "      <td>284008</td>\n",
       "      <td>61967.640577</td>\n",
       "      <td>5736.801838</td>\n",
       "      <td>5736.801838</td>\n",
       "      <td>C</td>\n",
       "      <td>C</td>\n",
       "      <td>C</td>\n",
       "      <td>Obesity-II</td>\n",
       "      <td></td>\n",
       "    </tr>\n",
       "    <tr>\n",
       "      <th>84008</th>\n",
       "      <td>284009</td>\n",
       "      <td>61967.640577</td>\n",
       "      <td>7613.994822</td>\n",
       "      <td>7613.994822</td>\n",
       "      <td>C</td>\n",
       "      <td>C</td>\n",
       "      <td>C</td>\n",
       "      <td>Obesity-II</td>\n",
       "      <td></td>\n",
       "    </tr>\n",
       "    <tr>\n",
       "      <th>84009</th>\n",
       "      <td>284010</td>\n",
       "      <td>61967.640577</td>\n",
       "      <td>8530.577571</td>\n",
       "      <td>8530.577571</td>\n",
       "      <td>C</td>\n",
       "      <td>C</td>\n",
       "      <td>C</td>\n",
       "      <td>Obesity-II</td>\n",
       "      <td></td>\n",
       "    </tr>\n",
       "    <tr>\n",
       "      <th>84010</th>\n",
       "      <td>284011</td>\n",
       "      <td>61967.640577</td>\n",
       "      <td>2140.830791</td>\n",
       "      <td>2140.830791</td>\n",
       "      <td>C</td>\n",
       "      <td>C</td>\n",
       "      <td>C</td>\n",
       "      <td>Obesity-II</td>\n",
       "      <td></td>\n",
       "    </tr>\n",
       "  </tbody>\n",
       "</table>\n",
       "<p>84011 rows × 9 columns</p>\n",
       "</div>"
      ],
      "text/plain": [
       "       patientid    membershid  person_nbr_x  person_nbr_y Primary_Phone_NBR  \\\n",
       "0         200001   4456.162497   2748.280106   2748.280106                 C   \n",
       "1         200002   4456.162497   3983.633278   3983.633278                 C   \n",
       "2         200003   4456.162497   5918.043203   5918.043203                 C   \n",
       "3         200004   4456.162497   5882.418134   5882.418134                 C   \n",
       "4         200005   4456.162497   3519.095855   3519.095855                 C   \n",
       "...          ...           ...           ...           ...               ...   \n",
       "84006     284007  61967.640577   6406.791285   6406.791285                 C   \n",
       "84007     284008  61967.640577   5736.801838   5736.801838                 C   \n",
       "84008     284009  61967.640577   7613.994822   7613.994822                 C   \n",
       "84009     284010  61967.640577   8530.577571   8530.577571                 C   \n",
       "84010     284011  61967.640577   2140.830791   2140.830791                 C   \n",
       "\n",
       "      Phone2_NBR Phone3_NBR     groupid Cellflag  \n",
       "0              O          C        EarD           \n",
       "1              O          C        EarD           \n",
       "2              O          C        EarD           \n",
       "3              O          C        EarD           \n",
       "4              O          C        EarD           \n",
       "...          ...        ...         ...      ...  \n",
       "84006          C          C  Obesity-II           \n",
       "84007          C          C  Obesity-II           \n",
       "84008          C          C  Obesity-II           \n",
       "84009          C          C  Obesity-II           \n",
       "84010          C          C  Obesity-II           \n",
       "\n",
       "[84011 rows x 9 columns]"
      ]
     },
     "execution_count": 396,
     "metadata": {},
     "output_type": "execute_result"
    }
   ],
   "source": [
    "df_merg_flags1"
   ]
  },
  {
   "cell_type": "code",
   "execution_count": 397,
   "id": "5bc56409",
   "metadata": {},
   "outputs": [],
   "source": [
    "# update cellflag values"
   ]
  },
  {
   "cell_type": "code",
   "execution_count": 398,
   "id": "e7bc9d93",
   "metadata": {},
   "outputs": [],
   "source": [
    "import numpy as np\n",
    "df_merg_flags1[\"Cellflag\"]=np.where(df_merg_flags1['Primary_Phone_NBR']==\"C\",\"P\",df_merg_flags1[\"Cellflag\"])"
   ]
  },
  {
   "cell_type": "code",
   "execution_count": 399,
   "id": "b6d48df9",
   "metadata": {},
   "outputs": [
    {
     "data": {
      "text/plain": [
       "array(['P', ' '], dtype=object)"
      ]
     },
     "execution_count": 399,
     "metadata": {},
     "output_type": "execute_result"
    }
   ],
   "source": [
    "df_merg_flags1.Cellflag.unique()"
   ]
  },
  {
   "cell_type": "code",
   "execution_count": 400,
   "id": "ab9f0f84",
   "metadata": {},
   "outputs": [
    {
     "data": {
      "text/plain": [
       "P    81589\n",
       "      2422\n",
       "Name: Cellflag, dtype: int64"
      ]
     },
     "execution_count": 400,
     "metadata": {},
     "output_type": "execute_result"
    }
   ],
   "source": [
    "df_merg_flags1.Cellflag.value_counts()"
   ]
  },
  {
   "cell_type": "code",
   "execution_count": 401,
   "id": "08228860",
   "metadata": {},
   "outputs": [],
   "source": [
    "#*********************** # updating cell flasg as s"
   ]
  },
  {
   "cell_type": "code",
   "execution_count": 402,
   "id": "a513a077",
   "metadata": {},
   "outputs": [],
   "source": [
    "df_merg_flags1[\"Cellflag\"]=np.where((df_merg_flags1['Primary_Phone_NBR']!=\"C\") & (df_merg_flags1['Phone2_NBR']==\"C\"), \"S\",df_merg_flags1[\"Cellflag\"])"
   ]
  },
  {
   "cell_type": "code",
   "execution_count": 403,
   "id": "0f226ba1",
   "metadata": {},
   "outputs": [],
   "source": [
    "df_merg_flags1[\"Cellflag\"]=np.where((df_merg_flags1['Primary_Phone_NBR']!=\"C\") & (df_merg_flags1['Phone3_NBR']==\"C\"), \"S\",df_merg_flags1[\"Cellflag\"])"
   ]
  },
  {
   "cell_type": "code",
   "execution_count": 404,
   "id": "b5491741",
   "metadata": {},
   "outputs": [
    {
     "data": {
      "text/plain": [
       "array(['P', 'S', ' '], dtype=object)"
      ]
     },
     "execution_count": 404,
     "metadata": {},
     "output_type": "execute_result"
    }
   ],
   "source": [
    "df_merg_flags1.Cellflag.unique()"
   ]
  },
  {
   "cell_type": "code",
   "execution_count": 405,
   "id": "428997fd",
   "metadata": {},
   "outputs": [
    {
     "data": {
      "text/plain": [
       "P    81589\n",
       "S     1810\n",
       "       612\n",
       "Name: Cellflag, dtype: int64"
      ]
     },
     "execution_count": 405,
     "metadata": {},
     "output_type": "execute_result"
    }
   ],
   "source": [
    "df_merg_flags1.Cellflag.value_counts()"
   ]
  },
  {
   "cell_type": "code",
   "execution_count": 406,
   "id": "eb3c067c",
   "metadata": {},
   "outputs": [],
   "source": [
    "#********************* # updating cell flag as N"
   ]
  },
  {
   "cell_type": "code",
   "execution_count": 407,
   "id": "236544c7",
   "metadata": {},
   "outputs": [],
   "source": [
    "df_merg_flags1[\"Cellflag\"]=np.where((df_merg_flags1['Primary_Phone_NBR']!=\"C\") & (df_merg_flags1['Phone2_NBR']!=\"C\"), \"N\",df_merg_flags1[\"Cellflag\"])"
   ]
  },
  {
   "cell_type": "code",
   "execution_count": 408,
   "id": "72f36f58",
   "metadata": {},
   "outputs": [],
   "source": [
    "df_merg_flags1[\"Cellflag\"]=np.where((df_merg_flags1['Primary_Phone_NBR']!=\"C\") & (df_merg_flags1['Phone3_NBR']!=\"C\"), \"N\",df_merg_flags1[\"Cellflag\"])"
   ]
  },
  {
   "cell_type": "code",
   "execution_count": 409,
   "id": "ec4e5a3d",
   "metadata": {},
   "outputs": [
    {
     "data": {
      "text/plain": [
       "array(['P', 'N'], dtype=object)"
      ]
     },
     "execution_count": 409,
     "metadata": {},
     "output_type": "execute_result"
    }
   ],
   "source": [
    "df_merg_flags1.Cellflag.unique()"
   ]
  },
  {
   "cell_type": "code",
   "execution_count": 410,
   "id": "ed8d677a",
   "metadata": {},
   "outputs": [
    {
     "data": {
      "text/plain": [
       "P    81589\n",
       "N     2422\n",
       "Name: Cellflag, dtype: int64"
      ]
     },
     "execution_count": 410,
     "metadata": {},
     "output_type": "execute_result"
    }
   ],
   "source": [
    "df_merg_flags1.Cellflag.value_counts()"
   ]
  },
  {
   "cell_type": "code",
   "execution_count": 411,
   "id": "a1017120",
   "metadata": {},
   "outputs": [],
   "source": [
    "#**************** # create a new column"
   ]
  },
  {
   "cell_type": "code",
   "execution_count": 412,
   "id": "532a0f45",
   "metadata": {},
   "outputs": [],
   "source": [
    "df_merg_flags1['Flag']=\"Total DDD patients\""
   ]
  },
  {
   "cell_type": "code",
   "execution_count": 413,
   "id": "a062b596",
   "metadata": {},
   "outputs": [
    {
     "data": {
      "text/plain": [
       "Index(['patientid', 'membershid', 'person_nbr_x', 'person_nbr_y',\n",
       "       'Primary_Phone_NBR', 'Phone2_NBR', 'Phone3_NBR', 'groupid', 'Cellflag',\n",
       "       'Flag'],\n",
       "      dtype='object')"
      ]
     },
     "execution_count": 413,
     "metadata": {},
     "output_type": "execute_result"
    }
   ],
   "source": [
    "df_merg_flags1.columns"
   ]
  },
  {
   "cell_type": "code",
   "execution_count": 414,
   "id": "084d28c9",
   "metadata": {},
   "outputs": [],
   "source": [
    "df_merg_flags1_p=df_merg_flags1[df_merg_flags1.Cellflag==\"P\"]"
   ]
  },
  {
   "cell_type": "code",
   "execution_count": 415,
   "id": "1beee565",
   "metadata": {},
   "outputs": [
    {
     "name": "stderr",
     "output_type": "stream",
     "text": [
      "C:\\Users\\hp\\AppData\\Local\\Temp\\ipykernel_16584\\139780631.py:1: SettingWithCopyWarning: \n",
      "A value is trying to be set on a copy of a slice from a DataFrame.\n",
      "Try using .loc[row_indexer,col_indexer] = value instead\n",
      "\n",
      "See the caveats in the documentation: https://pandas.pydata.org/pandas-docs/stable/user_guide/indexing.html#returning-a-view-versus-a-copy\n",
      "  df_merg_flags1_p[\"Flag\"]=\"Total DDD patients for cell flag P\"\n"
     ]
    }
   ],
   "source": [
    "df_merg_flags1_p[\"Flag\"]=\"Total DDD patients for cell flag P\""
   ]
  },
  {
   "cell_type": "code",
   "execution_count": 416,
   "id": "264e5745",
   "metadata": {},
   "outputs": [],
   "source": [
    "df_merg_flags1_S=df_merg_flags1[df_merg_flags1.Cellflag==\"S\"]"
   ]
  },
  {
   "cell_type": "code",
   "execution_count": 417,
   "id": "3b6de624",
   "metadata": {},
   "outputs": [],
   "source": [
    "df_merg_flags1_S[\"Flag\"]=\"Total DDD patients for cell flag S\""
   ]
  },
  {
   "cell_type": "code",
   "execution_count": 418,
   "id": "41edbe73",
   "metadata": {},
   "outputs": [],
   "source": [
    "# update cell flag values as N"
   ]
  },
  {
   "cell_type": "code",
   "execution_count": 419,
   "id": "29647057",
   "metadata": {},
   "outputs": [],
   "source": [
    "df_merg_flags1_N=df_merg_flags1[df_merg_flags1.Cellflag==\"N\"]"
   ]
  },
  {
   "cell_type": "code",
   "execution_count": 420,
   "id": "101fb15a",
   "metadata": {},
   "outputs": [
    {
     "name": "stderr",
     "output_type": "stream",
     "text": [
      "C:\\Users\\hp\\AppData\\Local\\Temp\\ipykernel_16584\\393705257.py:1: SettingWithCopyWarning: \n",
      "A value is trying to be set on a copy of a slice from a DataFrame.\n",
      "Try using .loc[row_indexer,col_indexer] = value instead\n",
      "\n",
      "See the caveats in the documentation: https://pandas.pydata.org/pandas-docs/stable/user_guide/indexing.html#returning-a-view-versus-a-copy\n",
      "  df_merg_flags1_N[\"Flag\"]=\"Total DDD patients for cell flag N\"\n"
     ]
    }
   ],
   "source": [
    "df_merg_flags1_N[\"Flag\"]=\"Total DDD patients for cell flag N\""
   ]
  },
  {
   "cell_type": "code",
   "execution_count": 421,
   "id": "69421a76",
   "metadata": {},
   "outputs": [
    {
     "data": {
      "text/html": [
       "<div>\n",
       "<style scoped>\n",
       "    .dataframe tbody tr th:only-of-type {\n",
       "        vertical-align: middle;\n",
       "    }\n",
       "\n",
       "    .dataframe tbody tr th {\n",
       "        vertical-align: top;\n",
       "    }\n",
       "\n",
       "    .dataframe thead th {\n",
       "        text-align: right;\n",
       "    }\n",
       "</style>\n",
       "<table border=\"1\" class=\"dataframe\">\n",
       "  <thead>\n",
       "    <tr style=\"text-align: right;\">\n",
       "      <th></th>\n",
       "      <th>patientid</th>\n",
       "      <th>membershid</th>\n",
       "      <th>person_nbr_x</th>\n",
       "      <th>person_nbr_y</th>\n",
       "      <th>Primary_Phone_NBR</th>\n",
       "      <th>Phone2_NBR</th>\n",
       "      <th>Phone3_NBR</th>\n",
       "      <th>groupid</th>\n",
       "      <th>Cellflag</th>\n",
       "      <th>Flag</th>\n",
       "    </tr>\n",
       "  </thead>\n",
       "  <tbody>\n",
       "    <tr>\n",
       "      <th>0</th>\n",
       "      <td>200001</td>\n",
       "      <td>4456.162497</td>\n",
       "      <td>2748.280106</td>\n",
       "      <td>2748.280106</td>\n",
       "      <td>C</td>\n",
       "      <td>O</td>\n",
       "      <td>C</td>\n",
       "      <td>EarD</td>\n",
       "      <td>P</td>\n",
       "      <td>Total DDD patients</td>\n",
       "    </tr>\n",
       "    <tr>\n",
       "      <th>1</th>\n",
       "      <td>200002</td>\n",
       "      <td>4456.162497</td>\n",
       "      <td>3983.633278</td>\n",
       "      <td>3983.633278</td>\n",
       "      <td>C</td>\n",
       "      <td>O</td>\n",
       "      <td>C</td>\n",
       "      <td>EarD</td>\n",
       "      <td>P</td>\n",
       "      <td>Total DDD patients</td>\n",
       "    </tr>\n",
       "    <tr>\n",
       "      <th>2</th>\n",
       "      <td>200003</td>\n",
       "      <td>4456.162497</td>\n",
       "      <td>5918.043203</td>\n",
       "      <td>5918.043203</td>\n",
       "      <td>C</td>\n",
       "      <td>O</td>\n",
       "      <td>C</td>\n",
       "      <td>EarD</td>\n",
       "      <td>P</td>\n",
       "      <td>Total DDD patients</td>\n",
       "    </tr>\n",
       "    <tr>\n",
       "      <th>3</th>\n",
       "      <td>200004</td>\n",
       "      <td>4456.162497</td>\n",
       "      <td>5882.418134</td>\n",
       "      <td>5882.418134</td>\n",
       "      <td>C</td>\n",
       "      <td>O</td>\n",
       "      <td>C</td>\n",
       "      <td>EarD</td>\n",
       "      <td>P</td>\n",
       "      <td>Total DDD patients</td>\n",
       "    </tr>\n",
       "    <tr>\n",
       "      <th>4</th>\n",
       "      <td>200005</td>\n",
       "      <td>4456.162497</td>\n",
       "      <td>3519.095855</td>\n",
       "      <td>3519.095855</td>\n",
       "      <td>C</td>\n",
       "      <td>O</td>\n",
       "      <td>C</td>\n",
       "      <td>EarD</td>\n",
       "      <td>P</td>\n",
       "      <td>Total DDD patients</td>\n",
       "    </tr>\n",
       "  </tbody>\n",
       "</table>\n",
       "</div>"
      ],
      "text/plain": [
       "   patientid   membershid  person_nbr_x  person_nbr_y Primary_Phone_NBR  \\\n",
       "0     200001  4456.162497   2748.280106   2748.280106                 C   \n",
       "1     200002  4456.162497   3983.633278   3983.633278                 C   \n",
       "2     200003  4456.162497   5918.043203   5918.043203                 C   \n",
       "3     200004  4456.162497   5882.418134   5882.418134                 C   \n",
       "4     200005  4456.162497   3519.095855   3519.095855                 C   \n",
       "\n",
       "  Phone2_NBR Phone3_NBR groupid Cellflag                Flag  \n",
       "0          O          C    EarD        P  Total DDD patients  \n",
       "1          O          C    EarD        P  Total DDD patients  \n",
       "2          O          C    EarD        P  Total DDD patients  \n",
       "3          O          C    EarD        P  Total DDD patients  \n",
       "4          O          C    EarD        P  Total DDD patients  "
      ]
     },
     "execution_count": 421,
     "metadata": {},
     "output_type": "execute_result"
    }
   ],
   "source": [
    "df_merg_flags1.head()"
   ]
  },
  {
   "cell_type": "code",
   "execution_count": 422,
   "id": "5c18ba4b",
   "metadata": {},
   "outputs": [
    {
     "data": {
      "text/html": [
       "<div>\n",
       "<style scoped>\n",
       "    .dataframe tbody tr th:only-of-type {\n",
       "        vertical-align: middle;\n",
       "    }\n",
       "\n",
       "    .dataframe tbody tr th {\n",
       "        vertical-align: top;\n",
       "    }\n",
       "\n",
       "    .dataframe thead th {\n",
       "        text-align: right;\n",
       "    }\n",
       "</style>\n",
       "<table border=\"1\" class=\"dataframe\">\n",
       "  <thead>\n",
       "    <tr style=\"text-align: right;\">\n",
       "      <th></th>\n",
       "      <th>patientid</th>\n",
       "      <th>membershid</th>\n",
       "      <th>person_nbr_x</th>\n",
       "      <th>person_nbr_y</th>\n",
       "      <th>Primary_Phone_NBR</th>\n",
       "      <th>Phone2_NBR</th>\n",
       "      <th>Phone3_NBR</th>\n",
       "      <th>groupid</th>\n",
       "      <th>Cellflag</th>\n",
       "      <th>Flag</th>\n",
       "    </tr>\n",
       "  </thead>\n",
       "  <tbody>\n",
       "    <tr>\n",
       "      <th>0</th>\n",
       "      <td>200001</td>\n",
       "      <td>4456.162497</td>\n",
       "      <td>2748.280106</td>\n",
       "      <td>2748.280106</td>\n",
       "      <td>C</td>\n",
       "      <td>O</td>\n",
       "      <td>C</td>\n",
       "      <td>EarD</td>\n",
       "      <td>P</td>\n",
       "      <td>Total DDD patients for cell flag P</td>\n",
       "    </tr>\n",
       "    <tr>\n",
       "      <th>1</th>\n",
       "      <td>200002</td>\n",
       "      <td>4456.162497</td>\n",
       "      <td>3983.633278</td>\n",
       "      <td>3983.633278</td>\n",
       "      <td>C</td>\n",
       "      <td>O</td>\n",
       "      <td>C</td>\n",
       "      <td>EarD</td>\n",
       "      <td>P</td>\n",
       "      <td>Total DDD patients for cell flag P</td>\n",
       "    </tr>\n",
       "    <tr>\n",
       "      <th>2</th>\n",
       "      <td>200003</td>\n",
       "      <td>4456.162497</td>\n",
       "      <td>5918.043203</td>\n",
       "      <td>5918.043203</td>\n",
       "      <td>C</td>\n",
       "      <td>O</td>\n",
       "      <td>C</td>\n",
       "      <td>EarD</td>\n",
       "      <td>P</td>\n",
       "      <td>Total DDD patients for cell flag P</td>\n",
       "    </tr>\n",
       "    <tr>\n",
       "      <th>3</th>\n",
       "      <td>200004</td>\n",
       "      <td>4456.162497</td>\n",
       "      <td>5882.418134</td>\n",
       "      <td>5882.418134</td>\n",
       "      <td>C</td>\n",
       "      <td>O</td>\n",
       "      <td>C</td>\n",
       "      <td>EarD</td>\n",
       "      <td>P</td>\n",
       "      <td>Total DDD patients for cell flag P</td>\n",
       "    </tr>\n",
       "    <tr>\n",
       "      <th>4</th>\n",
       "      <td>200005</td>\n",
       "      <td>4456.162497</td>\n",
       "      <td>3519.095855</td>\n",
       "      <td>3519.095855</td>\n",
       "      <td>C</td>\n",
       "      <td>O</td>\n",
       "      <td>C</td>\n",
       "      <td>EarD</td>\n",
       "      <td>P</td>\n",
       "      <td>Total DDD patients for cell flag P</td>\n",
       "    </tr>\n",
       "  </tbody>\n",
       "</table>\n",
       "</div>"
      ],
      "text/plain": [
       "   patientid   membershid  person_nbr_x  person_nbr_y Primary_Phone_NBR  \\\n",
       "0     200001  4456.162497   2748.280106   2748.280106                 C   \n",
       "1     200002  4456.162497   3983.633278   3983.633278                 C   \n",
       "2     200003  4456.162497   5918.043203   5918.043203                 C   \n",
       "3     200004  4456.162497   5882.418134   5882.418134                 C   \n",
       "4     200005  4456.162497   3519.095855   3519.095855                 C   \n",
       "\n",
       "  Phone2_NBR Phone3_NBR groupid Cellflag                                Flag  \n",
       "0          O          C    EarD        P  Total DDD patients for cell flag P  \n",
       "1          O          C    EarD        P  Total DDD patients for cell flag P  \n",
       "2          O          C    EarD        P  Total DDD patients for cell flag P  \n",
       "3          O          C    EarD        P  Total DDD patients for cell flag P  \n",
       "4          O          C    EarD        P  Total DDD patients for cell flag P  "
      ]
     },
     "execution_count": 422,
     "metadata": {},
     "output_type": "execute_result"
    }
   ],
   "source": [
    "df_merg_flags1_p.head()"
   ]
  },
  {
   "cell_type": "code",
   "execution_count": 423,
   "id": "72facb88",
   "metadata": {},
   "outputs": [
    {
     "data": {
      "text/html": [
       "<div>\n",
       "<style scoped>\n",
       "    .dataframe tbody tr th:only-of-type {\n",
       "        vertical-align: middle;\n",
       "    }\n",
       "\n",
       "    .dataframe tbody tr th {\n",
       "        vertical-align: top;\n",
       "    }\n",
       "\n",
       "    .dataframe thead th {\n",
       "        text-align: right;\n",
       "    }\n",
       "</style>\n",
       "<table border=\"1\" class=\"dataframe\">\n",
       "  <thead>\n",
       "    <tr style=\"text-align: right;\">\n",
       "      <th></th>\n",
       "      <th>patientid</th>\n",
       "      <th>membershid</th>\n",
       "      <th>person_nbr_x</th>\n",
       "      <th>person_nbr_y</th>\n",
       "      <th>Primary_Phone_NBR</th>\n",
       "      <th>Phone2_NBR</th>\n",
       "      <th>Phone3_NBR</th>\n",
       "      <th>groupid</th>\n",
       "      <th>Cellflag</th>\n",
       "      <th>Flag</th>\n",
       "    </tr>\n",
       "  </thead>\n",
       "  <tbody>\n",
       "  </tbody>\n",
       "</table>\n",
       "</div>"
      ],
      "text/plain": [
       "Empty DataFrame\n",
       "Columns: [patientid, membershid, person_nbr_x, person_nbr_y, Primary_Phone_NBR, Phone2_NBR, Phone3_NBR, groupid, Cellflag, Flag]\n",
       "Index: []"
      ]
     },
     "execution_count": 423,
     "metadata": {},
     "output_type": "execute_result"
    }
   ],
   "source": [
    "df_merg_flags1_S.head()"
   ]
  },
  {
   "cell_type": "code",
   "execution_count": 424,
   "id": "dfb95a45",
   "metadata": {},
   "outputs": [
    {
     "data": {
      "text/html": [
       "<div>\n",
       "<style scoped>\n",
       "    .dataframe tbody tr th:only-of-type {\n",
       "        vertical-align: middle;\n",
       "    }\n",
       "\n",
       "    .dataframe tbody tr th {\n",
       "        vertical-align: top;\n",
       "    }\n",
       "\n",
       "    .dataframe thead th {\n",
       "        text-align: right;\n",
       "    }\n",
       "</style>\n",
       "<table border=\"1\" class=\"dataframe\">\n",
       "  <thead>\n",
       "    <tr style=\"text-align: right;\">\n",
       "      <th></th>\n",
       "      <th>patientid</th>\n",
       "      <th>membershid</th>\n",
       "      <th>person_nbr_x</th>\n",
       "      <th>person_nbr_y</th>\n",
       "      <th>Primary_Phone_NBR</th>\n",
       "      <th>Phone2_NBR</th>\n",
       "      <th>Phone3_NBR</th>\n",
       "      <th>groupid</th>\n",
       "      <th>Cellflag</th>\n",
       "      <th>Flag</th>\n",
       "    </tr>\n",
       "  </thead>\n",
       "  <tbody>\n",
       "    <tr>\n",
       "      <th>614</th>\n",
       "      <td>200615</td>\n",
       "      <td>4456.162497</td>\n",
       "      <td>6677.313951</td>\n",
       "      <td>6677.313951</td>\n",
       "      <td>O</td>\n",
       "      <td>C</td>\n",
       "      <td>O</td>\n",
       "      <td>EarD</td>\n",
       "      <td>N</td>\n",
       "      <td>Total DDD patients for cell flag N</td>\n",
       "    </tr>\n",
       "    <tr>\n",
       "      <th>615</th>\n",
       "      <td>200616</td>\n",
       "      <td>4456.162497</td>\n",
       "      <td>2462.055205</td>\n",
       "      <td>2462.055205</td>\n",
       "      <td>O</td>\n",
       "      <td>C</td>\n",
       "      <td>O</td>\n",
       "      <td>EarD</td>\n",
       "      <td>N</td>\n",
       "      <td>Total DDD patients for cell flag N</td>\n",
       "    </tr>\n",
       "    <tr>\n",
       "      <th>616</th>\n",
       "      <td>200617</td>\n",
       "      <td>4456.162497</td>\n",
       "      <td>3429.345531</td>\n",
       "      <td>3429.345531</td>\n",
       "      <td>O</td>\n",
       "      <td>C</td>\n",
       "      <td>O</td>\n",
       "      <td>EarD</td>\n",
       "      <td>N</td>\n",
       "      <td>Total DDD patients for cell flag N</td>\n",
       "    </tr>\n",
       "    <tr>\n",
       "      <th>617</th>\n",
       "      <td>200618</td>\n",
       "      <td>4456.162497</td>\n",
       "      <td>9685.907698</td>\n",
       "      <td>9685.907698</td>\n",
       "      <td>O</td>\n",
       "      <td>C</td>\n",
       "      <td>O</td>\n",
       "      <td>EarD</td>\n",
       "      <td>N</td>\n",
       "      <td>Total DDD patients for cell flag N</td>\n",
       "    </tr>\n",
       "    <tr>\n",
       "      <th>618</th>\n",
       "      <td>200619</td>\n",
       "      <td>4456.162497</td>\n",
       "      <td>4297.300386</td>\n",
       "      <td>4297.300386</td>\n",
       "      <td>O</td>\n",
       "      <td>C</td>\n",
       "      <td>O</td>\n",
       "      <td>EarD</td>\n",
       "      <td>N</td>\n",
       "      <td>Total DDD patients for cell flag N</td>\n",
       "    </tr>\n",
       "  </tbody>\n",
       "</table>\n",
       "</div>"
      ],
      "text/plain": [
       "     patientid   membershid  person_nbr_x  person_nbr_y Primary_Phone_NBR  \\\n",
       "614     200615  4456.162497   6677.313951   6677.313951                 O   \n",
       "615     200616  4456.162497   2462.055205   2462.055205                 O   \n",
       "616     200617  4456.162497   3429.345531   3429.345531                 O   \n",
       "617     200618  4456.162497   9685.907698   9685.907698                 O   \n",
       "618     200619  4456.162497   4297.300386   4297.300386                 O   \n",
       "\n",
       "    Phone2_NBR Phone3_NBR groupid Cellflag                                Flag  \n",
       "614          C          O    EarD        N  Total DDD patients for cell flag N  \n",
       "615          C          O    EarD        N  Total DDD patients for cell flag N  \n",
       "616          C          O    EarD        N  Total DDD patients for cell flag N  \n",
       "617          C          O    EarD        N  Total DDD patients for cell flag N  \n",
       "618          C          O    EarD        N  Total DDD patients for cell flag N  "
      ]
     },
     "execution_count": 424,
     "metadata": {},
     "output_type": "execute_result"
    }
   ],
   "source": [
    "df_merg_flags1_N.head()"
   ]
  },
  {
   "cell_type": "code",
   "execution_count": 425,
   "id": "e25e9608",
   "metadata": {},
   "outputs": [],
   "source": [
    "#**************** # creating summery reports"
   ]
  },
  {
   "cell_type": "code",
   "execution_count": 426,
   "id": "2d9eba34",
   "metadata": {},
   "outputs": [],
   "source": [
    "df_merg_flags1_sm=df_merg_flags1.groupby([\"Flag\"])[\"patientid\"].count()\n",
    "df_merg_flags1_sm_ndf=pd.DataFrame(df_merg_flags1_sm)\n",
    "df_merg_flags1_sm_ndf.reset_index(inplace=True)"
   ]
  },
  {
   "cell_type": "code",
   "execution_count": 427,
   "id": "34d71482",
   "metadata": {},
   "outputs": [
    {
     "data": {
      "text/html": [
       "<div>\n",
       "<style scoped>\n",
       "    .dataframe tbody tr th:only-of-type {\n",
       "        vertical-align: middle;\n",
       "    }\n",
       "\n",
       "    .dataframe tbody tr th {\n",
       "        vertical-align: top;\n",
       "    }\n",
       "\n",
       "    .dataframe thead th {\n",
       "        text-align: right;\n",
       "    }\n",
       "</style>\n",
       "<table border=\"1\" class=\"dataframe\">\n",
       "  <thead>\n",
       "    <tr style=\"text-align: right;\">\n",
       "      <th></th>\n",
       "      <th>Flag</th>\n",
       "      <th>patientid</th>\n",
       "    </tr>\n",
       "  </thead>\n",
       "  <tbody>\n",
       "    <tr>\n",
       "      <th>0</th>\n",
       "      <td>Total DDD patients</td>\n",
       "      <td>84011</td>\n",
       "    </tr>\n",
       "  </tbody>\n",
       "</table>\n",
       "</div>"
      ],
      "text/plain": [
       "                 Flag  patientid\n",
       "0  Total DDD patients      84011"
      ]
     },
     "execution_count": 427,
     "metadata": {},
     "output_type": "execute_result"
    }
   ],
   "source": [
    "df_merg_flags1_sm_ndf"
   ]
  },
  {
   "cell_type": "code",
   "execution_count": 435,
   "id": "f8bb7df8",
   "metadata": {},
   "outputs": [],
   "source": [
    "df_merg_flags1_p_sm=df_merg_flags1_p.groupby([\"Flag\"])[\"patientid\"].count()\n",
    "df_merg_flags1_p_sm_ndf=pd.DataFrame(df_merg_flags1_p_sm)\n",
    "df_merg_flags1_p_sm_ndf.reset_index(inplace=True)"
   ]
  },
  {
   "cell_type": "code",
   "execution_count": 436,
   "id": "49eb994d",
   "metadata": {},
   "outputs": [
    {
     "data": {
      "text/html": [
       "<div>\n",
       "<style scoped>\n",
       "    .dataframe tbody tr th:only-of-type {\n",
       "        vertical-align: middle;\n",
       "    }\n",
       "\n",
       "    .dataframe tbody tr th {\n",
       "        vertical-align: top;\n",
       "    }\n",
       "\n",
       "    .dataframe thead th {\n",
       "        text-align: right;\n",
       "    }\n",
       "</style>\n",
       "<table border=\"1\" class=\"dataframe\">\n",
       "  <thead>\n",
       "    <tr style=\"text-align: right;\">\n",
       "      <th></th>\n",
       "      <th>Flag</th>\n",
       "      <th>patientid</th>\n",
       "    </tr>\n",
       "  </thead>\n",
       "  <tbody>\n",
       "    <tr>\n",
       "      <th>0</th>\n",
       "      <td>Total DDD patients for cell flag P</td>\n",
       "      <td>81589</td>\n",
       "    </tr>\n",
       "  </tbody>\n",
       "</table>\n",
       "</div>"
      ],
      "text/plain": [
       "                                 Flag  patientid\n",
       "0  Total DDD patients for cell flag P      81589"
      ]
     },
     "execution_count": 436,
     "metadata": {},
     "output_type": "execute_result"
    }
   ],
   "source": [
    "df_merg_flags1_p_sm_ndf"
   ]
  },
  {
   "cell_type": "code",
   "execution_count": 439,
   "id": "d7cb9b7e",
   "metadata": {},
   "outputs": [],
   "source": [
    "df_merg_flags1_S_sm=df_merg_flags1_S.groupby([\"Flag\"])[\"patientid\"].count()\n",
    "df_merg_flags1_S_sm_ndf=pd.DataFrame(df_merg_flags1_S_sm)\n",
    "df_merg_flags1_S_sm_ndf.reset_index(inplace=True)"
   ]
  },
  {
   "cell_type": "code",
   "execution_count": 440,
   "id": "aa6c8fbf",
   "metadata": {},
   "outputs": [
    {
     "data": {
      "text/html": [
       "<div>\n",
       "<style scoped>\n",
       "    .dataframe tbody tr th:only-of-type {\n",
       "        vertical-align: middle;\n",
       "    }\n",
       "\n",
       "    .dataframe tbody tr th {\n",
       "        vertical-align: top;\n",
       "    }\n",
       "\n",
       "    .dataframe thead th {\n",
       "        text-align: right;\n",
       "    }\n",
       "</style>\n",
       "<table border=\"1\" class=\"dataframe\">\n",
       "  <thead>\n",
       "    <tr style=\"text-align: right;\">\n",
       "      <th></th>\n",
       "      <th>Flag</th>\n",
       "      <th>patientid</th>\n",
       "    </tr>\n",
       "  </thead>\n",
       "  <tbody>\n",
       "  </tbody>\n",
       "</table>\n",
       "</div>"
      ],
      "text/plain": [
       "Empty DataFrame\n",
       "Columns: [Flag, patientid]\n",
       "Index: []"
      ]
     },
     "execution_count": 440,
     "metadata": {},
     "output_type": "execute_result"
    }
   ],
   "source": [
    "df_merg_flags1_S_sm_ndf"
   ]
  },
  {
   "cell_type": "code",
   "execution_count": 443,
   "id": "a3270a96",
   "metadata": {},
   "outputs": [],
   "source": [
    "df_merg_flags1_N_sm=df_merg_flags1_N.groupby([\"Flag\"])[\"patientid\"].count()\n",
    "df_merg_flags1_N_sm_ndf=pd.DataFrame(df_merg_flags1_N_sm)\n",
    "df_merg_flags1_N_sm_ndf.reset_index(inplace=True)"
   ]
  },
  {
   "cell_type": "code",
   "execution_count": 444,
   "id": "ace579d8",
   "metadata": {},
   "outputs": [
    {
     "data": {
      "text/html": [
       "<div>\n",
       "<style scoped>\n",
       "    .dataframe tbody tr th:only-of-type {\n",
       "        vertical-align: middle;\n",
       "    }\n",
       "\n",
       "    .dataframe tbody tr th {\n",
       "        vertical-align: top;\n",
       "    }\n",
       "\n",
       "    .dataframe thead th {\n",
       "        text-align: right;\n",
       "    }\n",
       "</style>\n",
       "<table border=\"1\" class=\"dataframe\">\n",
       "  <thead>\n",
       "    <tr style=\"text-align: right;\">\n",
       "      <th></th>\n",
       "      <th>Flag</th>\n",
       "      <th>patientid</th>\n",
       "    </tr>\n",
       "  </thead>\n",
       "  <tbody>\n",
       "    <tr>\n",
       "      <th>0</th>\n",
       "      <td>Total DDD patients for cell flag N</td>\n",
       "      <td>2422</td>\n",
       "    </tr>\n",
       "  </tbody>\n",
       "</table>\n",
       "</div>"
      ],
      "text/plain": [
       "                                 Flag  patientid\n",
       "0  Total DDD patients for cell flag N       2422"
      ]
     },
     "execution_count": 444,
     "metadata": {},
     "output_type": "execute_result"
    }
   ],
   "source": [
    "df_merg_flags1_N_sm_ndf\n"
   ]
  },
  {
   "cell_type": "code",
   "execution_count": 324,
   "id": "c77108a5",
   "metadata": {},
   "outputs": [],
   "source": [
    " #*************** # Append \n",
    "    "
   ]
  },
  {
   "cell_type": "code",
   "execution_count": 445,
   "id": "03805590",
   "metadata": {},
   "outputs": [],
   "source": [
    "final_dataframe5=pd.concat([df_merg_flags1_sm_ndf,df_merg_flags1_p_sm_ndf,df_merg_flags1_S_sm_ndf,df_merg_flags1_N_sm_ndf],ignore_index=True,axis=0)"
   ]
  },
  {
   "cell_type": "code",
   "execution_count": 446,
   "id": "13fdfdce",
   "metadata": {},
   "outputs": [],
   "source": [
    "final_dataframe5.columns=[\"Flag\",\"Count\"]"
   ]
  },
  {
   "cell_type": "code",
   "execution_count": 447,
   "id": "c86f3af0",
   "metadata": {},
   "outputs": [
    {
     "data": {
      "text/html": [
       "<div>\n",
       "<style scoped>\n",
       "    .dataframe tbody tr th:only-of-type {\n",
       "        vertical-align: middle;\n",
       "    }\n",
       "\n",
       "    .dataframe tbody tr th {\n",
       "        vertical-align: top;\n",
       "    }\n",
       "\n",
       "    .dataframe thead th {\n",
       "        text-align: right;\n",
       "    }\n",
       "</style>\n",
       "<table border=\"1\" class=\"dataframe\">\n",
       "  <thead>\n",
       "    <tr style=\"text-align: right;\">\n",
       "      <th></th>\n",
       "      <th>Flag</th>\n",
       "      <th>Count</th>\n",
       "    </tr>\n",
       "  </thead>\n",
       "  <tbody>\n",
       "    <tr>\n",
       "      <th>0</th>\n",
       "      <td>Total DDD patients</td>\n",
       "      <td>84011</td>\n",
       "    </tr>\n",
       "    <tr>\n",
       "      <th>1</th>\n",
       "      <td>Total DDD patients for cell flag P</td>\n",
       "      <td>81589</td>\n",
       "    </tr>\n",
       "    <tr>\n",
       "      <th>2</th>\n",
       "      <td>Total DDD patients for cell flag N</td>\n",
       "      <td>2422</td>\n",
       "    </tr>\n",
       "  </tbody>\n",
       "</table>\n",
       "</div>"
      ],
      "text/plain": [
       "                                 Flag  Count\n",
       "0                  Total DDD patients  84011\n",
       "1  Total DDD patients for cell flag P  81589\n",
       "2  Total DDD patients for cell flag N   2422"
      ]
     },
     "execution_count": 447,
     "metadata": {},
     "output_type": "execute_result"
    }
   ],
   "source": [
    "final_dataframe5"
   ]
  },
  {
   "cell_type": "code",
   "execution_count": 448,
   "id": "b3b5ab00",
   "metadata": {},
   "outputs": [],
   "source": [
    "# import date function"
   ]
  },
  {
   "cell_type": "code",
   "execution_count": 450,
   "id": "d208f3fe",
   "metadata": {},
   "outputs": [
    {
     "name": "stdout",
     "output_type": "stream",
     "text": [
      "today= 2023-08-17\n"
     ]
    }
   ],
   "source": [
    "from datetime import date\n",
    "today=date.today()\n",
    "print(\"today=\",today)\n",
    "date=today"
   ]
  },
  {
   "cell_type": "code",
   "execution_count": 451,
   "id": "bd7086d5",
   "metadata": {},
   "outputs": [
    {
     "data": {
      "text/plain": [
       "datetime.date(2023, 8, 17)"
      ]
     },
     "execution_count": 451,
     "metadata": {},
     "output_type": "execute_result"
    }
   ],
   "source": [
    "today"
   ]
  },
  {
   "cell_type": "code",
   "execution_count": 452,
   "id": "c7b0b5f6",
   "metadata": {},
   "outputs": [],
   "source": [
    "final_dataframe5[\"Date\"]=today"
   ]
  },
  {
   "cell_type": "code",
   "execution_count": 453,
   "id": "7ddaf344",
   "metadata": {},
   "outputs": [
    {
     "data": {
      "text/html": [
       "<div>\n",
       "<style scoped>\n",
       "    .dataframe tbody tr th:only-of-type {\n",
       "        vertical-align: middle;\n",
       "    }\n",
       "\n",
       "    .dataframe tbody tr th {\n",
       "        vertical-align: top;\n",
       "    }\n",
       "\n",
       "    .dataframe thead th {\n",
       "        text-align: right;\n",
       "    }\n",
       "</style>\n",
       "<table border=\"1\" class=\"dataframe\">\n",
       "  <thead>\n",
       "    <tr style=\"text-align: right;\">\n",
       "      <th></th>\n",
       "      <th>Flag</th>\n",
       "      <th>Count</th>\n",
       "      <th>Date</th>\n",
       "    </tr>\n",
       "  </thead>\n",
       "  <tbody>\n",
       "    <tr>\n",
       "      <th>0</th>\n",
       "      <td>Total DDD patients</td>\n",
       "      <td>84011</td>\n",
       "      <td>2023-08-17</td>\n",
       "    </tr>\n",
       "    <tr>\n",
       "      <th>1</th>\n",
       "      <td>Total DDD patients for cell flag P</td>\n",
       "      <td>81589</td>\n",
       "      <td>2023-08-17</td>\n",
       "    </tr>\n",
       "    <tr>\n",
       "      <th>2</th>\n",
       "      <td>Total DDD patients for cell flag N</td>\n",
       "      <td>2422</td>\n",
       "      <td>2023-08-17</td>\n",
       "    </tr>\n",
       "  </tbody>\n",
       "</table>\n",
       "</div>"
      ],
      "text/plain": [
       "                                 Flag  Count        Date\n",
       "0                  Total DDD patients  84011  2023-08-17\n",
       "1  Total DDD patients for cell flag P  81589  2023-08-17\n",
       "2  Total DDD patients for cell flag N   2422  2023-08-17"
      ]
     },
     "execution_count": 453,
     "metadata": {},
     "output_type": "execute_result"
    }
   ],
   "source": [
    "final_dataframe5"
   ]
  },
  {
   "cell_type": "code",
   "execution_count": 454,
   "id": "f8b592db",
   "metadata": {},
   "outputs": [],
   "source": [
    "# import time function"
   ]
  },
  {
   "cell_type": "code",
   "execution_count": 455,
   "id": "e1a2095c",
   "metadata": {},
   "outputs": [
    {
     "name": "stdout",
     "output_type": "stream",
     "text": [
      "12 :15 :17\n"
     ]
    }
   ],
   "source": [
    "import time\n",
    "now=time.localtime()\n",
    "t=time.strftime(\"%H :%M :%S\",now)\n",
    "print(t)\n",
    "                "
   ]
  },
  {
   "cell_type": "code",
   "execution_count": 456,
   "id": "cd8de614",
   "metadata": {},
   "outputs": [
    {
     "data": {
      "text/plain": [
       "'12 :15 :17'"
      ]
     },
     "execution_count": 456,
     "metadata": {},
     "output_type": "execute_result"
    }
   ],
   "source": [
    "t"
   ]
  },
  {
   "cell_type": "code",
   "execution_count": 457,
   "id": "2aeb17d3",
   "metadata": {},
   "outputs": [],
   "source": [
    "final_dataframe5[\"Time\"]=t"
   ]
  },
  {
   "cell_type": "code",
   "execution_count": 458,
   "id": "a0b5f37f",
   "metadata": {},
   "outputs": [
    {
     "data": {
      "text/html": [
       "<div>\n",
       "<style scoped>\n",
       "    .dataframe tbody tr th:only-of-type {\n",
       "        vertical-align: middle;\n",
       "    }\n",
       "\n",
       "    .dataframe tbody tr th {\n",
       "        vertical-align: top;\n",
       "    }\n",
       "\n",
       "    .dataframe thead th {\n",
       "        text-align: right;\n",
       "    }\n",
       "</style>\n",
       "<table border=\"1\" class=\"dataframe\">\n",
       "  <thead>\n",
       "    <tr style=\"text-align: right;\">\n",
       "      <th></th>\n",
       "      <th>Flag</th>\n",
       "      <th>Count</th>\n",
       "      <th>Date</th>\n",
       "      <th>Time</th>\n",
       "    </tr>\n",
       "  </thead>\n",
       "  <tbody>\n",
       "    <tr>\n",
       "      <th>0</th>\n",
       "      <td>Total DDD patients</td>\n",
       "      <td>84011</td>\n",
       "      <td>2023-08-17</td>\n",
       "      <td>12 :15 :17</td>\n",
       "    </tr>\n",
       "    <tr>\n",
       "      <th>1</th>\n",
       "      <td>Total DDD patients for cell flag P</td>\n",
       "      <td>81589</td>\n",
       "      <td>2023-08-17</td>\n",
       "      <td>12 :15 :17</td>\n",
       "    </tr>\n",
       "    <tr>\n",
       "      <th>2</th>\n",
       "      <td>Total DDD patients for cell flag N</td>\n",
       "      <td>2422</td>\n",
       "      <td>2023-08-17</td>\n",
       "      <td>12 :15 :17</td>\n",
       "    </tr>\n",
       "  </tbody>\n",
       "</table>\n",
       "</div>"
      ],
      "text/plain": [
       "                                 Flag  Count        Date        Time\n",
       "0                  Total DDD patients  84011  2023-08-17  12 :15 :17\n",
       "1  Total DDD patients for cell flag P  81589  2023-08-17  12 :15 :17\n",
       "2  Total DDD patients for cell flag N   2422  2023-08-17  12 :15 :17"
      ]
     },
     "execution_count": 458,
     "metadata": {},
     "output_type": "execute_result"
    }
   ],
   "source": [
    "final_dataframe5"
   ]
  },
  {
   "cell_type": "code",
   "execution_count": 459,
   "id": "84942780",
   "metadata": {},
   "outputs": [
    {
     "data": {
      "text/plain": [
       "Index(['Flag', 'Count', 'Date', 'Time'], dtype='object')"
      ]
     },
     "execution_count": 459,
     "metadata": {},
     "output_type": "execute_result"
    }
   ],
   "source": [
    "final_dataframe5.columns"
   ]
  },
  {
   "cell_type": "code",
   "execution_count": 460,
   "id": "65a4acc6",
   "metadata": {},
   "outputs": [],
   "source": [
    "# sort the column name"
   ]
  },
  {
   "cell_type": "code",
   "execution_count": 461,
   "id": "da929bff",
   "metadata": {},
   "outputs": [],
   "source": [
    "df_ddd1=final_dataframe5.iloc[:,[2,3,0,1]]"
   ]
  },
  {
   "cell_type": "code",
   "execution_count": 462,
   "id": "8ef20e46",
   "metadata": {},
   "outputs": [
    {
     "data": {
      "text/html": [
       "<div>\n",
       "<style scoped>\n",
       "    .dataframe tbody tr th:only-of-type {\n",
       "        vertical-align: middle;\n",
       "    }\n",
       "\n",
       "    .dataframe tbody tr th {\n",
       "        vertical-align: top;\n",
       "    }\n",
       "\n",
       "    .dataframe thead th {\n",
       "        text-align: right;\n",
       "    }\n",
       "</style>\n",
       "<table border=\"1\" class=\"dataframe\">\n",
       "  <thead>\n",
       "    <tr style=\"text-align: right;\">\n",
       "      <th></th>\n",
       "      <th>Date</th>\n",
       "      <th>Time</th>\n",
       "      <th>Flag</th>\n",
       "      <th>Count</th>\n",
       "    </tr>\n",
       "  </thead>\n",
       "  <tbody>\n",
       "    <tr>\n",
       "      <th>0</th>\n",
       "      <td>2023-08-17</td>\n",
       "      <td>12 :15 :17</td>\n",
       "      <td>Total DDD patients</td>\n",
       "      <td>84011</td>\n",
       "    </tr>\n",
       "    <tr>\n",
       "      <th>1</th>\n",
       "      <td>2023-08-17</td>\n",
       "      <td>12 :15 :17</td>\n",
       "      <td>Total DDD patients for cell flag P</td>\n",
       "      <td>81589</td>\n",
       "    </tr>\n",
       "    <tr>\n",
       "      <th>2</th>\n",
       "      <td>2023-08-17</td>\n",
       "      <td>12 :15 :17</td>\n",
       "      <td>Total DDD patients for cell flag N</td>\n",
       "      <td>2422</td>\n",
       "    </tr>\n",
       "  </tbody>\n",
       "</table>\n",
       "</div>"
      ],
      "text/plain": [
       "         Date        Time                                Flag  Count\n",
       "0  2023-08-17  12 :15 :17                  Total DDD patients  84011\n",
       "1  2023-08-17  12 :15 :17  Total DDD patients for cell flag P  81589\n",
       "2  2023-08-17  12 :15 :17  Total DDD patients for cell flag N   2422"
      ]
     },
     "execution_count": 462,
     "metadata": {},
     "output_type": "execute_result"
    }
   ],
   "source": [
    "df_ddd1"
   ]
  },
  {
   "cell_type": "code",
   "execution_count": 463,
   "id": "8782acdd",
   "metadata": {},
   "outputs": [],
   "source": [
    "# append all data frames"
   ]
  },
  {
   "cell_type": "code",
   "execution_count": 464,
   "id": "c85d8eee",
   "metadata": {},
   "outputs": [],
   "source": [
    "final_df=pd.concat([df_bbb_f,df_ddd_final,df_bbb1,df_ddd1],ignore_index=True,axis=0)"
   ]
  },
  {
   "cell_type": "code",
   "execution_count": 465,
   "id": "e1fda3b8",
   "metadata": {},
   "outputs": [
    {
     "data": {
      "text/html": [
       "<div>\n",
       "<style scoped>\n",
       "    .dataframe tbody tr th:only-of-type {\n",
       "        vertical-align: middle;\n",
       "    }\n",
       "\n",
       "    .dataframe tbody tr th {\n",
       "        vertical-align: top;\n",
       "    }\n",
       "\n",
       "    .dataframe thead th {\n",
       "        text-align: right;\n",
       "    }\n",
       "</style>\n",
       "<table border=\"1\" class=\"dataframe\">\n",
       "  <thead>\n",
       "    <tr style=\"text-align: right;\">\n",
       "      <th></th>\n",
       "      <th>Date</th>\n",
       "      <th>Time</th>\n",
       "      <th>Flag</th>\n",
       "      <th>Count</th>\n",
       "    </tr>\n",
       "  </thead>\n",
       "  <tbody>\n",
       "    <tr>\n",
       "      <th>0</th>\n",
       "      <td>2023-08-17</td>\n",
       "      <td>12 :02 :07</td>\n",
       "      <td>Total BBB patients count:</td>\n",
       "      <td>10119</td>\n",
       "    </tr>\n",
       "    <tr>\n",
       "      <th>1</th>\n",
       "      <td>2023-08-17</td>\n",
       "      <td>12 :02 :07</td>\n",
       "      <td>Total BBB patients for cell flag P</td>\n",
       "      <td>3747</td>\n",
       "    </tr>\n",
       "    <tr>\n",
       "      <th>2</th>\n",
       "      <td>2023-08-17</td>\n",
       "      <td>12 :02 :07</td>\n",
       "      <td>Total BBB patients for cell flag S</td>\n",
       "      <td>1</td>\n",
       "    </tr>\n",
       "    <tr>\n",
       "      <th>3</th>\n",
       "      <td>2023-08-17</td>\n",
       "      <td>12 :02 :07</td>\n",
       "      <td>Total BBB patients for cell flag N</td>\n",
       "      <td>6371</td>\n",
       "    </tr>\n",
       "    <tr>\n",
       "      <th>4</th>\n",
       "      <td>2023-08-17</td>\n",
       "      <td>12 :02 :36</td>\n",
       "      <td>Total DDD patients count:</td>\n",
       "      <td>84011</td>\n",
       "    </tr>\n",
       "    <tr>\n",
       "      <th>5</th>\n",
       "      <td>2023-08-17</td>\n",
       "      <td>12 :02 :36</td>\n",
       "      <td>Total DDD patients for cell flag P</td>\n",
       "      <td>81589</td>\n",
       "    </tr>\n",
       "    <tr>\n",
       "      <th>6</th>\n",
       "      <td>2023-08-17</td>\n",
       "      <td>12 :02 :36</td>\n",
       "      <td>Total DDD patients for cell flag N</td>\n",
       "      <td>2422</td>\n",
       "    </tr>\n",
       "    <tr>\n",
       "      <th>7</th>\n",
       "      <td>2023-08-17</td>\n",
       "      <td>12 :02 :43</td>\n",
       "      <td>Total BBB patients</td>\n",
       "      <td>10119</td>\n",
       "    </tr>\n",
       "    <tr>\n",
       "      <th>8</th>\n",
       "      <td>2023-08-17</td>\n",
       "      <td>12 :02 :43</td>\n",
       "      <td>Total BBB patients for cell flag P</td>\n",
       "      <td>3747</td>\n",
       "    </tr>\n",
       "    <tr>\n",
       "      <th>9</th>\n",
       "      <td>2023-08-17</td>\n",
       "      <td>12 :02 :43</td>\n",
       "      <td>Total BBB patients for cell flag S</td>\n",
       "      <td>1</td>\n",
       "    </tr>\n",
       "    <tr>\n",
       "      <th>10</th>\n",
       "      <td>2023-08-17</td>\n",
       "      <td>12 :02 :43</td>\n",
       "      <td>Total BBB patients for cell flag N</td>\n",
       "      <td>6371</td>\n",
       "    </tr>\n",
       "    <tr>\n",
       "      <th>11</th>\n",
       "      <td>2023-08-17</td>\n",
       "      <td>12 :15 :17</td>\n",
       "      <td>Total DDD patients</td>\n",
       "      <td>84011</td>\n",
       "    </tr>\n",
       "    <tr>\n",
       "      <th>12</th>\n",
       "      <td>2023-08-17</td>\n",
       "      <td>12 :15 :17</td>\n",
       "      <td>Total DDD patients for cell flag P</td>\n",
       "      <td>81589</td>\n",
       "    </tr>\n",
       "    <tr>\n",
       "      <th>13</th>\n",
       "      <td>2023-08-17</td>\n",
       "      <td>12 :15 :17</td>\n",
       "      <td>Total DDD patients for cell flag N</td>\n",
       "      <td>2422</td>\n",
       "    </tr>\n",
       "  </tbody>\n",
       "</table>\n",
       "</div>"
      ],
      "text/plain": [
       "          Date        Time                                Flag  Count\n",
       "0   2023-08-17  12 :02 :07           Total BBB patients count:  10119\n",
       "1   2023-08-17  12 :02 :07  Total BBB patients for cell flag P   3747\n",
       "2   2023-08-17  12 :02 :07  Total BBB patients for cell flag S      1\n",
       "3   2023-08-17  12 :02 :07  Total BBB patients for cell flag N   6371\n",
       "4   2023-08-17  12 :02 :36           Total DDD patients count:  84011\n",
       "5   2023-08-17  12 :02 :36  Total DDD patients for cell flag P  81589\n",
       "6   2023-08-17  12 :02 :36  Total DDD patients for cell flag N   2422\n",
       "7   2023-08-17  12 :02 :43                  Total BBB patients  10119\n",
       "8   2023-08-17  12 :02 :43  Total BBB patients for cell flag P   3747\n",
       "9   2023-08-17  12 :02 :43  Total BBB patients for cell flag S      1\n",
       "10  2023-08-17  12 :02 :43  Total BBB patients for cell flag N   6371\n",
       "11  2023-08-17  12 :15 :17                  Total DDD patients  84011\n",
       "12  2023-08-17  12 :15 :17  Total DDD patients for cell flag P  81589\n",
       "13  2023-08-17  12 :15 :17  Total DDD patients for cell flag N   2422"
      ]
     },
     "execution_count": 465,
     "metadata": {},
     "output_type": "execute_result"
    }
   ],
   "source": [
    "final_df"
   ]
  },
  {
   "cell_type": "code",
   "execution_count": null,
   "id": "f7f5e75c",
   "metadata": {},
   "outputs": [],
   "source": []
  }
 ],
 "metadata": {
  "kernelspec": {
   "display_name": "Python 3 (ipykernel)",
   "language": "python",
   "name": "python3"
  },
  "language_info": {
   "codemirror_mode": {
    "name": "ipython",
    "version": 3
   },
   "file_extension": ".py",
   "mimetype": "text/x-python",
   "name": "python",
   "nbconvert_exporter": "python",
   "pygments_lexer": "ipython3",
   "version": "3.10.9"
  }
 },
 "nbformat": 4,
 "nbformat_minor": 5
}
