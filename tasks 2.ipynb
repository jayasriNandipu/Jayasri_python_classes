{
 "cells": [
  {
   "cell_type": "code",
   "execution_count": 53,
   "id": "dcaf1218",
   "metadata": {},
   "outputs": [],
   "source": [
    "def productselection(product,existingproduct,mart):\n",
    "    if product==\"a\":\n",
    "        if mart==\"jio\":\n",
    "            print(\"jio offer=30%\")  \n",
    "        elif mart==\"reliance\":\n",
    "            print(\"reliance offer=40%\")\n",
    "        else:\n",
    "            print(\"discount=0%\")   \n",
    "    elif product==\"b\":\n",
    "        if mart==\"jio\":\n",
    "            if existingproduct[0]==\"a\":\n",
    "                print(\"jio offer=50%\")\n",
    "            else:\n",
    "                print(\"discount=0%\")\n",
    "        elif mart==\"reliance\":\n",
    "            if existingproduct[0]==\"a\":\n",
    "                print(\"jio offer=50%\")  \n",
    "            else:\n",
    "                     print(\"discount=0%\")\n",
    "        else:\n",
    "            print(\"discount=0%\")\n",
    "    elif product==\"c\":\n",
    "        if mart==\"jio\":\n",
    "            if (existingproduct[0]==\"a\") and (existingproduct[1]==\"b\"):\n",
    "                print(\"jio offer=50%\")\n",
    "            else:\n",
    "                print(\"discount=0%\")\n",
    "        elif mart==\"reliance\":\n",
    "            if (existingproduct[0]==\"a\") and (existingproduct[1]==\"b\"):\n",
    "                print(\"jio offer=50%\")\n",
    "            else:\n",
    "                     print(\"discount=0%\")\n",
    "        else:\n",
    "            print(\"discount=0%\")\n",
    "    elif product==\"d\":\n",
    "        if mart==\"jio\":\n",
    "            if (existingproduct[0]==\"a\") and (existingproduct[1]==\"b\") and (existingproduct[2]==\"c\"):\n",
    "                print(\"jio offer=50%\")\n",
    "            else:\n",
    "                print(\"discount=0%\")\n",
    "        elif mart==\"reliance\":\n",
    "            if (existingproduct[0]==\"a\") and (existingproduct[1]==\"b\") and (existingproduct[2]==\"c\"):\n",
    "                print(\"jio offer=50%\")\n",
    "            else:\n",
    "                     print(\"discount=0%\")\n",
    "        else:\n",
    "            print(\"discount=0%\")"
   ]
  },
  {
   "cell_type": "code",
   "execution_count": 73,
   "id": "5a1809e9",
   "metadata": {},
   "outputs": [
    {
     "name": "stdout",
     "output_type": "stream",
     "text": [
      "jio offer=50%\n"
     ]
    }
   ],
   "source": [
    "productselection(\"d\",[\"a\",\"b\",\"c\"],\"jio\")"
   ]
  },
  {
   "cell_type": "code",
   "execution_count": null,
   "id": "809809b1",
   "metadata": {},
   "outputs": [],
   "source": []
  },
  {
   "cell_type": "code",
   "execution_count": null,
   "id": "c73f1e98",
   "metadata": {},
   "outputs": [],
   "source": []
  },
  {
   "cell_type": "code",
   "execution_count": 27,
   "id": "8e1935cc",
   "metadata": {},
   "outputs": [
    {
     "ename": "SyntaxError",
     "evalue": "invalid syntax (1963406008.py, line 6)",
     "output_type": "error",
     "traceback": [
      "\u001b[1;36m  Cell \u001b[1;32mIn[27], line 6\u001b[1;36m\u001b[0m\n\u001b[1;33m    \"age\":[>25],\u001b[0m\n\u001b[1;37m           ^\u001b[0m\n\u001b[1;31mSyntaxError\u001b[0m\u001b[1;31m:\u001b[0m invalid syntax\n"
     ]
    }
   ],
   "source": [
    "event={\n",
    "    \"name\":\"jayasri\",\n",
    "    \"account_number\":1234566789,\n",
    "    \"type_of_credit\":\"debit\",\n",
    "    \"loan\":\"yes\",\"location\":\"metro\",\n",
    "    \"age\":[>25],\n",
    "    \"employe_type\":\"individual\"\n",
    "}\n",
    "\n",
    "initial_amount==10000\n",
    "\n",
    "def bank_details(event,balance):\n",
    "\n",
    "    if event['name']==\"jayasri\" and event['account_number']==1234566789:\n",
    "\n",
    "\n",
    "        if event['credit_type']:\n",
    "            print( event['balance']=event['amount']+event['initial_amount'])\n",
    "        elif event['debit_type']:\n",
    "            print(event['balance']=event['amount']-event['initial_amount'])\n",
    "\n",
    "\n",
    "        if event['loan']==\"yes\":\n",
    "            print(event['balance']=\"event['amount']-1000\")\n",
    "        elif event['loan']==\"no\":\n",
    "            print(event['balance']=\"event['amount']-1000\")\n",
    "\n",
    "\n",
    "        if event['location']==\"metro\":\n",
    "            print(event['balance']=event['amount']+2000)\n",
    "        elif event['locaton']==\"non_metro\":\n",
    "            print(event['balance']=event['amount']-2000)\n",
    "\n",
    "\n",
    "        if event['age']==[>25]:\n",
    "            print(event['balance']=event['amount']+18000)\n",
    "        else event['age']==[<25]:\n",
    "            print(event['balance']=event['amount']+0)\n",
    "\n",
    "\n",
    "        if event['employe_type']==\"individual\":\n",
    "            print(\"event['balance']=event['amount']+1000\")\n",
    "            elif event['employe_type']==\"business\":\n",
    "                print(\"event['balance']=event['amount']+500\")\n",
    "                else:\n",
    "                    print(\"event['balance']\")\n",
    "return balance\n",
    "\n"
   ]
  },
  {
   "cell_type": "code",
   "execution_count": null,
   "id": "fa5a6dd8",
   "metadata": {},
   "outputs": [],
   "source": []
  },
  {
   "cell_type": "code",
   "execution_count": null,
   "id": "c4db3924",
   "metadata": {},
   "outputs": [],
   "source": []
  },
  {
   "cell_type": "code",
   "execution_count": null,
   "id": "1d7783f7",
   "metadata": {},
   "outputs": [],
   "source": []
  },
  {
   "cell_type": "code",
   "execution_count": null,
   "id": "cb236a7c",
   "metadata": {},
   "outputs": [],
   "source": []
  },
  {
   "cell_type": "code",
   "execution_count": null,
   "id": "be503358",
   "metadata": {},
   "outputs": [],
   "source": []
  },
  {
   "cell_type": "code",
   "execution_count": null,
   "id": "df567c8e",
   "metadata": {},
   "outputs": [],
   "source": []
  },
  {
   "cell_type": "code",
   "execution_count": null,
   "id": "dcbb14bd",
   "metadata": {},
   "outputs": [],
   "source": []
  },
  {
   "cell_type": "code",
   "execution_count": null,
   "id": "d43863d0",
   "metadata": {},
   "outputs": [],
   "source": []
  }
 ],
 "metadata": {
  "kernelspec": {
   "display_name": "Python 3 (ipykernel)",
   "language": "python",
   "name": "python3"
  },
  "language_info": {
   "codemirror_mode": {
    "name": "ipython",
    "version": 3
   },
   "file_extension": ".py",
   "mimetype": "text/x-python",
   "name": "python",
   "nbconvert_exporter": "python",
   "pygments_lexer": "ipython3",
   "version": "3.10.9"
  }
 },
 "nbformat": 4,
 "nbformat_minor": 5
}
