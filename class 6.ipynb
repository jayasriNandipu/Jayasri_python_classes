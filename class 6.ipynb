{
 "cells": [
  {
   "cell_type": "code",
   "execution_count": 11,
   "id": "24402f9f",
   "metadata": {},
   "outputs": [
    {
     "name": "stdout",
     "output_type": "stream",
     "text": [
      "my_friends_names is: ruchitha\n",
      "my_friends_names is: geetha\n",
      "my_friends_names is: hareesh\n",
      "my_friends_names is: supraja\n",
      "my_friends_names is: sai\n",
      "my_friends_names is: lakshmi\n",
      "my_friends_names is: divya\n",
      "my_friends_names is: krupa\n",
      "my_friends_names is: rajini\n",
      "my_friends_names is: swarna\n"
     ]
    }
   ],
   "source": [
    "friends_names=[\"ruchitha\",\"geetha\",\"hareesh\",\"supraja\",\"sai\",\"lakshmi\",\"divya\",\"krupa\",\"rajini\",\"swarna\"]\n",
    "for p in friends_names:\n",
    "    print(\"my_friends_names is:\",p)"
   ]
  },
  {
   "cell_type": "code",
   "execution_count": 12,
   "id": "6a34baa5",
   "metadata": {},
   "outputs": [
    {
     "name": "stdout",
     "output_type": "stream",
     "text": [
      "jayasri\n",
      "mounika\n",
      "prasad\n",
      "janardhna rao\n",
      "lakshmi\n",
      "rajini\n",
      "basavaiah\n",
      "rakesh\n",
      "rajasekhar\n",
      "srinivas\n"
     ]
    }
   ],
   "source": [
    "family_members=[\"jayasri\",\"mounika\",\"prasad\",\"janardhna rao\",\"lakshmi\",\"rajini\",\"basavaiah\",\"rakesh\",\"rajasekhar\",\"srinivas\"]\n",
    "for p in family_members:\n",
    "    print(p)"
   ]
  },
  {
   "cell_type": "code",
   "execution_count": 13,
   "id": "ebf05538",
   "metadata": {},
   "outputs": [
    {
     "name": "stdout",
     "output_type": "stream",
     "text": [
      "food_names: potato\n",
      "food_names: ladies finger\n",
      "food_names: brinjal\n",
      "food_names: carrot\n",
      "food_names: onions\n",
      "food_names: cabage\n",
      "food_names: califlower\n",
      "food_names: bitter guared\n",
      "food_names: beat_root\n"
     ]
    }
   ],
   "source": [
    "food_names=[\"potato\",\"ladies finger\",\"brinjal\",\"carrot\",\"onions\",\"cabage\",\"califlower\",\"bitter guared\",\"beat_root\"]\n",
    "for p in food_names:\n",
    "    print(\"food_names:\",p)"
   ]
  },
  {
   "cell_type": "code",
   "execution_count": 14,
   "id": "a718e0c9",
   "metadata": {},
   "outputs": [
    {
     "name": "stdout",
     "output_type": "stream",
     "text": [
      "food_names1: chicken\n",
      "food_names1: fish\n",
      "food_names1: egg\n",
      "food_names1: egg fride rice\n",
      "food_names1: chicken fride rice:\n",
      "food_names1: egg fride rice\n",
      "food_names1: chicken manchuriya\n",
      "food_names1: egg manchuriya\n"
     ]
    }
   ],
   "source": [
    "food_names1=[\"chicken\",\"fish\",\"egg\",\"egg fride rice\",\"chicken fride rice:\",\"egg fride rice\",\"chicken manchuriya\",\"egg manchuriya\"]\n",
    "for p in food_names1:\n",
    "    print(\"food_names1:\",p)"
   ]
  },
  {
   "cell_type": "code",
   "execution_count": 16,
   "id": "5ee08218",
   "metadata": {},
   "outputs": [
    {
     "name": "stdout",
     "output_type": "stream",
     "text": [
      "colour_names: yellow\n",
      "colour_names: blue\n",
      "colour_names: red\n",
      "colour_names: orange\n",
      "colour_names: white\n",
      "colour_names: brown\n",
      "colour_names: skyblue\n",
      "colour_names: green\n",
      "colour_names: pink\n",
      "colour_names: black\n"
     ]
    }
   ],
   "source": [
    "colour_names={\"red\",\"blue\",\"green\",\"yellow\",\"red\",\"black\",\"brown\",\"skyblue\",\"pink\",\"white\",\"orange\",\"white\"}\n",
    "for p in colour_names:\n",
    "    print(\"colour_names:\",p)"
   ]
  },
  {
   "cell_type": "code",
   "execution_count": 18,
   "id": "8735eb82",
   "metadata": {},
   "outputs": [],
   "source": [
    "colour_names={\"c"
   ]
  },
  {
   "cell_type": "code",
   "execution_count": 19,
   "id": "da713764",
   "metadata": {},
   "outputs": [
    {
     "data": {
      "text/plain": [
       "{'black',\n",
       " 'blue',\n",
       " 'brown',\n",
       " 'green',\n",
       " 'orange',\n",
       " 'pink',\n",
       " 'red',\n",
       " 'skyblue',\n",
       " 'white',\n",
       " 'yellow'}"
      ]
     },
     "execution_count": 19,
     "metadata": {},
     "output_type": "execute_result"
    }
   ],
   "source": [
    "colour_names"
   ]
  },
  {
   "cell_type": "code",
   "execution_count": 20,
   "id": "92eb470e",
   "metadata": {},
   "outputs": [
    {
     "name": "stdout",
     "output_type": "stream",
     "text": [
      "month_names: january\n",
      "month_names: february\n",
      "month_names: march\n",
      "month_names: april\n",
      "month_names: may\n",
      "month_names: june\n",
      "month_names: july\n",
      "month_names: august\n",
      "month_names: september\n",
      "month_names: octomber\n",
      "month_names: november\n",
      "month_names: december\n"
     ]
    }
   ],
   "source": [
    "month_names=[\"january\",\"february\",\"march\",\"april\",\"may\",\"june\",\"july\",\"august\",\"september\",\"octomber\",\"november\",\"december\"]\n",
    "for p in month_names:\n",
    "    print(\"month_names:\",p)"
   ]
  },
  {
   "cell_type": "code",
   "execution_count": 3,
   "id": "e84b5f7c",
   "metadata": {
    "scrolled": true
   },
   "outputs": [
    {
     "name": "stdout",
     "output_type": "stream",
     "text": [
      "9\n",
      "18\n",
      "27\n",
      "36\n",
      "45\n",
      "54\n",
      "63\n",
      "72\n",
      "81\n",
      "90\n"
     ]
    }
   ],
   "source": [
    "for p in range(9,91,9):\n",
    "    print(p)"
   ]
  },
  {
   "cell_type": "code",
   "execution_count": 2,
   "id": "5b913f9b",
   "metadata": {},
   "outputs": [
    {
     "name": "stdout",
     "output_type": "stream",
     "text": [
      "12\n",
      "24\n",
      "36\n",
      "48\n",
      "60\n",
      "72\n",
      "84\n",
      "96\n",
      "108\n",
      "120\n"
     ]
    }
   ],
   "source": [
    "for p in range(12,121,12):\n",
    "    print(p)"
   ]
  },
  {
   "cell_type": "code",
   "execution_count": 40,
   "id": "a75cdede",
   "metadata": {},
   "outputs": [
    {
     "name": "stdout",
     "output_type": "stream",
     "text": [
      "iteration********************* 0\n",
      "the value of p: 0\n",
      "the value ofx+15 15\n",
      "the value of x: 15\n",
      "iteration********************* 6\n",
      "the value of p: 6\n",
      "the value ofx+15 21\n",
      "the value of x: 21\n",
      "iteration********************* 12\n",
      "the value of p: 12\n",
      "the value ofx+15 27\n",
      "the value of x: 27\n",
      "iteration********************* 18\n",
      "the value of p: 18\n",
      "the value ofx+15 33\n",
      "the value of x: 33\n",
      "iteration********************* 24\n",
      "the value of p: 24\n",
      "the value ofx+15 39\n",
      "the value of x: 39\n",
      "iteration********************* 30\n",
      "the value of p: 30\n",
      "the value ofx+15 45\n",
      "the value of x: 45\n",
      "iteration********************* 36\n",
      "the value of p: 36\n",
      "the value ofx+15 51\n",
      "the value of x: 51\n",
      "iteration********************* 42\n",
      "the value of p: 42\n",
      "the value ofx+15 57\n",
      "the value of x: 57\n",
      "iteration********************* 48\n",
      "the value of p: 48\n",
      "the value ofx+15 63\n",
      "the value of x: 63\n",
      "iteration********************* 54\n",
      "the value of p: 54\n",
      "the value ofx+15 69\n",
      "the value of x: 69\n"
     ]
    }
   ],
   "source": [
    "for p in range(0,60,6):\n",
    "    print(\"iteration*********************\",p)\n",
    "    x=p+15\n",
    "    print(\"the value of p:\",p)\n",
    "    print(\"the value ofx+15\",p+15)\n",
    "    print(\"the value of x:\",x)\n",
    "   "
   ]
  },
  {
   "cell_type": "code",
   "execution_count": 1,
   "id": "5a38fc84",
   "metadata": {},
   "outputs": [
    {
     "data": {
      "text/html": [
       "<div>\n",
       "<style scoped>\n",
       "    .dataframe tbody tr th:only-of-type {\n",
       "        vertical-align: middle;\n",
       "    }\n",
       "\n",
       "    .dataframe tbody tr th {\n",
       "        vertical-align: top;\n",
       "    }\n",
       "\n",
       "    .dataframe thead th {\n",
       "        text-align: right;\n",
       "    }\n",
       "</style>\n",
       "<table border=\"1\" class=\"dataframe\">\n",
       "  <thead>\n",
       "    <tr style=\"text-align: right;\">\n",
       "      <th></th>\n",
       "      <th>names</th>\n",
       "      <th>quality</th>\n",
       "    </tr>\n",
       "  </thead>\n",
       "  <tbody>\n",
       "    <tr>\n",
       "      <th>0</th>\n",
       "      <td>ruchitha</td>\n",
       "      <td>brave girl</td>\n",
       "    </tr>\n",
       "    <tr>\n",
       "      <th>1</th>\n",
       "      <td>geetha</td>\n",
       "      <td>funny</td>\n",
       "    </tr>\n",
       "    <tr>\n",
       "      <th>2</th>\n",
       "      <td>hareesh</td>\n",
       "      <td>clever</td>\n",
       "    </tr>\n",
       "    <tr>\n",
       "      <th>3</th>\n",
       "      <td>supraja</td>\n",
       "      <td>spititcual</td>\n",
       "    </tr>\n",
       "    <tr>\n",
       "      <th>4</th>\n",
       "      <td>sai</td>\n",
       "      <td>angry</td>\n",
       "    </tr>\n",
       "    <tr>\n",
       "      <th>5</th>\n",
       "      <td>lakshmi</td>\n",
       "      <td>silent</td>\n",
       "    </tr>\n",
       "    <tr>\n",
       "      <th>6</th>\n",
       "      <td>divya</td>\n",
       "      <td>comedian</td>\n",
       "    </tr>\n",
       "    <tr>\n",
       "      <th>7</th>\n",
       "      <td>krupa</td>\n",
       "      <td>innocent</td>\n",
       "    </tr>\n",
       "    <tr>\n",
       "      <th>8</th>\n",
       "      <td>rajini</td>\n",
       "      <td>joy</td>\n",
       "    </tr>\n",
       "    <tr>\n",
       "      <th>9</th>\n",
       "      <td>swarna</td>\n",
       "      <td>goodgirl</td>\n",
       "    </tr>\n",
       "  </tbody>\n",
       "</table>\n",
       "</div>"
      ],
      "text/plain": [
       "      names     quality\n",
       "0  ruchitha  brave girl\n",
       "1    geetha       funny\n",
       "2   hareesh      clever\n",
       "3   supraja  spititcual\n",
       "4       sai       angry\n",
       "5   lakshmi      silent\n",
       "6     divya    comedian\n",
       "7     krupa    innocent\n",
       "8    rajini         joy\n",
       "9    swarna    goodgirl"
      ]
     },
     "execution_count": 1,
     "metadata": {},
     "output_type": "execute_result"
    }
   ],
   "source": [
    "\n",
    "\n",
    "import pandas as pd\n",
    "df=pd.read_excel(r\"D:\\\\jayasri\\\\pandas-classes\\\\non-veg-items.xlsx\")\n",
    "df\n"
   ]
  },
  {
   "cell_type": "code",
   "execution_count": null,
   "id": "761a020d",
   "metadata": {},
   "outputs": [],
   "source": [
    "D:\\jayasri\\pandas-classes\\assignments-8-b"
   ]
  },
  {
   "cell_type": "code",
   "execution_count": 2,
   "id": "e67d494b",
   "metadata": {},
   "outputs": [
    {
     "data": {
      "text/html": [
       "<div>\n",
       "<style scoped>\n",
       "    .dataframe tbody tr th:only-of-type {\n",
       "        vertical-align: middle;\n",
       "    }\n",
       "\n",
       "    .dataframe tbody tr th {\n",
       "        vertical-align: top;\n",
       "    }\n",
       "\n",
       "    .dataframe thead th {\n",
       "        text-align: right;\n",
       "    }\n",
       "</style>\n",
       "<table border=\"1\" class=\"dataframe\">\n",
       "  <thead>\n",
       "    <tr style=\"text-align: right;\">\n",
       "      <th></th>\n",
       "      <th>names</th>\n",
       "      <th>quality</th>\n",
       "    </tr>\n",
       "  </thead>\n",
       "  <tbody>\n",
       "    <tr>\n",
       "      <th>0</th>\n",
       "      <td>ruchitha</td>\n",
       "      <td>brave girl</td>\n",
       "    </tr>\n",
       "    <tr>\n",
       "      <th>1</th>\n",
       "      <td>geetha</td>\n",
       "      <td>funny</td>\n",
       "    </tr>\n",
       "    <tr>\n",
       "      <th>2</th>\n",
       "      <td>hareesh</td>\n",
       "      <td>clever</td>\n",
       "    </tr>\n",
       "    <tr>\n",
       "      <th>3</th>\n",
       "      <td>supraja</td>\n",
       "      <td>spititcual</td>\n",
       "    </tr>\n",
       "    <tr>\n",
       "      <th>4</th>\n",
       "      <td>sai</td>\n",
       "      <td>angry</td>\n",
       "    </tr>\n",
       "    <tr>\n",
       "      <th>5</th>\n",
       "      <td>lakshmi</td>\n",
       "      <td>silent</td>\n",
       "    </tr>\n",
       "    <tr>\n",
       "      <th>6</th>\n",
       "      <td>divya</td>\n",
       "      <td>comedian</td>\n",
       "    </tr>\n",
       "    <tr>\n",
       "      <th>7</th>\n",
       "      <td>krupa</td>\n",
       "      <td>innocent</td>\n",
       "    </tr>\n",
       "    <tr>\n",
       "      <th>8</th>\n",
       "      <td>rajini</td>\n",
       "      <td>joy</td>\n",
       "    </tr>\n",
       "    <tr>\n",
       "      <th>9</th>\n",
       "      <td>swarna</td>\n",
       "      <td>goodgirl</td>\n",
       "    </tr>\n",
       "  </tbody>\n",
       "</table>\n",
       "</div>"
      ],
      "text/plain": [
       "      names     quality\n",
       "0  ruchitha  brave girl\n",
       "1    geetha       funny\n",
       "2   hareesh      clever\n",
       "3   supraja  spititcual\n",
       "4       sai       angry\n",
       "5   lakshmi      silent\n",
       "6     divya    comedian\n",
       "7     krupa    innocent\n",
       "8    rajini         joy\n",
       "9    swarna    goodgirl"
      ]
     },
     "execution_count": 2,
     "metadata": {},
     "output_type": "execute_result"
    }
   ],
   "source": [
    "import pandas as pd\n",
    "df=pd.read_excel(r\"D:\\jayasri\\pandas-classes\\assignments-8-b\\family members.xlsx\")\n",
    "df"
   ]
  },
  {
   "cell_type": "code",
   "execution_count": null,
   "id": "1dbe8ee7",
   "metadata": {},
   "outputs": [],
   "source": []
  },
  {
   "cell_type": "code",
   "execution_count": null,
   "id": "1aa064bb",
   "metadata": {},
   "outputs": [],
   "source": []
  }
 ],
 "metadata": {
  "kernelspec": {
   "display_name": "Python 3 (ipykernel)",
   "language": "python",
   "name": "python3"
  },
  "language_info": {
   "codemirror_mode": {
    "name": "ipython",
    "version": 3
   },
   "file_extension": ".py",
   "mimetype": "text/x-python",
   "name": "python",
   "nbconvert_exporter": "python",
   "pygments_lexer": "ipython3",
   "version": "3.10.9"
  }
 },
 "nbformat": 4,
 "nbformat_minor": 5
}
