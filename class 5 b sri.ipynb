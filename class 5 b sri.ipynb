{
 "cells": [
  {
   "cell_type": "code",
   "execution_count": 1,
   "id": "a8b20bff",
   "metadata": {},
   "outputs": [
    {
     "name": "stdout",
     "output_type": "stream",
     "text": [
      "you are teen_age:\n"
     ]
    }
   ],
   "source": [
    "age = 30\n",
    "if age >20 :\n",
    "    print(\"you are teen_age:\")\n",
    "else:\n",
    "    print(\"you are youngerage \")\n"
   ]
  },
  {
   "cell_type": "code",
   "execution_count": 2,
   "id": "5d79376b",
   "metadata": {},
   "outputs": [
    {
     "name": "stdout",
     "output_type": "stream",
     "text": [
      "you are youngerage \n"
     ]
    }
   ],
   "source": [
    "    age = 50\n",
    "if age >30 :\n",
    "    print(\"you are teen_age:\")\n",
    "else:\n",
    "    print(\"you are youngerage \")"
   ]
  },
  {
   "cell_type": "code",
   "execution_count": 3,
   "id": "3c0bd9eb",
   "metadata": {},
   "outputs": [
    {
     "name": "stdout",
     "output_type": "stream",
     "text": [
      "you are children:\n"
     ]
    }
   ],
   "source": [
    "age = 10\n",
    "if age >10 :\n",
    "    print(\"you are teen_age:\")\n",
    "else:\n",
    "    print(\"you are children:\")"
   ]
  },
  {
   "cell_type": "code",
   "execution_count": 4,
   "id": "8b6f4e04",
   "metadata": {},
   "outputs": [
    {
     "name": "stdout",
     "output_type": "stream",
     "text": [
      "i lost:\n"
     ]
    }
   ],
   "source": [
    "profit=10\n",
    "if profit >10:\n",
    "   print(\"i am profitable:\")\n",
    "else:\n",
    "   print(\"i lost:\") \n",
    "    "
   ]
  },
  {
   "cell_type": "code",
   "execution_count": 2,
   "id": "471ec25a",
   "metadata": {},
   "outputs": [
    {
     "name": "stdout",
     "output_type": "stream",
     "text": [
      "weekday\n"
     ]
    }
   ],
   "source": [
    "today=\"friday\"\n",
    "if today==\"monday\":\n",
    "    print(\"weekday\")\n",
    "elif today==\"tuesday\":\n",
    "    print(\"weekday\")\n",
    "elif today==\"wednesday\":\n",
    "    print(\"weekday\")\n",
    "elif today==\"thursday\":\n",
    "    print(\"weekday\")\n",
    "elif today==\"friday\":\n",
    "    print(\"weekday\")\n",
    "elif today==\"saturday\":\n",
    "    print(\"weekend\")\n",
    "else :\n",
    "    today==\"sunday\"\n",
    "    print(\"weekend\")"
   ]
  },
  {
   "cell_type": "code",
   "execution_count": null,
   "id": "bb02ba50",
   "metadata": {},
   "outputs": [],
   "source": []
  },
  {
   "cell_type": "code",
   "execution_count": null,
   "id": "a80b9f81",
   "metadata": {},
   "outputs": [],
   "source": []
  },
  {
   "cell_type": "code",
   "execution_count": 4,
   "id": "24a41e35",
   "metadata": {},
   "outputs": [
    {
     "name": "stdout",
     "output_type": "stream",
     "text": [
      "i am profitable:\n"
     ]
    }
   ],
   "source": [
    "profit= 30\n",
    "if profit >10:\n",
    "   print(\"i am profitable:\")\n",
    "else:\n",
    "   print(\"i lost:\") \n",
    "    "
   ]
  },
  {
   "cell_type": "code",
   "execution_count": 5,
   "id": "4c581893",
   "metadata": {},
   "outputs": [
    {
     "name": "stdout",
     "output_type": "stream",
     "text": [
      "30% discount:\n"
     ]
    }
   ],
   "source": [
    "purchase=101\n",
    "if purchase>100:\n",
    "    print(\"30% discount:\")\n",
    "elif purchase<50:\n",
    "    print(\"10% discount:\")\n",
    "else:\n",
    "    print(\"20% discount:\")"
   ]
  },
  {
   "cell_type": "code",
   "execution_count": 6,
   "id": "2c3c3d12",
   "metadata": {},
   "outputs": [
    {
     "name": "stdout",
     "output_type": "stream",
     "text": [
      "10% discount:\n"
     ]
    }
   ],
   "source": [
    "purchase=45\n",
    "if purchase>100:\n",
    "    print(\"30% discount:\")\n",
    "elif purchase<50:\n",
    "    print(\"10% discount:\")\n",
    "else:\n",
    "    print(\"20% discount:\")"
   ]
  },
  {
   "cell_type": "code",
   "execution_count": 7,
   "id": "5e9445b2",
   "metadata": {},
   "outputs": [
    {
     "name": "stdout",
     "output_type": "stream",
     "text": [
      "20% discount:\n"
     ]
    }
   ],
   "source": [
    "purchase=70\n",
    "if purchase>100:\n",
    "    print(\"30% discount:\")\n",
    "elif purchase<50:\n",
    "    print(\"10% discount:\")\n",
    "else:\n",
    "    print(\"20% discount:\")"
   ]
  },
  {
   "cell_type": "code",
   "execution_count": 8,
   "id": "3297f44f",
   "metadata": {},
   "outputs": [
    {
     "name": "stdout",
     "output_type": "stream",
     "text": [
      "chair:\n"
     ]
    }
   ],
   "source": [
    "theater_price=50\n",
    "if theater_price==140:\n",
    "    print(\"balcony\")\n",
    "elif theater_price==50:\n",
    "    print(\"chair:\")\n",
    "else:\n",
    "    print(\"bench:\")\n",
    "    "
   ]
  },
  {
   "cell_type": "code",
   "execution_count": 9,
   "id": "9bd7b3df",
   "metadata": {},
   "outputs": [
    {
     "name": "stdout",
     "output_type": "stream",
     "text": [
      "balcony\n"
     ]
    }
   ],
   "source": [
    "theater_price=140\n",
    "if theater_price==140:\n",
    "    print(\"balcony\")\n",
    "elif theater_price==50:\n",
    "    print(\"chair:\")\n",
    "else:\n",
    "    print(\"bench:\")"
   ]
  },
  {
   "cell_type": "code",
   "execution_count": 14,
   "id": "99eee578",
   "metadata": {},
   "outputs": [
    {
     "name": "stdout",
     "output_type": "stream",
     "text": [
      "tickets not available\n"
     ]
    }
   ],
   "source": [
    "theater_price=55\n",
    "if theater_price==140:\n",
    "    print(\"balcony\")\n",
    "elif theater_price==50:\n",
    "    print(\"chair:\")\n",
    "elif theater_price==100:\n",
    "    print(\"bench:\")\n",
    "else:\n",
    "    print(\"tickets not available\")"
   ]
  },
  {
   "cell_type": "code",
   "execution_count": 12,
   "id": "08c7e90c",
   "metadata": {},
   "outputs": [
    {
     "name": "stdout",
     "output_type": "stream",
     "text": [
      "bike and scooty\n"
     ]
    }
   ],
   "source": [
    "vehicle_type=\"two_wheeler\"\n",
    "\n",
    "if vehicle_type==\"two_wheeler\":\n",
    "    print(\"bike and scooty\")\n",
    "elif vehicle_type==\"four_wheeler\":\n",
    "    print(\"car,lorry,van & zeep\")\n",
    "else:\n",
    "    print(\"not available\")"
   ]
  },
  {
   "cell_type": "code",
   "execution_count": 8,
   "id": "07ab11b0",
   "metadata": {},
   "outputs": [
    {
     "name": "stdout",
     "output_type": "stream",
     "text": [
      "bike and scooty\n"
     ]
    }
   ],
   "source": [
    "vehicle=\"twowheeler\"\n",
    "if vehicle==\"twowheeler\":\n",
    "    print(\"bike and scooty\")\n",
    "elif vehicle==\"fourwheeler\":\n",
    "    print(\"car,lorry,van,zeep\")\n",
    "else:\n",
    "    print(\"not available\")"
   ]
  },
  {
   "cell_type": "code",
   "execution_count": null,
   "id": "d1a29061",
   "metadata": {},
   "outputs": [],
   "source": []
  },
  {
   "cell_type": "code",
   "execution_count": null,
   "id": "db382985",
   "metadata": {},
   "outputs": [],
   "source": []
  },
  {
   "cell_type": "code",
   "execution_count": null,
   "id": "a3b15587",
   "metadata": {},
   "outputs": [],
   "source": []
  },
  {
   "cell_type": "code",
   "execution_count": null,
   "id": "fee14334",
   "metadata": {},
   "outputs": [],
   "source": []
  },
  {
   "cell_type": "code",
   "execution_count": null,
   "id": "7fadca9b",
   "metadata": {},
   "outputs": [],
   "source": []
  }
 ],
 "metadata": {
  "kernelspec": {
   "display_name": "Python 3 (ipykernel)",
   "language": "python",
   "name": "python3"
  },
  "language_info": {
   "codemirror_mode": {
    "name": "ipython",
    "version": 3
   },
   "file_extension": ".py",
   "mimetype": "text/x-python",
   "name": "python",
   "nbconvert_exporter": "python",
   "pygments_lexer": "ipython3",
   "version": "3.10.9"
  }
 },
 "nbformat": 4,
 "nbformat_minor": 5
}
