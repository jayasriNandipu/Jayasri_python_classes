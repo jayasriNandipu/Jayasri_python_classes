{
 "cells": [
  {
   "cell_type": "code",
   "execution_count": 6,
   "id": "4d84767e",
   "metadata": {},
   "outputs": [],
   "source": [
    "dictt3={\"family_members\":[\"jayasri\",\"mounika\",\"prasad\",\"janardhna rao\",\"lakshmi\",\"rajini\",\"basavaiah\",\"rakesh\",\"rajasekhar\",\"srinivas\"],\"relations\":[\"my self\",\"sister\",\"brother\",\"father\",\"mother\",\"sister in law\",\"grand father\",\"brother\",\"brother\",\"brother\"]}"
   ]
  },
  {
   "cell_type": "code",
   "execution_count": 7,
   "id": "6048d1e2",
   "metadata": {},
   "outputs": [
    {
     "data": {
      "text/plain": [
       "{'family_members': ['jayasri',\n",
       "  'mounika',\n",
       "  'prasad',\n",
       "  'janardhna rao',\n",
       "  'lakshmi',\n",
       "  'rajini',\n",
       "  'basavaiah',\n",
       "  'rakesh',\n",
       "  'rajasekhar',\n",
       "  'srinivas'],\n",
       " 'relations': ['my self',\n",
       "  'sister',\n",
       "  'brother',\n",
       "  'father',\n",
       "  'mother',\n",
       "  'sister in law',\n",
       "  'grand father',\n",
       "  'brother',\n",
       "  'brother',\n",
       "  'brother']}"
      ]
     },
     "execution_count": 7,
     "metadata": {},
     "output_type": "execute_result"
    }
   ],
   "source": [
    "dictt3"
   ]
  },
  {
   "cell_type": "code",
   "execution_count": 8,
   "id": "cd988b65",
   "metadata": {},
   "outputs": [
    {
     "data": {
      "text/plain": [
       "'janardhna rao'"
      ]
     },
     "execution_count": 8,
     "metadata": {},
     "output_type": "execute_result"
    }
   ],
   "source": [
    "dictt3[\"family_members\"][-7]"
   ]
  },
  {
   "cell_type": "code",
   "execution_count": 9,
   "id": "9969c738",
   "metadata": {},
   "outputs": [
    {
     "data": {
      "text/plain": [
       "'janardhna rao'"
      ]
     },
     "execution_count": 9,
     "metadata": {},
     "output_type": "execute_result"
    }
   ],
   "source": [
    "dictt3[\"family_members\"][-7]"
   ]
  },
  {
   "cell_type": "code",
   "execution_count": 6,
   "id": "74a0e41e",
   "metadata": {},
   "outputs": [],
   "source": [
    "dictt7={\"family_members\":[\"jayasri\",\"mounika\",\"prasad\",\"janardhna rao\",\"lakshmi\",\"rajini\",\"basavaiah\",\"rakesh\",\"rajasekhar\",\"srinivas\"]}"
   ]
  },
  {
   "cell_type": "code",
   "execution_count": 7,
   "id": "f8e46a03",
   "metadata": {},
   "outputs": [
    {
     "data": {
      "text/plain": [
       "{'family_members': ['jayasri',\n",
       "  'mounika',\n",
       "  'prasad',\n",
       "  'janardhna rao',\n",
       "  'lakshmi',\n",
       "  'rajini',\n",
       "  'basavaiah',\n",
       "  'rakesh',\n",
       "  'rajasekhar',\n",
       "  'srinivas']}"
      ]
     },
     "execution_count": 7,
     "metadata": {},
     "output_type": "execute_result"
    }
   ],
   "source": [
    "dictt7"
   ]
  },
  {
   "cell_type": "code",
   "execution_count": 11,
   "id": "3680bfc2",
   "metadata": {},
   "outputs": [],
   "source": [
    "dictt={\"friends_names\":[\"ruchitha\",\"geetha\",\"hareesh\",\"supraja\",\"sai\",\"lakshmi\",\"divya\",\"krupa\",\"rajini\",\"swarna\"],\"quality\":[\"spititcual\",\"innocent\",\"silent killer\",\"intelligent\",\"anger\",\"silent\",\"funny\",\"brave girl\",\"joy\",\"comedian\"]}"
   ]
  },
  {
   "cell_type": "code",
   "execution_count": 12,
   "id": "0fbb1603",
   "metadata": {},
   "outputs": [
    {
     "data": {
      "text/plain": [
       "{'friends_names': ['ruchitha',\n",
       "  'geetha',\n",
       "  'hareesh',\n",
       "  'supraja',\n",
       "  'sai',\n",
       "  'lakshmi',\n",
       "  'divya',\n",
       "  'krupa',\n",
       "  'rajini',\n",
       "  'swarna'],\n",
       " 'quality': ['spititcual',\n",
       "  'innocent',\n",
       "  'silent killer',\n",
       "  'intelligent',\n",
       "  'anger',\n",
       "  'silent',\n",
       "  'funny',\n",
       "  'brave girl',\n",
       "  'joy',\n",
       "  'comedian']}"
      ]
     },
     "execution_count": 12,
     "metadata": {},
     "output_type": "execute_result"
    }
   ],
   "source": [
    "dictt"
   ]
  },
  {
   "cell_type": "code",
   "execution_count": 17,
   "id": "99c415ee",
   "metadata": {},
   "outputs": [
    {
     "data": {
      "text/plain": [
       "'supraja'"
      ]
     },
     "execution_count": 17,
     "metadata": {},
     "output_type": "execute_result"
    }
   ],
   "source": [
    "dictt[\"friends_names\"][-7]"
   ]
  },
  {
   "cell_type": "code",
   "execution_count": 18,
   "id": "67bca1d6",
   "metadata": {},
   "outputs": [
    {
     "data": {
      "text/plain": [
       "'hareesh'"
      ]
     },
     "execution_count": 18,
     "metadata": {},
     "output_type": "execute_result"
    }
   ],
   "source": [
    "dictt[\"friends_names\"][-8]"
   ]
  },
  {
   "cell_type": "code",
   "execution_count": 19,
   "id": "efa7cdc9",
   "metadata": {},
   "outputs": [],
   "source": [
    "dictt4={\"non_veg_items\":[\"chicken\",\"fish\",\"egg\",\"egg fride rice\",\"chicken fride rice:\",\"egg fride rice\",\"chicken manchuriya\",\"egg manchuriya\"],\"veg_items\":[\"potato\",\"ladies finger\",\"brinjal\",\"carrot\",\"onions\",\"cabage\",\"califlower\",\"bitter guared\"],\"rating\":[1,2,3,4,5,6,7,8]}"
   ]
  },
  {
   "cell_type": "code",
   "execution_count": 20,
   "id": "78eea4e6",
   "metadata": {},
   "outputs": [
    {
     "data": {
      "text/plain": [
       "{'non_veg_items': ['chicken',\n",
       "  'fish',\n",
       "  'egg',\n",
       "  'egg fride rice',\n",
       "  'chicken fride rice:',\n",
       "  'egg fride rice',\n",
       "  'chicken manchuriya',\n",
       "  'egg manchuriya'],\n",
       " 'veg_items': ['potato',\n",
       "  'ladies finger',\n",
       "  'brinjal',\n",
       "  'carrot',\n",
       "  'onions',\n",
       "  'cabage',\n",
       "  'califlower',\n",
       "  'bitter guared'],\n",
       " 'rating': [1, 2, 3, 4, 5, 6, 7, 8]}"
      ]
     },
     "execution_count": 20,
     "metadata": {},
     "output_type": "execute_result"
    }
   ],
   "source": [
    "dictt4"
   ]
  },
  {
   "cell_type": "code",
   "execution_count": 21,
   "id": "9a1056d6",
   "metadata": {},
   "outputs": [],
   "source": [
    "dictt5={\"favourite_destination\":[\"delhi\",\"araku\",\"vijayawada\",\"simla\",\"vizag\",\"ootii\",\"kodaikenal\",\"manalii\"],\"ratings\":[7,2,3,4,8,5,6,1]}"
   ]
  },
  {
   "cell_type": "code",
   "execution_count": 22,
   "id": "635f144e",
   "metadata": {},
   "outputs": [
    {
     "data": {
      "text/plain": [
       "{'favourite_destination': ['delhi',\n",
       "  'araku',\n",
       "  'vijayawada',\n",
       "  'simla',\n",
       "  'vizag',\n",
       "  'ootii',\n",
       "  'kodaikenal',\n",
       "  'manalii'],\n",
       " 'ratings': [7, 2, 3, 4, 8, 5, 6, 1]}"
      ]
     },
     "execution_count": 22,
     "metadata": {},
     "output_type": "execute_result"
    }
   ],
   "source": [
    "dictt5"
   ]
  },
  {
   "cell_type": "code",
   "execution_count": 23,
   "id": "cd5b3ec7",
   "metadata": {},
   "outputs": [
    {
     "data": {
      "text/plain": [
       "['delhi', 'araku', 'vijayawada']"
      ]
     },
     "execution_count": 23,
     "metadata": {},
     "output_type": "execute_result"
    }
   ],
   "source": [
    "dictt5[\"favourite_destination\"][0:3]"
   ]
  },
  {
   "cell_type": "code",
   "execution_count": null,
   "id": "140fe684",
   "metadata": {},
   "outputs": [],
   "source": []
  },
  {
   "cell_type": "code",
   "execution_count": null,
   "id": "3ee4e7dd",
   "metadata": {},
   "outputs": [],
   "source": []
  },
  {
   "cell_type": "code",
   "execution_count": null,
   "id": "af3baf66",
   "metadata": {},
   "outputs": [],
   "source": []
  },
  {
   "cell_type": "code",
   "execution_count": null,
   "id": "90a48d43",
   "metadata": {},
   "outputs": [],
   "source": []
  },
  {
   "cell_type": "code",
   "execution_count": null,
   "id": "e323def2",
   "metadata": {},
   "outputs": [],
   "source": []
  },
  {
   "cell_type": "code",
   "execution_count": null,
   "id": "d5b8a8fe",
   "metadata": {},
   "outputs": [],
   "source": []
  }
 ],
 "metadata": {
  "kernelspec": {
   "display_name": "Python 3 (ipykernel)",
   "language": "python",
   "name": "python3"
  },
  "language_info": {
   "codemirror_mode": {
    "name": "ipython",
    "version": 3
   },
   "file_extension": ".py",
   "mimetype": "text/x-python",
   "name": "python",
   "nbconvert_exporter": "python",
   "pygments_lexer": "ipython3",
   "version": "3.10.9"
  }
 },
 "nbformat": 4,
 "nbformat_minor": 5
}
