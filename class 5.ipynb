{
 "cells": [
  {
   "cell_type": "code",
   "execution_count": 2,
   "id": "43f8ea50",
   "metadata": {},
   "outputs": [],
   "source": [
    "dictt1={\"friends names\":[\"ruchitha\",\"geetha\",\"hareesh\",\"supraja\",\"sai\",\"lakshmi\",\"divya\",\"krupa\",\"rajini\",\"swarna\"],\"quality\":[\"spititcual\",\"innocent\",\"silent killer\",\"intelligent\",\"anger\",\"silent\",\"funny\",\"brave girl\",\"joy\",\"comedian\"]}"
   ]
  },
  {
   "cell_type": "code",
   "execution_count": null,
   "id": "dfe22c79",
   "metadata": {},
   "outputs": [],
   "source": []
  },
  {
   "cell_type": "code",
   "execution_count": 4,
   "id": "6a2ac349",
   "metadata": {},
   "outputs": [
    {
     "ename": "NameError",
     "evalue": "name 'dictt1' is not defined",
     "output_type": "error",
     "traceback": [
      "\u001b[1;31m---------------------------------------------------------------------------\u001b[0m",
      "\u001b[1;31mNameError\u001b[0m                                 Traceback (most recent call last)",
      "Cell \u001b[1;32mIn[4], line 1\u001b[0m\n\u001b[1;32m----> 1\u001b[0m \u001b[43mdictt1\u001b[49m[\u001b[38;5;124m\"\u001b[39m\u001b[38;5;124mfriends names\u001b[39m\u001b[38;5;124m\"\u001b[39m][\u001b[38;5;241m-\u001b[39m\u001b[38;5;241m9\u001b[39m]\n",
      "\u001b[1;31mNameError\u001b[0m: name 'dictt1' is not defined"
     ]
    }
   ],
   "source": [
    "dictt1[\"friends names\"][-9]"
   ]
  },
  {
   "cell_type": "code",
   "execution_count": null,
   "id": "396614ba",
   "metadata": {},
   "outputs": [],
   "source": []
  },
  {
   "cell_type": "code",
   "execution_count": 5,
   "id": "f6a06688",
   "metadata": {},
   "outputs": [
    {
     "data": {
      "text/plain": [
       "'supraja'"
      ]
     },
     "execution_count": 5,
     "metadata": {},
     "output_type": "execute_result"
    }
   ],
   "source": [
    "dictt1[\"friends names\"][-7]"
   ]
  },
  {
   "cell_type": "code",
   "execution_count": 13,
   "id": "18c685b5",
   "metadata": {},
   "outputs": [],
   "source": [
    "dictt2={\"family members\":[\"jayasri\",\"mounika\",\"prasad\",\"janardhna rao\",\"lakshmi\",\"rajini\",\"basavaiah\",\"rakesh\",\"rajasekhar\",\"srinivas\"]}"
   ]
  },
  {
   "cell_type": "code",
   "execution_count": 14,
   "id": "82c87681",
   "metadata": {},
   "outputs": [
    {
     "data": {
      "text/plain": [
       "{'family members': ['jayasri',\n",
       "  'mounika',\n",
       "  'prasad',\n",
       "  'janardhna rao',\n",
       "  'lakshmi',\n",
       "  'rajini',\n",
       "  'basavaiah',\n",
       "  'rakesh',\n",
       "  'rajasekhar',\n",
       "  'srinivas']}"
      ]
     },
     "execution_count": 14,
     "metadata": {},
     "output_type": "execute_result"
    }
   ],
   "source": [
    "dictt2"
   ]
  },
  {
   "cell_type": "code",
   "execution_count": 34,
   "id": "d788ecde",
   "metadata": {},
   "outputs": [],
   "source": [
    "dictt3={\"family_members\":[\"jayasri\",\"mounika\",\"prasad\",\"janardhna rao\",\"lakshmi\",\"rajini\",\"basavaiah\",\"rakesh\",\"rajasekhar\",\"srinivas\"],\"relations\":[\"my self\",\"sister\",\"brother\",\"father\",\"mother\",\"sister in law\",\"grand father\",\"brother\",\"brother\",\"brother\"]}"
   ]
  },
  {
   "cell_type": "code",
   "execution_count": 35,
   "id": "309c1c02",
   "metadata": {},
   "outputs": [
    {
     "data": {
      "text/plain": [
       "{'family_members': ['jayasri',\n",
       "  'mounika',\n",
       "  'prasad',\n",
       "  'janardhna rao',\n",
       "  'lakshmi',\n",
       "  'rajini',\n",
       "  'basavaiah',\n",
       "  'rakesh',\n",
       "  'rajasekhar',\n",
       "  'srinivas'],\n",
       " 'relations': ['my self',\n",
       "  'sister',\n",
       "  'brother',\n",
       "  'father',\n",
       "  'mother',\n",
       "  'sister in law',\n",
       "  'grand father',\n",
       "  'brother',\n",
       "  'brother',\n",
       "  'brother']}"
      ]
     },
     "execution_count": 35,
     "metadata": {},
     "output_type": "execute_result"
    }
   ],
   "source": [
    "dictt3"
   ]
  },
  {
   "cell_type": "code",
   "execution_count": 53,
   "id": "7e57a0e5",
   "metadata": {},
   "outputs": [
    {
     "data": {
      "text/plain": [
       "'janardhna rao'"
      ]
     },
     "execution_count": 53,
     "metadata": {},
     "output_type": "execute_result"
    }
   ],
   "source": [
    "dictt3[\"family_members\"][-7]"
   ]
  },
  {
   "cell_type": "code",
   "execution_count": 56,
   "id": "dafd5ad9",
   "metadata": {},
   "outputs": [],
   "source": [
    "dictt4={\"non_veg_items\":[\"chicken\",\"fish\",\"egg\",\"egg fride rice\",\"chicken fride rice:\",\"egg fride rice\",\"chicken manchuriya\",\"egg manchuriya\"],\"veg_items\":[\"potato\",\"ladies finger\",\"brinjal\",\"carrot\",\"onions\",\"cabage\",\"califlower\",\"bitter guared\"],\"rating\":[1,2,3,4,5,6,7,8]}"
   ]
  },
  {
   "cell_type": "code",
   "execution_count": 57,
   "id": "6b4c1d8f",
   "metadata": {
    "scrolled": true
   },
   "outputs": [
    {
     "data": {
      "text/plain": [
       "{'non_veg_items': ['chicken',\n",
       "  'fish',\n",
       "  'egg',\n",
       "  'egg fride rice',\n",
       "  'chicken fride rice:',\n",
       "  'egg fride rice',\n",
       "  'chicken manchuriya',\n",
       "  'egg manchuriya'],\n",
       " 'veg_items': ['potato',\n",
       "  'ladies finger',\n",
       "  'brinjal',\n",
       "  'carrot',\n",
       "  'onions',\n",
       "  'cabage',\n",
       "  'califlower',\n",
       "  'bitter guared'],\n",
       " 'rating': [1, 2, 3, 4, 5, 6, 7, 8]}"
      ]
     },
     "execution_count": 57,
     "metadata": {},
     "output_type": "execute_result"
    }
   ],
   "source": [
    "dictt4"
   ]
  },
  {
   "cell_type": "code",
   "execution_count": 5,
   "id": "7b204d4a",
   "metadata": {},
   "outputs": [
    {
     "ename": "NameError",
     "evalue": "name 'dictt4' is not defined",
     "output_type": "error",
     "traceback": [
      "\u001b[1;31m---------------------------------------------------------------------------\u001b[0m",
      "\u001b[1;31mNameError\u001b[0m                                 Traceback (most recent call last)",
      "Cell \u001b[1;32mIn[5], line 1\u001b[0m\n\u001b[1;32m----> 1\u001b[0m \u001b[43mdictt4\u001b[49m[\u001b[38;5;124m\"\u001b[39m\u001b[38;5;124mnon_veg_items\u001b[39m\u001b[38;5;124m\"\u001b[39m][\u001b[38;5;241m-\u001b[39m\u001b[38;5;241m4\u001b[39m]\n",
      "\u001b[1;31mNameError\u001b[0m: name 'dictt4' is not defined"
     ]
    }
   ],
   "source": [
    "dictt4[\"non_veg_items\"][-4]"
   ]
  },
  {
   "cell_type": "code",
   "execution_count": 23,
   "id": "8bfb3847",
   "metadata": {},
   "outputs": [],
   "source": [
    "dictt5={\"favourite_destination\":[\"delhi\",\"araku\",\"vijayawada\",\"simla\",\"vizag\",\"ootii\",\"kodaikenal\",\"manalii\"],\"ratings\":[7,2,3,4,8,5,6,1]}"
   ]
  },
  {
   "cell_type": "code",
   "execution_count": 24,
   "id": "7cd8671d",
   "metadata": {},
   "outputs": [
    {
     "data": {
      "text/plain": [
       "{'favourite_destination': ['delhi',\n",
       "  'araku',\n",
       "  'vijayawada',\n",
       "  'simla',\n",
       "  'vizag',\n",
       "  'ootii',\n",
       "  'kodaikenal',\n",
       "  'manalii'],\n",
       " 'ratings': [7, 2, 3, 4, 8, 5, 6, 1]}"
      ]
     },
     "execution_count": 24,
     "metadata": {},
     "output_type": "execute_result"
    }
   ],
   "source": [
    "dictt5"
   ]
  },
  {
   "cell_type": "code",
   "execution_count": 25,
   "id": "d2edbf91",
   "metadata": {},
   "outputs": [
    {
     "data": {
      "text/plain": [
       "['delhi', 'araku', 'vijayawada']"
      ]
     },
     "execution_count": 25,
     "metadata": {},
     "output_type": "execute_result"
    }
   ],
   "source": [
    "dictt5[\"favourite_destination\"][0:3]"
   ]
  },
  {
   "cell_type": "code",
   "execution_count": null,
   "id": "423ed21d",
   "metadata": {},
   "outputs": [],
   "source": []
  },
  {
   "cell_type": "code",
   "execution_count": 1,
   "id": "37f0ea36",
   "metadata": {},
   "outputs": [
    {
     "data": {
      "text/plain": [
       "['january', 'frbruary', 'march', 'april', 'may', 'june', 'july']"
      ]
     },
     "execution_count": 1,
     "metadata": {},
     "output_type": "execute_result"
    }
   ],
   "source": [
    "lst=[\"january\",\"frbruary\",\"march\",\"april\",\"may\",\"june\",\"july\",]\n",
    "lst"
   ]
  },
  {
   "cell_type": "code",
   "execution_count": 1,
   "id": "42a13f58",
   "metadata": {},
   "outputs": [
    {
     "name": "stdout",
     "output_type": "stream",
     "text": [
      "jayasri\n"
     ]
    }
   ],
   "source": [
    "name = \"jayasri\"\n",
    "print(name)"
   ]
  },
  {
   "cell_type": "code",
   "execution_count": null,
   "id": "4e44f4c2",
   "metadata": {},
   "outputs": [],
   "source": []
  },
  {
   "cell_type": "code",
   "execution_count": null,
   "id": "679c274b",
   "metadata": {},
   "outputs": [],
   "source": []
  },
  {
   "cell_type": "code",
   "execution_count": null,
   "id": "9c1f5c7a",
   "metadata": {},
   "outputs": [],
   "source": []
  },
  {
   "cell_type": "code",
   "execution_count": null,
   "id": "f33f5e64",
   "metadata": {},
   "outputs": [],
   "source": []
  },
  {
   "cell_type": "code",
   "execution_count": null,
   "id": "e481b9c3",
   "metadata": {},
   "outputs": [],
   "source": []
  }
 ],
 "metadata": {
  "kernelspec": {
   "display_name": "Python 3 (ipykernel)",
   "language": "python",
   "name": "python3"
  },
  "language_info": {
   "codemirror_mode": {
    "name": "ipython",
    "version": 3
   },
   "file_extension": ".py",
   "mimetype": "text/x-python",
   "name": "python",
   "nbconvert_exporter": "python",
   "pygments_lexer": "ipython3",
   "version": "3.10.9"
  }
 },
 "nbformat": 4,
 "nbformat_minor": 5
}
