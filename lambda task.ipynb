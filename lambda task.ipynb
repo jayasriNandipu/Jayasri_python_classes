{
 "cells": [
  {
   "cell_type": "code",
   "execution_count": null,
   "id": "1ea2faae",
   "metadata": {},
   "outputs": [],
   "source": []
  },
  {
   "cell_type": "code",
   "execution_count": null,
   "id": "5d94d79e",
   "metadata": {},
   "outputs": [],
   "source": []
  },
  {
   "cell_type": "code",
   "execution_count": 125,
   "id": "fdefbb77",
   "metadata": {},
   "outputs": [],
   "source": [
    "event={ \"name\":\"jayasri\",\"account_number\":1234566789,\"credit_type\":\"credit\",\"location\":\"metro\",\"age\":25,\"loan\":\"yes\",\"employee_type\":\"salaried\",\"initial_amount\":100000,\"amount\":2000}\n",
    "\n",
    "def bank_details(event):\n",
    "\n",
    "    if event['name']==\"jayasri\" and event['account_number']==1234566789:\n",
    "    \n",
    "        if event['credit_type']==\"ceredit\":\n",
    "            balance==event['amount']+event['initial_amount']\n",
    "            if event['location']==\"metro\":\n",
    "                balance==balance+2000\n",
    "                if event['age']>25:\n",
    "                    balance==balance+18000\n",
    "                    if event['loan']==\"yes\":\n",
    "                        balance==balance-1000\n",
    "                        if  event['employee_type']==\"salaried\":\n",
    "                            balance ==balance+0\n",
    "                        elif event['employee_type']==\"individual\":\n",
    "                              balance ==balance+1000\n",
    "                        elif event['employee_type']==\"business\":\n",
    "                            balance== balance+500\n",
    "        elif event['credit_type']==\"debit\":\n",
    "            balance==balance+event['initial_amount']\n",
    "            if event['loan']==\"no\":\n",
    "                balance==balance-1000\n",
    "                if event['locaton']==\"non_metro\":\n",
    "                    balance==event['amount']-2000\n",
    "                    if event['age']<25:\n",
    "                        balance==event['amount']+0\n",
    "                        if event['loan']==\"no\":\n",
    "                            balance==balance-1000\n",
    "                            if event['employee_type']==\"salaried\":\n",
    "                                balance ==balance+0\n",
    "                            elif event['employee_type']==\"individual\":\n",
    "                                balance ==balance-1000\n",
    "                            elif event['employee_type']==\"business\":\n",
    "                                balance== balance-500\n",
    "event={ \"name\":\"jayasri\", \"account_number\":1234566789, \"credit_type\":\"credit\", \"location\":\"metro\", \"age\":25,\"loan\":\"yes\", \"initial_amount\":100000,\"amount\":2000}\n",
    "\n",
    "def bank_details(event):\n",
    "\n",
    "    if event['name']==\"jayasri\" and event['account_number']==1234566789:\n",
    "    \n",
    "        if event['credit_type']==\"ceredit\":\n",
    "            balance==event['amount']+event['initial_amount']\n",
    "            if event['location']==\"metro\":\n",
    "                balance==balance+2000\n",
    "                if event['age']>25:\n",
    "                    balance==balance+18000\n",
    "                    if event['loan']==\"yes\":\n",
    "                        balance==balance-1000\n",
    "                        if  event['employee_type']==\"salaried\":\n",
    "                            balance ==balance+0\n",
    "                        elif event['employee_type']==\"individual\":\n",
    "                              balance ==balance+1000\n",
    "                        elif event['employee_type']==\"business\":\n",
    "                            balance== balance+500\n",
    "        elif event['credit_type']==\"debit\":\n",
    "            balance==balance+event['initial_amount']\n",
    "            if event['loan']==\"no\":\n",
    "                balance==balance-1000\n",
    "                if event['locaton']==\"non_metro\":\n",
    "                    balance==event['amount']-2000\n",
    "                    if event['age']<25:\n",
    "                        balance==event['amount']+0\n",
    "                        if event['loan']==\"no\":\n",
    "                            balance==balance-1000\n",
    "                            if event['employee_type']==\"salaried\":\n",
    "                                balance ==balance+0\n",
    "                            elif event['employee_type']==\"individual\":\n",
    "                                balance ==balance-1000\n",
    "                            elif event['employee_type']==\"business\":\n",
    "                                 balance== balance-500\n",
    "\n",
    "                            \n",
    "        return (balance)\n",
    "                \n",
    "                \n",
    "                \n",
    "           \n",
    "      \n",
    "                \n",
    "                \n",
    "           \n",
    "      "
   ]
  },
  {
   "cell_type": "code",
   "execution_count": 126,
   "id": "e231bc47",
   "metadata": {},
   "outputs": [
    {
     "ename": "NameError",
     "evalue": "name 'balance' is not defined",
     "output_type": "error",
     "traceback": [
      "\u001b[1;31m---------------------------------------------------------------------------\u001b[0m",
      "\u001b[1;31mNameError\u001b[0m                                 Traceback (most recent call last)",
      "Cell \u001b[1;32mIn[126], line 1\u001b[0m\n\u001b[1;32m----> 1\u001b[0m \u001b[43mbank_details\u001b[49m\u001b[43m(\u001b[49m\u001b[43mevent\u001b[49m\u001b[43m)\u001b[49m\n",
      "Cell \u001b[1;32mIn[125], line 77\u001b[0m, in \u001b[0;36mbank_details\u001b[1;34m(event)\u001b[0m\n\u001b[0;32m     73\u001b[0m                     \u001b[38;5;28;01melif\u001b[39;00m event[\u001b[38;5;124m'\u001b[39m\u001b[38;5;124memployee_type\u001b[39m\u001b[38;5;124m'\u001b[39m]\u001b[38;5;241m==\u001b[39m\u001b[38;5;124m\"\u001b[39m\u001b[38;5;124mbusiness\u001b[39m\u001b[38;5;124m\"\u001b[39m:\n\u001b[0;32m     74\u001b[0m                          balance\u001b[38;5;241m==\u001b[39m balance\u001b[38;5;241m-\u001b[39m\u001b[38;5;241m500\u001b[39m\n\u001b[1;32m---> 77\u001b[0m \u001b[38;5;28;01mreturn\u001b[39;00m (\u001b[43mbalance\u001b[49m)\n",
      "\u001b[1;31mNameError\u001b[0m: name 'balance' is not defined"
     ]
    }
   ],
   "source": [
    "bank_details(event)"
   ]
  },
  {
   "cell_type": "code",
   "execution_count": null,
   "id": "5d0a2cec",
   "metadata": {},
   "outputs": [],
   "source": []
  },
  {
   "cell_type": "code",
   "execution_count": null,
   "id": "36def7ab",
   "metadata": {},
   "outputs": [],
   "source": []
  },
  {
   "cell_type": "code",
   "execution_count": null,
   "id": "6a2d9337",
   "metadata": {},
   "outputs": [],
   "source": []
  },
  {
   "cell_type": "code",
   "execution_count": null,
   "id": "b9ef2c85",
   "metadata": {},
   "outputs": [],
   "source": []
  },
  {
   "cell_type": "code",
   "execution_count": null,
   "id": "4e1043f4",
   "metadata": {},
   "outputs": [],
   "source": []
  },
  {
   "cell_type": "code",
   "execution_count": null,
   "id": "1973fa72",
   "metadata": {},
   "outputs": [],
   "source": []
  },
  {
   "cell_type": "code",
   "execution_count": null,
   "id": "88eeaf32",
   "metadata": {},
   "outputs": [],
   "source": []
  },
  {
   "cell_type": "code",
   "execution_count": null,
   "id": "73de9a55",
   "metadata": {},
   "outputs": [],
   "source": []
  },
  {
   "cell_type": "code",
   "execution_count": null,
   "id": "0b85392f",
   "metadata": {},
   "outputs": [],
   "source": []
  },
  {
   "cell_type": "code",
   "execution_count": null,
   "id": "8ca749ab",
   "metadata": {},
   "outputs": [],
   "source": []
  },
  {
   "cell_type": "code",
   "execution_count": null,
   "id": "a3a30e8e",
   "metadata": {},
   "outputs": [],
   "source": []
  },
  {
   "cell_type": "code",
   "execution_count": null,
   "id": "e11e762b",
   "metadata": {},
   "outputs": [],
   "source": []
  }
 ],
 "metadata": {
  "kernelspec": {
   "display_name": "Python 3 (ipykernel)",
   "language": "python",
   "name": "python3"
  },
  "language_info": {
   "codemirror_mode": {
    "name": "ipython",
    "version": 3
   },
   "file_extension": ".py",
   "mimetype": "text/x-python",
   "name": "python",
   "nbconvert_exporter": "python",
   "pygments_lexer": "ipython3",
   "version": "3.10.9"
  }
 },
 "nbformat": 4,
 "nbformat_minor": 5
}
