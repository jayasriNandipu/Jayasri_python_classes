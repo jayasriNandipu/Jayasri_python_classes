{
 "cells": [
  {
   "cell_type": "code",
   "execution_count": 16,
   "id": "f9fd8260",
   "metadata": {},
   "outputs": [],
   "source": [
    "def share_market(invest_amount,share):\n",
    "    if share>5 :\n",
    "        retun=invest_amount*25\n",
    "    else :\n",
    "        retun=invest_amount*20\n",
    "    return retun\n",
    "        "
   ]
  },
  {
   "cell_type": "code",
   "execution_count": 17,
   "id": "9d03337c",
   "metadata": {},
   "outputs": [
    {
     "data": {
      "text/plain": [
       "250000"
      ]
     },
     "execution_count": 17,
     "metadata": {},
     "output_type": "execute_result"
    }
   ],
   "source": [
    "share_market(10000,8)"
   ]
  },
  {
   "cell_type": "code",
   "execution_count": 18,
   "id": "9fd527de",
   "metadata": {},
   "outputs": [
    {
     "data": {
      "text/plain": [
       "200000"
      ]
     },
     "execution_count": 18,
     "metadata": {},
     "output_type": "execute_result"
    }
   ],
   "source": [
    "share_market(10000,4)"
   ]
  },
  {
   "cell_type": "code",
   "execution_count": 19,
   "id": "a3f56177",
   "metadata": {},
   "outputs": [],
   "source": [
    "def addition():\n",
    "    a=10\n",
    "    b=30\n",
    "    c=a+b\n",
    "    return c"
   ]
  },
  {
   "cell_type": "code",
   "execution_count": 20,
   "id": "f46eec48",
   "metadata": {},
   "outputs": [
    {
     "data": {
      "text/plain": [
       "40"
      ]
     },
     "execution_count": 20,
     "metadata": {},
     "output_type": "execute_result"
    }
   ],
   "source": [
    " addition()"
   ]
  },
  {
   "cell_type": "code",
   "execution_count": 21,
   "id": "92191d82",
   "metadata": {},
   "outputs": [],
   "source": [
    "def multiplication():\n",
    "    a=40\n",
    "    b=25\n",
    "    c=a*b\n",
    "    return c"
   ]
  },
  {
   "cell_type": "code",
   "execution_count": 22,
   "id": "0c739b9e",
   "metadata": {},
   "outputs": [
    {
     "data": {
      "text/plain": [
       "1000"
      ]
     },
     "execution_count": 22,
     "metadata": {},
     "output_type": "execute_result"
    }
   ],
   "source": [
    "multiplication()"
   ]
  },
  {
   "cell_type": "code",
   "execution_count": 23,
   "id": "3675b24c",
   "metadata": {},
   "outputs": [],
   "source": [
    "def multiplication(a,b):\n",
    "    c=a*b\n",
    "    return c"
   ]
  },
  {
   "cell_type": "code",
   "execution_count": 24,
   "id": "f7ab2044",
   "metadata": {},
   "outputs": [
    {
     "data": {
      "text/plain": [
       "500"
      ]
     },
     "execution_count": 24,
     "metadata": {},
     "output_type": "execute_result"
    }
   ],
   "source": [
    " multiplication(10,50)"
   ]
  },
  {
   "cell_type": "code",
   "execution_count": 2,
   "id": "30adbb49",
   "metadata": {},
   "outputs": [],
   "source": [
    "def credit_card_offer(salary,credit_limit):\n",
    "    if salary<10000 :\n",
    "        credit_limit=salary*10\n",
    "    elif salary>=10000 and salary<=30000 :\n",
    "        credit_limit=salary*20\n",
    "    else :\n",
    "        salary>30000\n",
    "        credit_limit=salary*30\n",
    "    return credit_limit\n"
   ]
  },
  {
   "cell_type": "code",
   "execution_count": 3,
   "id": "fd215d6b",
   "metadata": {},
   "outputs": [
    {
     "data": {
      "text/plain": [
       "1200000"
      ]
     },
     "execution_count": 3,
     "metadata": {},
     "output_type": "execute_result"
    }
   ],
   "source": [
    "credit_card_offer(40000,10)"
   ]
  },
  {
   "cell_type": "code",
   "execution_count": 59,
   "id": "46aa750a",
   "metadata": {},
   "outputs": [],
   "source": [
    "def dmart_discount_offer(amount,discount):\n",
    "    if amount<20000:\n",
    "        discount=0.2\n",
    "    elif amount>=20000 and amount<=40000:\n",
    "        discout=0.3\n",
    "    else:\n",
    "        amount>50000\n",
    "        discount=0.4\n",
    "    return discount\n",
    "    "
   ]
  },
  {
   "cell_type": "code",
   "execution_count": 60,
   "id": "5cbab1d7",
   "metadata": {},
   "outputs": [
    {
     "data": {
      "text/plain": [
       "0.3"
      ]
     },
     "execution_count": 60,
     "metadata": {},
     "output_type": "execute_result"
    }
   ],
   "source": [
    "dmart_discount_offer(20000,0.3)"
   ]
  },
  {
   "cell_type": "code",
   "execution_count": 61,
   "id": "d22a418b",
   "metadata": {},
   "outputs": [
    {
     "data": {
      "text/plain": [
       "0.4"
      ]
     },
     "execution_count": 61,
     "metadata": {},
     "output_type": "execute_result"
    }
   ],
   "source": [
    "dmart_discount_offer(70000,0)"
   ]
  },
  {
   "cell_type": "code",
   "execution_count": 12,
   "id": "68d008d4",
   "metadata": {},
   "outputs": [],
   "source": [
    "def festival_in_amazon(amount,discount):\n",
    "    if amount>1000:\n",
    "        discount=0.25\n",
    "    elif amount>=500 and amount <=1000:\n",
    "        discount=0.2\n",
    "    else:\n",
    "        amount<500\n",
    "        discount=0.05\n",
    "    return discount"
   ]
  },
  {
   "cell_type": "code",
   "execution_count": 13,
   "id": "ad9dbb66",
   "metadata": {},
   "outputs": [
    {
     "data": {
      "text/plain": [
       "0.2"
      ]
     },
     "execution_count": 13,
     "metadata": {},
     "output_type": "execute_result"
    }
   ],
   "source": [
    "festival_in_amazon(800,0.25)"
   ]
  },
  {
   "cell_type": "code",
   "execution_count": null,
   "id": "b41f97e7",
   "metadata": {},
   "outputs": [],
   "source": []
  },
  {
   "cell_type": "code",
   "execution_count": null,
   "id": "bdcb5579",
   "metadata": {},
   "outputs": [],
   "source": []
  },
  {
   "cell_type": "code",
   "execution_count": null,
   "id": "2df3d271",
   "metadata": {},
   "outputs": [],
   "source": []
  },
  {
   "cell_type": "code",
   "execution_count": null,
   "id": "2e7fffca",
   "metadata": {},
   "outputs": [],
   "source": []
  },
  {
   "cell_type": "code",
   "execution_count": 3,
   "id": "b949b48d",
   "metadata": {},
   "outputs": [],
   "source": [
    "def amazon_online_offer(product,discount):\n",
    "    if product==\"electric_type\":\n",
    "        discount=0.2\n",
    "    elif product==\"cloth\":\n",
    "        discount=0.3\n",
    "    else:\n",
    "        product==\"footware\"\n",
    "        discount=0.4\n",
    "    return discount\n"
   ]
  },
  {
   "cell_type": "code",
   "execution_count": 4,
   "id": "392211ee",
   "metadata": {},
   "outputs": [
    {
     "data": {
      "text/plain": [
       "0.2"
      ]
     },
     "execution_count": 4,
     "metadata": {},
     "output_type": "execute_result"
    }
   ],
   "source": [
    "amazon_online_offer(\"electric_type\",0.2)"
   ]
  },
  {
   "cell_type": "code",
   "execution_count": 89,
   "id": "5d49c371",
   "metadata": {},
   "outputs": [
    {
     "data": {
      "text/plain": [
       "0.3"
      ]
     },
     "execution_count": 89,
     "metadata": {},
     "output_type": "execute_result"
    }
   ],
   "source": [
    "amazon_online_offer(\"cloth\",0.2)"
   ]
  },
  {
   "cell_type": "code",
   "execution_count": 90,
   "id": "16356e51",
   "metadata": {},
   "outputs": [
    {
     "data": {
      "text/plain": [
       "0.4"
      ]
     },
     "execution_count": 90,
     "metadata": {},
     "output_type": "execute_result"
    }
   ],
   "source": [
    "amazon_online_offer(\"footware\",0.2)"
   ]
  },
  {
   "cell_type": "code",
   "execution_count": null,
   "id": "86dde73f",
   "metadata": {},
   "outputs": [],
   "source": []
  }
 ],
 "metadata": {
  "kernelspec": {
   "display_name": "Python 3 (ipykernel)",
   "language": "python",
   "name": "python3"
  },
  "language_info": {
   "codemirror_mode": {
    "name": "ipython",
    "version": 3
   },
   "file_extension": ".py",
   "mimetype": "text/x-python",
   "name": "python",
   "nbconvert_exporter": "python",
   "pygments_lexer": "ipython3",
   "version": "3.10.9"
  }
 },
 "nbformat": 4,
 "nbformat_minor": 5
}
