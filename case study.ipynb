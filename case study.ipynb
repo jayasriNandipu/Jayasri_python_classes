{
 "cells": [
  {
   "cell_type": "code",
   "execution_count": 16,
   "id": "d20d4cbb",
   "metadata": {},
   "outputs": [
    {
     "name": "stdout",
     "output_type": "stream",
     "text": [
      "20\n"
     ]
    }
   ],
   "source": [
    "sample=[8,2,3,0,7]\n",
    "a=8\n",
    "b=2\n",
    "c=3\n",
    "d=0\n",
    "e=7\n",
    "f = a+b+c+d+e\n",
    "print(f)\n"
   ]
  },
  {
   "cell_type": "code",
   "execution_count": 10,
   "id": "aaca3213",
   "metadata": {},
   "outputs": [
    {
     "name": "stdout",
     "output_type": "stream",
     "text": [
      "umar\n"
     ]
    }
   ],
   "source": [
    "def my_function(x):\n",
    "  return x[::-1]\n",
    "\n",
    "my_txt = my_function(\"ramu\")\n",
    "print(my_txt)\n"
   ]
  },
  {
   "cell_type": "code",
   "execution_count": 2,
   "id": "6d6d1396",
   "metadata": {},
   "outputs": [
    {
     "name": "stdout",
     "output_type": "stream",
     "text": [
      "erawtfos\n"
     ]
    }
   ],
   "source": [
    "def my_function(p):\n",
    "    return p[::-1]\n",
    "mytxt= my_function(\"software\")\n",
    "print(mytxt)"
   ]
  },
  {
   "cell_type": "code",
   "execution_count": null,
   "id": "d1ec0f99",
   "metadata": {},
   "outputs": [],
   "source": [
    "write a python function that takes a list and returns a new list which unique element\n",
    "sample list :[1,2,3,3,3,3,4,5]\n",
    "unique list : [1, 2, 3, 4, 5]"
   ]
  },
  {
   "cell_type": "code",
   "execution_count": 1,
   "id": "cc246d35",
   "metadata": {},
   "outputs": [
    {
     "name": "stdout",
     "output_type": "stream",
     "text": [
      "sample list: [1, 2, 3, 3, 3, 3, 4, 5]\n",
      "unnique list: [1, 2, 3, 4, 5]\n"
     ]
    }
   ],
   "source": [
    "lst=[1,2,3,3,3,3,4,5]\n",
    "print(\"sample list:\",lst)\n",
    "res=[*set(lst)]\n",
    "print(\"unnique list:\",res)"
   ]
  },
  {
   "cell_type": "code",
   "execution_count": 6,
   "id": "99999a5d",
   "metadata": {},
   "outputs": [],
   "source": [
    "\n",
    "def festival_in_amazon(amount,discount):\n",
    "    if amount>1000:\n",
    "        discount=0.25\n",
    "    elif amount>=500 and amount <=1000:\n",
    "        discount=0.2\n",
    "    else:\n",
    "        amount<500\n",
    "        discount=0.05\n",
    "    return discount\n"
   ]
  },
  {
   "cell_type": "code",
   "execution_count": 8,
   "id": "0f9b41ea",
   "metadata": {},
   "outputs": [
    {
     "data": {
      "text/plain": [
       "0.2"
      ]
     },
     "execution_count": 8,
     "metadata": {},
     "output_type": "execute_result"
    }
   ],
   "source": [
    "festival_in_amazon(800,0.25)"
   ]
  },
  {
   "cell_type": "code",
   "execution_count": 9,
   "id": "efdcb2fe",
   "metadata": {},
   "outputs": [
    {
     "data": {
      "text/plain": [
       "0.05"
      ]
     },
     "execution_count": 9,
     "metadata": {},
     "output_type": "execute_result"
    }
   ],
   "source": [
    "festival_in_amazon(300,0.25)"
   ]
  },
  {
   "cell_type": "code",
   "execution_count": 10,
   "id": "b94dc66c",
   "metadata": {},
   "outputs": [
    {
     "data": {
      "text/plain": [
       "0.25"
      ]
     },
     "execution_count": 10,
     "metadata": {},
     "output_type": "execute_result"
    }
   ],
   "source": [
    "festival_in_amazon(1100,0.25)"
   ]
  },
  {
   "cell_type": "code",
   "execution_count": null,
   "id": "be4ad351",
   "metadata": {},
   "outputs": [],
   "source": [
    "Big billon festival in amazon, the single formal shirt value is 1500,\n",
    "two shirts together buy(1+1 offer) shirts value is 1200\n",
    "bulk shirts together buy(1+2 offer) shirts vlaue is 1000\n"
   ]
  },
  {
   "cell_type": "code",
   "execution_count": 9,
   "id": "0aedc92e",
   "metadata": {},
   "outputs": [],
   "source": [
    "\n",
    "def festival_in_amazon(shirt,shirt_value):\n",
    "    if shirt==1:\n",
    "        shirt_value=shirt*1500\n",
    "    elif shirt==2: \n",
    "         shirt_value=shirt*1200\n",
    "    elif shirt>=3:\n",
    "        shirt_value=shirt*1000\n",
    "    return shirt_value\n",
    "   \n",
    "\n",
    "    festival_in_amazon(shirt,shirt_value)"
   ]
  },
  {
   "cell_type": "code",
   "execution_count": 10,
   "id": "f5bd32a3",
   "metadata": {},
   "outputs": [
    {
     "data": {
      "text/plain": [
       "4000"
      ]
     },
     "execution_count": 10,
     "metadata": {},
     "output_type": "execute_result"
    }
   ],
   "source": [
    "festival_in_amazon(4,1000)"
   ]
  },
  {
   "cell_type": "code",
   "execution_count": null,
   "id": "7354e29f",
   "metadata": {},
   "outputs": [],
   "source": [
    "Param has 1000 rupess, ramu contains 5 chocolates, param give 500 rupees to ramu,\n",
    "ramu contains 10 chocolates, param give 700 rupees to ramu, \n",
    "ramu contains no chocolates param give 1000 rupees to ramu.\n",
    "param =1000\n",
    "ramu=5choc   param gives 500 to ramu\n",
    "ramu=10choc  param gives 700 to ramu\n",
    "ramu= no choc  param gives 1000 to ramu\n"
   ]
  },
  {
   "cell_type": "code",
   "execution_count": 31,
   "id": "c62a8d0b",
   "metadata": {},
   "outputs": [],
   "source": [
    "def my_function(chocolates):\n",
    "    if chocolates==5:\n",
    "        ruppies=500\n",
    "    elif chocolates==10:\n",
    "        ruppies=700\n",
    "    elif chocolates==0:\n",
    "        ruppies=1000\n",
    "    return ruppies\n",
    "           "
   ]
  },
  {
   "cell_type": "code",
   "execution_count": 40,
   "id": "344341af",
   "metadata": {},
   "outputs": [
    {
     "data": {
      "text/plain": [
       "1000"
      ]
     },
     "execution_count": 40,
     "metadata": {},
     "output_type": "execute_result"
    }
   ],
   "source": [
    "my_function(0)"
   ]
  },
  {
   "cell_type": "code",
   "execution_count": 38,
   "id": "f4786590",
   "metadata": {},
   "outputs": [
    {
     "data": {
      "text/plain": [
       "500"
      ]
     },
     "execution_count": 38,
     "metadata": {},
     "output_type": "execute_result"
    }
   ],
   "source": [
    "my_function(5)"
   ]
  },
  {
   "cell_type": "code",
   "execution_count": 39,
   "id": "6f775c5a",
   "metadata": {},
   "outputs": [
    {
     "data": {
      "text/plain": [
       "700"
      ]
     },
     "execution_count": 39,
     "metadata": {},
     "output_type": "execute_result"
    }
   ],
   "source": [
    "my_function(10)"
   ]
  }
 ],
 "metadata": {
  "kernelspec": {
   "display_name": "Python 3 (ipykernel)",
   "language": "python",
   "name": "python3"
  },
  "language_info": {
   "codemirror_mode": {
    "name": "ipython",
    "version": 3
   },
   "file_extension": ".py",
   "mimetype": "text/x-python",
   "name": "python",
   "nbconvert_exporter": "python",
   "pygments_lexer": "ipython3",
   "version": "3.10.9"
  }
 },
 "nbformat": 4,
 "nbformat_minor": 5
}
